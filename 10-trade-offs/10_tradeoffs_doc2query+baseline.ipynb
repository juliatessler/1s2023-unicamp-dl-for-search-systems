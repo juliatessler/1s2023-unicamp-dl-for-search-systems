{
  "cells": [
    {
      "cell_type": "markdown",
      "metadata": {
        "id": "view-in-github",
        "colab_type": "text"
      },
      "source": [
        "<a href=\"https://colab.research.google.com/github/juliatessler/1s2023-unicamp-dl-for-search-systems/blob/main/10-trade-offs/10_tradeoffs_doc2query%2Bbaseline.ipynb\" target=\"_parent\"><img src=\"https://colab.research.google.com/assets/colab-badge.svg\" alt=\"Open In Colab\"/></a>"
      ]
    },
    {
      "cell_type": "markdown",
      "metadata": {
        "id": "BTTdZo2S7siJ"
      },
      "source": [
        "# 9- Multi-stage system comparision\n",
        "by Júlia Tessler"
      ]
    },
    {
      "cell_type": "code",
      "execution_count": null,
      "metadata": {
        "colab": {
          "base_uri": "https://localhost:8080/"
        },
        "id": "V6n2i7NK-yLN",
        "outputId": "36aac6bf-d18c-43a8-989a-b27e6cd4ad4e"
      },
      "outputs": [
        {
          "name": "stdout",
          "output_type": "stream",
          "text": [
            "\u001b[2K     \u001b[90m━━━━━━━━━━━━━━━━━━━━━━━━━━━━━━━━━━━━━━━━\u001b[0m \u001b[32m7.0/7.0 MB\u001b[0m \u001b[31m104.8 MB/s\u001b[0m eta \u001b[36m0:00:00\u001b[0m\n",
            "\u001b[2K     \u001b[90m━━━━━━━━━━━━━━━━━━━━━━━━━━━━━━━━━━━━━━\u001b[0m \u001b[32m474.6/474.6 kB\u001b[0m \u001b[31m50.5 MB/s\u001b[0m eta \u001b[36m0:00:00\u001b[0m\n",
            "\u001b[2K     \u001b[90m━━━━━━━━━━━━━━━━━━━━━━━━━━━━━━━━━━━━━━\u001b[0m \u001b[32m224.5/224.5 kB\u001b[0m \u001b[31m29.5 MB/s\u001b[0m eta \u001b[36m0:00:00\u001b[0m\n",
            "\u001b[2K     \u001b[90m━━━━━━━━━━━━━━━━━━━━━━━━━━━━━━━━━━━━━━━━\u001b[0m \u001b[32m7.8/7.8 MB\u001b[0m \u001b[31m119.8 MB/s\u001b[0m eta \u001b[36m0:00:00\u001b[0m\n",
            "\u001b[2K     \u001b[90m━━━━━━━━━━━━━━━━━━━━━━━━━━━━━━━━━━━━━━\u001b[0m \u001b[32m110.5/110.5 kB\u001b[0m \u001b[31m16.8 MB/s\u001b[0m eta \u001b[36m0:00:00\u001b[0m\n",
            "\u001b[2K     \u001b[90m━━━━━━━━━━━━━━━━━━━━━━━━━━━━━━━━━━━━━━\u001b[0m \u001b[32m212.5/212.5 kB\u001b[0m \u001b[31m28.4 MB/s\u001b[0m eta \u001b[36m0:00:00\u001b[0m\n",
            "\u001b[2K     \u001b[90m━━━━━━━━━━━━━━━━━━━━━━━━━━━━━━━━━━━━━━\u001b[0m \u001b[32m134.3/134.3 kB\u001b[0m \u001b[31m19.5 MB/s\u001b[0m eta \u001b[36m0:00:00\u001b[0m\n",
            "\u001b[2K     \u001b[90m━━━━━━━━━━━━━━━━━━━━━━━━━━━━━━━━━━━━━━━━\u001b[0m \u001b[32m1.0/1.0 MB\u001b[0m \u001b[31m81.8 MB/s\u001b[0m eta \u001b[36m0:00:00\u001b[0m\n",
            "\u001b[2K     \u001b[90m━━━━━━━━━━━━━━━━━━━━━━━━━━━━━━━━━━━━━━\u001b[0m \u001b[32m114.5/114.5 kB\u001b[0m \u001b[31m15.5 MB/s\u001b[0m eta \u001b[36m0:00:00\u001b[0m\n",
            "\u001b[2K     \u001b[90m━━━━━━━━━━━━━━━━━━━━━━━━━━━━━━━━━━━━━━\u001b[0m \u001b[32m268.8/268.8 kB\u001b[0m \u001b[31m35.3 MB/s\u001b[0m eta \u001b[36m0:00:00\u001b[0m\n",
            "\u001b[2K     \u001b[90m━━━━━━━━━━━━━━━━━━━━━━━━━━━━━━━━━━━━━━\u001b[0m \u001b[32m149.6/149.6 kB\u001b[0m \u001b[31m18.9 MB/s\u001b[0m eta \u001b[36m0:00:00\u001b[0m\n",
            "\u001b[2K     \u001b[90m━━━━━━━━━━━━━━━━━━━━━━━━━━━━━━━━━━━━━━━\u001b[0m \u001b[32m86.0/86.0 kB\u001b[0m \u001b[31m295.0 kB/s\u001b[0m eta \u001b[36m0:00:00\u001b[0m\n",
            "\u001b[?25h  Preparing metadata (setup.py) ... \u001b[?25l\u001b[?25hdone\n",
            "\u001b[2K     \u001b[90m━━━━━━━━━━━━━━━━━━━━━━━━━━━━━━━━━━━━━━━━\u001b[0m \u001b[32m1.3/1.3 MB\u001b[0m \u001b[31m74.9 MB/s\u001b[0m eta \u001b[36m0:00:00\u001b[0m\n",
            "\u001b[?25h  Building wheel for sentence-transformers (setup.py) ... \u001b[?25l\u001b[?25hdone\n",
            "\u001b[2K     \u001b[90m━━━━━━━━━━━━━━━━━━━━━━━━━━━━━━━━━━━━━━\u001b[0m \u001b[32m154.1/154.1 MB\u001b[0m \u001b[31m11.6 MB/s\u001b[0m eta \u001b[36m0:00:00\u001b[0m\n",
            "\u001b[2K     \u001b[90m━━━━━━━━━━━━━━━━━━━━━━━━━━━━━━━━━━━━━━━━\u001b[0m \u001b[32m1.5/1.5 MB\u001b[0m \u001b[31m91.8 MB/s\u001b[0m eta \u001b[36m0:00:00\u001b[0m\n",
            "\u001b[2K     \u001b[90m━━━━━━━━━━━━━━━━━━━━━━━━━━━━━━━━━━━━━━\u001b[0m \u001b[32m188.7/188.7 kB\u001b[0m \u001b[31m26.5 MB/s\u001b[0m eta \u001b[36m0:00:00\u001b[0m\n",
            "\u001b[?25h  Preparing metadata (setup.py) ... \u001b[?25l\u001b[?25hdone\n",
            "\u001b[2K     \u001b[90m━━━━━━━━━━━━━━━━━━━━━━━━━━━━━━━━━━━━━━━━\u001b[0m \u001b[32m5.0/5.0 MB\u001b[0m \u001b[31m105.9 MB/s\u001b[0m eta \u001b[36m0:00:00\u001b[0m\n",
            "\u001b[2K     \u001b[90m━━━━━━━━━━━━━━━━━━━━━━━━━━━━━━━━━━━━━━━━\u001b[0m \u001b[32m46.0/46.0 kB\u001b[0m \u001b[31m6.3 MB/s\u001b[0m eta \u001b[36m0:00:00\u001b[0m\n",
            "\u001b[2K     \u001b[90m━━━━━━━━━━━━━━━━━━━━━━━━━━━━━━━━━━━━━━━━\u001b[0m \u001b[32m86.8/86.8 kB\u001b[0m \u001b[31m14.0 MB/s\u001b[0m eta \u001b[36m0:00:00\u001b[0m\n",
            "\u001b[?25h  Building wheel for nmslib (setup.py) ... \u001b[?25l\u001b[?25hdone\n",
            "\u001b[2K     \u001b[90m━━━━━━━━━━━━━━━━━━━━━━━━━━━━━━━━━━━━━━━━\u001b[0m \u001b[32m85.5/85.5 MB\u001b[0m \u001b[31m20.7 MB/s\u001b[0m eta \u001b[36m0:00:00\u001b[0m\n",
            "\u001b[2K     \u001b[90m━━━━━━━━━━━━━━━━━━━━━━━━━━━━━━━━━━━━━━━━\u001b[0m \u001b[32m81.4/81.4 kB\u001b[0m \u001b[31m9.8 MB/s\u001b[0m eta \u001b[36m0:00:00\u001b[0m\n",
            "\u001b[?25h  Preparing metadata (setup.py) ... \u001b[?25l\u001b[?25hdone\n",
            "  Preparing metadata (setup.py) ... \u001b[?25l\u001b[?25hdone\n",
            "  Building wheel for trectools (setup.py) ... \u001b[?25l\u001b[?25hdone\n",
            "  Building wheel for bs4 (setup.py) ... \u001b[?25l\u001b[?25hdone\n"
          ]
        }
      ],
      "source": [
        "!pip install transformers datasets -q\n",
        "!pip install sentence-transformers -q\n",
        "!pip install pyserini -q\n",
        "!pip install faiss-gpu -q\n",
        "!pip install jsonlines -q\n",
        "!pip install evaluate -q\n",
        "!pip install trectools -q"
      ]
    },
    {
      "cell_type": "code",
      "execution_count": null,
      "metadata": {
        "colab": {
          "base_uri": "https://localhost:8080/"
        },
        "id": "T1XxXeRu7ojU",
        "outputId": "bc6f40a2-872f-4fbc-8448-34921b2714f9"
      },
      "outputs": [
        {
          "name": "stdout",
          "output_type": "stream",
          "text": [
            "Mounted at /content/drive\n"
          ]
        }
      ],
      "source": [
        "from google.colab import drive\n",
        "drive.mount('/content/drive', force_remount = True)\n",
        "workdir = '/content/drive/MyDrive/Unicamp/DL_applied_to_IR/Notebooks'"
      ]
    },
    {
      "cell_type": "code",
      "execution_count": null,
      "metadata": {
        "colab": {
          "base_uri": "https://localhost:8080/"
        },
        "id": "HlB9rmNQ8nuU",
        "outputId": "7a92317d-39c0-4aed-d6c7-e8338f0203bc"
      },
      "outputs": [
        {
          "name": "stdout",
          "output_type": "stream",
          "text": [
            "Tue May  9 21:34:37 2023       \n",
            "+-----------------------------------------------------------------------------+\n",
            "| NVIDIA-SMI 525.85.12    Driver Version: 525.85.12    CUDA Version: 12.0     |\n",
            "|-------------------------------+----------------------+----------------------+\n",
            "| GPU  Name        Persistence-M| Bus-Id        Disp.A | Volatile Uncorr. ECC |\n",
            "| Fan  Temp  Perf  Pwr:Usage/Cap|         Memory-Usage | GPU-Util  Compute M. |\n",
            "|                               |                      |               MIG M. |\n",
            "|===============================+======================+======================|\n",
            "|   0  Tesla T4            Off  | 00000000:00:04.0 Off |                    0 |\n",
            "| N/A   43C    P8     9W /  70W |      0MiB / 15360MiB |      0%      Default |\n",
            "|                               |                      |                  N/A |\n",
            "+-------------------------------+----------------------+----------------------+\n",
            "                                                                               \n",
            "+-----------------------------------------------------------------------------+\n",
            "| Processes:                                                                  |\n",
            "|  GPU   GI   CI        PID   Type   Process name                  GPU Memory |\n",
            "|        ID   ID                                                   Usage      |\n",
            "|=============================================================================|\n",
            "|  No running processes found                                                 |\n",
            "+-----------------------------------------------------------------------------+\n"
          ]
        }
      ],
      "source": [
        "gpu_info = !nvidia-smi\n",
        "gpu_info = '\\n'.join(gpu_info)\n",
        "if gpu_info.find('failed') >= 0:\n",
        "  print('Not connected to a GPU')\n",
        "else:\n",
        "  print(gpu_info)"
      ]
    },
    {
      "cell_type": "code",
      "execution_count": null,
      "metadata": {
        "colab": {
          "base_uri": "https://localhost:8080/"
        },
        "id": "cGB3AcSQCICY",
        "outputId": "0577bbb5-b26f-46c3-e9ee-1b16959b7d54"
      },
      "outputs": [
        {
          "data": {
            "text/plain": [
              "device(type='cuda')"
            ]
          },
          "execution_count": 4,
          "metadata": {},
          "output_type": "execute_result"
        }
      ],
      "source": [
        "import torch\n",
        "\n",
        "device = torch.device('cuda' if torch.cuda.is_available() else 'cpu')\n",
        "device"
      ]
    },
    {
      "cell_type": "code",
      "execution_count": null,
      "metadata": {
        "id": "X2jj-FfCHcCi"
      },
      "outputs": [],
      "source": [
        "import numpy as np\n",
        "import pandas as pd\n",
        "import json\n",
        "import jsonlines\n",
        "import time\n",
        "\n",
        "from transformers import (\n",
        "    T5Tokenizer, \n",
        "    T5ForConditionalGeneration\n",
        ")\n",
        "from pyserini.search.lucene import LuceneSearcher\n",
        "from evaluate import load\n",
        "from collections import defaultdict\n",
        "from tqdm import tqdm"
      ]
    },
    {
      "cell_type": "markdown",
      "metadata": {
        "id": "WXJwYBsmEsZm"
      },
      "source": [
        "## Dataset retrieval\n"
      ]
    },
    {
      "cell_type": "markdown",
      "metadata": {
        "id": "0A1uPCmIGmiU"
      },
      "source": [
        "### Test dataset"
      ]
    },
    {
      "cell_type": "code",
      "execution_count": null,
      "metadata": {
        "colab": {
          "base_uri": "https://localhost:8080/"
        },
        "id": "bRcvHSQtGoG6",
        "outputId": "eb18b136-4509-48cb-d960-c75e9b8e538c"
      },
      "outputs": [
        {
          "name": "stdout",
          "output_type": "stream",
          "text": [
            "--2023-05-09 21:35:12--  https://huggingface.co/datasets/BeIR/trec-covid-qrels/raw/main/test.tsv\n",
            "Resolving huggingface.co (huggingface.co)... 18.155.68.38, 18.155.68.121, 18.155.68.116, ...\n",
            "Connecting to huggingface.co (huggingface.co)|18.155.68.38|:443... connected.\n",
            "HTTP request sent, awaiting response... 200 OK\n",
            "Length: 980831 (958K) [text/plain]\n",
            "Saving to: ‘test.tsv’\n",
            "\n",
            "test.tsv            100%[===================>] 957.84K  1.10MB/s    in 0.9s    \n",
            "\n",
            "2023-05-09 21:35:14 (1.10 MB/s) - ‘test.tsv’ saved [980831/980831]\n",
            "\n"
          ]
        }
      ],
      "source": [
        "!wget https://huggingface.co/datasets/BeIR/trec-covid-qrels/raw/main/test.tsv"
      ]
    },
    {
      "cell_type": "code",
      "execution_count": null,
      "metadata": {
        "id": "xuvzQr7YGqOp"
      },
      "outputs": [],
      "source": [
        "!mv test.tsv {workdir}/trec-covid"
      ]
    },
    {
      "cell_type": "code",
      "execution_count": null,
      "metadata": {
        "id": "42pyVLnFK0XY"
      },
      "outputs": [],
      "source": [
        "qrel = pd.read_csv(f\"{workdir}/trec-covid/test.tsv\", \n",
        "                   sep = \"\\t\",\n",
        "                   header=None, \n",
        "                   skiprows = 1, \n",
        "                   names = [\"query\", \"docid\", \"rel\"])\n",
        "qrel[\"q0\"] = \"q0\"\n",
        "qrel = qrel.to_dict(orient = \"list\")"
      ]
    },
    {
      "cell_type": "markdown",
      "metadata": {
        "id": "0jYG0KDME9rp"
      },
      "source": [
        "### Queries"
      ]
    },
    {
      "cell_type": "code",
      "execution_count": null,
      "metadata": {
        "colab": {
          "base_uri": "https://localhost:8080/"
        },
        "id": "PXaYoaYWE6L8",
        "outputId": "621baf98-674c-4f52-b63d-050e8e007711"
      },
      "outputs": [
        {
          "name": "stdout",
          "output_type": "stream",
          "text": [
            "--2023-05-09 21:35:15--  https://huggingface.co/datasets/BeIR/trec-covid/resolve/main/queries.jsonl.gz\n",
            "Resolving huggingface.co (huggingface.co)... 18.155.68.116, 18.155.68.121, 18.155.68.38, ...\n",
            "Connecting to huggingface.co (huggingface.co)|18.155.68.116|:443... connected.\n",
            "HTTP request sent, awaiting response... 302 Found\n",
            "Location: https://cdn-lfs.huggingface.co/repos/a8/10/a810e88b0e7b233be82b89c1fa6ec2d75efc6d55784c2ada9dcac8434a634f3a/9eadcc2cdf140addc9dae83648bb2c6611f5e4b66eaed7475fa5a0ca48eda371?response-content-disposition=attachment%3B+filename*%3DUTF-8%27%27queries.jsonl.gz%3B+filename%3D%22queries.jsonl.gz%22%3B&response-content-type=application%2Fgzip&Expires=1683921275&Policy=eyJTdGF0ZW1lbnQiOlt7IlJlc291cmNlIjoiaHR0cHM6Ly9jZG4tbGZzLmh1Z2dpbmdmYWNlLmNvL3JlcG9zL2E4LzEwL2E4MTBlODhiMGU3YjIzM2JlODJiODljMWZhNmVjMmQ3NWVmYzZkNTU3ODRjMmFkYTlkY2FjODQzNGE2MzRmM2EvOWVhZGNjMmNkZjE0MGFkZGM5ZGFlODM2NDhiYjJjNjYxMWY1ZTRiNjZlYWVkNzQ3NWZhNWEwY2E0OGVkYTM3MT9yZXNwb25zZS1jb250ZW50LWRpc3Bvc2l0aW9uPSomcmVzcG9uc2UtY29udGVudC10eXBlPSoiLCJDb25kaXRpb24iOnsiRGF0ZUxlc3NUaGFuIjp7IkFXUzpFcG9jaFRpbWUiOjE2ODM5MjEyNzV9fX1dfQ__&Signature=bSyzMCITTBaRqdeGhfYfBHdm0bv94QVlnTHc%7EnZEQIOWOplfwIedRWcZN-YP7IwyrlAN6hnOkk8-rLHHRlrFkUPQu7UvwnKu2ZK05hI47ovNeWYDa-aLR%7EwMc3r4CFWx7jNzvNDW5JJeK4TPqX0MTzn5SJGwtsYGsqNBzOGNdml-iV-91%7ENtqy%7Eu5f3qJPLjU7hOZFjnP8E9O%7EcgAVwnxyib60N8k-vK9F%7Ei7wW2quORmIluskVwx0rsvqQDcPILLtZ2tz7jYFH6HT09E61Mn8Q6TzGGKESJIWAasFVN97oD%7E9L8rGJ9%7EMZ8EWOmIBDIoAt9a713pDXmKk74VP4GQg__&Key-Pair-Id=KVTP0A1DKRTAX [following]\n",
            "--2023-05-09 21:35:16--  https://cdn-lfs.huggingface.co/repos/a8/10/a810e88b0e7b233be82b89c1fa6ec2d75efc6d55784c2ada9dcac8434a634f3a/9eadcc2cdf140addc9dae83648bb2c6611f5e4b66eaed7475fa5a0ca48eda371?response-content-disposition=attachment%3B+filename*%3DUTF-8%27%27queries.jsonl.gz%3B+filename%3D%22queries.jsonl.gz%22%3B&response-content-type=application%2Fgzip&Expires=1683921275&Policy=eyJTdGF0ZW1lbnQiOlt7IlJlc291cmNlIjoiaHR0cHM6Ly9jZG4tbGZzLmh1Z2dpbmdmYWNlLmNvL3JlcG9zL2E4LzEwL2E4MTBlODhiMGU3YjIzM2JlODJiODljMWZhNmVjMmQ3NWVmYzZkNTU3ODRjMmFkYTlkY2FjODQzNGE2MzRmM2EvOWVhZGNjMmNkZjE0MGFkZGM5ZGFlODM2NDhiYjJjNjYxMWY1ZTRiNjZlYWVkNzQ3NWZhNWEwY2E0OGVkYTM3MT9yZXNwb25zZS1jb250ZW50LWRpc3Bvc2l0aW9uPSomcmVzcG9uc2UtY29udGVudC10eXBlPSoiLCJDb25kaXRpb24iOnsiRGF0ZUxlc3NUaGFuIjp7IkFXUzpFcG9jaFRpbWUiOjE2ODM5MjEyNzV9fX1dfQ__&Signature=bSyzMCITTBaRqdeGhfYfBHdm0bv94QVlnTHc%7EnZEQIOWOplfwIedRWcZN-YP7IwyrlAN6hnOkk8-rLHHRlrFkUPQu7UvwnKu2ZK05hI47ovNeWYDa-aLR%7EwMc3r4CFWx7jNzvNDW5JJeK4TPqX0MTzn5SJGwtsYGsqNBzOGNdml-iV-91%7ENtqy%7Eu5f3qJPLjU7hOZFjnP8E9O%7EcgAVwnxyib60N8k-vK9F%7Ei7wW2quORmIluskVwx0rsvqQDcPILLtZ2tz7jYFH6HT09E61Mn8Q6TzGGKESJIWAasFVN97oD%7E9L8rGJ9%7EMZ8EWOmIBDIoAt9a713pDXmKk74VP4GQg__&Key-Pair-Id=KVTP0A1DKRTAX\n",
            "Resolving cdn-lfs.huggingface.co (cdn-lfs.huggingface.co)... 18.155.68.128, 18.155.68.98, 18.155.68.73, ...\n",
            "Connecting to cdn-lfs.huggingface.co (cdn-lfs.huggingface.co)|18.155.68.128|:443... connected.\n",
            "HTTP request sent, awaiting response... 200 OK\n",
            "Length: 4702 (4.6K) [application/gzip]\n",
            "Saving to: ‘queries.jsonl.gz’\n",
            "\n",
            "queries.jsonl.gz    100%[===================>]   4.59K  --.-KB/s    in 0s      \n",
            "\n",
            "2023-05-09 21:35:16 (133 MB/s) - ‘queries.jsonl.gz’ saved [4702/4702]\n",
            "\n"
          ]
        }
      ],
      "source": [
        "!wget https://huggingface.co/datasets/BeIR/trec-covid/resolve/main/queries.jsonl.gz"
      ]
    },
    {
      "cell_type": "code",
      "execution_count": null,
      "metadata": {
        "colab": {
          "base_uri": "https://localhost:8080/"
        },
        "id": "Vy_PrxCLFAXV",
        "outputId": "33876f7e-13e0-418b-cc8c-1cf674c417b2"
      },
      "outputs": [
        {
          "name": "stdout",
          "output_type": "stream",
          "text": [
            "gzip: /content/drive/MyDrive/Unicamp/DL_applied_to_IR/Notebooks/trec-covid/queries.jsonl already exists; do you wish to overwrite (y or n)? y\n"
          ]
        }
      ],
      "source": [
        "!mv queries.jsonl.gz {workdir}/trec-covid\n",
        "!gunzip {workdir}/trec-covid/queries.jsonl.gz"
      ]
    },
    {
      "cell_type": "code",
      "execution_count": null,
      "metadata": {
        "id": "TWpEuch9IeO7"
      },
      "outputs": [],
      "source": [
        "query_ids = []\n",
        "query_texts = []\n",
        "\n",
        "with jsonlines.open(f\"{workdir}/trec-covid/queries.jsonl\") as reader:\n",
        "  for item in reader:\n",
        "    id = item[\"_id\"]\n",
        "    query_ids.append(id)\n",
        "    text = item[\"text\"]\n",
        "    query_texts.append(text)"
      ]
    },
    {
      "cell_type": "markdown",
      "metadata": {
        "id": "cKAF6d2rF9zp"
      },
      "source": [
        "### Corpus"
      ]
    },
    {
      "cell_type": "code",
      "execution_count": null,
      "metadata": {
        "colab": {
          "base_uri": "https://localhost:8080/"
        },
        "id": "IsrvMB9BEs6M",
        "outputId": "a09daa8d-f850-456d-e33d-95397354be95"
      },
      "outputs": [
        {
          "name": "stdout",
          "output_type": "stream",
          "text": [
            "--2023-05-09 21:35:34--  https://huggingface.co/datasets/BeIR/trec-covid/resolve/main/corpus.jsonl.gz\n",
            "Resolving huggingface.co (huggingface.co)... 18.155.68.38, 18.155.68.44, 18.155.68.116, ...\n",
            "Connecting to huggingface.co (huggingface.co)|18.155.68.38|:443... connected.\n",
            "HTTP request sent, awaiting response... 302 Found\n",
            "Location: https://cdn-lfs.huggingface.co/repos/a8/10/a810e88b0e7b233be82b89c1fa6ec2d75efc6d55784c2ada9dcac8434a634f3a/e9e97686e3138eaff989f67c04cd32e8f8f4c0d4857187e3f180275b23e24e85?response-content-disposition=attachment%3B+filename*%3DUTF-8%27%27corpus.jsonl.gz%3B+filename%3D%22corpus.jsonl.gz%22%3B&response-content-type=application%2Fgzip&Expires=1683927335&Policy=eyJTdGF0ZW1lbnQiOlt7IlJlc291cmNlIjoiaHR0cHM6Ly9jZG4tbGZzLmh1Z2dpbmdmYWNlLmNvL3JlcG9zL2E4LzEwL2E4MTBlODhiMGU3YjIzM2JlODJiODljMWZhNmVjMmQ3NWVmYzZkNTU3ODRjMmFkYTlkY2FjODQzNGE2MzRmM2EvZTllOTc2ODZlMzEzOGVhZmY5ODlmNjdjMDRjZDMyZThmOGY0YzBkNDg1NzE4N2UzZjE4MDI3NWIyM2UyNGU4NT9yZXNwb25zZS1jb250ZW50LWRpc3Bvc2l0aW9uPSomcmVzcG9uc2UtY29udGVudC10eXBlPSoiLCJDb25kaXRpb24iOnsiRGF0ZUxlc3NUaGFuIjp7IkFXUzpFcG9jaFRpbWUiOjE2ODM5MjczMzV9fX1dfQ__&Signature=qhyJrjSmcXSCDPEAVXUdOeTdeAJ5dktSFUBZ%7EBF3R78aTSzv2TezpFHQBW0DvFPEruze5I-AhzUppfdn4lKlZvVW%7EesWjkAL4NgW4XkXOms9HF%7ExdYqBYDCs36eiIhSwPGgG2d%7E81P%7EzPsCD3n4ChGdxSBy3CCjrS3064q6wraKKOeR-BE6Fn%7EJZWfBY57Fb24SQfZ4SELVp9z-At%7EAqmKv4qiMddQEJdXXL7HzmcNAZPhYP%7EWiBdspFAu8YiHDMCp8%7EPTVnbhlB7wePlLgBhFdpDYlkNJFIZ55TIKyxoH%7EJfX41g1oHsytw4UVfNZrmHP66mLrXHQZGnit3p746Qw__&Key-Pair-Id=KVTP0A1DKRTAX [following]\n",
            "--2023-05-09 21:35:34--  https://cdn-lfs.huggingface.co/repos/a8/10/a810e88b0e7b233be82b89c1fa6ec2d75efc6d55784c2ada9dcac8434a634f3a/e9e97686e3138eaff989f67c04cd32e8f8f4c0d4857187e3f180275b23e24e85?response-content-disposition=attachment%3B+filename*%3DUTF-8%27%27corpus.jsonl.gz%3B+filename%3D%22corpus.jsonl.gz%22%3B&response-content-type=application%2Fgzip&Expires=1683927335&Policy=eyJTdGF0ZW1lbnQiOlt7IlJlc291cmNlIjoiaHR0cHM6Ly9jZG4tbGZzLmh1Z2dpbmdmYWNlLmNvL3JlcG9zL2E4LzEwL2E4MTBlODhiMGU3YjIzM2JlODJiODljMWZhNmVjMmQ3NWVmYzZkNTU3ODRjMmFkYTlkY2FjODQzNGE2MzRmM2EvZTllOTc2ODZlMzEzOGVhZmY5ODlmNjdjMDRjZDMyZThmOGY0YzBkNDg1NzE4N2UzZjE4MDI3NWIyM2UyNGU4NT9yZXNwb25zZS1jb250ZW50LWRpc3Bvc2l0aW9uPSomcmVzcG9uc2UtY29udGVudC10eXBlPSoiLCJDb25kaXRpb24iOnsiRGF0ZUxlc3NUaGFuIjp7IkFXUzpFcG9jaFRpbWUiOjE2ODM5MjczMzV9fX1dfQ__&Signature=qhyJrjSmcXSCDPEAVXUdOeTdeAJ5dktSFUBZ%7EBF3R78aTSzv2TezpFHQBW0DvFPEruze5I-AhzUppfdn4lKlZvVW%7EesWjkAL4NgW4XkXOms9HF%7ExdYqBYDCs36eiIhSwPGgG2d%7E81P%7EzPsCD3n4ChGdxSBy3CCjrS3064q6wraKKOeR-BE6Fn%7EJZWfBY57Fb24SQfZ4SELVp9z-At%7EAqmKv4qiMddQEJdXXL7HzmcNAZPhYP%7EWiBdspFAu8YiHDMCp8%7EPTVnbhlB7wePlLgBhFdpDYlkNJFIZ55TIKyxoH%7EJfX41g1oHsytw4UVfNZrmHP66mLrXHQZGnit3p746Qw__&Key-Pair-Id=KVTP0A1DKRTAX\n",
            "Resolving cdn-lfs.huggingface.co (cdn-lfs.huggingface.co)... 18.155.68.128, 18.155.68.98, 18.155.68.73, ...\n",
            "Connecting to cdn-lfs.huggingface.co (cdn-lfs.huggingface.co)|18.155.68.128|:443... connected.\n",
            "HTTP request sent, awaiting response... 200 OK\n",
            "Length: 73452199 (70M) [application/gzip]\n",
            "Saving to: ‘corpus.jsonl.gz’\n",
            "\n",
            "corpus.jsonl.gz     100%[===================>]  70.05M  15.5MB/s    in 4.5s    \n",
            "\n",
            "2023-05-09 21:35:40 (15.5 MB/s) - ‘corpus.jsonl.gz’ saved [73452199/73452199]\n",
            "\n"
          ]
        }
      ],
      "source": [
        "!wget https://huggingface.co/datasets/BeIR/trec-covid/resolve/main/corpus.jsonl.gz"
      ]
    },
    {
      "cell_type": "code",
      "execution_count": null,
      "metadata": {
        "colab": {
          "base_uri": "https://localhost:8080/"
        },
        "id": "3jjPvjAzGBH9",
        "outputId": "a9e1f7fe-5efb-46cc-a3ce-26db7d40e624"
      },
      "outputs": [
        {
          "name": "stdout",
          "output_type": "stream",
          "text": [
            "gzip: /content/drive/MyDrive/Unicamp/DL_applied_to_IR/Notebooks/trec-covid/corpus.jsonl already exists; do you wish to overwrite (y or n)? y\n"
          ]
        }
      ],
      "source": [
        "!mv corpus.jsonl.gz {workdir}/trec-covid\n",
        "!gunzip {workdir}/trec-covid/corpus.jsonl.gz"
      ]
    },
    {
      "cell_type": "code",
      "execution_count": null,
      "metadata": {
        "id": "GwvLmBo0HTjO"
      },
      "outputs": [],
      "source": [
        "passage_ids = []\n",
        "passage_texts = []\n",
        "id_to_passage = dict()\n",
        "id_to_index = dict()\n",
        "\n",
        "with jsonlines.open(f\"{workdir}/trec-covid/corpus.jsonl\") as reader:\n",
        "  for item in reader:\n",
        "    id = item[\"_id\"]\n",
        "    id_to_index[id] = len(passage_ids)\n",
        "    passage_ids.append(id)\n",
        "    text = item[\"title\"] + ' ' + item[\"text\"]\n",
        "    passage_texts.append(text)\n",
        "    id_to_passage[id] = text"
      ]
    },
    {
      "cell_type": "markdown",
      "metadata": {
        "id": "eN9d1ln3CE_r"
      },
      "source": [
        "## BM25 baseline"
      ]
    },
    {
      "cell_type": "code",
      "execution_count": null,
      "metadata": {
        "id": "xHZ41HUM-jOC"
      },
      "outputs": [],
      "source": [
        "def search_with_bm25(query, k = 1000, index_name = 'beir-v1.0.0-trec-covid.flat'):\n",
        "  if index_name == 'beir-v1.0.0-trec-covid.flat':   \n",
        "    searcher = LuceneSearcher.from_prebuilt_index(index_name)\n",
        "  else:\n",
        "    searcher = LuceneSearcher(index_name)\n",
        "  hits = searcher.search(query, k)\n",
        "  return hits"
      ]
    },
    {
      "cell_type": "code",
      "execution_count": null,
      "metadata": {
        "id": "UrCNwzM1MDXY"
      },
      "outputs": [],
      "source": [
        "def eval_ndcg10(run):\n",
        "  trec_eval = load(\"trec_eval\")\n",
        "  results = trec_eval.compute(predictions=[run], references=[qrel])\n",
        "  return results['NDCG@10'] "
      ]
    },
    {
      "cell_type": "code",
      "execution_count": null,
      "metadata": {
        "id": "SYDEDyUkErhf"
      },
      "outputs": [],
      "source": [
        "def run_bm25(test_ids, test_corpus, top_k = 1000):\n",
        "  run = defaultdict(list)\n",
        "\n",
        "  for id, query in tqdm(zip(test_ids, test_corpus)):\n",
        "    bm25_hits = search_with_bm25(query, k = top_k)\n",
        "    ids = [json.loads(bm25_hits[i].raw)['_id'] for i in range(len(bm25_hits))]\n",
        "    run[\"query\"] += [id] * top_k\n",
        "    run[\"docid\"] += ids\n",
        "    run[\"score\"] += [1] * top_k\n",
        "    run[\"q0\"] += [\"q0\"] * top_k\n",
        "    run[\"rank\"] += list(range(1,top_k+1))\n",
        "    run[\"system\"] += ['bm25'] * top_k\n",
        "\n",
        "  return run"
      ]
    },
    {
      "cell_type": "code",
      "execution_count": null,
      "metadata": {
        "colab": {
          "base_uri": "https://localhost:8080/"
        },
        "id": "dbDCbYd6LoGl",
        "outputId": "d0576675-9b64-4392-bc26-55f410e4b0a6"
      },
      "outputs": [
        {
          "name": "stderr",
          "output_type": "stream",
          "text": [
            "\r0it [00:00, ?it/s]"
          ]
        },
        {
          "name": "stdout",
          "output_type": "stream",
          "text": [
            "Downloading index at https://rgw.cs.uwaterloo.ca/pyserini/indexes/lucene-index.beir-v1.0.0-trec-covid.flat.20221116.505594.tar.gz...\n"
          ]
        },
        {
          "name": "stderr",
          "output_type": "stream",
          "text": [
            "\n",
            "lucene-index.beir-v1.0.0-trec-covid.flat.20221116.505594.tar.gz: 0.00B [00:00, ?B/s]\u001b[A\n",
            "lucene-index.beir-v1.0.0-trec-covid.flat.20221116.505594.tar.gz:   0%|          | 8.00k/216M [00:01<11:26:51, 5.49kB/s]\u001b[A\n",
            "lucene-index.beir-v1.0.0-trec-covid.flat.20221116.505594.tar.gz:   0%|          | 40.0k/216M [00:01<1:59:59, 31.4kB/s] \u001b[A\n",
            "lucene-index.beir-v1.0.0-trec-covid.flat.20221116.505594.tar.gz:   0%|          | 88.0k/216M [00:01<54:34, 69.1kB/s]  \u001b[A\n",
            "lucene-index.beir-v1.0.0-trec-covid.flat.20221116.505594.tar.gz:   0%|          | 200k/216M [00:02<22:46, 165kB/s]  \u001b[A\n",
            "lucene-index.beir-v1.0.0-trec-covid.flat.20221116.505594.tar.gz:   0%|          | 424k/216M [00:02<10:21, 363kB/s]\u001b[A\n",
            "lucene-index.beir-v1.0.0-trec-covid.flat.20221116.505594.tar.gz:   0%|          | 856k/216M [00:02<05:00, 751kB/s]\u001b[A\n",
            "lucene-index.beir-v1.0.0-trec-covid.flat.20221116.505594.tar.gz:   1%|          | 1.71M/216M [00:02<02:21, 1.58MB/s]\u001b[A\n",
            "lucene-index.beir-v1.0.0-trec-covid.flat.20221116.505594.tar.gz:   2%|▏         | 3.43M/216M [00:03<01:09, 3.22MB/s]\u001b[A\n",
            "lucene-index.beir-v1.0.0-trec-covid.flat.20221116.505594.tar.gz:   3%|▎         | 6.38M/216M [00:03<00:36, 5.95MB/s]\u001b[A\n",
            "lucene-index.beir-v1.0.0-trec-covid.flat.20221116.505594.tar.gz:   4%|▍         | 9.37M/216M [00:03<00:27, 7.95MB/s]\u001b[A\n",
            "lucene-index.beir-v1.0.0-trec-covid.flat.20221116.505594.tar.gz:   6%|▌         | 12.4M/216M [00:03<00:22, 9.35MB/s]\u001b[A\n",
            "lucene-index.beir-v1.0.0-trec-covid.flat.20221116.505594.tar.gz:   7%|▋         | 15.4M/216M [00:04<00:20, 10.4MB/s]\u001b[A\n",
            "lucene-index.beir-v1.0.0-trec-covid.flat.20221116.505594.tar.gz:   8%|▊         | 18.3M/216M [00:04<00:18, 11.1MB/s]\u001b[A\n",
            "lucene-index.beir-v1.0.0-trec-covid.flat.20221116.505594.tar.gz:  10%|▉         | 21.2M/216M [00:04<00:17, 11.6MB/s]\u001b[A\n",
            "lucene-index.beir-v1.0.0-trec-covid.flat.20221116.505594.tar.gz:  11%|█         | 24.2M/216M [00:04<00:16, 11.9MB/s]\u001b[A\n",
            "lucene-index.beir-v1.0.0-trec-covid.flat.20221116.505594.tar.gz:  13%|█▎        | 27.2M/216M [00:05<00:16, 12.2MB/s]\u001b[A\n",
            "lucene-index.beir-v1.0.0-trec-covid.flat.20221116.505594.tar.gz:  14%|█▍        | 30.2M/216M [00:05<00:15, 12.3MB/s]\u001b[A\n",
            "lucene-index.beir-v1.0.0-trec-covid.flat.20221116.505594.tar.gz:  15%|█▌        | 33.2M/216M [00:05<00:15, 12.5MB/s]\u001b[A\n",
            "lucene-index.beir-v1.0.0-trec-covid.flat.20221116.505594.tar.gz:  17%|█▋        | 36.2M/216M [00:05<00:14, 12.7MB/s]\u001b[A\n",
            "lucene-index.beir-v1.0.0-trec-covid.flat.20221116.505594.tar.gz:  18%|█▊        | 38.9M/216M [00:05<00:12, 15.1MB/s]\u001b[A\n",
            "lucene-index.beir-v1.0.0-trec-covid.flat.20221116.505594.tar.gz:  18%|█▊        | 39.1M/216M [00:06<00:15, 11.8MB/s]\u001b[A\n",
            "lucene-index.beir-v1.0.0-trec-covid.flat.20221116.505594.tar.gz:  19%|█▉        | 41.4M/216M [00:06<00:12, 14.3MB/s]\u001b[A\n",
            "lucene-index.beir-v1.0.0-trec-covid.flat.20221116.505594.tar.gz:  19%|█▉        | 41.9M/216M [00:06<00:16, 11.3MB/s]\u001b[A\n",
            "lucene-index.beir-v1.0.0-trec-covid.flat.20221116.505594.tar.gz:  20%|██        | 43.9M/216M [00:06<00:13, 13.4MB/s]\u001b[A\n",
            "lucene-index.beir-v1.0.0-trec-covid.flat.20221116.505594.tar.gz:  21%|██        | 44.6M/216M [00:06<00:16, 10.8MB/s]\u001b[A\n",
            "lucene-index.beir-v1.0.0-trec-covid.flat.20221116.505594.tar.gz:  22%|██▏       | 46.5M/216M [00:06<00:13, 12.8MB/s]\u001b[A\n",
            "lucene-index.beir-v1.0.0-trec-covid.flat.20221116.505594.tar.gz:  22%|██▏       | 47.2M/216M [00:06<00:16, 10.4MB/s]\u001b[A\n",
            "lucene-index.beir-v1.0.0-trec-covid.flat.20221116.505594.tar.gz:  23%|██▎       | 48.9M/216M [00:06<00:14, 12.2MB/s]\u001b[A\n",
            "lucene-index.beir-v1.0.0-trec-covid.flat.20221116.505594.tar.gz:  23%|██▎       | 49.8M/216M [00:07<00:17, 10.2MB/s]\u001b[A\n",
            "lucene-index.beir-v1.0.0-trec-covid.flat.20221116.505594.tar.gz:  24%|██▍       | 51.4M/216M [00:07<00:14, 12.0MB/s]\u001b[A\n",
            "lucene-index.beir-v1.0.0-trec-covid.flat.20221116.505594.tar.gz:  24%|██▍       | 52.4M/216M [00:07<00:16, 10.2MB/s]\u001b[A\n",
            "lucene-index.beir-v1.0.0-trec-covid.flat.20221116.505594.tar.gz:  25%|██▌       | 54.0M/216M [00:07<00:14, 12.0MB/s]\u001b[A\n",
            "lucene-index.beir-v1.0.0-trec-covid.flat.20221116.505594.tar.gz:  25%|██▌       | 54.9M/216M [00:07<00:16, 10.1MB/s]\u001b[A\n",
            "lucene-index.beir-v1.0.0-trec-covid.flat.20221116.505594.tar.gz:  26%|██▌       | 56.5M/216M [00:07<00:14, 11.9MB/s]\u001b[A\n",
            "lucene-index.beir-v1.0.0-trec-covid.flat.20221116.505594.tar.gz:  27%|██▋       | 57.4M/216M [00:07<00:16, 9.92MB/s]\u001b[A\n",
            "lucene-index.beir-v1.0.0-trec-covid.flat.20221116.505594.tar.gz:  27%|██▋       | 59.0M/216M [00:07<00:13, 11.8MB/s]\u001b[A\n",
            "lucene-index.beir-v1.0.0-trec-covid.flat.20221116.505594.tar.gz:  28%|██▊       | 60.0M/216M [00:08<00:16, 10.1MB/s]\u001b[A\n",
            "lucene-index.beir-v1.0.0-trec-covid.flat.20221116.505594.tar.gz:  29%|██▊       | 62.0M/216M [00:08<00:12, 12.8MB/s]\u001b[A\n",
            "lucene-index.beir-v1.0.0-trec-covid.flat.20221116.505594.tar.gz:  29%|██▉       | 62.5M/216M [00:08<00:16, 9.80MB/s]\u001b[A\n",
            "lucene-index.beir-v1.0.0-trec-covid.flat.20221116.505594.tar.gz:  30%|███       | 64.9M/216M [00:08<00:11, 13.7MB/s]\u001b[A\n",
            "lucene-index.beir-v1.0.0-trec-covid.flat.20221116.505594.tar.gz:  30%|███       | 65.2M/216M [00:08<00:16, 9.75MB/s]\u001b[A\n",
            "lucene-index.beir-v1.0.0-trec-covid.flat.20221116.505594.tar.gz:  31%|███▏      | 67.9M/216M [00:08<00:10, 14.3MB/s]\u001b[A\n",
            "lucene-index.beir-v1.0.0-trec-covid.flat.20221116.505594.tar.gz:  32%|███▏      | 68.1M/216M [00:08<00:15, 9.93MB/s]\u001b[A\n",
            "lucene-index.beir-v1.0.0-trec-covid.flat.20221116.505594.tar.gz:  33%|███▎      | 70.8M/216M [00:08<00:10, 14.7MB/s]\u001b[A\n",
            "lucene-index.beir-v1.0.0-trec-covid.flat.20221116.505594.tar.gz:  33%|███▎      | 70.9M/216M [00:08<00:15, 10.0MB/s]\u001b[A\n",
            "lucene-index.beir-v1.0.0-trec-covid.flat.20221116.505594.tar.gz:  34%|███▍      | 73.8M/216M [00:09<00:09, 14.9MB/s]\u001b[A\n",
            "lucene-index.beir-v1.0.0-trec-covid.flat.20221116.505594.tar.gz:  34%|███▍      | 73.9M/216M [00:09<00:14, 10.2MB/s]\u001b[A\n",
            "lucene-index.beir-v1.0.0-trec-covid.flat.20221116.505594.tar.gz:  36%|███▌      | 76.7M/216M [00:09<00:09, 15.0MB/s]\u001b[A\n",
            "lucene-index.beir-v1.0.0-trec-covid.flat.20221116.505594.tar.gz:  36%|███▌      | 76.8M/216M [00:09<00:14, 10.2MB/s]\u001b[A\n",
            "lucene-index.beir-v1.0.0-trec-covid.flat.20221116.505594.tar.gz:  37%|███▋      | 79.7M/216M [00:09<00:09, 15.1MB/s]\u001b[A\n",
            "lucene-index.beir-v1.0.0-trec-covid.flat.20221116.505594.tar.gz:  37%|███▋      | 79.8M/216M [00:09<00:13, 10.3MB/s]\u001b[A\n",
            "lucene-index.beir-v1.0.0-trec-covid.flat.20221116.505594.tar.gz:  38%|███▊      | 82.6M/216M [00:09<00:09, 15.1MB/s]\u001b[A\n",
            "lucene-index.beir-v1.0.0-trec-covid.flat.20221116.505594.tar.gz:  38%|███▊      | 82.7M/216M [00:09<00:13, 10.2MB/s]\u001b[A\n",
            "lucene-index.beir-v1.0.0-trec-covid.flat.20221116.505594.tar.gz:  40%|███▉      | 85.6M/216M [00:10<00:09, 15.1MB/s]\u001b[A\n",
            "lucene-index.beir-v1.0.0-trec-covid.flat.20221116.505594.tar.gz:  40%|███▉      | 85.7M/216M [00:10<00:13, 10.3MB/s]\u001b[A\n",
            "lucene-index.beir-v1.0.0-trec-covid.flat.20221116.505594.tar.gz:  41%|████      | 88.6M/216M [00:10<00:08, 15.1MB/s]\u001b[A\n",
            "lucene-index.beir-v1.0.0-trec-covid.flat.20221116.505594.tar.gz:  41%|████      | 88.7M/216M [00:10<00:12, 10.3MB/s]\u001b[A\n",
            "lucene-index.beir-v1.0.0-trec-covid.flat.20221116.505594.tar.gz:  42%|████▏     | 91.5M/216M [00:10<00:08, 15.2MB/s]\u001b[A\n",
            "lucene-index.beir-v1.0.0-trec-covid.flat.20221116.505594.tar.gz:  42%|████▏     | 91.6M/216M [00:10<00:12, 10.4MB/s]\u001b[A\n",
            "lucene-index.beir-v1.0.0-trec-covid.flat.20221116.505594.tar.gz:  44%|████▍     | 94.5M/216M [00:10<00:08, 15.4MB/s]\u001b[A\n",
            "lucene-index.beir-v1.0.0-trec-covid.flat.20221116.505594.tar.gz:  44%|████▍     | 94.6M/216M [00:10<00:12, 10.3MB/s]\u001b[A\n",
            "lucene-index.beir-v1.0.0-trec-covid.flat.20221116.505594.tar.gz:  45%|████▌     | 97.4M/216M [00:11<00:08, 15.3MB/s]\u001b[A\n",
            "lucene-index.beir-v1.0.0-trec-covid.flat.20221116.505594.tar.gz:  45%|████▌     | 97.5M/216M [00:11<00:11, 10.3MB/s]\u001b[A\n",
            "lucene-index.beir-v1.0.0-trec-covid.flat.20221116.505594.tar.gz:  47%|████▋     | 100M/216M [00:11<00:07, 15.4MB/s] \u001b[A\n",
            "lucene-index.beir-v1.0.0-trec-covid.flat.20221116.505594.tar.gz:  47%|████▋     | 101M/216M [00:11<00:11, 10.4MB/s]\u001b[A\n",
            "lucene-index.beir-v1.0.0-trec-covid.flat.20221116.505594.tar.gz:  48%|████▊     | 103M/216M [00:11<00:07, 15.4MB/s]\u001b[A\n",
            "lucene-index.beir-v1.0.0-trec-covid.flat.20221116.505594.tar.gz:  48%|████▊     | 103M/216M [00:11<00:11, 10.3MB/s]\u001b[A\n",
            "lucene-index.beir-v1.0.0-trec-covid.flat.20221116.505594.tar.gz:  49%|████▉     | 106M/216M [00:11<00:07, 15.3MB/s]\u001b[A\n",
            "lucene-index.beir-v1.0.0-trec-covid.flat.20221116.505594.tar.gz:  49%|████▉     | 106M/216M [00:11<00:11, 10.3MB/s]\u001b[A\n",
            "lucene-index.beir-v1.0.0-trec-covid.flat.20221116.505594.tar.gz:  51%|█████     | 109M/216M [00:12<00:07, 15.4MB/s]\u001b[A\n",
            "lucene-index.beir-v1.0.0-trec-covid.flat.20221116.505594.tar.gz:  51%|█████     | 109M/216M [00:12<00:10, 10.3MB/s]\u001b[A\n",
            "lucene-index.beir-v1.0.0-trec-covid.flat.20221116.505594.tar.gz:  52%|█████▏    | 112M/216M [00:12<00:07, 15.4MB/s]\u001b[A\n",
            "lucene-index.beir-v1.0.0-trec-covid.flat.20221116.505594.tar.gz:  52%|█████▏    | 112M/216M [00:12<00:10, 10.3MB/s]\u001b[A\n",
            "lucene-index.beir-v1.0.0-trec-covid.flat.20221116.505594.tar.gz:  53%|█████▎    | 115M/216M [00:12<00:06, 15.4MB/s]\u001b[A\n",
            "lucene-index.beir-v1.0.0-trec-covid.flat.20221116.505594.tar.gz:  53%|█████▎    | 115M/216M [00:12<00:10, 10.3MB/s]\u001b[A\n",
            "lucene-index.beir-v1.0.0-trec-covid.flat.20221116.505594.tar.gz:  55%|█████▍    | 118M/216M [00:12<00:06, 15.4MB/s]\u001b[A\n",
            "lucene-index.beir-v1.0.0-trec-covid.flat.20221116.505594.tar.gz:  55%|█████▍    | 118M/216M [00:12<00:09, 10.3MB/s]\u001b[A\n",
            "lucene-index.beir-v1.0.0-trec-covid.flat.20221116.505594.tar.gz:  56%|█████▌    | 121M/216M [00:13<00:06, 15.4MB/s]\u001b[A\n",
            "lucene-index.beir-v1.0.0-trec-covid.flat.20221116.505594.tar.gz:  56%|█████▌    | 121M/216M [00:13<00:09, 10.3MB/s]\u001b[A\n",
            "lucene-index.beir-v1.0.0-trec-covid.flat.20221116.505594.tar.gz:  58%|█████▊    | 124M/216M [00:13<00:06, 15.4MB/s]\u001b[A\n",
            "lucene-index.beir-v1.0.0-trec-covid.flat.20221116.505594.tar.gz:  58%|█████▊    | 124M/216M [00:13<00:09, 10.3MB/s]\u001b[A\n",
            "lucene-index.beir-v1.0.0-trec-covid.flat.20221116.505594.tar.gz:  59%|█████▉    | 127M/216M [00:13<00:06, 15.4MB/s]\u001b[A\n",
            "lucene-index.beir-v1.0.0-trec-covid.flat.20221116.505594.tar.gz:  59%|█████▉    | 127M/216M [00:13<00:08, 10.3MB/s]\u001b[A\n",
            "lucene-index.beir-v1.0.0-trec-covid.flat.20221116.505594.tar.gz:  60%|██████    | 130M/216M [00:13<00:05, 15.4MB/s]\u001b[A\n",
            "lucene-index.beir-v1.0.0-trec-covid.flat.20221116.505594.tar.gz:  60%|██████    | 130M/216M [00:13<00:08, 10.3MB/s]\u001b[A\n",
            "lucene-index.beir-v1.0.0-trec-covid.flat.20221116.505594.tar.gz:  62%|██████▏   | 133M/216M [00:13<00:05, 15.4MB/s]\u001b[A\n",
            "lucene-index.beir-v1.0.0-trec-covid.flat.20221116.505594.tar.gz:  62%|██████▏   | 133M/216M [00:14<00:08, 10.3MB/s]\u001b[A\n",
            "lucene-index.beir-v1.0.0-trec-covid.flat.20221116.505594.tar.gz:  63%|██████▎   | 136M/216M [00:14<00:05, 15.4MB/s]\u001b[A\n",
            "lucene-index.beir-v1.0.0-trec-covid.flat.20221116.505594.tar.gz:  63%|██████▎   | 136M/216M [00:14<00:08, 10.3MB/s]\u001b[A\n",
            "lucene-index.beir-v1.0.0-trec-covid.flat.20221116.505594.tar.gz:  64%|██████▍   | 139M/216M [00:14<00:05, 15.4MB/s]\u001b[A\n",
            "lucene-index.beir-v1.0.0-trec-covid.flat.20221116.505594.tar.gz:  65%|██████▍   | 139M/216M [00:14<00:07, 10.3MB/s]\u001b[A\n",
            "lucene-index.beir-v1.0.0-trec-covid.flat.20221116.505594.tar.gz:  66%|██████▌   | 142M/216M [00:14<00:05, 15.4MB/s]\u001b[A\n",
            "lucene-index.beir-v1.0.0-trec-covid.flat.20221116.505594.tar.gz:  66%|██████▌   | 142M/216M [00:14<00:07, 10.3MB/s]\u001b[A\n",
            "lucene-index.beir-v1.0.0-trec-covid.flat.20221116.505594.tar.gz:  67%|██████▋   | 145M/216M [00:14<00:04, 15.5MB/s]\u001b[A\n",
            "lucene-index.beir-v1.0.0-trec-covid.flat.20221116.505594.tar.gz:  67%|██████▋   | 145M/216M [00:15<00:07, 10.3MB/s]\u001b[A\n",
            "lucene-index.beir-v1.0.0-trec-covid.flat.20221116.505594.tar.gz:  69%|██████▊   | 148M/216M [00:15<00:04, 15.3MB/s]\u001b[A\n",
            "lucene-index.beir-v1.0.0-trec-covid.flat.20221116.505594.tar.gz:  69%|██████▊   | 148M/216M [00:15<00:06, 10.4MB/s]\u001b[A\n",
            "lucene-index.beir-v1.0.0-trec-covid.flat.20221116.505594.tar.gz:  70%|███████   | 151M/216M [00:15<00:04, 15.5MB/s]\u001b[A\n",
            "lucene-index.beir-v1.0.0-trec-covid.flat.20221116.505594.tar.gz:  70%|███████   | 151M/216M [00:15<00:06, 10.3MB/s]\u001b[A\n",
            "lucene-index.beir-v1.0.0-trec-covid.flat.20221116.505594.tar.gz:  71%|███████▏  | 154M/216M [00:15<00:04, 15.3MB/s]\u001b[A\n",
            "lucene-index.beir-v1.0.0-trec-covid.flat.20221116.505594.tar.gz:  71%|███████▏  | 154M/216M [00:15<00:06, 10.3MB/s]\u001b[A\n",
            "lucene-index.beir-v1.0.0-trec-covid.flat.20221116.505594.tar.gz:  73%|███████▎  | 157M/216M [00:15<00:04, 15.1MB/s]\u001b[A\n",
            "lucene-index.beir-v1.0.0-trec-covid.flat.20221116.505594.tar.gz:  73%|███████▎  | 157M/216M [00:16<00:05, 10.4MB/s]\u001b[A\n",
            "lucene-index.beir-v1.0.0-trec-covid.flat.20221116.505594.tar.gz:  74%|███████▍  | 160M/216M [00:16<00:03, 15.2MB/s]\u001b[A\n",
            "lucene-index.beir-v1.0.0-trec-covid.flat.20221116.505594.tar.gz:  74%|███████▍  | 160M/216M [00:16<00:05, 10.3MB/s]\u001b[A\n",
            "lucene-index.beir-v1.0.0-trec-covid.flat.20221116.505594.tar.gz:  75%|███████▌  | 163M/216M [00:16<00:03, 15.1MB/s]\u001b[A\n",
            "lucene-index.beir-v1.0.0-trec-covid.flat.20221116.505594.tar.gz:  76%|███████▌  | 163M/216M [00:16<00:05, 10.4MB/s]\u001b[A\n",
            "lucene-index.beir-v1.0.0-trec-covid.flat.20221116.505594.tar.gz:  77%|███████▋  | 166M/216M [00:16<00:03, 15.3MB/s]\u001b[A\n",
            "lucene-index.beir-v1.0.0-trec-covid.flat.20221116.505594.tar.gz:  77%|███████▋  | 166M/216M [00:16<00:05, 10.3MB/s]\u001b[A\n",
            "lucene-index.beir-v1.0.0-trec-covid.flat.20221116.505594.tar.gz:  78%|███████▊  | 169M/216M [00:16<00:03, 15.4MB/s]\u001b[A\n",
            "lucene-index.beir-v1.0.0-trec-covid.flat.20221116.505594.tar.gz:  78%|███████▊  | 169M/216M [00:17<00:04, 10.3MB/s]\u001b[A\n",
            "lucene-index.beir-v1.0.0-trec-covid.flat.20221116.505594.tar.gz:  79%|███████▉  | 171M/216M [00:17<00:03, 13.6MB/s]\u001b[A\n",
            "lucene-index.beir-v1.0.0-trec-covid.flat.20221116.505594.tar.gz:  80%|███████▉  | 172M/216M [00:17<00:04, 10.8MB/s]\u001b[A\n",
            "lucene-index.beir-v1.0.0-trec-covid.flat.20221116.505594.tar.gz:  80%|████████  | 174M/216M [00:17<00:03, 12.5MB/s]\u001b[A\n",
            "lucene-index.beir-v1.0.0-trec-covid.flat.20221116.505594.tar.gz:  81%|████████  | 175M/216M [00:17<00:03, 11.4MB/s]\u001b[A\n",
            "lucene-index.beir-v1.0.0-trec-covid.flat.20221116.505594.tar.gz:  82%|████████▏ | 177M/216M [00:17<00:02, 13.8MB/s]\u001b[A\n",
            "lucene-index.beir-v1.0.0-trec-covid.flat.20221116.505594.tar.gz:  82%|████████▏ | 178M/216M [00:17<00:03, 11.3MB/s]\u001b[A\n",
            "lucene-index.beir-v1.0.0-trec-covid.flat.20221116.505594.tar.gz:  83%|████████▎ | 179M/216M [00:17<00:03, 11.2MB/s]\u001b[A\n",
            "lucene-index.beir-v1.0.0-trec-covid.flat.20221116.505594.tar.gz:  84%|████████▎ | 180M/216M [00:18<00:03, 11.2MB/s]\u001b[A\n",
            "lucene-index.beir-v1.0.0-trec-covid.flat.20221116.505594.tar.gz:  84%|████████▍ | 182M/216M [00:18<00:03, 11.6MB/s]\u001b[A\n",
            "lucene-index.beir-v1.0.0-trec-covid.flat.20221116.505594.tar.gz:  85%|████████▍ | 183M/216M [00:18<00:02, 11.7MB/s]\u001b[A\n",
            "lucene-index.beir-v1.0.0-trec-covid.flat.20221116.505594.tar.gz:  85%|████████▌ | 184M/216M [00:18<00:02, 11.1MB/s]\u001b[A\n",
            "lucene-index.beir-v1.0.0-trec-covid.flat.20221116.505594.tar.gz:  86%|████████▌ | 186M/216M [00:18<00:02, 12.2MB/s]\u001b[A\n",
            "lucene-index.beir-v1.0.0-trec-covid.flat.20221116.505594.tar.gz:  87%|████████▋ | 187M/216M [00:18<00:02, 11.4MB/s]\u001b[A\n",
            "lucene-index.beir-v1.0.0-trec-covid.flat.20221116.505594.tar.gz:  87%|████████▋ | 189M/216M [00:18<00:02, 12.2MB/s]\u001b[A\n",
            "lucene-index.beir-v1.0.0-trec-covid.flat.20221116.505594.tar.gz:  88%|████████▊ | 190M/216M [00:18<00:02, 11.4MB/s]\u001b[A\n",
            "lucene-index.beir-v1.0.0-trec-covid.flat.20221116.505594.tar.gz:  89%|████████▉ | 192M/216M [00:19<00:01, 12.7MB/s]\u001b[A\n",
            "lucene-index.beir-v1.0.0-trec-covid.flat.20221116.505594.tar.gz:  89%|████████▉ | 193M/216M [00:19<00:02, 11.2MB/s]\u001b[A\n",
            "lucene-index.beir-v1.0.0-trec-covid.flat.20221116.505594.tar.gz:  90%|█████████ | 195M/216M [00:19<00:01, 13.2MB/s]\u001b[A\n",
            "lucene-index.beir-v1.0.0-trec-covid.flat.20221116.505594.tar.gz:  91%|█████████ | 195M/216M [00:19<00:01, 11.4MB/s]\u001b[A\n",
            "lucene-index.beir-v1.0.0-trec-covid.flat.20221116.505594.tar.gz:  92%|█████████▏| 198M/216M [00:19<00:01, 13.5MB/s]\u001b[A\n",
            "lucene-index.beir-v1.0.0-trec-covid.flat.20221116.505594.tar.gz:  92%|█████████▏| 198M/216M [00:19<00:01, 11.4MB/s]\u001b[A\n",
            "lucene-index.beir-v1.0.0-trec-covid.flat.20221116.505594.tar.gz:  93%|█████████▎| 201M/216M [00:19<00:01, 13.7MB/s]\u001b[A\n",
            "lucene-index.beir-v1.0.0-trec-covid.flat.20221116.505594.tar.gz:  93%|█████████▎| 201M/216M [00:19<00:01, 11.2MB/s]\u001b[A\n",
            "lucene-index.beir-v1.0.0-trec-covid.flat.20221116.505594.tar.gz:  94%|█████████▍| 204M/216M [00:19<00:00, 13.9MB/s]\u001b[A\n",
            "lucene-index.beir-v1.0.0-trec-covid.flat.20221116.505594.tar.gz:  95%|█████████▍| 204M/216M [00:20<00:01, 11.2MB/s]\u001b[A\n",
            "lucene-index.beir-v1.0.0-trec-covid.flat.20221116.505594.tar.gz:  96%|█████████▌| 207M/216M [00:20<00:00, 14.0MB/s]\u001b[A\n",
            "lucene-index.beir-v1.0.0-trec-covid.flat.20221116.505594.tar.gz:  96%|█████████▌| 207M/216M [00:20<00:00, 11.0MB/s]\u001b[A\n",
            "lucene-index.beir-v1.0.0-trec-covid.flat.20221116.505594.tar.gz:  97%|█████████▋| 210M/216M [00:20<00:00, 14.2MB/s]\u001b[A\n",
            "lucene-index.beir-v1.0.0-trec-covid.flat.20221116.505594.tar.gz:  97%|█████████▋| 210M/216M [00:20<00:00, 10.8MB/s]\u001b[A\n",
            "lucene-index.beir-v1.0.0-trec-covid.flat.20221116.505594.tar.gz:  99%|█████████▊| 213M/216M [00:20<00:00, 14.4MB/s]\u001b[A\n",
            "lucene-index.beir-v1.0.0-trec-covid.flat.20221116.505594.tar.gz:  99%|█████████▊| 213M/216M [00:20<00:00, 10.6MB/s]\u001b[A\n",
            "lucene-index.beir-v1.0.0-trec-covid.flat.20221116.505594.tar.gz: 100%|█████████▉| 216M/216M [00:20<00:00, 14.4MB/s]\u001b[A\n",
            "lucene-index.beir-v1.0.0-trec-covid.flat.20221116.505594.tar.gz: 216MB [00:21, 10.7MB/s]                           \n",
            "50it [00:30,  1.62it/s]\n"
          ]
        }
      ],
      "source": [
        "run_bm25 = run_bm25(query_ids, query_texts)"
      ]
    },
    {
      "cell_type": "code",
      "execution_count": null,
      "metadata": {
        "colab": {
          "base_uri": "https://localhost:8080/",
          "height": 67,
          "referenced_widgets": [
            "20b731cc197a41c0a0a2105d5df36412",
            "621bafc4761d4beb837e2ee6b650e2fd",
            "6cbb765f240a456591c89f770696b156",
            "3e433dd7676d4e9c9985742a952ae702",
            "4a8f307ab22043919a7c1b0240ce3abb",
            "22b967ac1eb84988bc5830b66c54fafc",
            "45e333635d1948988ffbb9f067e40880",
            "3f3a7165d77d458ab75137bf1811ddf2",
            "821d59a47ee34df081fad619158f7560",
            "880df8877dd14a90a3bfbe93c6810061",
            "b9fcb0158ddd492ab76416b3e92d296e"
          ]
        },
        "id": "TnM21NENH443",
        "outputId": "0127f393-289b-4c1d-bf18-c0532310d156"
      },
      "outputs": [
        {
          "data": {
            "application/vnd.jupyter.widget-view+json": {
              "model_id": "20b731cc197a41c0a0a2105d5df36412",
              "version_major": 2,
              "version_minor": 0
            },
            "text/plain": [
              "Downloading builder script:   0%|          | 0.00/5.51k [00:00<?, ?B/s]"
            ]
          },
          "metadata": {},
          "output_type": "display_data"
        },
        {
          "data": {
            "text/plain": [
              "0.5946917010118077"
            ]
          },
          "execution_count": 19,
          "metadata": {},
          "output_type": "execute_result"
        }
      ],
      "source": [
        "baseline_bm25_ndcg = eval_ndcg10(run_bm25)\n",
        "baseline_bm25_ndcg"
      ]
    },
    {
      "cell_type": "markdown",
      "metadata": {
        "id": "90NHOqMuNcRh"
      },
      "source": [
        "## docTTTTTquery\n",
        "Using much from [here](https://github.com/castorini/docTTTTTquery)."
      ]
    },
    {
      "cell_type": "code",
      "execution_count": null,
      "metadata": {
        "colab": {
          "base_uri": "https://localhost:8080/",
          "height": 1000,
          "referenced_widgets": [
            "b323e2004bff4be7bc521657bc043e4a",
            "3dde396a6824408386bced7a6f259b4d",
            "f8f7c86eee064bfcb321d93c36c2cf28",
            "9c3fb5bd3f604ff4a5fa2d52e487664b",
            "47e0d5bd4cf946c890f74037fbd6e13a",
            "dd14bc94fa144a669d659205ce678857",
            "8ea630b6fb144009b9e56395f5121efc",
            "243b4574412c457ba6dffd12d47f4433",
            "0dbb6dc73a494970b61aa036dd5dc634",
            "5ac1ae6ddc7346ec8f5b506207ba8e01",
            "e1ada717f1f84ff3a12bc61b0607cd12",
            "22f138b2930742959dd911fde34bd4de",
            "642dfff630884c2f8589fb728d7faccf",
            "46356408dafa45ba9a4231e64a11c508",
            "7dc1790d26a14651ab75f1175f1de74c",
            "da4295ff88dc4f569de47b0fd53a807a",
            "c6750f81dcfe4058b8ec94366cc8c914",
            "8a350f59e56c4a638d09126b329dbde9",
            "bd47a95ebea541e09de139b28a86a959",
            "e3710a9a60e344a88a48d5e5ce6a0c1f",
            "3cb2567e3f8c4affad17bd3aa1e0ff8d",
            "0e839b34aef2460697291c3481551957",
            "1f4b510454ae44598f53863b65df62da",
            "e99509cf2baf41a1bc087f725a99830d",
            "7eee6aebe8234625969e834edf13e292",
            "e687a33a6a124806926d268638d2f8a4",
            "681751ba75a340fc9c45379a06cb8687",
            "291aa60e9c9d49dbb3f75be5312bab63",
            "89a375c1f242407cb60bf571b984a5c1",
            "a2d9ebb20f9a46e3bfa87cc2be53d4d3",
            "00570e88729b42d489bbd8c2bc9f5617",
            "caef1e265fbc4f9b8a3ec7efb0f78ef3",
            "02e24559aa15485f9427d37e0bc7dd9e",
            "bd9346d31a914871b75e6655c87b49e1",
            "e85b59ae2b114036a4049adeeb88407c",
            "e1df67b4eedb4cf09fa3804d8fc74ad9",
            "9189d893193a4812a5af3c9ee3d58cb5",
            "fc50c7beee31477990c545cd7ca802c7",
            "68bac97b173749f8b9762834f3b7378a",
            "96f7d21f826f4a04b672d9876910db1a",
            "19d1f3fff23443a4b43c4f6dab226fe8",
            "b60a2c4b1a744364bbb3f97308d6d4b3",
            "f9876e38e9aa4ec8b4654439ff07801b",
            "4e53cb320ca54971b72fb577901fa492",
            "147f7f3619314ed79f65fd662e45df4a",
            "04a981e641e54309a829dbedc302cf94",
            "125bc04f5dfe4947aa8f750b202dc8ac",
            "c64bb3c3fcb0405c9f02d9a4eaeb0d46",
            "3313b5e8fd3e4eba9d9e9ac9c7a18d62",
            "c8756d15bbb547a99e8c9a547204ac5c",
            "df2f14229d444ace927a0b761d0c9573",
            "6ea4596906dc4fafac7086e097708ebf",
            "0f408644bd804347b47cd42c993e29eb",
            "7de7f3591785434aa13cf15e547d7bbd",
            "2ade42a8320343ada6c169337a680f9a"
          ]
        },
        "id": "RzIPh25aL3I2",
        "outputId": "f1b497ed-eb6e-4c3c-f729-8f10e843cd2f"
      },
      "outputs": [
        {
          "data": {
            "application/vnd.jupyter.widget-view+json": {
              "model_id": "b323e2004bff4be7bc521657bc043e4a",
              "version_major": 2,
              "version_minor": 0
            },
            "text/plain": [
              "Downloading spiece.model:   0%|          | 0.00/792k [00:00<?, ?B/s]"
            ]
          },
          "metadata": {},
          "output_type": "display_data"
        },
        {
          "data": {
            "application/vnd.jupyter.widget-view+json": {
              "model_id": "22f138b2930742959dd911fde34bd4de",
              "version_major": 2,
              "version_minor": 0
            },
            "text/plain": [
              "Downloading (…)cial_tokens_map.json:   0%|          | 0.00/1.79k [00:00<?, ?B/s]"
            ]
          },
          "metadata": {},
          "output_type": "display_data"
        },
        {
          "data": {
            "application/vnd.jupyter.widget-view+json": {
              "model_id": "1f4b510454ae44598f53863b65df62da",
              "version_major": 2,
              "version_minor": 0
            },
            "text/plain": [
              "Downloading (…)okenizer_config.json:   0%|          | 0.00/1.89k [00:00<?, ?B/s]"
            ]
          },
          "metadata": {},
          "output_type": "display_data"
        },
        {
          "data": {
            "application/vnd.jupyter.widget-view+json": {
              "model_id": "bd9346d31a914871b75e6655c87b49e1",
              "version_major": 2,
              "version_minor": 0
            },
            "text/plain": [
              "Downloading (…)lve/main/config.json:   0%|          | 0.00/1.32k [00:00<?, ?B/s]"
            ]
          },
          "metadata": {},
          "output_type": "display_data"
        },
        {
          "data": {
            "application/vnd.jupyter.widget-view+json": {
              "model_id": "147f7f3619314ed79f65fd662e45df4a",
              "version_major": 2,
              "version_minor": 0
            },
            "text/plain": [
              "Downloading pytorch_model.bin:   0%|          | 0.00/892M [00:00<?, ?B/s]"
            ]
          },
          "metadata": {},
          "output_type": "display_data"
        },
        {
          "data": {
            "text/plain": [
              "T5ForConditionalGeneration(\n",
              "  (shared): Embedding(32128, 768)\n",
              "  (encoder): T5Stack(\n",
              "    (embed_tokens): Embedding(32128, 768)\n",
              "    (block): ModuleList(\n",
              "      (0): T5Block(\n",
              "        (layer): ModuleList(\n",
              "          (0): T5LayerSelfAttention(\n",
              "            (SelfAttention): T5Attention(\n",
              "              (q): Linear(in_features=768, out_features=768, bias=False)\n",
              "              (k): Linear(in_features=768, out_features=768, bias=False)\n",
              "              (v): Linear(in_features=768, out_features=768, bias=False)\n",
              "              (o): Linear(in_features=768, out_features=768, bias=False)\n",
              "              (relative_attention_bias): Embedding(32, 12)\n",
              "            )\n",
              "            (layer_norm): T5LayerNorm()\n",
              "            (dropout): Dropout(p=0.1, inplace=False)\n",
              "          )\n",
              "          (1): T5LayerFF(\n",
              "            (DenseReluDense): T5DenseActDense(\n",
              "              (wi): Linear(in_features=768, out_features=3072, bias=False)\n",
              "              (wo): Linear(in_features=3072, out_features=768, bias=False)\n",
              "              (dropout): Dropout(p=0.1, inplace=False)\n",
              "              (act): ReLU()\n",
              "            )\n",
              "            (layer_norm): T5LayerNorm()\n",
              "            (dropout): Dropout(p=0.1, inplace=False)\n",
              "          )\n",
              "        )\n",
              "      )\n",
              "      (1-11): 11 x T5Block(\n",
              "        (layer): ModuleList(\n",
              "          (0): T5LayerSelfAttention(\n",
              "            (SelfAttention): T5Attention(\n",
              "              (q): Linear(in_features=768, out_features=768, bias=False)\n",
              "              (k): Linear(in_features=768, out_features=768, bias=False)\n",
              "              (v): Linear(in_features=768, out_features=768, bias=False)\n",
              "              (o): Linear(in_features=768, out_features=768, bias=False)\n",
              "            )\n",
              "            (layer_norm): T5LayerNorm()\n",
              "            (dropout): Dropout(p=0.1, inplace=False)\n",
              "          )\n",
              "          (1): T5LayerFF(\n",
              "            (DenseReluDense): T5DenseActDense(\n",
              "              (wi): Linear(in_features=768, out_features=3072, bias=False)\n",
              "              (wo): Linear(in_features=3072, out_features=768, bias=False)\n",
              "              (dropout): Dropout(p=0.1, inplace=False)\n",
              "              (act): ReLU()\n",
              "            )\n",
              "            (layer_norm): T5LayerNorm()\n",
              "            (dropout): Dropout(p=0.1, inplace=False)\n",
              "          )\n",
              "        )\n",
              "      )\n",
              "    )\n",
              "    (final_layer_norm): T5LayerNorm()\n",
              "    (dropout): Dropout(p=0.1, inplace=False)\n",
              "  )\n",
              "  (decoder): T5Stack(\n",
              "    (embed_tokens): Embedding(32128, 768)\n",
              "    (block): ModuleList(\n",
              "      (0): T5Block(\n",
              "        (layer): ModuleList(\n",
              "          (0): T5LayerSelfAttention(\n",
              "            (SelfAttention): T5Attention(\n",
              "              (q): Linear(in_features=768, out_features=768, bias=False)\n",
              "              (k): Linear(in_features=768, out_features=768, bias=False)\n",
              "              (v): Linear(in_features=768, out_features=768, bias=False)\n",
              "              (o): Linear(in_features=768, out_features=768, bias=False)\n",
              "              (relative_attention_bias): Embedding(32, 12)\n",
              "            )\n",
              "            (layer_norm): T5LayerNorm()\n",
              "            (dropout): Dropout(p=0.1, inplace=False)\n",
              "          )\n",
              "          (1): T5LayerCrossAttention(\n",
              "            (EncDecAttention): T5Attention(\n",
              "              (q): Linear(in_features=768, out_features=768, bias=False)\n",
              "              (k): Linear(in_features=768, out_features=768, bias=False)\n",
              "              (v): Linear(in_features=768, out_features=768, bias=False)\n",
              "              (o): Linear(in_features=768, out_features=768, bias=False)\n",
              "            )\n",
              "            (layer_norm): T5LayerNorm()\n",
              "            (dropout): Dropout(p=0.1, inplace=False)\n",
              "          )\n",
              "          (2): T5LayerFF(\n",
              "            (DenseReluDense): T5DenseActDense(\n",
              "              (wi): Linear(in_features=768, out_features=3072, bias=False)\n",
              "              (wo): Linear(in_features=3072, out_features=768, bias=False)\n",
              "              (dropout): Dropout(p=0.1, inplace=False)\n",
              "              (act): ReLU()\n",
              "            )\n",
              "            (layer_norm): T5LayerNorm()\n",
              "            (dropout): Dropout(p=0.1, inplace=False)\n",
              "          )\n",
              "        )\n",
              "      )\n",
              "      (1-11): 11 x T5Block(\n",
              "        (layer): ModuleList(\n",
              "          (0): T5LayerSelfAttention(\n",
              "            (SelfAttention): T5Attention(\n",
              "              (q): Linear(in_features=768, out_features=768, bias=False)\n",
              "              (k): Linear(in_features=768, out_features=768, bias=False)\n",
              "              (v): Linear(in_features=768, out_features=768, bias=False)\n",
              "              (o): Linear(in_features=768, out_features=768, bias=False)\n",
              "            )\n",
              "            (layer_norm): T5LayerNorm()\n",
              "            (dropout): Dropout(p=0.1, inplace=False)\n",
              "          )\n",
              "          (1): T5LayerCrossAttention(\n",
              "            (EncDecAttention): T5Attention(\n",
              "              (q): Linear(in_features=768, out_features=768, bias=False)\n",
              "              (k): Linear(in_features=768, out_features=768, bias=False)\n",
              "              (v): Linear(in_features=768, out_features=768, bias=False)\n",
              "              (o): Linear(in_features=768, out_features=768, bias=False)\n",
              "            )\n",
              "            (layer_norm): T5LayerNorm()\n",
              "            (dropout): Dropout(p=0.1, inplace=False)\n",
              "          )\n",
              "          (2): T5LayerFF(\n",
              "            (DenseReluDense): T5DenseActDense(\n",
              "              (wi): Linear(in_features=768, out_features=3072, bias=False)\n",
              "              (wo): Linear(in_features=3072, out_features=768, bias=False)\n",
              "              (dropout): Dropout(p=0.1, inplace=False)\n",
              "              (act): ReLU()\n",
              "            )\n",
              "            (layer_norm): T5LayerNorm()\n",
              "            (dropout): Dropout(p=0.1, inplace=False)\n",
              "          )\n",
              "        )\n",
              "      )\n",
              "    )\n",
              "    (final_layer_norm): T5LayerNorm()\n",
              "    (dropout): Dropout(p=0.1, inplace=False)\n",
              "  )\n",
              "  (lm_head): Linear(in_features=768, out_features=32128, bias=False)\n",
              ")"
            ]
          },
          "execution_count": 20,
          "metadata": {},
          "output_type": "execute_result"
        }
      ],
      "source": [
        "tokenizer = T5Tokenizer.from_pretrained('castorini/doc2query-t5-base-msmarco')\n",
        "model = T5ForConditionalGeneration.from_pretrained('castorini/doc2query-t5-base-msmarco')\n",
        "model.to(device)"
      ]
    },
    {
      "cell_type": "markdown",
      "metadata": {
        "id": "qumTb7nMPqK5"
      },
      "source": [
        "### Document expansion"
      ]
    },
    {
      "cell_type": "code",
      "execution_count": null,
      "metadata": {
        "id": "PR94DpWsRa-G"
      },
      "outputs": [],
      "source": [
        "batch_size = 32\n",
        "NUM_SAMPLE_QUERIES = 3\n",
        "doc2queries = defaultdict(list)\n",
        "    \n",
        "last_saved_batch = -1\n",
        "extended_docs = []\n",
        "gen_greedy = True\n",
        "gen_beam = True"
      ]
    },
    {
      "cell_type": "code",
      "execution_count": null,
      "metadata": {
        "id": "szoGwgyQP9ff"
      },
      "outputs": [],
      "source": [
        "def predict(texts, do_sample = False, num_beams = 1, num_return_sequences = 1):\n",
        "  input_ids = tokenizer(texts, \n",
        "                        return_tensors = \"pt\", \n",
        "                        padding = \"max_length\", \n",
        "                        truncation = True).input_ids.to(device)\n",
        "  sequence_ids = model.generate(input_ids, \n",
        "                                do_sample = do_sample,\n",
        "                                num_beams = num_beams, \n",
        "                                max_new_tokens=128, \n",
        "                                num_return_sequences = num_return_sequences)\n",
        "  sequences = tokenizer.batch_decode(sequence_ids, skip_special_tokens=True)\n",
        "  return sequences"
      ]
    },
    {
      "cell_type": "code",
      "execution_count": null,
      "metadata": {
        "id": "fq34hpRxUaPY"
      },
      "outputs": [],
      "source": [
        "def add_queries(ids, queries, num_return_sequences=1):\n",
        "  for i, q in enumerate(queries):\n",
        "    doc2queries[ids[i]].append(q)"
      ]
    },
    {
      "cell_type": "code",
      "execution_count": null,
      "metadata": {
        "colab": {
          "base_uri": "https://localhost:8080/"
        },
        "id": "QceH6DNSRZ7u",
        "outputId": "db4093bf-c5c1-46f4-fbd8-405e09852946"
      },
      "outputs": [
        {
          "output_type": "stream",
          "name": "stderr",
          "text": [
            "100%|██████████| 5355/5355 [14:12:39<00:00,  9.55s/it]\n"
          ]
        }
      ],
      "source": [
        "# Kudos Monique!\n",
        "for i in tqdm(range(0, len(passage_texts), batch_size)):\n",
        "  #texts = [doc[\"text\"] for doc in unprocessed_corpus[i:i+batch_size]]\n",
        "  #Last test: expand titles too\n",
        "  texts = passage_texts[i:i+batch_size]\n",
        "  ids = passage_ids[i:i+batch_size]\n",
        "\n",
        "  #Generates a batch of 1 greedy query per document\n",
        "  if gen_greedy == True:\n",
        "    greedy_queries = predict(texts)\n",
        "    add_queries(ids, greedy_queries)\n",
        "  \n",
        "  if gen_beam == True:\n",
        "    #Generates a batch of 1 query per document by using beam search\n",
        "    beam_search_queries = predict(texts, num_beams=2)\n",
        "    add_queries(ids, beam_search_queries)\n",
        "  \n",
        "  #Generates 3 queries per document by using random sampling\n",
        "  sampled_queries = predict(texts, do_sample=True, \n",
        "                            num_return_sequences=NUM_SAMPLE_QUERIES)\n",
        "  ids_list = []\n",
        "  for id in ids:\n",
        "    ids_list += [id]*NUM_SAMPLE_QUERIES\n",
        "\n",
        "  add_queries(ids_list, sampled_queries, num_return_sequences=NUM_SAMPLE_QUERIES)    "
      ]
    },
    {
      "cell_type": "code",
      "execution_count": null,
      "metadata": {
        "colab": {
          "base_uri": "https://localhost:8080/"
        },
        "id": "069fx7SKaWrq",
        "outputId": "58162348-09cd-4f47-b632-9e6694bdd4a3"
      },
      "outputs": [
        {
          "data": {
            "text/plain": [
              "defaultdict(list,\n",
              "            {'ug7v899j': ['what is the most common comorbidity of mycoplasma pneumoniae',\n",
              "              'what is the most common comorbidity of mycoplasma pneumoniae',\n",
              "              'what is the most common comorbidity of mycoplasma pneumoniae',\n",
              "              'what is the most common comorbidity of mycoplasma pneumoniae'],\n",
              "             '02tnwd4m': ['what is nitric oxide',\n",
              "              'is nitric oxide an inflammatory mediator',\n",
              "              'what is nitric oxide',\n",
              "              'is nitric oxide an inflammatory mediator'],\n",
              "             'ejv2xln0': ['what is surfactant protein d',\n",
              "              'what is surfactant protein d',\n",
              "              'what is surfactant protein d',\n",
              "              'what is surfactant protein d'],\n",
              "             '2b73a28n': ['what is endothelin',\n",
              "              'what is endothelin',\n",
              "              'what is endothelin',\n",
              "              'what is endothelin'],\n",
              "             '9785vg6d': ['what is the response of respiratory epithelial cells to pneumovirus',\n",
              "              'what is the response of respiratory epithelial cells to pneumovirus',\n",
              "              'what is the response of respiratory epithelial cells to pneumovirus',\n",
              "              'what is the response of respiratory epithelial cells to pneumovirus'],\n",
              "             'zjufx4fo': ['what is the role of the trs in rna synthesis',\n",
              "              'what is the role of the trs in rna synthesis',\n",
              "              'what is the role of the trs in rna synthesis',\n",
              "              'what is the role of the trs in rna synthesis'],\n",
              "             '5yhe786e': ['what is the normal hemoglobin level',\n",
              "              'what is the normal hemoglobin level for a critically ill patient',\n",
              "              'what is the normal hemoglobin level',\n",
              "              'what is the normal hemoglobin level for a critically ill patient'],\n",
              "             '8zchiykl': ['when was the international symposium on intensive care medicine held',\n",
              "              'when was the international symposium on intensive care and emergency medicine held',\n",
              "              'when was the international symposium on intensive care medicine held',\n",
              "              'when was the international symposium on intensive care and emergency medicine held'],\n",
              "             '8qnrcgnk': ['what is heme oxygenase',\n",
              "              'what is heme oxygenase',\n",
              "              'what is heme oxygenase',\n",
              "              'what is heme oxygenase'],\n",
              "             'jg13scgo': ['what is rods',\n",
              "              'what is rods',\n",
              "              'what is rods',\n",
              "              'what is rods'],\n",
              "             '5tkvsudh': ['what is the frameshift event in a yeast antizyme gene',\n",
              "              'what is frameshifting in nematodes',\n",
              "              'what is the frameshift event in a yeast antizyme gene',\n",
              "              'what is frameshifting in nematodes'],\n",
              "             '6lvn10f4': ['what is the role of hnrnp in mhv',\n",
              "              'what is hnrnp a1',\n",
              "              'what is the role of hnrnp in mhv',\n",
              "              'what is hnrnp a1'],\n",
              "             'tvxpckxo': ['what is the ubiquitin domain',\n",
              "              'what is the ubiquitin domain of p62',\n",
              "              'what is the ubiquitin domain',\n",
              "              'what is the ubiquitin domain of p62'],\n",
              "             'mcuixluu': ['what is the role of microtubules in vaccinia',\n",
              "              'what is the role of microtubules in vaccinia',\n",
              "              'what is the role of microtubules in vaccinia',\n",
              "              'what is the role of microtubules in vaccinia'],\n",
              "             '6iu1dtyl': ['when did the influenza pandemic start',\n",
              "              'when was the influenza pandemic',\n",
              "              'when did the influenza pandemic start',\n",
              "              'when was the influenza pandemic'],\n",
              "             't35n7bk9': ['what is the purpose of a microarray',\n",
              "              'what is the purpose of a microarray',\n",
              "              'what is the purpose of a microarray',\n",
              "              'what is the purpose of a microarray'],\n",
              "             'eiqypt0m': ['what is normal pulmonary permeability',\n",
              "              'what is normal pulmonary permeability',\n",
              "              'what is normal pulmonary permeability',\n",
              "              'what is normal pulmonary permeability'],\n",
              "             'sgmk96vr': ['how is smallpox controlled',\n",
              "              'what is the logistics of ring vaccination',\n",
              "              'how is smallpox controlled',\n",
              "              'what is the logistics of ring vaccination'],\n",
              "             'di0fcy0j': ['what is the role of hmyh in cellular protection',\n",
              "              'what is hmyh adenine glycosylase',\n",
              "              'what is the role of hmyh in cellular protection',\n",
              "              'what is hmyh adenine glycosylase'],\n",
              "             '4k8f7ou1': ['what is the function of alkb',\n",
              "              'what is the function of the alkb domain',\n",
              "              'what is the function of alkb',\n",
              "              'what is the function of the alkb domain'],\n",
              "             'wnnsmx60': ['what is emergency powers legislation',\n",
              "              'what is emergency powers legislation',\n",
              "              'what is emergency powers legislation',\n",
              "              'what is emergency powers legislation'],\n",
              "             'gdsfkw1b': ['what is the role of protein secretion in lactococcus lactis',\n",
              "              'what is the role of protein secretion in lactococcus lactis',\n",
              "              'what is the role of protein secretion in lactococcus lactis',\n",
              "              'what is the role of protein secretion in lactococcus lactis'],\n",
              "             'yba7mdtb': ['what is the genomic signature for dna transfer',\n",
              "              'what is horizontal dna transfer',\n",
              "              'what is the genomic signature for dna transfer',\n",
              "              'what is horizontal dna transfer'],\n",
              "             'bbvxu8op': ['what is the hybridization specificity of insertion probes',\n",
              "              'what is the hybridization specificity of insertion probes',\n",
              "              'what is the hybridization specificity of insertion probes',\n",
              "              'what is the hybridization specificity of insertion probes'],\n",
              "             'e62cfqt7': ['what is the gene for sialic acid',\n",
              "              'where is h-lse found',\n",
              "              'what is the gene for sialic acid',\n",
              "              'where is h-lse found'],\n",
              "             '4cvy9u28': ['what is the role of mast cells in pancreatitis',\n",
              "              'what is the role of mast cells in pancreatitis',\n",
              "              'what is the role of mast cells in pancreatitis',\n",
              "              'what is the role of mast cells in pancreatitis'],\n",
              "             'zowp10ts': ['how often does a virus recombinate',\n",
              "              'what is the recombination rate of a virus',\n",
              "              'how often does a virus recombinate',\n",
              "              'what is the recombination rate of a virus'],\n",
              "             '5dk231qs': ['what is the function of pseudoknots',\n",
              "              'what is the role of pseudoknots in frameshifting',\n",
              "              'what is the function of pseudoknots',\n",
              "              'what is the role of pseudoknots in frameshifting'],\n",
              "             'snqdma0s': ['what is consensus shuffling',\n",
              "              'what is consensus shuffling',\n",
              "              'what is consensus shuffling',\n",
              "              'what is consensus shuffling'],\n",
              "             '1pq6dkl5': ['what is the purpose of rna quality metrics',\n",
              "              'what is rna quality',\n",
              "              'what is the purpose of rna quality metrics',\n",
              "              'what is rna quality'],\n",
              "             '754nln40': ['what is the role of cfmv protein in translation',\n",
              "              'what is the role of cfmv protein in translation',\n",
              "              'what is the role of cfmv protein in translation',\n",
              "              'what is the role of cfmv protein in translation'],\n",
              "             'p34ezktf': ['what was the australian public health policy',\n",
              "              'what was the australian public health policy',\n",
              "              'what was the australian public health policy',\n",
              "              'what was the australian public health policy']})"
            ]
          },
          "execution_count": 28,
          "metadata": {},
          "output_type": "execute_result"
        }
      ],
      "source": [
        "doc2queries"
      ]
    },
    {
      "cell_type": "code",
      "source": [
        "import pickle\n",
        "\n",
        "with open(f'{workdir}/doc2queries.pickle', 'wb') as f:\n",
        "  pickle.dump(doc2queries, f)"
      ],
      "metadata": {
        "id": "75uefNrE2FwU"
      },
      "execution_count": null,
      "outputs": []
    },
    {
      "cell_type": "code",
      "source": [
        "corpus = []\n",
        "\n",
        "with open(f\"{workdir}/trec-covid/corpus.jsonl\", 'r', encoding='utf-8') as f:\n",
        "    # Read the file line by line\n",
        "    lines = f.readlines()\n",
        "    \n",
        "    # Parse each line as a JSON object and store it in a list\n",
        "    for line in lines:\n",
        "        corpus.append(json.loads(line))\n",
        "\n",
        "doc_id_to_text_and_title = {doc[\"_id\"]: (doc[\"text\"], doc[\"title\"]) for doc in corpus}"
      ],
      "metadata": {
        "id": "hiFkYmLy0rMS"
      },
      "execution_count": null,
      "outputs": []
    },
    {
      "cell_type": "code",
      "execution_count": null,
      "metadata": {
        "id": "OO1f8Yz7aRNa"
      },
      "outputs": [],
      "source": [
        "extended_docs = []\n",
        "\n",
        "for doc_id, queries in doc2queries.items():\n",
        "  text, title = doc_id_to_text_and_title[doc_id]\n",
        "  text += '\\n' + '\\n'.join(queries)\n",
        "  extended_docs.append({\"id\":doc_id, \"contents\": title + '\\n' + text})\n",
        "     "
      ]
    },
    {
      "cell_type": "code",
      "source": [
        "json_batch_size = len(corpus)//10"
      ],
      "metadata": {
        "id": "lxcX2-xl1kB_"
      },
      "execution_count": null,
      "outputs": []
    },
    {
      "cell_type": "code",
      "source": [
        "j=0\n",
        "\n",
        "for i in tqdm(range(0, len(extended_docs), json_batch_size)):\n",
        "  filename = f\"{workdir}/trec-covid/collections/json_{j}.json\"\n",
        "  print(filename)\n",
        "  with jsonlines.open(filename, mode='w') as writer:\n",
        "    #for item in all_docs[i:i+json_batch_size]:\n",
        "    for item in extended_docs[i:i+json_batch_size]:\n",
        "      writer.write(item)\n",
        "  j+=1"
      ],
      "metadata": {
        "colab": {
          "base_uri": "https://localhost:8080/"
        },
        "id": "0Tjrvi271H9I",
        "outputId": "44ea64b8-6fdc-4d61-a21d-3b7b12b59850"
      },
      "execution_count": null,
      "outputs": [
        {
          "output_type": "stream",
          "name": "stderr",
          "text": [
            "\r  0%|          | 0/11 [00:00<?, ?it/s]"
          ]
        },
        {
          "output_type": "stream",
          "name": "stdout",
          "text": [
            "/content/drive/MyDrive/Unicamp/DL_applied_to_IR/Notebooks/trec-covid/collections/json_0.json\n"
          ]
        },
        {
          "output_type": "stream",
          "name": "stderr",
          "text": [
            "\r  9%|▉         | 1/11 [00:00<00:03,  3.12it/s]"
          ]
        },
        {
          "output_type": "stream",
          "name": "stdout",
          "text": [
            "/content/drive/MyDrive/Unicamp/DL_applied_to_IR/Notebooks/trec-covid/collections/json_1.json\n"
          ]
        },
        {
          "output_type": "stream",
          "name": "stderr",
          "text": [
            "\r 18%|█▊        | 2/11 [00:00<00:02,  3.32it/s]"
          ]
        },
        {
          "output_type": "stream",
          "name": "stdout",
          "text": [
            "/content/drive/MyDrive/Unicamp/DL_applied_to_IR/Notebooks/trec-covid/collections/json_2.json\n"
          ]
        },
        {
          "output_type": "stream",
          "name": "stderr",
          "text": [
            "\r 27%|██▋       | 3/11 [00:00<00:02,  3.09it/s]"
          ]
        },
        {
          "output_type": "stream",
          "name": "stdout",
          "text": [
            "/content/drive/MyDrive/Unicamp/DL_applied_to_IR/Notebooks/trec-covid/collections/json_3.json\n"
          ]
        },
        {
          "output_type": "stream",
          "name": "stderr",
          "text": [
            "\r 36%|███▋      | 4/11 [00:01<00:02,  3.02it/s]"
          ]
        },
        {
          "output_type": "stream",
          "name": "stdout",
          "text": [
            "/content/drive/MyDrive/Unicamp/DL_applied_to_IR/Notebooks/trec-covid/collections/json_4.json\n"
          ]
        },
        {
          "output_type": "stream",
          "name": "stderr",
          "text": [
            "\r 45%|████▌     | 5/11 [00:01<00:01,  3.00it/s]"
          ]
        },
        {
          "output_type": "stream",
          "name": "stdout",
          "text": [
            "/content/drive/MyDrive/Unicamp/DL_applied_to_IR/Notebooks/trec-covid/collections/json_5.json\n"
          ]
        },
        {
          "output_type": "stream",
          "name": "stderr",
          "text": [
            "\r 55%|█████▍    | 6/11 [00:01<00:01,  3.24it/s]"
          ]
        },
        {
          "output_type": "stream",
          "name": "stdout",
          "text": [
            "/content/drive/MyDrive/Unicamp/DL_applied_to_IR/Notebooks/trec-covid/collections/json_6.json\n"
          ]
        },
        {
          "output_type": "stream",
          "name": "stderr",
          "text": [
            "\r 64%|██████▎   | 7/11 [00:02<00:01,  3.49it/s]"
          ]
        },
        {
          "output_type": "stream",
          "name": "stdout",
          "text": [
            "/content/drive/MyDrive/Unicamp/DL_applied_to_IR/Notebooks/trec-covid/collections/json_7.json\n"
          ]
        },
        {
          "output_type": "stream",
          "name": "stderr",
          "text": [
            "\r 73%|███████▎  | 8/11 [00:02<00:00,  3.34it/s]"
          ]
        },
        {
          "output_type": "stream",
          "name": "stdout",
          "text": [
            "/content/drive/MyDrive/Unicamp/DL_applied_to_IR/Notebooks/trec-covid/collections/json_8.json\n"
          ]
        },
        {
          "output_type": "stream",
          "name": "stderr",
          "text": [
            "\r 82%|████████▏ | 9/11 [00:02<00:00,  3.23it/s]"
          ]
        },
        {
          "output_type": "stream",
          "name": "stdout",
          "text": [
            "/content/drive/MyDrive/Unicamp/DL_applied_to_IR/Notebooks/trec-covid/collections/json_9.json\n"
          ]
        },
        {
          "output_type": "stream",
          "name": "stderr",
          "text": [
            "100%|██████████| 11/11 [00:03<00:00,  3.47it/s]"
          ]
        },
        {
          "output_type": "stream",
          "name": "stdout",
          "text": [
            "/content/drive/MyDrive/Unicamp/DL_applied_to_IR/Notebooks/trec-covid/collections/json_10.json\n"
          ]
        },
        {
          "output_type": "stream",
          "name": "stderr",
          "text": [
            "\n"
          ]
        }
      ]
    },
    {
      "cell_type": "code",
      "source": [
        "import locale\n",
        "locale.getpreferredencoding = lambda: \"UTF-8\""
      ],
      "metadata": {
        "id": "kSQheGuB3OU8"
      },
      "execution_count": null,
      "outputs": []
    },
    {
      "cell_type": "code",
      "source": [
        "!python -m pyserini.index.lucene \\\n",
        "  --collection JsonCollection \\\n",
        "  --input {workdir}/trec-covid/collections \\\n",
        "  --index {workdir}/indexes/doc2query_expasion \\\n",
        "  --generator DefaultLuceneDocumentGenerator \\\n",
        "  --threads 9 \\\n",
        "  --storePositions --storeDocvectors --storeRaw"
      ],
      "metadata": {
        "colab": {
          "base_uri": "https://localhost:8080/"
        },
        "id": "aCjv2XK71zaA",
        "outputId": "259b82f1-11b6-4d5d-b737-7c07302d2b72"
      },
      "execution_count": null,
      "outputs": [
        {
          "output_type": "stream",
          "name": "stdout",
          "text": [
            "WARNING: sun.reflect.Reflection.getCallerClass is not supported. This will impact performance.\n",
            "2023-05-10 14:13:27,658 INFO  [main] index.IndexCollection (IndexCollection.java:380) - Setting log level to INFO\n",
            "2023-05-10 14:13:27,660 INFO  [main] index.IndexCollection (IndexCollection.java:383) - Starting indexer...\n",
            "2023-05-10 14:13:27,660 INFO  [main] index.IndexCollection (IndexCollection.java:384) - ============ Loading Parameters ============\n",
            "2023-05-10 14:13:27,661 INFO  [main] index.IndexCollection (IndexCollection.java:385) - DocumentCollection path: /content/drive/MyDrive/Unicamp/DL_applied_to_IR/Notebooks/trec-covid/collections\n",
            "2023-05-10 14:13:27,661 INFO  [main] index.IndexCollection (IndexCollection.java:386) - CollectionClass: JsonCollection\n",
            "2023-05-10 14:13:27,661 INFO  [main] index.IndexCollection (IndexCollection.java:387) - Generator: DefaultLuceneDocumentGenerator\n",
            "2023-05-10 14:13:27,662 INFO  [main] index.IndexCollection (IndexCollection.java:388) - Threads: 9\n",
            "2023-05-10 14:13:27,662 INFO  [main] index.IndexCollection (IndexCollection.java:389) - Language: en\n",
            "2023-05-10 14:13:27,662 INFO  [main] index.IndexCollection (IndexCollection.java:390) - Stemmer: porter\n",
            "2023-05-10 14:13:27,663 INFO  [main] index.IndexCollection (IndexCollection.java:391) - Keep stopwords? false\n",
            "2023-05-10 14:13:27,663 INFO  [main] index.IndexCollection (IndexCollection.java:392) - Stopwords: null\n",
            "2023-05-10 14:13:27,663 INFO  [main] index.IndexCollection (IndexCollection.java:393) - Store positions? true\n",
            "2023-05-10 14:13:27,664 INFO  [main] index.IndexCollection (IndexCollection.java:394) - Store docvectors? true\n",
            "2023-05-10 14:13:27,664 INFO  [main] index.IndexCollection (IndexCollection.java:395) - Store document \"contents\" field? false\n",
            "2023-05-10 14:13:27,665 INFO  [main] index.IndexCollection (IndexCollection.java:396) - Store document \"raw\" field? true\n",
            "2023-05-10 14:13:27,665 INFO  [main] index.IndexCollection (IndexCollection.java:397) - Additional fields to index: []\n",
            "2023-05-10 14:13:27,665 INFO  [main] index.IndexCollection (IndexCollection.java:398) - Optimize (merge segments)? false\n",
            "2023-05-10 14:13:27,666 INFO  [main] index.IndexCollection (IndexCollection.java:399) - Whitelist: null\n",
            "2023-05-10 14:13:27,666 INFO  [main] index.IndexCollection (IndexCollection.java:400) - Pretokenized?: false\n",
            "2023-05-10 14:13:27,666 INFO  [main] index.IndexCollection (IndexCollection.java:401) - Index path: /content/drive/MyDrive/Unicamp/DL_applied_to_IR/Notebooks/indexes/doc2query_expasion\n",
            "2023-05-10 14:13:27,669 INFO  [main] index.IndexCollection (IndexCollection.java:481) - ============ Indexing Collection ============\n",
            "2023-05-10 14:13:27,681 INFO  [main] index.IndexCollection (IndexCollection.java:468) - Using DefaultEnglishAnalyzer\n",
            "2023-05-10 14:13:27,681 INFO  [main] index.IndexCollection (IndexCollection.java:469) - Stemmer: porter\n",
            "2023-05-10 14:13:27,681 INFO  [main] index.IndexCollection (IndexCollection.java:470) - Keep stopwords? false\n",
            "2023-05-10 14:13:27,682 INFO  [main] index.IndexCollection (IndexCollection.java:471) - Stopwords file: null\n",
            "2023-05-10 14:13:27,804 INFO  [main] index.IndexCollection (IndexCollection.java:510) - Thread pool with 9 threads initialized.\n",
            "2023-05-10 14:13:27,804 INFO  [main] index.IndexCollection (IndexCollection.java:512) - Initializing collection in /content/drive/MyDrive/Unicamp/DL_applied_to_IR/Notebooks/trec-covid/collections\n",
            "2023-05-10 14:13:27,809 INFO  [main] index.IndexCollection (IndexCollection.java:521) - 11 files found\n",
            "2023-05-10 14:13:27,809 INFO  [main] index.IndexCollection (IndexCollection.java:522) - Starting to index...\n",
            "2023-05-10 14:13:35,727 DEBUG [pool-2-thread-7] index.IndexCollection$LocalIndexerThread (IndexCollection.java:345) - collections/json_6.json: 17133 docs added.\n",
            "2023-05-10 14:13:36,148 DEBUG [pool-2-thread-6] index.IndexCollection$LocalIndexerThread (IndexCollection.java:345) - collections/json_5.json: 17133 docs added.\n",
            "2023-05-10 14:13:36,156 DEBUG [pool-2-thread-6] index.IndexCollection$LocalIndexerThread (IndexCollection.java:345) - collections/json_10.json: 2 docs added.\n",
            "2023-05-10 14:13:36,510 DEBUG [pool-2-thread-2] index.IndexCollection$LocalIndexerThread (IndexCollection.java:345) - collections/json_1.json: 17133 docs added.\n",
            "2023-05-10 14:13:37,425 DEBUG [pool-2-thread-1] index.IndexCollection$LocalIndexerThread (IndexCollection.java:345) - collections/json_0.json: 17133 docs added.\n",
            "2023-05-10 14:13:37,847 DEBUG [pool-2-thread-5] index.IndexCollection$LocalIndexerThread (IndexCollection.java:345) - collections/json_4.json: 17133 docs added.\n",
            "2023-05-10 14:13:37,970 DEBUG [pool-2-thread-8] index.IndexCollection$LocalIndexerThread (IndexCollection.java:345) - collections/json_7.json: 17133 docs added.\n",
            "2023-05-10 14:13:38,023 DEBUG [pool-2-thread-9] index.IndexCollection$LocalIndexerThread (IndexCollection.java:345) - collections/json_8.json: 17133 docs added.\n",
            "2023-05-10 14:13:38,049 DEBUG [pool-2-thread-3] index.IndexCollection$LocalIndexerThread (IndexCollection.java:345) - collections/json_2.json: 17133 docs added.\n",
            "2023-05-10 14:13:38,282 DEBUG [pool-2-thread-4] index.IndexCollection$LocalIndexerThread (IndexCollection.java:345) - collections/json_3.json: 17133 docs added.\n",
            "2023-05-10 14:13:40,701 DEBUG [pool-2-thread-7] index.IndexCollection$LocalIndexerThread (IndexCollection.java:345) - collections/json_9.json: 17133 docs added.\n",
            "2023-05-10 14:13:46,150 INFO  [main] index.IndexCollection (IndexCollection.java:578) - Indexing Complete! 171,332 documents indexed\n",
            "2023-05-10 14:13:46,150 INFO  [main] index.IndexCollection (IndexCollection.java:579) - ============ Final Counter Values ============\n",
            "2023-05-10 14:13:46,150 INFO  [main] index.IndexCollection (IndexCollection.java:580) - indexed:          171,332\n",
            "2023-05-10 14:13:46,150 INFO  [main] index.IndexCollection (IndexCollection.java:581) - unindexable:            0\n",
            "2023-05-10 14:13:46,150 INFO  [main] index.IndexCollection (IndexCollection.java:582) - empty:                  0\n",
            "2023-05-10 14:13:46,150 INFO  [main] index.IndexCollection (IndexCollection.java:583) - skipped:                0\n",
            "2023-05-10 14:13:46,150 INFO  [main] index.IndexCollection (IndexCollection.java:584) - errors:                 0\n",
            "2023-05-10 14:13:46,154 INFO  [main] index.IndexCollection (IndexCollection.java:587) - Total 171,332 documents indexed in 00:00:18\n"
          ]
        }
      ]
    },
    {
      "cell_type": "code",
      "source": [
        "with open(f'{workdir}/trec-covid/queries.tsv','w') as f_out:\n",
        "  with open(f'{workdir}/trec-covid/queries.jsonl', 'r') as f:\n",
        "    for line in f:\n",
        "      data = json.loads(line)\n",
        "      id = data['_id']\n",
        "      text = data['text']\n",
        "      f_out.write(f'{id}\\t{text}\\n')"
      ],
      "metadata": {
        "id": "A1r1zuMa4RN2"
      },
      "execution_count": null,
      "outputs": []
    },
    {
      "cell_type": "code",
      "source": [
        "!python -m pyserini.search.lucene \\\n",
        "  --index {workdir}/indexes/doc2query_expasion \\\n",
        "  --topics {workdir}/trec-covid/queries.tsv \\\n",
        "  --output {workdir}/runs/run.trec-covid.bm25tuned-doc2query_expansion.txt \\\n",
        "  --hits 1000 \\\n",
        "  --bm25"
      ],
      "metadata": {
        "colab": {
          "base_uri": "https://localhost:8080/"
        },
        "id": "UlXemdtR3GGz",
        "outputId": "6378a172-2fc1-428d-c110-a0f92e1c9059"
      },
      "execution_count": null,
      "outputs": [
        {
          "output_type": "stream",
          "name": "stdout",
          "text": [
            "Running /content/drive/MyDrive/Unicamp/DL_applied_to_IR/Notebooks/trec-covid/queries.tsv topics, saving to /content/drive/MyDrive/Unicamp/DL_applied_to_IR/Notebooks/runs/run.trec-covid.bm25tuned-doc2query_expansion.txt...\n",
            "100% 50/50 [00:04<00:00, 11.09it/s]\n"
          ]
        }
      ]
    },
    {
      "cell_type": "code",
      "source": [
        "run = pd.read_csv(f\"{workdir}/runs/run.trec-covid.bm25tuned-doc2query_expansion.txt\", \n",
        "                  sep=\"\\s+\", \n",
        "                  names=[\"query\", \"q0\", \"docid\", \"rank\", \"score\", \"system\"])\n",
        "run = run.to_dict(orient=\"list\")"
      ],
      "metadata": {
        "id": "oeaDDdN63yQL"
      },
      "execution_count": null,
      "outputs": []
    },
    {
      "cell_type": "code",
      "source": [
        "doc2queryndcg = eval_ndcg10(run)\n",
        "doc2queryndcg"
      ],
      "metadata": {
        "colab": {
          "base_uri": "https://localhost:8080/"
        },
        "id": "ctxZkJjZ4uin",
        "outputId": "7febc65c-b81a-4f32-870f-ad765fdc8893"
      },
      "execution_count": null,
      "outputs": [
        {
          "output_type": "execute_result",
          "data": {
            "text/plain": [
              "0.6687910737353352"
            ]
          },
          "metadata": {},
          "execution_count": 72
        }
      ]
    },
    {
      "cell_type": "code",
      "source": [
        "searcher = LuceneSearcher(f'{workdir}/indexes/doc2query_expasion')"
      ],
      "metadata": {
        "id": "qClWXhBL5z0u"
      },
      "execution_count": null,
      "outputs": []
    },
    {
      "cell_type": "code",
      "source": [
        "%%time\n",
        "hits = searcher.search('covid serious illess')"
      ],
      "metadata": {
        "colab": {
          "base_uri": "https://localhost:8080/"
        },
        "id": "qLOUpP1c_gA5",
        "outputId": "edc804b7-5e70-4d60-9160-0df3e21424d9"
      },
      "execution_count": null,
      "outputs": [
        {
          "output_type": "stream",
          "name": "stdout",
          "text": [
            "CPU times: user 20.9 ms, sys: 3 ms, total: 23.9 ms\n",
            "Wall time: 8.14 ms\n"
          ]
        }
      ]
    },
    {
      "cell_type": "code",
      "source": [
        "# Print the first 10 hits:\n",
        "for i in range(0, 10):\n",
        "    print(f'{i+1:2} {hits[i].docid:15} {hits[i].score:.5f}')"
      ],
      "metadata": {
        "colab": {
          "base_uri": "https://localhost:8080/"
        },
        "id": "kJU-vBdZAyZM",
        "outputId": "cda67018-3fb8-4cc6-c675-b9e03a537491"
      },
      "execution_count": null,
      "outputs": [
        {
          "output_type": "stream",
          "name": "stdout",
          "text": [
            " 1 f44vzv4x        4.40890\n",
            " 2 5rxmw7ws        4.36340\n",
            " 3 k20ym4u1        4.33040\n",
            " 4 q1akwoo1        4.20880\n",
            " 5 30axk468        4.19300\n",
            " 6 4bne9qup        4.18580\n",
            " 7 knv4ljyr        4.17070\n",
            " 8 vc3us86f        4.16200\n",
            " 9 1ui0p8eu        4.15830\n",
            "10 7ckw2969        4.14840\n"
          ]
        }
      ]
    },
    {
      "cell_type": "code",
      "source": [],
      "metadata": {
        "id": "JEF2C3QtBfXx"
      },
      "execution_count": null,
      "outputs": []
    }
  ],
  "metadata": {
    "accelerator": "GPU",
    "colab": {
      "machine_shape": "hm",
      "provenance": [],
      "toc_visible": true,
      "authorship_tag": "ABX9TyN+QewnJ1rMTTDOYeeO9qOJ",
      "include_colab_link": true
    },
    "gpuClass": "standard",
    "kernelspec": {
      "display_name": "Python 3",
      "name": "python3"
    },
    "language_info": {
      "name": "python"
    },
    "widgets": {
      "application/vnd.jupyter.widget-state+json": {
        "00570e88729b42d489bbd8c2bc9f5617": {
          "model_module": "@jupyter-widgets/controls",
          "model_module_version": "1.5.0",
          "model_name": "ProgressStyleModel",
          "state": {
            "_model_module": "@jupyter-widgets/controls",
            "_model_module_version": "1.5.0",
            "_model_name": "ProgressStyleModel",
            "_view_count": null,
            "_view_module": "@jupyter-widgets/base",
            "_view_module_version": "1.2.0",
            "_view_name": "StyleView",
            "bar_color": null,
            "description_width": ""
          }
        },
        "02e24559aa15485f9427d37e0bc7dd9e": {
          "model_module": "@jupyter-widgets/controls",
          "model_module_version": "1.5.0",
          "model_name": "DescriptionStyleModel",
          "state": {
            "_model_module": "@jupyter-widgets/controls",
            "_model_module_version": "1.5.0",
            "_model_name": "DescriptionStyleModel",
            "_view_count": null,
            "_view_module": "@jupyter-widgets/base",
            "_view_module_version": "1.2.0",
            "_view_name": "StyleView",
            "description_width": ""
          }
        },
        "04a981e641e54309a829dbedc302cf94": {
          "model_module": "@jupyter-widgets/controls",
          "model_module_version": "1.5.0",
          "model_name": "HTMLModel",
          "state": {
            "_dom_classes": [],
            "_model_module": "@jupyter-widgets/controls",
            "_model_module_version": "1.5.0",
            "_model_name": "HTMLModel",
            "_view_count": null,
            "_view_module": "@jupyter-widgets/controls",
            "_view_module_version": "1.5.0",
            "_view_name": "HTMLView",
            "description": "",
            "description_tooltip": null,
            "layout": "IPY_MODEL_c8756d15bbb547a99e8c9a547204ac5c",
            "placeholder": "​",
            "style": "IPY_MODEL_df2f14229d444ace927a0b761d0c9573",
            "value": "Downloading pytorch_model.bin: 100%"
          }
        },
        "0dbb6dc73a494970b61aa036dd5dc634": {
          "model_module": "@jupyter-widgets/controls",
          "model_module_version": "1.5.0",
          "model_name": "ProgressStyleModel",
          "state": {
            "_model_module": "@jupyter-widgets/controls",
            "_model_module_version": "1.5.0",
            "_model_name": "ProgressStyleModel",
            "_view_count": null,
            "_view_module": "@jupyter-widgets/base",
            "_view_module_version": "1.2.0",
            "_view_name": "StyleView",
            "bar_color": null,
            "description_width": ""
          }
        },
        "0e839b34aef2460697291c3481551957": {
          "model_module": "@jupyter-widgets/controls",
          "model_module_version": "1.5.0",
          "model_name": "DescriptionStyleModel",
          "state": {
            "_model_module": "@jupyter-widgets/controls",
            "_model_module_version": "1.5.0",
            "_model_name": "DescriptionStyleModel",
            "_view_count": null,
            "_view_module": "@jupyter-widgets/base",
            "_view_module_version": "1.2.0",
            "_view_name": "StyleView",
            "description_width": ""
          }
        },
        "0f408644bd804347b47cd42c993e29eb": {
          "model_module": "@jupyter-widgets/controls",
          "model_module_version": "1.5.0",
          "model_name": "ProgressStyleModel",
          "state": {
            "_model_module": "@jupyter-widgets/controls",
            "_model_module_version": "1.5.0",
            "_model_name": "ProgressStyleModel",
            "_view_count": null,
            "_view_module": "@jupyter-widgets/base",
            "_view_module_version": "1.2.0",
            "_view_name": "StyleView",
            "bar_color": null,
            "description_width": ""
          }
        },
        "125bc04f5dfe4947aa8f750b202dc8ac": {
          "model_module": "@jupyter-widgets/controls",
          "model_module_version": "1.5.0",
          "model_name": "FloatProgressModel",
          "state": {
            "_dom_classes": [],
            "_model_module": "@jupyter-widgets/controls",
            "_model_module_version": "1.5.0",
            "_model_name": "FloatProgressModel",
            "_view_count": null,
            "_view_module": "@jupyter-widgets/controls",
            "_view_module_version": "1.5.0",
            "_view_name": "ProgressView",
            "bar_style": "success",
            "description": "",
            "description_tooltip": null,
            "layout": "IPY_MODEL_6ea4596906dc4fafac7086e097708ebf",
            "max": 891734329,
            "min": 0,
            "orientation": "horizontal",
            "style": "IPY_MODEL_0f408644bd804347b47cd42c993e29eb",
            "value": 891734329
          }
        },
        "147f7f3619314ed79f65fd662e45df4a": {
          "model_module": "@jupyter-widgets/controls",
          "model_module_version": "1.5.0",
          "model_name": "HBoxModel",
          "state": {
            "_dom_classes": [],
            "_model_module": "@jupyter-widgets/controls",
            "_model_module_version": "1.5.0",
            "_model_name": "HBoxModel",
            "_view_count": null,
            "_view_module": "@jupyter-widgets/controls",
            "_view_module_version": "1.5.0",
            "_view_name": "HBoxView",
            "box_style": "",
            "children": [
              "IPY_MODEL_04a981e641e54309a829dbedc302cf94",
              "IPY_MODEL_125bc04f5dfe4947aa8f750b202dc8ac",
              "IPY_MODEL_c64bb3c3fcb0405c9f02d9a4eaeb0d46"
            ],
            "layout": "IPY_MODEL_3313b5e8fd3e4eba9d9e9ac9c7a18d62"
          }
        },
        "19d1f3fff23443a4b43c4f6dab226fe8": {
          "model_module": "@jupyter-widgets/base",
          "model_module_version": "1.2.0",
          "model_name": "LayoutModel",
          "state": {
            "_model_module": "@jupyter-widgets/base",
            "_model_module_version": "1.2.0",
            "_model_name": "LayoutModel",
            "_view_count": null,
            "_view_module": "@jupyter-widgets/base",
            "_view_module_version": "1.2.0",
            "_view_name": "LayoutView",
            "align_content": null,
            "align_items": null,
            "align_self": null,
            "border": null,
            "bottom": null,
            "display": null,
            "flex": null,
            "flex_flow": null,
            "grid_area": null,
            "grid_auto_columns": null,
            "grid_auto_flow": null,
            "grid_auto_rows": null,
            "grid_column": null,
            "grid_gap": null,
            "grid_row": null,
            "grid_template_areas": null,
            "grid_template_columns": null,
            "grid_template_rows": null,
            "height": null,
            "justify_content": null,
            "justify_items": null,
            "left": null,
            "margin": null,
            "max_height": null,
            "max_width": null,
            "min_height": null,
            "min_width": null,
            "object_fit": null,
            "object_position": null,
            "order": null,
            "overflow": null,
            "overflow_x": null,
            "overflow_y": null,
            "padding": null,
            "right": null,
            "top": null,
            "visibility": null,
            "width": null
          }
        },
        "1f4b510454ae44598f53863b65df62da": {
          "model_module": "@jupyter-widgets/controls",
          "model_module_version": "1.5.0",
          "model_name": "HBoxModel",
          "state": {
            "_dom_classes": [],
            "_model_module": "@jupyter-widgets/controls",
            "_model_module_version": "1.5.0",
            "_model_name": "HBoxModel",
            "_view_count": null,
            "_view_module": "@jupyter-widgets/controls",
            "_view_module_version": "1.5.0",
            "_view_name": "HBoxView",
            "box_style": "",
            "children": [
              "IPY_MODEL_e99509cf2baf41a1bc087f725a99830d",
              "IPY_MODEL_7eee6aebe8234625969e834edf13e292",
              "IPY_MODEL_e687a33a6a124806926d268638d2f8a4"
            ],
            "layout": "IPY_MODEL_681751ba75a340fc9c45379a06cb8687"
          }
        },
        "20b731cc197a41c0a0a2105d5df36412": {
          "model_module": "@jupyter-widgets/controls",
          "model_module_version": "1.5.0",
          "model_name": "HBoxModel",
          "state": {
            "_dom_classes": [],
            "_model_module": "@jupyter-widgets/controls",
            "_model_module_version": "1.5.0",
            "_model_name": "HBoxModel",
            "_view_count": null,
            "_view_module": "@jupyter-widgets/controls",
            "_view_module_version": "1.5.0",
            "_view_name": "HBoxView",
            "box_style": "",
            "children": [
              "IPY_MODEL_621bafc4761d4beb837e2ee6b650e2fd",
              "IPY_MODEL_6cbb765f240a456591c89f770696b156",
              "IPY_MODEL_3e433dd7676d4e9c9985742a952ae702"
            ],
            "layout": "IPY_MODEL_4a8f307ab22043919a7c1b0240ce3abb"
          }
        },
        "22b967ac1eb84988bc5830b66c54fafc": {
          "model_module": "@jupyter-widgets/base",
          "model_module_version": "1.2.0",
          "model_name": "LayoutModel",
          "state": {
            "_model_module": "@jupyter-widgets/base",
            "_model_module_version": "1.2.0",
            "_model_name": "LayoutModel",
            "_view_count": null,
            "_view_module": "@jupyter-widgets/base",
            "_view_module_version": "1.2.0",
            "_view_name": "LayoutView",
            "align_content": null,
            "align_items": null,
            "align_self": null,
            "border": null,
            "bottom": null,
            "display": null,
            "flex": null,
            "flex_flow": null,
            "grid_area": null,
            "grid_auto_columns": null,
            "grid_auto_flow": null,
            "grid_auto_rows": null,
            "grid_column": null,
            "grid_gap": null,
            "grid_row": null,
            "grid_template_areas": null,
            "grid_template_columns": null,
            "grid_template_rows": null,
            "height": null,
            "justify_content": null,
            "justify_items": null,
            "left": null,
            "margin": null,
            "max_height": null,
            "max_width": null,
            "min_height": null,
            "min_width": null,
            "object_fit": null,
            "object_position": null,
            "order": null,
            "overflow": null,
            "overflow_x": null,
            "overflow_y": null,
            "padding": null,
            "right": null,
            "top": null,
            "visibility": null,
            "width": null
          }
        },
        "22f138b2930742959dd911fde34bd4de": {
          "model_module": "@jupyter-widgets/controls",
          "model_module_version": "1.5.0",
          "model_name": "HBoxModel",
          "state": {
            "_dom_classes": [],
            "_model_module": "@jupyter-widgets/controls",
            "_model_module_version": "1.5.0",
            "_model_name": "HBoxModel",
            "_view_count": null,
            "_view_module": "@jupyter-widgets/controls",
            "_view_module_version": "1.5.0",
            "_view_name": "HBoxView",
            "box_style": "",
            "children": [
              "IPY_MODEL_642dfff630884c2f8589fb728d7faccf",
              "IPY_MODEL_46356408dafa45ba9a4231e64a11c508",
              "IPY_MODEL_7dc1790d26a14651ab75f1175f1de74c"
            ],
            "layout": "IPY_MODEL_da4295ff88dc4f569de47b0fd53a807a"
          }
        },
        "243b4574412c457ba6dffd12d47f4433": {
          "model_module": "@jupyter-widgets/base",
          "model_module_version": "1.2.0",
          "model_name": "LayoutModel",
          "state": {
            "_model_module": "@jupyter-widgets/base",
            "_model_module_version": "1.2.0",
            "_model_name": "LayoutModel",
            "_view_count": null,
            "_view_module": "@jupyter-widgets/base",
            "_view_module_version": "1.2.0",
            "_view_name": "LayoutView",
            "align_content": null,
            "align_items": null,
            "align_self": null,
            "border": null,
            "bottom": null,
            "display": null,
            "flex": null,
            "flex_flow": null,
            "grid_area": null,
            "grid_auto_columns": null,
            "grid_auto_flow": null,
            "grid_auto_rows": null,
            "grid_column": null,
            "grid_gap": null,
            "grid_row": null,
            "grid_template_areas": null,
            "grid_template_columns": null,
            "grid_template_rows": null,
            "height": null,
            "justify_content": null,
            "justify_items": null,
            "left": null,
            "margin": null,
            "max_height": null,
            "max_width": null,
            "min_height": null,
            "min_width": null,
            "object_fit": null,
            "object_position": null,
            "order": null,
            "overflow": null,
            "overflow_x": null,
            "overflow_y": null,
            "padding": null,
            "right": null,
            "top": null,
            "visibility": null,
            "width": null
          }
        },
        "291aa60e9c9d49dbb3f75be5312bab63": {
          "model_module": "@jupyter-widgets/base",
          "model_module_version": "1.2.0",
          "model_name": "LayoutModel",
          "state": {
            "_model_module": "@jupyter-widgets/base",
            "_model_module_version": "1.2.0",
            "_model_name": "LayoutModel",
            "_view_count": null,
            "_view_module": "@jupyter-widgets/base",
            "_view_module_version": "1.2.0",
            "_view_name": "LayoutView",
            "align_content": null,
            "align_items": null,
            "align_self": null,
            "border": null,
            "bottom": null,
            "display": null,
            "flex": null,
            "flex_flow": null,
            "grid_area": null,
            "grid_auto_columns": null,
            "grid_auto_flow": null,
            "grid_auto_rows": null,
            "grid_column": null,
            "grid_gap": null,
            "grid_row": null,
            "grid_template_areas": null,
            "grid_template_columns": null,
            "grid_template_rows": null,
            "height": null,
            "justify_content": null,
            "justify_items": null,
            "left": null,
            "margin": null,
            "max_height": null,
            "max_width": null,
            "min_height": null,
            "min_width": null,
            "object_fit": null,
            "object_position": null,
            "order": null,
            "overflow": null,
            "overflow_x": null,
            "overflow_y": null,
            "padding": null,
            "right": null,
            "top": null,
            "visibility": null,
            "width": null
          }
        },
        "2ade42a8320343ada6c169337a680f9a": {
          "model_module": "@jupyter-widgets/controls",
          "model_module_version": "1.5.0",
          "model_name": "DescriptionStyleModel",
          "state": {
            "_model_module": "@jupyter-widgets/controls",
            "_model_module_version": "1.5.0",
            "_model_name": "DescriptionStyleModel",
            "_view_count": null,
            "_view_module": "@jupyter-widgets/base",
            "_view_module_version": "1.2.0",
            "_view_name": "StyleView",
            "description_width": ""
          }
        },
        "3313b5e8fd3e4eba9d9e9ac9c7a18d62": {
          "model_module": "@jupyter-widgets/base",
          "model_module_version": "1.2.0",
          "model_name": "LayoutModel",
          "state": {
            "_model_module": "@jupyter-widgets/base",
            "_model_module_version": "1.2.0",
            "_model_name": "LayoutModel",
            "_view_count": null,
            "_view_module": "@jupyter-widgets/base",
            "_view_module_version": "1.2.0",
            "_view_name": "LayoutView",
            "align_content": null,
            "align_items": null,
            "align_self": null,
            "border": null,
            "bottom": null,
            "display": null,
            "flex": null,
            "flex_flow": null,
            "grid_area": null,
            "grid_auto_columns": null,
            "grid_auto_flow": null,
            "grid_auto_rows": null,
            "grid_column": null,
            "grid_gap": null,
            "grid_row": null,
            "grid_template_areas": null,
            "grid_template_columns": null,
            "grid_template_rows": null,
            "height": null,
            "justify_content": null,
            "justify_items": null,
            "left": null,
            "margin": null,
            "max_height": null,
            "max_width": null,
            "min_height": null,
            "min_width": null,
            "object_fit": null,
            "object_position": null,
            "order": null,
            "overflow": null,
            "overflow_x": null,
            "overflow_y": null,
            "padding": null,
            "right": null,
            "top": null,
            "visibility": null,
            "width": null
          }
        },
        "3cb2567e3f8c4affad17bd3aa1e0ff8d": {
          "model_module": "@jupyter-widgets/base",
          "model_module_version": "1.2.0",
          "model_name": "LayoutModel",
          "state": {
            "_model_module": "@jupyter-widgets/base",
            "_model_module_version": "1.2.0",
            "_model_name": "LayoutModel",
            "_view_count": null,
            "_view_module": "@jupyter-widgets/base",
            "_view_module_version": "1.2.0",
            "_view_name": "LayoutView",
            "align_content": null,
            "align_items": null,
            "align_self": null,
            "border": null,
            "bottom": null,
            "display": null,
            "flex": null,
            "flex_flow": null,
            "grid_area": null,
            "grid_auto_columns": null,
            "grid_auto_flow": null,
            "grid_auto_rows": null,
            "grid_column": null,
            "grid_gap": null,
            "grid_row": null,
            "grid_template_areas": null,
            "grid_template_columns": null,
            "grid_template_rows": null,
            "height": null,
            "justify_content": null,
            "justify_items": null,
            "left": null,
            "margin": null,
            "max_height": null,
            "max_width": null,
            "min_height": null,
            "min_width": null,
            "object_fit": null,
            "object_position": null,
            "order": null,
            "overflow": null,
            "overflow_x": null,
            "overflow_y": null,
            "padding": null,
            "right": null,
            "top": null,
            "visibility": null,
            "width": null
          }
        },
        "3dde396a6824408386bced7a6f259b4d": {
          "model_module": "@jupyter-widgets/controls",
          "model_module_version": "1.5.0",
          "model_name": "HTMLModel",
          "state": {
            "_dom_classes": [],
            "_model_module": "@jupyter-widgets/controls",
            "_model_module_version": "1.5.0",
            "_model_name": "HTMLModel",
            "_view_count": null,
            "_view_module": "@jupyter-widgets/controls",
            "_view_module_version": "1.5.0",
            "_view_name": "HTMLView",
            "description": "",
            "description_tooltip": null,
            "layout": "IPY_MODEL_dd14bc94fa144a669d659205ce678857",
            "placeholder": "​",
            "style": "IPY_MODEL_8ea630b6fb144009b9e56395f5121efc",
            "value": "Downloading spiece.model: 100%"
          }
        },
        "3e433dd7676d4e9c9985742a952ae702": {
          "model_module": "@jupyter-widgets/controls",
          "model_module_version": "1.5.0",
          "model_name": "HTMLModel",
          "state": {
            "_dom_classes": [],
            "_model_module": "@jupyter-widgets/controls",
            "_model_module_version": "1.5.0",
            "_model_name": "HTMLModel",
            "_view_count": null,
            "_view_module": "@jupyter-widgets/controls",
            "_view_module_version": "1.5.0",
            "_view_name": "HTMLView",
            "description": "",
            "description_tooltip": null,
            "layout": "IPY_MODEL_880df8877dd14a90a3bfbe93c6810061",
            "placeholder": "​",
            "style": "IPY_MODEL_b9fcb0158ddd492ab76416b3e92d296e",
            "value": " 5.51k/5.51k [00:00&lt;00:00, 410kB/s]"
          }
        },
        "3f3a7165d77d458ab75137bf1811ddf2": {
          "model_module": "@jupyter-widgets/base",
          "model_module_version": "1.2.0",
          "model_name": "LayoutModel",
          "state": {
            "_model_module": "@jupyter-widgets/base",
            "_model_module_version": "1.2.0",
            "_model_name": "LayoutModel",
            "_view_count": null,
            "_view_module": "@jupyter-widgets/base",
            "_view_module_version": "1.2.0",
            "_view_name": "LayoutView",
            "align_content": null,
            "align_items": null,
            "align_self": null,
            "border": null,
            "bottom": null,
            "display": null,
            "flex": null,
            "flex_flow": null,
            "grid_area": null,
            "grid_auto_columns": null,
            "grid_auto_flow": null,
            "grid_auto_rows": null,
            "grid_column": null,
            "grid_gap": null,
            "grid_row": null,
            "grid_template_areas": null,
            "grid_template_columns": null,
            "grid_template_rows": null,
            "height": null,
            "justify_content": null,
            "justify_items": null,
            "left": null,
            "margin": null,
            "max_height": null,
            "max_width": null,
            "min_height": null,
            "min_width": null,
            "object_fit": null,
            "object_position": null,
            "order": null,
            "overflow": null,
            "overflow_x": null,
            "overflow_y": null,
            "padding": null,
            "right": null,
            "top": null,
            "visibility": null,
            "width": null
          }
        },
        "45e333635d1948988ffbb9f067e40880": {
          "model_module": "@jupyter-widgets/controls",
          "model_module_version": "1.5.0",
          "model_name": "DescriptionStyleModel",
          "state": {
            "_model_module": "@jupyter-widgets/controls",
            "_model_module_version": "1.5.0",
            "_model_name": "DescriptionStyleModel",
            "_view_count": null,
            "_view_module": "@jupyter-widgets/base",
            "_view_module_version": "1.2.0",
            "_view_name": "StyleView",
            "description_width": ""
          }
        },
        "46356408dafa45ba9a4231e64a11c508": {
          "model_module": "@jupyter-widgets/controls",
          "model_module_version": "1.5.0",
          "model_name": "FloatProgressModel",
          "state": {
            "_dom_classes": [],
            "_model_module": "@jupyter-widgets/controls",
            "_model_module_version": "1.5.0",
            "_model_name": "FloatProgressModel",
            "_view_count": null,
            "_view_module": "@jupyter-widgets/controls",
            "_view_module_version": "1.5.0",
            "_view_name": "ProgressView",
            "bar_style": "success",
            "description": "",
            "description_tooltip": null,
            "layout": "IPY_MODEL_bd47a95ebea541e09de139b28a86a959",
            "max": 1786,
            "min": 0,
            "orientation": "horizontal",
            "style": "IPY_MODEL_e3710a9a60e344a88a48d5e5ce6a0c1f",
            "value": 1786
          }
        },
        "47e0d5bd4cf946c890f74037fbd6e13a": {
          "model_module": "@jupyter-widgets/base",
          "model_module_version": "1.2.0",
          "model_name": "LayoutModel",
          "state": {
            "_model_module": "@jupyter-widgets/base",
            "_model_module_version": "1.2.0",
            "_model_name": "LayoutModel",
            "_view_count": null,
            "_view_module": "@jupyter-widgets/base",
            "_view_module_version": "1.2.0",
            "_view_name": "LayoutView",
            "align_content": null,
            "align_items": null,
            "align_self": null,
            "border": null,
            "bottom": null,
            "display": null,
            "flex": null,
            "flex_flow": null,
            "grid_area": null,
            "grid_auto_columns": null,
            "grid_auto_flow": null,
            "grid_auto_rows": null,
            "grid_column": null,
            "grid_gap": null,
            "grid_row": null,
            "grid_template_areas": null,
            "grid_template_columns": null,
            "grid_template_rows": null,
            "height": null,
            "justify_content": null,
            "justify_items": null,
            "left": null,
            "margin": null,
            "max_height": null,
            "max_width": null,
            "min_height": null,
            "min_width": null,
            "object_fit": null,
            "object_position": null,
            "order": null,
            "overflow": null,
            "overflow_x": null,
            "overflow_y": null,
            "padding": null,
            "right": null,
            "top": null,
            "visibility": null,
            "width": null
          }
        },
        "4a8f307ab22043919a7c1b0240ce3abb": {
          "model_module": "@jupyter-widgets/base",
          "model_module_version": "1.2.0",
          "model_name": "LayoutModel",
          "state": {
            "_model_module": "@jupyter-widgets/base",
            "_model_module_version": "1.2.0",
            "_model_name": "LayoutModel",
            "_view_count": null,
            "_view_module": "@jupyter-widgets/base",
            "_view_module_version": "1.2.0",
            "_view_name": "LayoutView",
            "align_content": null,
            "align_items": null,
            "align_self": null,
            "border": null,
            "bottom": null,
            "display": null,
            "flex": null,
            "flex_flow": null,
            "grid_area": null,
            "grid_auto_columns": null,
            "grid_auto_flow": null,
            "grid_auto_rows": null,
            "grid_column": null,
            "grid_gap": null,
            "grid_row": null,
            "grid_template_areas": null,
            "grid_template_columns": null,
            "grid_template_rows": null,
            "height": null,
            "justify_content": null,
            "justify_items": null,
            "left": null,
            "margin": null,
            "max_height": null,
            "max_width": null,
            "min_height": null,
            "min_width": null,
            "object_fit": null,
            "object_position": null,
            "order": null,
            "overflow": null,
            "overflow_x": null,
            "overflow_y": null,
            "padding": null,
            "right": null,
            "top": null,
            "visibility": null,
            "width": null
          }
        },
        "4e53cb320ca54971b72fb577901fa492": {
          "model_module": "@jupyter-widgets/controls",
          "model_module_version": "1.5.0",
          "model_name": "DescriptionStyleModel",
          "state": {
            "_model_module": "@jupyter-widgets/controls",
            "_model_module_version": "1.5.0",
            "_model_name": "DescriptionStyleModel",
            "_view_count": null,
            "_view_module": "@jupyter-widgets/base",
            "_view_module_version": "1.2.0",
            "_view_name": "StyleView",
            "description_width": ""
          }
        },
        "5ac1ae6ddc7346ec8f5b506207ba8e01": {
          "model_module": "@jupyter-widgets/base",
          "model_module_version": "1.2.0",
          "model_name": "LayoutModel",
          "state": {
            "_model_module": "@jupyter-widgets/base",
            "_model_module_version": "1.2.0",
            "_model_name": "LayoutModel",
            "_view_count": null,
            "_view_module": "@jupyter-widgets/base",
            "_view_module_version": "1.2.0",
            "_view_name": "LayoutView",
            "align_content": null,
            "align_items": null,
            "align_self": null,
            "border": null,
            "bottom": null,
            "display": null,
            "flex": null,
            "flex_flow": null,
            "grid_area": null,
            "grid_auto_columns": null,
            "grid_auto_flow": null,
            "grid_auto_rows": null,
            "grid_column": null,
            "grid_gap": null,
            "grid_row": null,
            "grid_template_areas": null,
            "grid_template_columns": null,
            "grid_template_rows": null,
            "height": null,
            "justify_content": null,
            "justify_items": null,
            "left": null,
            "margin": null,
            "max_height": null,
            "max_width": null,
            "min_height": null,
            "min_width": null,
            "object_fit": null,
            "object_position": null,
            "order": null,
            "overflow": null,
            "overflow_x": null,
            "overflow_y": null,
            "padding": null,
            "right": null,
            "top": null,
            "visibility": null,
            "width": null
          }
        },
        "621bafc4761d4beb837e2ee6b650e2fd": {
          "model_module": "@jupyter-widgets/controls",
          "model_module_version": "1.5.0",
          "model_name": "HTMLModel",
          "state": {
            "_dom_classes": [],
            "_model_module": "@jupyter-widgets/controls",
            "_model_module_version": "1.5.0",
            "_model_name": "HTMLModel",
            "_view_count": null,
            "_view_module": "@jupyter-widgets/controls",
            "_view_module_version": "1.5.0",
            "_view_name": "HTMLView",
            "description": "",
            "description_tooltip": null,
            "layout": "IPY_MODEL_22b967ac1eb84988bc5830b66c54fafc",
            "placeholder": "​",
            "style": "IPY_MODEL_45e333635d1948988ffbb9f067e40880",
            "value": "Downloading builder script: 100%"
          }
        },
        "642dfff630884c2f8589fb728d7faccf": {
          "model_module": "@jupyter-widgets/controls",
          "model_module_version": "1.5.0",
          "model_name": "HTMLModel",
          "state": {
            "_dom_classes": [],
            "_model_module": "@jupyter-widgets/controls",
            "_model_module_version": "1.5.0",
            "_model_name": "HTMLModel",
            "_view_count": null,
            "_view_module": "@jupyter-widgets/controls",
            "_view_module_version": "1.5.0",
            "_view_name": "HTMLView",
            "description": "",
            "description_tooltip": null,
            "layout": "IPY_MODEL_c6750f81dcfe4058b8ec94366cc8c914",
            "placeholder": "​",
            "style": "IPY_MODEL_8a350f59e56c4a638d09126b329dbde9",
            "value": "Downloading (…)cial_tokens_map.json: 100%"
          }
        },
        "681751ba75a340fc9c45379a06cb8687": {
          "model_module": "@jupyter-widgets/base",
          "model_module_version": "1.2.0",
          "model_name": "LayoutModel",
          "state": {
            "_model_module": "@jupyter-widgets/base",
            "_model_module_version": "1.2.0",
            "_model_name": "LayoutModel",
            "_view_count": null,
            "_view_module": "@jupyter-widgets/base",
            "_view_module_version": "1.2.0",
            "_view_name": "LayoutView",
            "align_content": null,
            "align_items": null,
            "align_self": null,
            "border": null,
            "bottom": null,
            "display": null,
            "flex": null,
            "flex_flow": null,
            "grid_area": null,
            "grid_auto_columns": null,
            "grid_auto_flow": null,
            "grid_auto_rows": null,
            "grid_column": null,
            "grid_gap": null,
            "grid_row": null,
            "grid_template_areas": null,
            "grid_template_columns": null,
            "grid_template_rows": null,
            "height": null,
            "justify_content": null,
            "justify_items": null,
            "left": null,
            "margin": null,
            "max_height": null,
            "max_width": null,
            "min_height": null,
            "min_width": null,
            "object_fit": null,
            "object_position": null,
            "order": null,
            "overflow": null,
            "overflow_x": null,
            "overflow_y": null,
            "padding": null,
            "right": null,
            "top": null,
            "visibility": null,
            "width": null
          }
        },
        "68bac97b173749f8b9762834f3b7378a": {
          "model_module": "@jupyter-widgets/base",
          "model_module_version": "1.2.0",
          "model_name": "LayoutModel",
          "state": {
            "_model_module": "@jupyter-widgets/base",
            "_model_module_version": "1.2.0",
            "_model_name": "LayoutModel",
            "_view_count": null,
            "_view_module": "@jupyter-widgets/base",
            "_view_module_version": "1.2.0",
            "_view_name": "LayoutView",
            "align_content": null,
            "align_items": null,
            "align_self": null,
            "border": null,
            "bottom": null,
            "display": null,
            "flex": null,
            "flex_flow": null,
            "grid_area": null,
            "grid_auto_columns": null,
            "grid_auto_flow": null,
            "grid_auto_rows": null,
            "grid_column": null,
            "grid_gap": null,
            "grid_row": null,
            "grid_template_areas": null,
            "grid_template_columns": null,
            "grid_template_rows": null,
            "height": null,
            "justify_content": null,
            "justify_items": null,
            "left": null,
            "margin": null,
            "max_height": null,
            "max_width": null,
            "min_height": null,
            "min_width": null,
            "object_fit": null,
            "object_position": null,
            "order": null,
            "overflow": null,
            "overflow_x": null,
            "overflow_y": null,
            "padding": null,
            "right": null,
            "top": null,
            "visibility": null,
            "width": null
          }
        },
        "6cbb765f240a456591c89f770696b156": {
          "model_module": "@jupyter-widgets/controls",
          "model_module_version": "1.5.0",
          "model_name": "FloatProgressModel",
          "state": {
            "_dom_classes": [],
            "_model_module": "@jupyter-widgets/controls",
            "_model_module_version": "1.5.0",
            "_model_name": "FloatProgressModel",
            "_view_count": null,
            "_view_module": "@jupyter-widgets/controls",
            "_view_module_version": "1.5.0",
            "_view_name": "ProgressView",
            "bar_style": "success",
            "description": "",
            "description_tooltip": null,
            "layout": "IPY_MODEL_3f3a7165d77d458ab75137bf1811ddf2",
            "max": 5514,
            "min": 0,
            "orientation": "horizontal",
            "style": "IPY_MODEL_821d59a47ee34df081fad619158f7560",
            "value": 5514
          }
        },
        "6ea4596906dc4fafac7086e097708ebf": {
          "model_module": "@jupyter-widgets/base",
          "model_module_version": "1.2.0",
          "model_name": "LayoutModel",
          "state": {
            "_model_module": "@jupyter-widgets/base",
            "_model_module_version": "1.2.0",
            "_model_name": "LayoutModel",
            "_view_count": null,
            "_view_module": "@jupyter-widgets/base",
            "_view_module_version": "1.2.0",
            "_view_name": "LayoutView",
            "align_content": null,
            "align_items": null,
            "align_self": null,
            "border": null,
            "bottom": null,
            "display": null,
            "flex": null,
            "flex_flow": null,
            "grid_area": null,
            "grid_auto_columns": null,
            "grid_auto_flow": null,
            "grid_auto_rows": null,
            "grid_column": null,
            "grid_gap": null,
            "grid_row": null,
            "grid_template_areas": null,
            "grid_template_columns": null,
            "grid_template_rows": null,
            "height": null,
            "justify_content": null,
            "justify_items": null,
            "left": null,
            "margin": null,
            "max_height": null,
            "max_width": null,
            "min_height": null,
            "min_width": null,
            "object_fit": null,
            "object_position": null,
            "order": null,
            "overflow": null,
            "overflow_x": null,
            "overflow_y": null,
            "padding": null,
            "right": null,
            "top": null,
            "visibility": null,
            "width": null
          }
        },
        "7dc1790d26a14651ab75f1175f1de74c": {
          "model_module": "@jupyter-widgets/controls",
          "model_module_version": "1.5.0",
          "model_name": "HTMLModel",
          "state": {
            "_dom_classes": [],
            "_model_module": "@jupyter-widgets/controls",
            "_model_module_version": "1.5.0",
            "_model_name": "HTMLModel",
            "_view_count": null,
            "_view_module": "@jupyter-widgets/controls",
            "_view_module_version": "1.5.0",
            "_view_name": "HTMLView",
            "description": "",
            "description_tooltip": null,
            "layout": "IPY_MODEL_3cb2567e3f8c4affad17bd3aa1e0ff8d",
            "placeholder": "​",
            "style": "IPY_MODEL_0e839b34aef2460697291c3481551957",
            "value": " 1.79k/1.79k [00:00&lt;00:00, 165kB/s]"
          }
        },
        "7de7f3591785434aa13cf15e547d7bbd": {
          "model_module": "@jupyter-widgets/base",
          "model_module_version": "1.2.0",
          "model_name": "LayoutModel",
          "state": {
            "_model_module": "@jupyter-widgets/base",
            "_model_module_version": "1.2.0",
            "_model_name": "LayoutModel",
            "_view_count": null,
            "_view_module": "@jupyter-widgets/base",
            "_view_module_version": "1.2.0",
            "_view_name": "LayoutView",
            "align_content": null,
            "align_items": null,
            "align_self": null,
            "border": null,
            "bottom": null,
            "display": null,
            "flex": null,
            "flex_flow": null,
            "grid_area": null,
            "grid_auto_columns": null,
            "grid_auto_flow": null,
            "grid_auto_rows": null,
            "grid_column": null,
            "grid_gap": null,
            "grid_row": null,
            "grid_template_areas": null,
            "grid_template_columns": null,
            "grid_template_rows": null,
            "height": null,
            "justify_content": null,
            "justify_items": null,
            "left": null,
            "margin": null,
            "max_height": null,
            "max_width": null,
            "min_height": null,
            "min_width": null,
            "object_fit": null,
            "object_position": null,
            "order": null,
            "overflow": null,
            "overflow_x": null,
            "overflow_y": null,
            "padding": null,
            "right": null,
            "top": null,
            "visibility": null,
            "width": null
          }
        },
        "7eee6aebe8234625969e834edf13e292": {
          "model_module": "@jupyter-widgets/controls",
          "model_module_version": "1.5.0",
          "model_name": "FloatProgressModel",
          "state": {
            "_dom_classes": [],
            "_model_module": "@jupyter-widgets/controls",
            "_model_module_version": "1.5.0",
            "_model_name": "FloatProgressModel",
            "_view_count": null,
            "_view_module": "@jupyter-widgets/controls",
            "_view_module_version": "1.5.0",
            "_view_name": "ProgressView",
            "bar_style": "success",
            "description": "",
            "description_tooltip": null,
            "layout": "IPY_MODEL_a2d9ebb20f9a46e3bfa87cc2be53d4d3",
            "max": 1889,
            "min": 0,
            "orientation": "horizontal",
            "style": "IPY_MODEL_00570e88729b42d489bbd8c2bc9f5617",
            "value": 1889
          }
        },
        "821d59a47ee34df081fad619158f7560": {
          "model_module": "@jupyter-widgets/controls",
          "model_module_version": "1.5.0",
          "model_name": "ProgressStyleModel",
          "state": {
            "_model_module": "@jupyter-widgets/controls",
            "_model_module_version": "1.5.0",
            "_model_name": "ProgressStyleModel",
            "_view_count": null,
            "_view_module": "@jupyter-widgets/base",
            "_view_module_version": "1.2.0",
            "_view_name": "StyleView",
            "bar_color": null,
            "description_width": ""
          }
        },
        "880df8877dd14a90a3bfbe93c6810061": {
          "model_module": "@jupyter-widgets/base",
          "model_module_version": "1.2.0",
          "model_name": "LayoutModel",
          "state": {
            "_model_module": "@jupyter-widgets/base",
            "_model_module_version": "1.2.0",
            "_model_name": "LayoutModel",
            "_view_count": null,
            "_view_module": "@jupyter-widgets/base",
            "_view_module_version": "1.2.0",
            "_view_name": "LayoutView",
            "align_content": null,
            "align_items": null,
            "align_self": null,
            "border": null,
            "bottom": null,
            "display": null,
            "flex": null,
            "flex_flow": null,
            "grid_area": null,
            "grid_auto_columns": null,
            "grid_auto_flow": null,
            "grid_auto_rows": null,
            "grid_column": null,
            "grid_gap": null,
            "grid_row": null,
            "grid_template_areas": null,
            "grid_template_columns": null,
            "grid_template_rows": null,
            "height": null,
            "justify_content": null,
            "justify_items": null,
            "left": null,
            "margin": null,
            "max_height": null,
            "max_width": null,
            "min_height": null,
            "min_width": null,
            "object_fit": null,
            "object_position": null,
            "order": null,
            "overflow": null,
            "overflow_x": null,
            "overflow_y": null,
            "padding": null,
            "right": null,
            "top": null,
            "visibility": null,
            "width": null
          }
        },
        "89a375c1f242407cb60bf571b984a5c1": {
          "model_module": "@jupyter-widgets/controls",
          "model_module_version": "1.5.0",
          "model_name": "DescriptionStyleModel",
          "state": {
            "_model_module": "@jupyter-widgets/controls",
            "_model_module_version": "1.5.0",
            "_model_name": "DescriptionStyleModel",
            "_view_count": null,
            "_view_module": "@jupyter-widgets/base",
            "_view_module_version": "1.2.0",
            "_view_name": "StyleView",
            "description_width": ""
          }
        },
        "8a350f59e56c4a638d09126b329dbde9": {
          "model_module": "@jupyter-widgets/controls",
          "model_module_version": "1.5.0",
          "model_name": "DescriptionStyleModel",
          "state": {
            "_model_module": "@jupyter-widgets/controls",
            "_model_module_version": "1.5.0",
            "_model_name": "DescriptionStyleModel",
            "_view_count": null,
            "_view_module": "@jupyter-widgets/base",
            "_view_module_version": "1.2.0",
            "_view_name": "StyleView",
            "description_width": ""
          }
        },
        "8ea630b6fb144009b9e56395f5121efc": {
          "model_module": "@jupyter-widgets/controls",
          "model_module_version": "1.5.0",
          "model_name": "DescriptionStyleModel",
          "state": {
            "_model_module": "@jupyter-widgets/controls",
            "_model_module_version": "1.5.0",
            "_model_name": "DescriptionStyleModel",
            "_view_count": null,
            "_view_module": "@jupyter-widgets/base",
            "_view_module_version": "1.2.0",
            "_view_name": "StyleView",
            "description_width": ""
          }
        },
        "9189d893193a4812a5af3c9ee3d58cb5": {
          "model_module": "@jupyter-widgets/controls",
          "model_module_version": "1.5.0",
          "model_name": "HTMLModel",
          "state": {
            "_dom_classes": [],
            "_model_module": "@jupyter-widgets/controls",
            "_model_module_version": "1.5.0",
            "_model_name": "HTMLModel",
            "_view_count": null,
            "_view_module": "@jupyter-widgets/controls",
            "_view_module_version": "1.5.0",
            "_view_name": "HTMLView",
            "description": "",
            "description_tooltip": null,
            "layout": "IPY_MODEL_f9876e38e9aa4ec8b4654439ff07801b",
            "placeholder": "​",
            "style": "IPY_MODEL_4e53cb320ca54971b72fb577901fa492",
            "value": " 1.32k/1.32k [00:00&lt;00:00, 114kB/s]"
          }
        },
        "96f7d21f826f4a04b672d9876910db1a": {
          "model_module": "@jupyter-widgets/controls",
          "model_module_version": "1.5.0",
          "model_name": "DescriptionStyleModel",
          "state": {
            "_model_module": "@jupyter-widgets/controls",
            "_model_module_version": "1.5.0",
            "_model_name": "DescriptionStyleModel",
            "_view_count": null,
            "_view_module": "@jupyter-widgets/base",
            "_view_module_version": "1.2.0",
            "_view_name": "StyleView",
            "description_width": ""
          }
        },
        "9c3fb5bd3f604ff4a5fa2d52e487664b": {
          "model_module": "@jupyter-widgets/controls",
          "model_module_version": "1.5.0",
          "model_name": "HTMLModel",
          "state": {
            "_dom_classes": [],
            "_model_module": "@jupyter-widgets/controls",
            "_model_module_version": "1.5.0",
            "_model_name": "HTMLModel",
            "_view_count": null,
            "_view_module": "@jupyter-widgets/controls",
            "_view_module_version": "1.5.0",
            "_view_name": "HTMLView",
            "description": "",
            "description_tooltip": null,
            "layout": "IPY_MODEL_5ac1ae6ddc7346ec8f5b506207ba8e01",
            "placeholder": "​",
            "style": "IPY_MODEL_e1ada717f1f84ff3a12bc61b0607cd12",
            "value": " 792k/792k [00:01&lt;00:00, 754kB/s]"
          }
        },
        "a2d9ebb20f9a46e3bfa87cc2be53d4d3": {
          "model_module": "@jupyter-widgets/base",
          "model_module_version": "1.2.0",
          "model_name": "LayoutModel",
          "state": {
            "_model_module": "@jupyter-widgets/base",
            "_model_module_version": "1.2.0",
            "_model_name": "LayoutModel",
            "_view_count": null,
            "_view_module": "@jupyter-widgets/base",
            "_view_module_version": "1.2.0",
            "_view_name": "LayoutView",
            "align_content": null,
            "align_items": null,
            "align_self": null,
            "border": null,
            "bottom": null,
            "display": null,
            "flex": null,
            "flex_flow": null,
            "grid_area": null,
            "grid_auto_columns": null,
            "grid_auto_flow": null,
            "grid_auto_rows": null,
            "grid_column": null,
            "grid_gap": null,
            "grid_row": null,
            "grid_template_areas": null,
            "grid_template_columns": null,
            "grid_template_rows": null,
            "height": null,
            "justify_content": null,
            "justify_items": null,
            "left": null,
            "margin": null,
            "max_height": null,
            "max_width": null,
            "min_height": null,
            "min_width": null,
            "object_fit": null,
            "object_position": null,
            "order": null,
            "overflow": null,
            "overflow_x": null,
            "overflow_y": null,
            "padding": null,
            "right": null,
            "top": null,
            "visibility": null,
            "width": null
          }
        },
        "b323e2004bff4be7bc521657bc043e4a": {
          "model_module": "@jupyter-widgets/controls",
          "model_module_version": "1.5.0",
          "model_name": "HBoxModel",
          "state": {
            "_dom_classes": [],
            "_model_module": "@jupyter-widgets/controls",
            "_model_module_version": "1.5.0",
            "_model_name": "HBoxModel",
            "_view_count": null,
            "_view_module": "@jupyter-widgets/controls",
            "_view_module_version": "1.5.0",
            "_view_name": "HBoxView",
            "box_style": "",
            "children": [
              "IPY_MODEL_3dde396a6824408386bced7a6f259b4d",
              "IPY_MODEL_f8f7c86eee064bfcb321d93c36c2cf28",
              "IPY_MODEL_9c3fb5bd3f604ff4a5fa2d52e487664b"
            ],
            "layout": "IPY_MODEL_47e0d5bd4cf946c890f74037fbd6e13a"
          }
        },
        "b60a2c4b1a744364bbb3f97308d6d4b3": {
          "model_module": "@jupyter-widgets/controls",
          "model_module_version": "1.5.0",
          "model_name": "ProgressStyleModel",
          "state": {
            "_model_module": "@jupyter-widgets/controls",
            "_model_module_version": "1.5.0",
            "_model_name": "ProgressStyleModel",
            "_view_count": null,
            "_view_module": "@jupyter-widgets/base",
            "_view_module_version": "1.2.0",
            "_view_name": "StyleView",
            "bar_color": null,
            "description_width": ""
          }
        },
        "b9fcb0158ddd492ab76416b3e92d296e": {
          "model_module": "@jupyter-widgets/controls",
          "model_module_version": "1.5.0",
          "model_name": "DescriptionStyleModel",
          "state": {
            "_model_module": "@jupyter-widgets/controls",
            "_model_module_version": "1.5.0",
            "_model_name": "DescriptionStyleModel",
            "_view_count": null,
            "_view_module": "@jupyter-widgets/base",
            "_view_module_version": "1.2.0",
            "_view_name": "StyleView",
            "description_width": ""
          }
        },
        "bd47a95ebea541e09de139b28a86a959": {
          "model_module": "@jupyter-widgets/base",
          "model_module_version": "1.2.0",
          "model_name": "LayoutModel",
          "state": {
            "_model_module": "@jupyter-widgets/base",
            "_model_module_version": "1.2.0",
            "_model_name": "LayoutModel",
            "_view_count": null,
            "_view_module": "@jupyter-widgets/base",
            "_view_module_version": "1.2.0",
            "_view_name": "LayoutView",
            "align_content": null,
            "align_items": null,
            "align_self": null,
            "border": null,
            "bottom": null,
            "display": null,
            "flex": null,
            "flex_flow": null,
            "grid_area": null,
            "grid_auto_columns": null,
            "grid_auto_flow": null,
            "grid_auto_rows": null,
            "grid_column": null,
            "grid_gap": null,
            "grid_row": null,
            "grid_template_areas": null,
            "grid_template_columns": null,
            "grid_template_rows": null,
            "height": null,
            "justify_content": null,
            "justify_items": null,
            "left": null,
            "margin": null,
            "max_height": null,
            "max_width": null,
            "min_height": null,
            "min_width": null,
            "object_fit": null,
            "object_position": null,
            "order": null,
            "overflow": null,
            "overflow_x": null,
            "overflow_y": null,
            "padding": null,
            "right": null,
            "top": null,
            "visibility": null,
            "width": null
          }
        },
        "bd9346d31a914871b75e6655c87b49e1": {
          "model_module": "@jupyter-widgets/controls",
          "model_module_version": "1.5.0",
          "model_name": "HBoxModel",
          "state": {
            "_dom_classes": [],
            "_model_module": "@jupyter-widgets/controls",
            "_model_module_version": "1.5.0",
            "_model_name": "HBoxModel",
            "_view_count": null,
            "_view_module": "@jupyter-widgets/controls",
            "_view_module_version": "1.5.0",
            "_view_name": "HBoxView",
            "box_style": "",
            "children": [
              "IPY_MODEL_e85b59ae2b114036a4049adeeb88407c",
              "IPY_MODEL_e1df67b4eedb4cf09fa3804d8fc74ad9",
              "IPY_MODEL_9189d893193a4812a5af3c9ee3d58cb5"
            ],
            "layout": "IPY_MODEL_fc50c7beee31477990c545cd7ca802c7"
          }
        },
        "c64bb3c3fcb0405c9f02d9a4eaeb0d46": {
          "model_module": "@jupyter-widgets/controls",
          "model_module_version": "1.5.0",
          "model_name": "HTMLModel",
          "state": {
            "_dom_classes": [],
            "_model_module": "@jupyter-widgets/controls",
            "_model_module_version": "1.5.0",
            "_model_name": "HTMLModel",
            "_view_count": null,
            "_view_module": "@jupyter-widgets/controls",
            "_view_module_version": "1.5.0",
            "_view_name": "HTMLView",
            "description": "",
            "description_tooltip": null,
            "layout": "IPY_MODEL_7de7f3591785434aa13cf15e547d7bbd",
            "placeholder": "​",
            "style": "IPY_MODEL_2ade42a8320343ada6c169337a680f9a",
            "value": " 892M/892M [01:03&lt;00:00, 12.4MB/s]"
          }
        },
        "c6750f81dcfe4058b8ec94366cc8c914": {
          "model_module": "@jupyter-widgets/base",
          "model_module_version": "1.2.0",
          "model_name": "LayoutModel",
          "state": {
            "_model_module": "@jupyter-widgets/base",
            "_model_module_version": "1.2.0",
            "_model_name": "LayoutModel",
            "_view_count": null,
            "_view_module": "@jupyter-widgets/base",
            "_view_module_version": "1.2.0",
            "_view_name": "LayoutView",
            "align_content": null,
            "align_items": null,
            "align_self": null,
            "border": null,
            "bottom": null,
            "display": null,
            "flex": null,
            "flex_flow": null,
            "grid_area": null,
            "grid_auto_columns": null,
            "grid_auto_flow": null,
            "grid_auto_rows": null,
            "grid_column": null,
            "grid_gap": null,
            "grid_row": null,
            "grid_template_areas": null,
            "grid_template_columns": null,
            "grid_template_rows": null,
            "height": null,
            "justify_content": null,
            "justify_items": null,
            "left": null,
            "margin": null,
            "max_height": null,
            "max_width": null,
            "min_height": null,
            "min_width": null,
            "object_fit": null,
            "object_position": null,
            "order": null,
            "overflow": null,
            "overflow_x": null,
            "overflow_y": null,
            "padding": null,
            "right": null,
            "top": null,
            "visibility": null,
            "width": null
          }
        },
        "c8756d15bbb547a99e8c9a547204ac5c": {
          "model_module": "@jupyter-widgets/base",
          "model_module_version": "1.2.0",
          "model_name": "LayoutModel",
          "state": {
            "_model_module": "@jupyter-widgets/base",
            "_model_module_version": "1.2.0",
            "_model_name": "LayoutModel",
            "_view_count": null,
            "_view_module": "@jupyter-widgets/base",
            "_view_module_version": "1.2.0",
            "_view_name": "LayoutView",
            "align_content": null,
            "align_items": null,
            "align_self": null,
            "border": null,
            "bottom": null,
            "display": null,
            "flex": null,
            "flex_flow": null,
            "grid_area": null,
            "grid_auto_columns": null,
            "grid_auto_flow": null,
            "grid_auto_rows": null,
            "grid_column": null,
            "grid_gap": null,
            "grid_row": null,
            "grid_template_areas": null,
            "grid_template_columns": null,
            "grid_template_rows": null,
            "height": null,
            "justify_content": null,
            "justify_items": null,
            "left": null,
            "margin": null,
            "max_height": null,
            "max_width": null,
            "min_height": null,
            "min_width": null,
            "object_fit": null,
            "object_position": null,
            "order": null,
            "overflow": null,
            "overflow_x": null,
            "overflow_y": null,
            "padding": null,
            "right": null,
            "top": null,
            "visibility": null,
            "width": null
          }
        },
        "caef1e265fbc4f9b8a3ec7efb0f78ef3": {
          "model_module": "@jupyter-widgets/base",
          "model_module_version": "1.2.0",
          "model_name": "LayoutModel",
          "state": {
            "_model_module": "@jupyter-widgets/base",
            "_model_module_version": "1.2.0",
            "_model_name": "LayoutModel",
            "_view_count": null,
            "_view_module": "@jupyter-widgets/base",
            "_view_module_version": "1.2.0",
            "_view_name": "LayoutView",
            "align_content": null,
            "align_items": null,
            "align_self": null,
            "border": null,
            "bottom": null,
            "display": null,
            "flex": null,
            "flex_flow": null,
            "grid_area": null,
            "grid_auto_columns": null,
            "grid_auto_flow": null,
            "grid_auto_rows": null,
            "grid_column": null,
            "grid_gap": null,
            "grid_row": null,
            "grid_template_areas": null,
            "grid_template_columns": null,
            "grid_template_rows": null,
            "height": null,
            "justify_content": null,
            "justify_items": null,
            "left": null,
            "margin": null,
            "max_height": null,
            "max_width": null,
            "min_height": null,
            "min_width": null,
            "object_fit": null,
            "object_position": null,
            "order": null,
            "overflow": null,
            "overflow_x": null,
            "overflow_y": null,
            "padding": null,
            "right": null,
            "top": null,
            "visibility": null,
            "width": null
          }
        },
        "da4295ff88dc4f569de47b0fd53a807a": {
          "model_module": "@jupyter-widgets/base",
          "model_module_version": "1.2.0",
          "model_name": "LayoutModel",
          "state": {
            "_model_module": "@jupyter-widgets/base",
            "_model_module_version": "1.2.0",
            "_model_name": "LayoutModel",
            "_view_count": null,
            "_view_module": "@jupyter-widgets/base",
            "_view_module_version": "1.2.0",
            "_view_name": "LayoutView",
            "align_content": null,
            "align_items": null,
            "align_self": null,
            "border": null,
            "bottom": null,
            "display": null,
            "flex": null,
            "flex_flow": null,
            "grid_area": null,
            "grid_auto_columns": null,
            "grid_auto_flow": null,
            "grid_auto_rows": null,
            "grid_column": null,
            "grid_gap": null,
            "grid_row": null,
            "grid_template_areas": null,
            "grid_template_columns": null,
            "grid_template_rows": null,
            "height": null,
            "justify_content": null,
            "justify_items": null,
            "left": null,
            "margin": null,
            "max_height": null,
            "max_width": null,
            "min_height": null,
            "min_width": null,
            "object_fit": null,
            "object_position": null,
            "order": null,
            "overflow": null,
            "overflow_x": null,
            "overflow_y": null,
            "padding": null,
            "right": null,
            "top": null,
            "visibility": null,
            "width": null
          }
        },
        "dd14bc94fa144a669d659205ce678857": {
          "model_module": "@jupyter-widgets/base",
          "model_module_version": "1.2.0",
          "model_name": "LayoutModel",
          "state": {
            "_model_module": "@jupyter-widgets/base",
            "_model_module_version": "1.2.0",
            "_model_name": "LayoutModel",
            "_view_count": null,
            "_view_module": "@jupyter-widgets/base",
            "_view_module_version": "1.2.0",
            "_view_name": "LayoutView",
            "align_content": null,
            "align_items": null,
            "align_self": null,
            "border": null,
            "bottom": null,
            "display": null,
            "flex": null,
            "flex_flow": null,
            "grid_area": null,
            "grid_auto_columns": null,
            "grid_auto_flow": null,
            "grid_auto_rows": null,
            "grid_column": null,
            "grid_gap": null,
            "grid_row": null,
            "grid_template_areas": null,
            "grid_template_columns": null,
            "grid_template_rows": null,
            "height": null,
            "justify_content": null,
            "justify_items": null,
            "left": null,
            "margin": null,
            "max_height": null,
            "max_width": null,
            "min_height": null,
            "min_width": null,
            "object_fit": null,
            "object_position": null,
            "order": null,
            "overflow": null,
            "overflow_x": null,
            "overflow_y": null,
            "padding": null,
            "right": null,
            "top": null,
            "visibility": null,
            "width": null
          }
        },
        "df2f14229d444ace927a0b761d0c9573": {
          "model_module": "@jupyter-widgets/controls",
          "model_module_version": "1.5.0",
          "model_name": "DescriptionStyleModel",
          "state": {
            "_model_module": "@jupyter-widgets/controls",
            "_model_module_version": "1.5.0",
            "_model_name": "DescriptionStyleModel",
            "_view_count": null,
            "_view_module": "@jupyter-widgets/base",
            "_view_module_version": "1.2.0",
            "_view_name": "StyleView",
            "description_width": ""
          }
        },
        "e1ada717f1f84ff3a12bc61b0607cd12": {
          "model_module": "@jupyter-widgets/controls",
          "model_module_version": "1.5.0",
          "model_name": "DescriptionStyleModel",
          "state": {
            "_model_module": "@jupyter-widgets/controls",
            "_model_module_version": "1.5.0",
            "_model_name": "DescriptionStyleModel",
            "_view_count": null,
            "_view_module": "@jupyter-widgets/base",
            "_view_module_version": "1.2.0",
            "_view_name": "StyleView",
            "description_width": ""
          }
        },
        "e1df67b4eedb4cf09fa3804d8fc74ad9": {
          "model_module": "@jupyter-widgets/controls",
          "model_module_version": "1.5.0",
          "model_name": "FloatProgressModel",
          "state": {
            "_dom_classes": [],
            "_model_module": "@jupyter-widgets/controls",
            "_model_module_version": "1.5.0",
            "_model_name": "FloatProgressModel",
            "_view_count": null,
            "_view_module": "@jupyter-widgets/controls",
            "_view_module_version": "1.5.0",
            "_view_name": "ProgressView",
            "bar_style": "success",
            "description": "",
            "description_tooltip": null,
            "layout": "IPY_MODEL_19d1f3fff23443a4b43c4f6dab226fe8",
            "max": 1323,
            "min": 0,
            "orientation": "horizontal",
            "style": "IPY_MODEL_b60a2c4b1a744364bbb3f97308d6d4b3",
            "value": 1323
          }
        },
        "e3710a9a60e344a88a48d5e5ce6a0c1f": {
          "model_module": "@jupyter-widgets/controls",
          "model_module_version": "1.5.0",
          "model_name": "ProgressStyleModel",
          "state": {
            "_model_module": "@jupyter-widgets/controls",
            "_model_module_version": "1.5.0",
            "_model_name": "ProgressStyleModel",
            "_view_count": null,
            "_view_module": "@jupyter-widgets/base",
            "_view_module_version": "1.2.0",
            "_view_name": "StyleView",
            "bar_color": null,
            "description_width": ""
          }
        },
        "e687a33a6a124806926d268638d2f8a4": {
          "model_module": "@jupyter-widgets/controls",
          "model_module_version": "1.5.0",
          "model_name": "HTMLModel",
          "state": {
            "_dom_classes": [],
            "_model_module": "@jupyter-widgets/controls",
            "_model_module_version": "1.5.0",
            "_model_name": "HTMLModel",
            "_view_count": null,
            "_view_module": "@jupyter-widgets/controls",
            "_view_module_version": "1.5.0",
            "_view_name": "HTMLView",
            "description": "",
            "description_tooltip": null,
            "layout": "IPY_MODEL_caef1e265fbc4f9b8a3ec7efb0f78ef3",
            "placeholder": "​",
            "style": "IPY_MODEL_02e24559aa15485f9427d37e0bc7dd9e",
            "value": " 1.89k/1.89k [00:00&lt;00:00, 168kB/s]"
          }
        },
        "e85b59ae2b114036a4049adeeb88407c": {
          "model_module": "@jupyter-widgets/controls",
          "model_module_version": "1.5.0",
          "model_name": "HTMLModel",
          "state": {
            "_dom_classes": [],
            "_model_module": "@jupyter-widgets/controls",
            "_model_module_version": "1.5.0",
            "_model_name": "HTMLModel",
            "_view_count": null,
            "_view_module": "@jupyter-widgets/controls",
            "_view_module_version": "1.5.0",
            "_view_name": "HTMLView",
            "description": "",
            "description_tooltip": null,
            "layout": "IPY_MODEL_68bac97b173749f8b9762834f3b7378a",
            "placeholder": "​",
            "style": "IPY_MODEL_96f7d21f826f4a04b672d9876910db1a",
            "value": "Downloading (…)lve/main/config.json: 100%"
          }
        },
        "e99509cf2baf41a1bc087f725a99830d": {
          "model_module": "@jupyter-widgets/controls",
          "model_module_version": "1.5.0",
          "model_name": "HTMLModel",
          "state": {
            "_dom_classes": [],
            "_model_module": "@jupyter-widgets/controls",
            "_model_module_version": "1.5.0",
            "_model_name": "HTMLModel",
            "_view_count": null,
            "_view_module": "@jupyter-widgets/controls",
            "_view_module_version": "1.5.0",
            "_view_name": "HTMLView",
            "description": "",
            "description_tooltip": null,
            "layout": "IPY_MODEL_291aa60e9c9d49dbb3f75be5312bab63",
            "placeholder": "​",
            "style": "IPY_MODEL_89a375c1f242407cb60bf571b984a5c1",
            "value": "Downloading (…)okenizer_config.json: 100%"
          }
        },
        "f8f7c86eee064bfcb321d93c36c2cf28": {
          "model_module": "@jupyter-widgets/controls",
          "model_module_version": "1.5.0",
          "model_name": "FloatProgressModel",
          "state": {
            "_dom_classes": [],
            "_model_module": "@jupyter-widgets/controls",
            "_model_module_version": "1.5.0",
            "_model_name": "FloatProgressModel",
            "_view_count": null,
            "_view_module": "@jupyter-widgets/controls",
            "_view_module_version": "1.5.0",
            "_view_name": "ProgressView",
            "bar_style": "success",
            "description": "",
            "description_tooltip": null,
            "layout": "IPY_MODEL_243b4574412c457ba6dffd12d47f4433",
            "max": 791656,
            "min": 0,
            "orientation": "horizontal",
            "style": "IPY_MODEL_0dbb6dc73a494970b61aa036dd5dc634",
            "value": 791656
          }
        },
        "f9876e38e9aa4ec8b4654439ff07801b": {
          "model_module": "@jupyter-widgets/base",
          "model_module_version": "1.2.0",
          "model_name": "LayoutModel",
          "state": {
            "_model_module": "@jupyter-widgets/base",
            "_model_module_version": "1.2.0",
            "_model_name": "LayoutModel",
            "_view_count": null,
            "_view_module": "@jupyter-widgets/base",
            "_view_module_version": "1.2.0",
            "_view_name": "LayoutView",
            "align_content": null,
            "align_items": null,
            "align_self": null,
            "border": null,
            "bottom": null,
            "display": null,
            "flex": null,
            "flex_flow": null,
            "grid_area": null,
            "grid_auto_columns": null,
            "grid_auto_flow": null,
            "grid_auto_rows": null,
            "grid_column": null,
            "grid_gap": null,
            "grid_row": null,
            "grid_template_areas": null,
            "grid_template_columns": null,
            "grid_template_rows": null,
            "height": null,
            "justify_content": null,
            "justify_items": null,
            "left": null,
            "margin": null,
            "max_height": null,
            "max_width": null,
            "min_height": null,
            "min_width": null,
            "object_fit": null,
            "object_position": null,
            "order": null,
            "overflow": null,
            "overflow_x": null,
            "overflow_y": null,
            "padding": null,
            "right": null,
            "top": null,
            "visibility": null,
            "width": null
          }
        },
        "fc50c7beee31477990c545cd7ca802c7": {
          "model_module": "@jupyter-widgets/base",
          "model_module_version": "1.2.0",
          "model_name": "LayoutModel",
          "state": {
            "_model_module": "@jupyter-widgets/base",
            "_model_module_version": "1.2.0",
            "_model_name": "LayoutModel",
            "_view_count": null,
            "_view_module": "@jupyter-widgets/base",
            "_view_module_version": "1.2.0",
            "_view_name": "LayoutView",
            "align_content": null,
            "align_items": null,
            "align_self": null,
            "border": null,
            "bottom": null,
            "display": null,
            "flex": null,
            "flex_flow": null,
            "grid_area": null,
            "grid_auto_columns": null,
            "grid_auto_flow": null,
            "grid_auto_rows": null,
            "grid_column": null,
            "grid_gap": null,
            "grid_row": null,
            "grid_template_areas": null,
            "grid_template_columns": null,
            "grid_template_rows": null,
            "height": null,
            "justify_content": null,
            "justify_items": null,
            "left": null,
            "margin": null,
            "max_height": null,
            "max_width": null,
            "min_height": null,
            "min_width": null,
            "object_fit": null,
            "object_position": null,
            "order": null,
            "overflow": null,
            "overflow_x": null,
            "overflow_y": null,
            "padding": null,
            "right": null,
            "top": null,
            "visibility": null,
            "width": null
          }
        }
      }
    }
  },
  "nbformat": 4,
  "nbformat_minor": 0
}