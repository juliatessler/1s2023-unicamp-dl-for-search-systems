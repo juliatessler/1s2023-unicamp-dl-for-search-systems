{
  "cells": [
    {
      "cell_type": "markdown",
      "metadata": {
        "id": "view-in-github",
        "colab_type": "text"
      },
      "source": [
        "<a href=\"https://colab.research.google.com/github/juliatessler/1s2023-unicamp-dl-for-search-systems/blob/main/6-doc2query/6_t5%2Bdoc2query.ipynb\" target=\"_parent\"><img src=\"https://colab.research.google.com/assets/colab-badge.svg\" alt=\"Open In Colab\"/></a>"
      ]
    },
    {
      "cell_type": "markdown",
      "metadata": {
        "id": "dMTvzAS4yvVB"
      },
      "source": [
        "# 6- T5 + doc2query\n",
        "Júlia Ferreira Tessler"
      ]
    },
    {
      "cell_type": "code",
      "execution_count": null,
      "metadata": {
        "id": "ssU85GHb2434",
        "colab": {
          "base_uri": "https://localhost:8080/"
        },
        "outputId": "de74e959-8be3-4f68-a134-23538a6d5169"
      },
      "outputs": [
        {
          "output_type": "stream",
          "name": "stdout",
          "text": [
            "\u001b[2K     \u001b[90m━━━━━━━━━━━━━━━━━━━━━━━━━━━━━━━━━━━━━━━━\u001b[0m \u001b[32m6.8/6.8 MB\u001b[0m \u001b[31m76.0 MB/s\u001b[0m eta \u001b[36m0:00:00\u001b[0m\n",
            "\u001b[2K     \u001b[90m━━━━━━━━━━━━━━━━━━━━━━━━━━━━━━━━━━━━━━━━\u001b[0m \u001b[32m7.8/7.8 MB\u001b[0m \u001b[31m92.2 MB/s\u001b[0m eta \u001b[36m0:00:00\u001b[0m\n",
            "\u001b[2K     \u001b[90m━━━━━━━━━━━━━━━━━━━━━━━━━━━━━━━━━━━━━━\u001b[0m \u001b[32m200.1/200.1 kB\u001b[0m \u001b[31m18.1 MB/s\u001b[0m eta \u001b[36m0:00:00\u001b[0m\n",
            "\u001b[2K     \u001b[90m━━━━━━━━━━━━━━━━━━━━━━━━━━━━━━━━━━━━━━━━\u001b[0m \u001b[32m53.1/53.1 kB\u001b[0m \u001b[31m7.0 MB/s\u001b[0m eta \u001b[36m0:00:00\u001b[0m\n",
            "\u001b[2K     \u001b[90m━━━━━━━━━━━━━━━━━━━━━━━━━━━━━━━━━━━━━━━━\u001b[0m \u001b[32m1.3/1.3 MB\u001b[0m \u001b[31m36.1 MB/s\u001b[0m eta \u001b[36m0:00:00\u001b[0m\n",
            "\u001b[2K     \u001b[90m━━━━━━━━━━━━━━━━━━━━━━━━━━━━━━━━━━━━━━━━\u001b[0m \u001b[32m81.4/81.4 kB\u001b[0m \u001b[31m7.2 MB/s\u001b[0m eta \u001b[36m0:00:00\u001b[0m\n",
            "\u001b[2K     \u001b[90m━━━━━━━━━━━━━━━━━━━━━━━━━━━━━━━━━━━━━━\u001b[0m \u001b[32m110.5/110.5 kB\u001b[0m \u001b[31m13.6 MB/s\u001b[0m eta \u001b[36m0:00:00\u001b[0m\n",
            "\u001b[2K     \u001b[90m━━━━━━━━━━━━━━━━━━━━━━━━━━━━━━━━━━━━━━\u001b[0m \u001b[32m212.2/212.2 kB\u001b[0m \u001b[31m25.7 MB/s\u001b[0m eta \u001b[36m0:00:00\u001b[0m\n",
            "\u001b[2K     \u001b[90m━━━━━━━━━━━━━━━━━━━━━━━━━━━━━━━━━━━━━━\u001b[0m \u001b[32m132.9/132.9 kB\u001b[0m \u001b[31m19.1 MB/s\u001b[0m eta \u001b[36m0:00:00\u001b[0m\n",
            "\u001b[2K     \u001b[90m━━━━━━━━━━━━━━━━━━━━━━━━━━━━━━━━━━━━━━\u001b[0m \u001b[32m468.7/468.7 kB\u001b[0m \u001b[31m45.7 MB/s\u001b[0m eta \u001b[36m0:00:00\u001b[0m\n",
            "\u001b[2K     \u001b[90m━━━━━━━━━━━━━━━━━━━━━━━━━━━━━━━━━━━━━━━━\u001b[0m \u001b[32m1.0/1.0 MB\u001b[0m \u001b[31m66.2 MB/s\u001b[0m eta \u001b[36m0:00:00\u001b[0m\n",
            "\u001b[2K     \u001b[90m━━━━━━━━━━━━━━━━━━━━━━━━━━━━━━━━━━━━━━\u001b[0m \u001b[32m264.6/264.6 kB\u001b[0m \u001b[31m32.2 MB/s\u001b[0m eta \u001b[36m0:00:00\u001b[0m\n",
            "\u001b[2K     \u001b[90m━━━━━━━━━━━━━━━━━━━━━━━━━━━━━━━━━━━━━━\u001b[0m \u001b[32m158.8/158.8 kB\u001b[0m \u001b[31m20.9 MB/s\u001b[0m eta \u001b[36m0:00:00\u001b[0m\n",
            "\u001b[2K     \u001b[90m━━━━━━━━━━━━━━━━━━━━━━━━━━━━━━━━━━━━━━\u001b[0m \u001b[32m114.2/114.2 kB\u001b[0m \u001b[31m14.6 MB/s\u001b[0m eta \u001b[36m0:00:00\u001b[0m\n",
            "\u001b[2K     \u001b[90m━━━━━━━━━━━━━━━━━━━━━━━━━━━━━━━━━━━━━━\u001b[0m \u001b[32m118.9/118.9 kB\u001b[0m \u001b[31m10.1 MB/s\u001b[0m eta \u001b[36m0:00:00\u001b[0m\n",
            "\u001b[2K     \u001b[90m━━━━━━━━━━━━━━━━━━━━━━━━━━━━━━━━━━━━━━\u001b[0m \u001b[32m154.1/154.1 MB\u001b[0m \u001b[31m11.8 MB/s\u001b[0m eta \u001b[36m0:00:00\u001b[0m\n",
            "\u001b[2K     \u001b[90m━━━━━━━━━━━━━━━━━━━━━━━━━━━━━━━━━━━━━━━━\u001b[0m \u001b[32m5.0/5.0 MB\u001b[0m \u001b[31m91.1 MB/s\u001b[0m eta \u001b[36m0:00:00\u001b[0m\n",
            "\u001b[2K     \u001b[90m━━━━━━━━━━━━━━━━━━━━━━━━━━━━━━━━━━━━━━━━\u001b[0m \u001b[32m1.5/1.5 MB\u001b[0m \u001b[31m68.8 MB/s\u001b[0m eta \u001b[36m0:00:00\u001b[0m\n",
            "\u001b[2K     \u001b[90m━━━━━━━━━━━━━━━━━━━━━━━━━━━━━━━━━━━━━━━━\u001b[0m \u001b[32m13.3/13.3 MB\u001b[0m \u001b[31m79.8 MB/s\u001b[0m eta \u001b[36m0:00:00\u001b[0m\n",
            "\u001b[2K     \u001b[90m━━━━━━━━━━━━━━━━━━━━━━━━━━━━━━━━━━━━━━\u001b[0m \u001b[32m188.5/188.5 kB\u001b[0m \u001b[31m23.7 MB/s\u001b[0m eta \u001b[36m0:00:00\u001b[0m\n",
            "\u001b[2K     \u001b[90m━━━━━━━━━━━━━━━━━━━━━━━━━━━━━━━━━━━━━━━━\u001b[0m \u001b[32m46.0/46.0 kB\u001b[0m \u001b[31m5.6 MB/s\u001b[0m eta \u001b[36m0:00:00\u001b[0m\n",
            "\u001b[2K     \u001b[90m━━━━━━━━━━━━━━━━━━━━━━━━━━━━━━━━━━━━━━━━\u001b[0m \u001b[32m86.8/86.8 kB\u001b[0m \u001b[31m12.8 MB/s\u001b[0m eta \u001b[36m0:00:00\u001b[0m\n",
            "\u001b[2K     \u001b[90m━━━━━━━━━━━━━━━━━━━━━━━━━━━━━━━━━━━━━━━━\u001b[0m \u001b[32m17.0/17.0 MB\u001b[0m \u001b[31m83.5 MB/s\u001b[0m eta \u001b[36m0:00:00\u001b[0m\n",
            "\u001b[?25h  Preparing metadata (setup.py) ... \u001b[?25l\u001b[?25hdone\n",
            "  Preparing metadata (setup.py) ... \u001b[?25l\u001b[?25hdone\n",
            "  Building wheel for trectools (setup.py) ... \u001b[?25l\u001b[?25hdone\n",
            "  Building wheel for bs4 (setup.py) ... \u001b[?25l\u001b[?25hdone\n"
          ]
        }
      ],
      "source": [
        "!pip install transformers -q\n",
        "!pip install ftfy -q\n",
        "!pip install sentencepiece -q\n",
        "!pip install evaluate -q\n",
        "!pip install sacrebleu -q\n",
        "!pip install pyserini -q\n",
        "!pip install faiss-cpu -q\n",
        "!pip install trectools -q"
      ]
    },
    {
      "cell_type": "code",
      "execution_count": null,
      "metadata": {
        "colab": {
          "base_uri": "https://localhost:8080/"
        },
        "id": "MYyFYdXeMkXV",
        "outputId": "6512d7bd-8c2c-4ae7-db34-9d9e50f6fd27"
      },
      "outputs": [
        {
          "output_type": "stream",
          "name": "stdout",
          "text": [
            "Mounted at /content/gdrive\n"
          ]
        }
      ],
      "source": [
        "from google.colab import drive\n",
        "\n",
        "drive.mount('/content/gdrive', force_remount = True)"
      ]
    },
    {
      "cell_type": "code",
      "execution_count": null,
      "metadata": {
        "id": "QIsxM2G8MprZ"
      },
      "outputs": [],
      "source": [
        "workdir = '/content/gdrive/MyDrive/Unicamp/Deep Learning Aplicado à Sistemas de Busca/Notebooks/'"
      ]
    },
    {
      "cell_type": "code",
      "execution_count": null,
      "metadata": {
        "colab": {
          "base_uri": "https://localhost:8080/"
        },
        "id": "WOj9WFqp5Ij6",
        "outputId": "90f25bbd-2452-4995-8223-e75f357ac4ca"
      },
      "outputs": [
        {
          "output_type": "stream",
          "name": "stdout",
          "text": [
            "Wed Apr 12 21:53:38 2023       \n",
            "+-----------------------------------------------------------------------------+\n",
            "| NVIDIA-SMI 525.85.12    Driver Version: 525.85.12    CUDA Version: 12.0     |\n",
            "|-------------------------------+----------------------+----------------------+\n",
            "| GPU  Name        Persistence-M| Bus-Id        Disp.A | Volatile Uncorr. ECC |\n",
            "| Fan  Temp  Perf  Pwr:Usage/Cap|         Memory-Usage | GPU-Util  Compute M. |\n",
            "|                               |                      |               MIG M. |\n",
            "|===============================+======================+======================|\n",
            "|   0  NVIDIA A100-SXM...  Off  | 00000000:00:04.0 Off |                    0 |\n",
            "| N/A   31C    P0    43W / 400W |      0MiB / 40960MiB |      0%      Default |\n",
            "|                               |                      |             Disabled |\n",
            "+-------------------------------+----------------------+----------------------+\n",
            "                                                                               \n",
            "+-----------------------------------------------------------------------------+\n",
            "| Processes:                                                                  |\n",
            "|  GPU   GI   CI        PID   Type   Process name                  GPU Memory |\n",
            "|        ID   ID                                                   Usage      |\n",
            "|=============================================================================|\n",
            "|  No running processes found                                                 |\n",
            "+-----------------------------------------------------------------------------+\n"
          ]
        }
      ],
      "source": [
        "gpu_info = !nvidia-smi\n",
        "gpu_info = '\\n'.join(gpu_info)\n",
        "if gpu_info.find('failed') >= 0:\n",
        "  print('Not connected to a GPU')\n",
        "else:\n",
        "  print(gpu_info)"
      ]
    },
    {
      "cell_type": "code",
      "execution_count": null,
      "metadata": {
        "colab": {
          "base_uri": "https://localhost:8080/"
        },
        "id": "kopjbCprSR0v",
        "outputId": "1edfca05-80ce-453e-95da-b5b24f08fa00"
      },
      "outputs": [
        {
          "output_type": "execute_result",
          "data": {
            "text/plain": [
              "device(type='cuda')"
            ]
          },
          "metadata": {},
          "execution_count": 5
        }
      ],
      "source": [
        "import torch\n",
        "\n",
        "device = torch.device(\"cuda\" if torch.cuda.is_available() else \"cpu\")\n",
        "device"
      ]
    },
    {
      "cell_type": "code",
      "execution_count": null,
      "metadata": {
        "id": "RsjLdiQjyqyO"
      },
      "outputs": [],
      "source": [
        "import pandas as pd\n",
        "import numpy as np\n",
        "import ftfy\n",
        "import evaluate\n",
        "import json\n",
        "\n",
        "from transformers import (\n",
        "    AutoConfig,\n",
        "    AutoModelForSeq2SeqLM,\n",
        "    AutoTokenizer,\n",
        "    DataCollatorForSeq2Seq,\n",
        "    HfArgumentParser,\n",
        "    Seq2SeqTrainer,\n",
        "    Seq2SeqTrainingArguments,\n",
        "    set_seed,\n",
        "    T5Tokenizer,\n",
        "    T5ForConditionalGeneration\n",
        ")\n",
        "from transformers.optimization import Adafactor, AdafactorSchedule\n",
        "from sklearn.model_selection import train_test_split\n",
        "from torch.utils.data import Dataset, DataLoader"
      ]
    },
    {
      "cell_type": "markdown",
      "metadata": {
        "id": "RgA6lXrW2pXQ"
      },
      "source": [
        "## Downloading and preparing dataset"
      ]
    },
    {
      "cell_type": "code",
      "execution_count": null,
      "metadata": {
        "colab": {
          "base_uri": "https://localhost:8080/"
        },
        "id": "WuvbtDZW2Lgq",
        "outputId": "50a110dd-c332-480f-9517-b504287418f5"
      },
      "outputs": [
        {
          "output_type": "stream",
          "name": "stdout",
          "text": [
            "--2023-04-10 22:20:48--  https://storage.googleapis.com/unicamp-dl/ia368dd_2023s1/msmarco/msmarco_triples.train.tiny.tsv\n",
            "Resolving storage.googleapis.com (storage.googleapis.com)... 142.251.2.128, 142.250.141.128, 74.125.137.128, ...\n",
            "Connecting to storage.googleapis.com (storage.googleapis.com)|142.251.2.128|:443... connected.\n",
            "HTTP request sent, awaiting response... 200 OK\n",
            "Length: 8076179 (7.7M) [text/tab-separated-values]\n",
            "Saving to: ‘msmarco_triples.train.tiny.tsv’\n",
            "\n",
            "msmarco_triples.tra 100%[===================>]   7.70M  --.-KB/s    in 0.1s    \n",
            "\n",
            "2023-04-10 22:20:48 (61.0 MB/s) - ‘msmarco_triples.train.tiny.tsv’ saved [8076179/8076179]\n",
            "\n"
          ]
        }
      ],
      "source": [
        "# Download training data\n",
        "!wget https://storage.googleapis.com/unicamp-dl/ia368dd_2023s1/msmarco/msmarco_triples.train.tiny.tsv"
      ]
    },
    {
      "cell_type": "markdown",
      "metadata": {
        "id": "8TMSxOEb2PSR"
      },
      "source": [
        "According to ChatGPT:\n",
        "\n",
        "The MSMARCO Triples Tiny dataset is a smaller subset of the full MSMARCO Triples dataset that contains 3-tuples of (query, positive document, negative document) pairs. Each triple in the MSMARCO Triples Tiny dataset consists of the following fields:\n",
        "\n",
        "* Query: The search query that was issued by the user.\n",
        "* Positive Document: A document that is relevant to the query and is considered as a positive example.\n",
        "* Negative Document: A document that is irrelevant to the query and is considered as a negative example.\n",
        "\n",
        "All three fields are represented as strings in the dataset. The MSMARCO Triples Tiny dataset is designed to be used for training and evaluating machine learning models for query-document ranking and relevance prediction tasks. The dataset is smaller than the full MSMARCO Triples dataset, containing only 31,000 triples, but can be used for quick experimentation and prototyping of machine learning models."
      ]
    },
    {
      "cell_type": "code",
      "execution_count": null,
      "metadata": {
        "colab": {
          "base_uri": "https://localhost:8080/",
          "height": 206
        },
        "id": "0OfJu9xP2ELl",
        "outputId": "a7e96905-6353-45f1-8e46-a6182020177b"
      },
      "outputs": [
        {
          "output_type": "execute_result",
          "data": {
            "text/plain": [
              "                                            query  \\\n",
              "0        is a little caffeine ok during pregnancy   \n",
              "1               what fruit is native to australia   \n",
              "2              how large is the canadian military   \n",
              "3                            types of fruit trees   \n",
              "4  how many calories a day are lost breastfeeding   \n",
              "\n",
              "                                             pos_doc  \\\n",
              "0  We donât know a lot about the effects of caf...   \n",
              "1  Passiflora herbertiana. A rare passion fruit n...   \n",
              "2  The Canadian Armed Forces. 1  The first large-...   \n",
              "3  Cherry. Cherry trees are found throughout the ...   \n",
              "4  Not only is breastfeeding better for the baby,...   \n",
              "\n",
              "                                             neg_doc  \n",
              "0  It is generally safe for pregnant women to eat...  \n",
              "1  The kola nut is the fruit of the kola tree, a ...  \n",
              "2  The Canadian Physician Health Institute (CPHI)...  \n",
              "3  The kola nut is the fruit of the kola tree, a ...  \n",
              "4  However, you still need some niacin each day; ...  "
            ],
            "text/html": [
              "\n",
              "  <div id=\"df-38b46f67-c5d6-4f5b-b175-c01f47eb7dad\">\n",
              "    <div class=\"colab-df-container\">\n",
              "      <div>\n",
              "<style scoped>\n",
              "    .dataframe tbody tr th:only-of-type {\n",
              "        vertical-align: middle;\n",
              "    }\n",
              "\n",
              "    .dataframe tbody tr th {\n",
              "        vertical-align: top;\n",
              "    }\n",
              "\n",
              "    .dataframe thead th {\n",
              "        text-align: right;\n",
              "    }\n",
              "</style>\n",
              "<table border=\"1\" class=\"dataframe\">\n",
              "  <thead>\n",
              "    <tr style=\"text-align: right;\">\n",
              "      <th></th>\n",
              "      <th>query</th>\n",
              "      <th>pos_doc</th>\n",
              "      <th>neg_doc</th>\n",
              "    </tr>\n",
              "  </thead>\n",
              "  <tbody>\n",
              "    <tr>\n",
              "      <th>0</th>\n",
              "      <td>is a little caffeine ok during pregnancy</td>\n",
              "      <td>We donât know a lot about the effects of caf...</td>\n",
              "      <td>It is generally safe for pregnant women to eat...</td>\n",
              "    </tr>\n",
              "    <tr>\n",
              "      <th>1</th>\n",
              "      <td>what fruit is native to australia</td>\n",
              "      <td>Passiflora herbertiana. A rare passion fruit n...</td>\n",
              "      <td>The kola nut is the fruit of the kola tree, a ...</td>\n",
              "    </tr>\n",
              "    <tr>\n",
              "      <th>2</th>\n",
              "      <td>how large is the canadian military</td>\n",
              "      <td>The Canadian Armed Forces. 1  The first large-...</td>\n",
              "      <td>The Canadian Physician Health Institute (CPHI)...</td>\n",
              "    </tr>\n",
              "    <tr>\n",
              "      <th>3</th>\n",
              "      <td>types of fruit trees</td>\n",
              "      <td>Cherry. Cherry trees are found throughout the ...</td>\n",
              "      <td>The kola nut is the fruit of the kola tree, a ...</td>\n",
              "    </tr>\n",
              "    <tr>\n",
              "      <th>4</th>\n",
              "      <td>how many calories a day are lost breastfeeding</td>\n",
              "      <td>Not only is breastfeeding better for the baby,...</td>\n",
              "      <td>However, you still need some niacin each day; ...</td>\n",
              "    </tr>\n",
              "  </tbody>\n",
              "</table>\n",
              "</div>\n",
              "      <button class=\"colab-df-convert\" onclick=\"convertToInteractive('df-38b46f67-c5d6-4f5b-b175-c01f47eb7dad')\"\n",
              "              title=\"Convert this dataframe to an interactive table.\"\n",
              "              style=\"display:none;\">\n",
              "        \n",
              "  <svg xmlns=\"http://www.w3.org/2000/svg\" height=\"24px\"viewBox=\"0 0 24 24\"\n",
              "       width=\"24px\">\n",
              "    <path d=\"M0 0h24v24H0V0z\" fill=\"none\"/>\n",
              "    <path d=\"M18.56 5.44l.94 2.06.94-2.06 2.06-.94-2.06-.94-.94-2.06-.94 2.06-2.06.94zm-11 1L8.5 8.5l.94-2.06 2.06-.94-2.06-.94L8.5 2.5l-.94 2.06-2.06.94zm10 10l.94 2.06.94-2.06 2.06-.94-2.06-.94-.94-2.06-.94 2.06-2.06.94z\"/><path d=\"M17.41 7.96l-1.37-1.37c-.4-.4-.92-.59-1.43-.59-.52 0-1.04.2-1.43.59L10.3 9.45l-7.72 7.72c-.78.78-.78 2.05 0 2.83L4 21.41c.39.39.9.59 1.41.59.51 0 1.02-.2 1.41-.59l7.78-7.78 2.81-2.81c.8-.78.8-2.07 0-2.86zM5.41 20L4 18.59l7.72-7.72 1.47 1.35L5.41 20z\"/>\n",
              "  </svg>\n",
              "      </button>\n",
              "      \n",
              "  <style>\n",
              "    .colab-df-container {\n",
              "      display:flex;\n",
              "      flex-wrap:wrap;\n",
              "      gap: 12px;\n",
              "    }\n",
              "\n",
              "    .colab-df-convert {\n",
              "      background-color: #E8F0FE;\n",
              "      border: none;\n",
              "      border-radius: 50%;\n",
              "      cursor: pointer;\n",
              "      display: none;\n",
              "      fill: #1967D2;\n",
              "      height: 32px;\n",
              "      padding: 0 0 0 0;\n",
              "      width: 32px;\n",
              "    }\n",
              "\n",
              "    .colab-df-convert:hover {\n",
              "      background-color: #E2EBFA;\n",
              "      box-shadow: 0px 1px 2px rgba(60, 64, 67, 0.3), 0px 1px 3px 1px rgba(60, 64, 67, 0.15);\n",
              "      fill: #174EA6;\n",
              "    }\n",
              "\n",
              "    [theme=dark] .colab-df-convert {\n",
              "      background-color: #3B4455;\n",
              "      fill: #D2E3FC;\n",
              "    }\n",
              "\n",
              "    [theme=dark] .colab-df-convert:hover {\n",
              "      background-color: #434B5C;\n",
              "      box-shadow: 0px 1px 3px 1px rgba(0, 0, 0, 0.15);\n",
              "      filter: drop-shadow(0px 1px 2px rgba(0, 0, 0, 0.3));\n",
              "      fill: #FFFFFF;\n",
              "    }\n",
              "  </style>\n",
              "\n",
              "      <script>\n",
              "        const buttonEl =\n",
              "          document.querySelector('#df-38b46f67-c5d6-4f5b-b175-c01f47eb7dad button.colab-df-convert');\n",
              "        buttonEl.style.display =\n",
              "          google.colab.kernel.accessAllowed ? 'block' : 'none';\n",
              "\n",
              "        async function convertToInteractive(key) {\n",
              "          const element = document.querySelector('#df-38b46f67-c5d6-4f5b-b175-c01f47eb7dad');\n",
              "          const dataTable =\n",
              "            await google.colab.kernel.invokeFunction('convertToInteractive',\n",
              "                                                     [key], {});\n",
              "          if (!dataTable) return;\n",
              "\n",
              "          const docLinkHtml = 'Like what you see? Visit the ' +\n",
              "            '<a target=\"_blank\" href=https://colab.research.google.com/notebooks/data_table.ipynb>data table notebook</a>'\n",
              "            + ' to learn more about interactive tables.';\n",
              "          element.innerHTML = '';\n",
              "          dataTable['output_type'] = 'display_data';\n",
              "          await google.colab.output.renderOutput(dataTable, element);\n",
              "          const docLink = document.createElement('div');\n",
              "          docLink.innerHTML = docLinkHtml;\n",
              "          element.appendChild(docLink);\n",
              "        }\n",
              "      </script>\n",
              "    </div>\n",
              "  </div>\n",
              "  "
            ]
          },
          "metadata": {},
          "execution_count": 8
        }
      ],
      "source": [
        "# Code from ChatGPT\n",
        "df = pd.read_csv('msmarco_triples.train.tiny.tsv', \n",
        "                 delimiter = '\\t', \n",
        "                 header = None, \n",
        "                 names = ['query', 'pos_doc', 'neg_doc'])\n",
        "\n",
        "df.head()"
      ]
    },
    {
      "cell_type": "markdown",
      "metadata": {
        "id": "n-5Lqc-GALJz"
      },
      "source": [
        "Cleaning for weird chars in text. This idea (and code!) came from Marcos Piau's notebook (:"
      ]
    },
    {
      "cell_type": "code",
      "execution_count": null,
      "metadata": {
        "colab": {
          "base_uri": "https://localhost:8080/",
          "height": 206
        },
        "id": "-WtjeZwbA4sn",
        "outputId": "14302bb5-e280-4326-9f3b-da72bfcc429d"
      },
      "outputs": [
        {
          "output_type": "execute_result",
          "data": {
            "text/plain": [
              "                                            query  \\\n",
              "0        is a little caffeine ok during pregnancy   \n",
              "1               what fruit is native to australia   \n",
              "2              how large is the canadian military   \n",
              "3                            types of fruit trees   \n",
              "4  how many calories a day are lost breastfeeding   \n",
              "\n",
              "                                             pos_doc  \n",
              "0  We don't know a lot about the effects of caffe...  \n",
              "1  Passiflora herbertiana. A rare passion fruit n...  \n",
              "2  The Canadian Armed Forces. 1  The first large-...  \n",
              "3  Cherry. Cherry trees are found throughout the ...  \n",
              "4  Not only is breastfeeding better for the baby,...  "
            ],
            "text/html": [
              "\n",
              "  <div id=\"df-d800a306-d0b9-4385-af4c-61977a8b1a15\">\n",
              "    <div class=\"colab-df-container\">\n",
              "      <div>\n",
              "<style scoped>\n",
              "    .dataframe tbody tr th:only-of-type {\n",
              "        vertical-align: middle;\n",
              "    }\n",
              "\n",
              "    .dataframe tbody tr th {\n",
              "        vertical-align: top;\n",
              "    }\n",
              "\n",
              "    .dataframe thead th {\n",
              "        text-align: right;\n",
              "    }\n",
              "</style>\n",
              "<table border=\"1\" class=\"dataframe\">\n",
              "  <thead>\n",
              "    <tr style=\"text-align: right;\">\n",
              "      <th></th>\n",
              "      <th>query</th>\n",
              "      <th>pos_doc</th>\n",
              "    </tr>\n",
              "  </thead>\n",
              "  <tbody>\n",
              "    <tr>\n",
              "      <th>0</th>\n",
              "      <td>is a little caffeine ok during pregnancy</td>\n",
              "      <td>We don't know a lot about the effects of caffe...</td>\n",
              "    </tr>\n",
              "    <tr>\n",
              "      <th>1</th>\n",
              "      <td>what fruit is native to australia</td>\n",
              "      <td>Passiflora herbertiana. A rare passion fruit n...</td>\n",
              "    </tr>\n",
              "    <tr>\n",
              "      <th>2</th>\n",
              "      <td>how large is the canadian military</td>\n",
              "      <td>The Canadian Armed Forces. 1  The first large-...</td>\n",
              "    </tr>\n",
              "    <tr>\n",
              "      <th>3</th>\n",
              "      <td>types of fruit trees</td>\n",
              "      <td>Cherry. Cherry trees are found throughout the ...</td>\n",
              "    </tr>\n",
              "    <tr>\n",
              "      <th>4</th>\n",
              "      <td>how many calories a day are lost breastfeeding</td>\n",
              "      <td>Not only is breastfeeding better for the baby,...</td>\n",
              "    </tr>\n",
              "  </tbody>\n",
              "</table>\n",
              "</div>\n",
              "      <button class=\"colab-df-convert\" onclick=\"convertToInteractive('df-d800a306-d0b9-4385-af4c-61977a8b1a15')\"\n",
              "              title=\"Convert this dataframe to an interactive table.\"\n",
              "              style=\"display:none;\">\n",
              "        \n",
              "  <svg xmlns=\"http://www.w3.org/2000/svg\" height=\"24px\"viewBox=\"0 0 24 24\"\n",
              "       width=\"24px\">\n",
              "    <path d=\"M0 0h24v24H0V0z\" fill=\"none\"/>\n",
              "    <path d=\"M18.56 5.44l.94 2.06.94-2.06 2.06-.94-2.06-.94-.94-2.06-.94 2.06-2.06.94zm-11 1L8.5 8.5l.94-2.06 2.06-.94-2.06-.94L8.5 2.5l-.94 2.06-2.06.94zm10 10l.94 2.06.94-2.06 2.06-.94-2.06-.94-.94-2.06-.94 2.06-2.06.94z\"/><path d=\"M17.41 7.96l-1.37-1.37c-.4-.4-.92-.59-1.43-.59-.52 0-1.04.2-1.43.59L10.3 9.45l-7.72 7.72c-.78.78-.78 2.05 0 2.83L4 21.41c.39.39.9.59 1.41.59.51 0 1.02-.2 1.41-.59l7.78-7.78 2.81-2.81c.8-.78.8-2.07 0-2.86zM5.41 20L4 18.59l7.72-7.72 1.47 1.35L5.41 20z\"/>\n",
              "  </svg>\n",
              "      </button>\n",
              "      \n",
              "  <style>\n",
              "    .colab-df-container {\n",
              "      display:flex;\n",
              "      flex-wrap:wrap;\n",
              "      gap: 12px;\n",
              "    }\n",
              "\n",
              "    .colab-df-convert {\n",
              "      background-color: #E8F0FE;\n",
              "      border: none;\n",
              "      border-radius: 50%;\n",
              "      cursor: pointer;\n",
              "      display: none;\n",
              "      fill: #1967D2;\n",
              "      height: 32px;\n",
              "      padding: 0 0 0 0;\n",
              "      width: 32px;\n",
              "    }\n",
              "\n",
              "    .colab-df-convert:hover {\n",
              "      background-color: #E2EBFA;\n",
              "      box-shadow: 0px 1px 2px rgba(60, 64, 67, 0.3), 0px 1px 3px 1px rgba(60, 64, 67, 0.15);\n",
              "      fill: #174EA6;\n",
              "    }\n",
              "\n",
              "    [theme=dark] .colab-df-convert {\n",
              "      background-color: #3B4455;\n",
              "      fill: #D2E3FC;\n",
              "    }\n",
              "\n",
              "    [theme=dark] .colab-df-convert:hover {\n",
              "      background-color: #434B5C;\n",
              "      box-shadow: 0px 1px 3px 1px rgba(0, 0, 0, 0.15);\n",
              "      filter: drop-shadow(0px 1px 2px rgba(0, 0, 0, 0.3));\n",
              "      fill: #FFFFFF;\n",
              "    }\n",
              "  </style>\n",
              "\n",
              "      <script>\n",
              "        const buttonEl =\n",
              "          document.querySelector('#df-d800a306-d0b9-4385-af4c-61977a8b1a15 button.colab-df-convert');\n",
              "        buttonEl.style.display =\n",
              "          google.colab.kernel.accessAllowed ? 'block' : 'none';\n",
              "\n",
              "        async function convertToInteractive(key) {\n",
              "          const element = document.querySelector('#df-d800a306-d0b9-4385-af4c-61977a8b1a15');\n",
              "          const dataTable =\n",
              "            await google.colab.kernel.invokeFunction('convertToInteractive',\n",
              "                                                     [key], {});\n",
              "          if (!dataTable) return;\n",
              "\n",
              "          const docLinkHtml = 'Like what you see? Visit the ' +\n",
              "            '<a target=\"_blank\" href=https://colab.research.google.com/notebooks/data_table.ipynb>data table notebook</a>'\n",
              "            + ' to learn more about interactive tables.';\n",
              "          element.innerHTML = '';\n",
              "          dataTable['output_type'] = 'display_data';\n",
              "          await google.colab.output.renderOutput(dataTable, element);\n",
              "          const docLink = document.createElement('div');\n",
              "          docLink.innerHTML = docLinkHtml;\n",
              "          element.appendChild(docLink);\n",
              "        }\n",
              "      </script>\n",
              "    </div>\n",
              "  </div>\n",
              "  "
            ]
          },
          "metadata": {},
          "execution_count": 9
        }
      ],
      "source": [
        "df['query'] = df['query'].apply(ftfy.fix_text)\n",
        "df['pos_doc'] = df['pos_doc'].apply(ftfy.fix_text)\n",
        "df.drop('neg_doc', inplace = True, axis = 1)\n",
        "\n",
        "df.head()"
      ]
    },
    {
      "cell_type": "markdown",
      "metadata": {
        "id": "bw7AD-_9RJiL"
      },
      "source": [
        "### Separate into train and test data"
      ]
    },
    {
      "cell_type": "code",
      "execution_count": null,
      "metadata": {
        "id": "8lKPzz9YRJNC"
      },
      "outputs": [],
      "source": [
        "X = df['pos_doc'].tolist()\n",
        "y = df['query'].tolist()\n",
        "\n",
        "X_train, X_eval, y_train, y_eval = train_test_split(X, y, test_size = 1000, random_state = 42)"
      ]
    },
    {
      "cell_type": "markdown",
      "metadata": {
        "id": "xGRmROa641Uq"
      },
      "source": [
        "## Get the model"
      ]
    },
    {
      "cell_type": "code",
      "execution_count": null,
      "metadata": {
        "colab": {
          "base_uri": "https://localhost:8080/",
          "height": 272,
          "referenced_widgets": [
            "df8d8e1c706f4e11971096ac9b07bc41",
            "1944a9a2ff1d496381e9d512208d7b92",
            "cb80b1198d2c41a6920af71ea4f9273b",
            "741c49e2f86f4e368b4820d73393dfbe",
            "53d49e656a2d4f13a05f5fdf46dc4562",
            "2963ddfbe0284d7c8b3b818c7ffee6ee",
            "c2179a6d4ed24e8ca776b90b19e7d463",
            "3efb27b08161426cb98dc8f73507f1db",
            "efc6899a738a4706bf076273711f005b",
            "eb8aee7adf7a4657aaa5fb9bc7866ee6",
            "a74677943d3640d095128dd517c71ab5",
            "33d833389fe1412e9fcf273504889eb7",
            "6b9a82047e6941b8a7f3142f94d6367d",
            "ac83f51df1dc480c9e6a100530de39ca",
            "dccf1a5a132d4c6fb5afe8b96decfe65",
            "fa3f60992b5f42269ad84843e97edfba",
            "9a7a5ebd727045518f395f8e9bae99a3",
            "d388f15d29974228834c5b10b531e8b3",
            "956839a3931d455ea99dd5bee29ec1a1",
            "90c48387912a488da1914364cf59b461",
            "734d65eb133349c980059e47cec69e9e",
            "f2bb5b3cd4f0451987df2db921c1e196",
            "e35751bf77dc4cc79bd947a41aa48be8",
            "06a742ce5cf74520a566f7e759cf89f3",
            "bd4edab0be3147a1a1ca67ab3cdef7a9",
            "5a4f479f4fb441f4b7dadd7ee6dadf48",
            "a2fe091857044b8697057e692b7fb6d5",
            "5f6370e1b1da4422b83b79318c0c3400",
            "3b9a902d93ab4d909e3937b65b6afae7",
            "b4c010331dd6445fa0a7b34ec8e8f852",
            "493595c2b7eb4ebe81dc2946a8403175",
            "1cb812a5ce9d4a7aabcad4682bee18fc",
            "7f5e0c0c59074b52a0a3e395b9c2e8bd",
            "bb079e20249249f8836becf41c770825",
            "a1dbfda005f14e7492b8e78625d6104a",
            "4bd0c4f620274e2789e9cc5588abb509",
            "385d6057cc9044fcbfa00d1c6acbe930",
            "81820e36c0e946c3860a92258eddf108",
            "3e4ad6ce55774699894fa613148b803a",
            "a4bd37a584794191b18a5b72ee845a6d",
            "a05ae4e0d9334f72a1163af8d61489f5",
            "a83151e63ea84052a256874a382368b2",
            "84ebfdcdd2d24a0d8f8622a9c7307b68",
            "e025b3ef38c54d168e6da1912b9dd9d3"
          ]
        },
        "id": "cUnR6a7E9jqJ",
        "outputId": "3d607c9e-5a68-44ff-ee41-993867e68310"
      },
      "outputs": [
        {
          "output_type": "display_data",
          "data": {
            "text/plain": [
              "Downloading (…)ve/main/spiece.model:   0%|          | 0.00/792k [00:00<?, ?B/s]"
            ],
            "application/vnd.jupyter.widget-view+json": {
              "version_major": 2,
              "version_minor": 0,
              "model_id": "df8d8e1c706f4e11971096ac9b07bc41"
            }
          },
          "metadata": {}
        },
        {
          "output_type": "display_data",
          "data": {
            "text/plain": [
              "Downloading (…)lve/main/config.json:   0%|          | 0.00/1.21k [00:00<?, ?B/s]"
            ],
            "application/vnd.jupyter.widget-view+json": {
              "version_major": 2,
              "version_minor": 0,
              "model_id": "33d833389fe1412e9fcf273504889eb7"
            }
          },
          "metadata": {}
        },
        {
          "output_type": "stream",
          "name": "stderr",
          "text": [
            "/usr/local/lib/python3.9/dist-packages/transformers/models/t5/tokenization_t5.py:163: FutureWarning: This tokenizer was incorrectly instantiated with a model max length of 512 which will be corrected in Transformers v5.\n",
            "For now, this behavior is kept to avoid breaking backwards compatibility when padding/encoding with `truncation is True`.\n",
            "- Be aware that you SHOULD NOT rely on t5-base automatically truncating your input to 512 when padding/encoding.\n",
            "- If you want to encode/pad to sequences longer than 512 you can either instantiate this tokenizer with `model_max_length` or pass `max_length` when encoding/padding.\n",
            "- To avoid this warning, please instantiate this tokenizer with `model_max_length` set to your preferred value.\n",
            "  warnings.warn(\n"
          ]
        },
        {
          "output_type": "display_data",
          "data": {
            "text/plain": [
              "Downloading pytorch_model.bin:   0%|          | 0.00/892M [00:00<?, ?B/s]"
            ],
            "application/vnd.jupyter.widget-view+json": {
              "version_major": 2,
              "version_minor": 0,
              "model_id": "e35751bf77dc4cc79bd947a41aa48be8"
            }
          },
          "metadata": {}
        },
        {
          "output_type": "display_data",
          "data": {
            "text/plain": [
              "Downloading (…)neration_config.json:   0%|          | 0.00/147 [00:00<?, ?B/s]"
            ],
            "application/vnd.jupyter.widget-view+json": {
              "version_major": 2,
              "version_minor": 0,
              "model_id": "bb079e20249249f8836becf41c770825"
            }
          },
          "metadata": {}
        }
      ],
      "source": [
        "model_name = 't5-base'\n",
        "\n",
        "tokenizer = T5Tokenizer.from_pretrained(\"t5-base\")\n",
        "model = T5ForConditionalGeneration.from_pretrained(\"t5-base\").to(device)"
      ]
    },
    {
      "cell_type": "markdown",
      "metadata": {
        "id": "ST6t7b6QxEwM"
      },
      "source": [
        "## Training\n",
        "We should use sacreBLEU to evaluate the model after some steps."
      ]
    },
    {
      "cell_type": "code",
      "execution_count": null,
      "metadata": {
        "id": "m6LkhbjlHZ3I",
        "colab": {
          "base_uri": "https://localhost:8080/",
          "height": 49,
          "referenced_widgets": [
            "085dd7ea51ea4b7aaf308ff0fd9bed28",
            "599708cafa134d52b1c5a5a5101c643a",
            "36b8871f1a9a49719474fc1b7b982a2e",
            "53c83fd72c5e48e780ff6794041fd7b5",
            "14f8c0dceea04244a23f680d0abc7c08",
            "de1c271fa00d4d94b536e82bde125e16",
            "ded05e3a22b2473a8dfda6d177c05817",
            "539888c5478a4c7e84cbd55fb7eb17ff",
            "1e4a9493b7954a32b81fe99a852e0c17",
            "02507c6a9e92476f96c186fdbfe72ce2",
            "71cca2920025416983814003e0afc588"
          ]
        },
        "outputId": "11871ba0-18d2-4d66-9832-ec12b845b32e"
      },
      "outputs": [
        {
          "output_type": "display_data",
          "data": {
            "text/plain": [
              "Downloading builder script:   0%|          | 0.00/8.15k [00:00<?, ?B/s]"
            ],
            "application/vnd.jupyter.widget-view+json": {
              "version_major": 2,
              "version_minor": 0,
              "model_id": "085dd7ea51ea4b7aaf308ff0fd9bed28"
            }
          },
          "metadata": {}
        }
      ],
      "source": [
        "metric = evaluate.load(\"sacrebleu\")\n",
        "\n",
        "def postprocess_text(preds, labels):\n",
        "    preds = [pred.strip() for pred in preds]\n",
        "    labels = [[label.strip()] for label in labels]\n",
        "    return preds, labels\n",
        "\n",
        "def compute_metrics(eval_preds):\n",
        "    preds, labels = eval_preds\n",
        "    if isinstance(preds, tuple):\n",
        "        preds = preds[0]\n",
        "    decoded_preds = tokenizer.batch_decode(preds, skip_special_tokens = True)\n",
        "    \n",
        "    labels = np.where(labels != -100, labels, tokenizer.pad_token_id)\n",
        "    decoded_labels = tokenizer.batch_decode(labels, skip_special_tokens = True)\n",
        "\n",
        "    # Some simple post-processing\n",
        "    decoded_preds, decoded_labels = postprocess_text(decoded_preds, decoded_labels)\n",
        "\n",
        "    result = metric.compute(predictions=decoded_preds, references=decoded_labels)\n",
        "    result = {\"bleu\": result[\"score\"]}\n",
        "\n",
        "    return result"
      ]
    },
    {
      "cell_type": "markdown",
      "metadata": {
        "id": "MYfIxB2UWVCX"
      },
      "source": [
        "### Tokenize dataset"
      ]
    },
    {
      "cell_type": "code",
      "execution_count": null,
      "metadata": {
        "id": "C9ntLp8sV3Ro"
      },
      "outputs": [],
      "source": [
        "class Doc2QueryDataset(Dataset):\n",
        "  def __init__(self, X, Y, tokenizer):\n",
        "    self.tokenizer = tokenizer\n",
        "    self.X = X\n",
        "    self.Y = Y\n",
        "\n",
        "  def __len__(self):\n",
        "    return len(self.X)\n",
        "\n",
        "  def __getitem__(self, index):    \n",
        "    tokenized_input = self.tokenizer(self.X[index])\n",
        "    tokenized_query = self.tokenizer(self.Y[index])\n",
        "    return {\"input_ids\": tokenized_input[\"input_ids\"], \n",
        "            \"attention_mask\": tokenized_input[\"attention_mask\"], \n",
        "            \"labels\": tokenized_query[\"input_ids\"]}"
      ]
    },
    {
      "cell_type": "code",
      "execution_count": null,
      "metadata": {
        "id": "3C8GJCB9Wg01"
      },
      "outputs": [],
      "source": [
        "train_dataset = Doc2QueryDataset(X_train, y_train, tokenizer)\n",
        "val_dataset = Doc2QueryDataset(X_eval, y_eval, tokenizer)"
      ]
    },
    {
      "cell_type": "code",
      "execution_count": null,
      "metadata": {
        "id": "wX4ceS9bZlWW"
      },
      "outputs": [],
      "source": [
        "batch_size = 32\n",
        "steps = 50\n",
        "epochs = 20"
      ]
    },
    {
      "cell_type": "code",
      "execution_count": null,
      "metadata": {
        "colab": {
          "base_uri": "https://localhost:8080/"
        },
        "id": "1duXh3QiR2dZ",
        "outputId": "ada5c248-f3b8-4b77-ed44-9cae2983735f"
      },
      "outputs": [
        {
          "output_type": "stream",
          "name": "stdout",
          "text": [
            "batch size =  32\n",
            "len train_dataset =  10000\n"
          ]
        }
      ],
      "source": [
        "# Got this chunk of code from Monique (https://github.com/monilouise/unicamp-P_IA368DD_2023S1/blob/main/Aula_6/T5_%2B_doc2query_finetuning.md)\n",
        "print(\"batch size = \", batch_size)\n",
        "print(\"len train_dataset = \", len(train_dataset))\n",
        "\n",
        "training_args = Seq2SeqTrainingArguments(output_dir=f\"{workdir}/doc2query\",\n",
        "                                          overwrite_output_dir = True,\n",
        "                                          per_device_train_batch_size = batch_size,\n",
        "                                          per_device_eval_batch_size = batch_size,\n",
        "                                          gradient_accumulation_steps = 8,\n",
        "                                          evaluation_strategy = 'steps',\n",
        "                                          eval_steps = steps, \n",
        "                                         logging_steps = steps, \n",
        "                                          save_steps = steps,\n",
        "                                          predict_with_generate = True,\n",
        "                                          fp16 = False,\n",
        "                                          bf16 = True,\n",
        "                                          num_train_epochs = epochs,\n",
        "                                          load_best_model_at_end = True,\n",
        "                                          metric_for_best_model = 'bleu',\n",
        "                                          save_total_limit = 2\n",
        "                                        )\n",
        "\n",
        "#If you use mixed precision, you need all your tensors to have dimensions that are multiple of 8s to maximize the benefits of your tensor cores.\n",
        "#So pas_to_multiple_of=8 is a good value\n",
        "#Ref.: https://discuss.huggingface.co/t/whats-a-good-value-for-pad-to-multiple-of/1481\n"
      ]
    },
    {
      "cell_type": "code",
      "execution_count": null,
      "metadata": {
        "id": "gBHrVXDVam1s"
      },
      "outputs": [],
      "source": [
        "data_collator = DataCollatorForSeq2Seq(\n",
        "    tokenizer,\n",
        "    model = model,\n",
        "    label_pad_token_id = -100,\n",
        "    pad_to_multiple_of = 8 if training_args.fp16 else None,\n",
        ")"
      ]
    },
    {
      "cell_type": "code",
      "execution_count": null,
      "metadata": {
        "id": "IcUMkHSua3kA"
      },
      "outputs": [],
      "source": [
        "# optimizer = Adafactor(model.parameters(), \n",
        "#                       lr = 1e-5, #1e-3 fez com que a val loss e o sacrebleu não reduzissem\n",
        "#                       scale_parameter = False, \n",
        "#                       relative_step = False, \n",
        "#                       warmup_init = False\n",
        "#                       )\n",
        "# lr_scheduler = AdafactorSchedule(optimizer)\n",
        "\n",
        "# Monique's way\n",
        "optimizer = Adafactor(model.parameters(), scale_parameter=True, relative_step=True, warmup_init=True)\n",
        "lr_scheduler = AdafactorSchedule(optimizer)"
      ]
    },
    {
      "cell_type": "markdown",
      "source": [
        "## Training"
      ],
      "metadata": {
        "id": "m5AEZwdgk00p"
      }
    },
    {
      "cell_type": "code",
      "execution_count": null,
      "metadata": {
        "id": "VZ3WxyWvaodl"
      },
      "outputs": [],
      "source": [
        "trainer = Seq2SeqTrainer(model = model,\n",
        "                        args = training_args,\n",
        "                        train_dataset = train_dataset,\n",
        "                        eval_dataset = val_dataset,\n",
        "                        data_collator = data_collator,\n",
        "                        tokenizer = tokenizer,\n",
        "                        compute_metrics = compute_metrics,\n",
        "                        optimizers = (optimizer, lr_scheduler)\n",
        "                        )"
      ]
    },
    {
      "cell_type": "code",
      "execution_count": null,
      "metadata": {
        "colab": {
          "base_uri": "https://localhost:8080/",
          "height": 546
        },
        "id": "-oBxRX5Faq89",
        "outputId": "24b7a2f8-4450-402a-f525-647f139b5b24"
      },
      "outputs": [
        {
          "output_type": "display_data",
          "data": {
            "text/plain": [
              "<IPython.core.display.HTML object>"
            ],
            "text/html": [
              "\n",
              "    <div>\n",
              "      \n",
              "      <progress value='780' max='780' style='width:300px; height:20px; vertical-align: middle;'></progress>\n",
              "      [780/780 25:00, Epoch 19/20]\n",
              "    </div>\n",
              "    <table border=\"1\" class=\"dataframe\">\n",
              "  <thead>\n",
              " <tr style=\"text-align: left;\">\n",
              "      <th>Step</th>\n",
              "      <th>Training Loss</th>\n",
              "      <th>Validation Loss</th>\n",
              "      <th>Bleu</th>\n",
              "    </tr>\n",
              "  </thead>\n",
              "  <tbody>\n",
              "    <tr>\n",
              "      <td>50</td>\n",
              "      <td>5.117800</td>\n",
              "      <td>4.094290</td>\n",
              "      <td>1.232941</td>\n",
              "    </tr>\n",
              "    <tr>\n",
              "      <td>100</td>\n",
              "      <td>3.031000</td>\n",
              "      <td>1.983261</td>\n",
              "      <td>8.405212</td>\n",
              "    </tr>\n",
              "    <tr>\n",
              "      <td>150</td>\n",
              "      <td>2.011700</td>\n",
              "      <td>1.699693</td>\n",
              "      <td>14.273676</td>\n",
              "    </tr>\n",
              "    <tr>\n",
              "      <td>200</td>\n",
              "      <td>1.813100</td>\n",
              "      <td>1.609647</td>\n",
              "      <td>15.646456</td>\n",
              "    </tr>\n",
              "    <tr>\n",
              "      <td>250</td>\n",
              "      <td>1.683900</td>\n",
              "      <td>1.555577</td>\n",
              "      <td>17.093088</td>\n",
              "    </tr>\n",
              "    <tr>\n",
              "      <td>300</td>\n",
              "      <td>1.593600</td>\n",
              "      <td>1.517584</td>\n",
              "      <td>18.752896</td>\n",
              "    </tr>\n",
              "    <tr>\n",
              "      <td>350</td>\n",
              "      <td>1.494900</td>\n",
              "      <td>1.495356</td>\n",
              "      <td>19.137875</td>\n",
              "    </tr>\n",
              "    <tr>\n",
              "      <td>400</td>\n",
              "      <td>1.410900</td>\n",
              "      <td>1.484691</td>\n",
              "      <td>19.543947</td>\n",
              "    </tr>\n",
              "    <tr>\n",
              "      <td>450</td>\n",
              "      <td>1.325600</td>\n",
              "      <td>1.481513</td>\n",
              "      <td>19.733829</td>\n",
              "    </tr>\n",
              "    <tr>\n",
              "      <td>500</td>\n",
              "      <td>1.249000</td>\n",
              "      <td>1.474862</td>\n",
              "      <td>19.887115</td>\n",
              "    </tr>\n",
              "    <tr>\n",
              "      <td>550</td>\n",
              "      <td>1.174400</td>\n",
              "      <td>1.484113</td>\n",
              "      <td>20.129151</td>\n",
              "    </tr>\n",
              "    <tr>\n",
              "      <td>600</td>\n",
              "      <td>1.087800</td>\n",
              "      <td>1.505609</td>\n",
              "      <td>19.977918</td>\n",
              "    </tr>\n",
              "    <tr>\n",
              "      <td>650</td>\n",
              "      <td>1.006300</td>\n",
              "      <td>1.531492</td>\n",
              "      <td>20.208177</td>\n",
              "    </tr>\n",
              "    <tr>\n",
              "      <td>700</td>\n",
              "      <td>0.937600</td>\n",
              "      <td>1.561562</td>\n",
              "      <td>19.642276</td>\n",
              "    </tr>\n",
              "    <tr>\n",
              "      <td>750</td>\n",
              "      <td>0.853200</td>\n",
              "      <td>1.598076</td>\n",
              "      <td>20.553625</td>\n",
              "    </tr>\n",
              "  </tbody>\n",
              "</table><p>"
            ]
          },
          "metadata": {}
        }
      ],
      "source": [
        "train_results = trainer.train()"
      ]
    },
    {
      "cell_type": "code",
      "execution_count": null,
      "metadata": {
        "colab": {
          "base_uri": "https://localhost:8080/",
          "height": 37
        },
        "id": "035nGLrZcW-2",
        "outputId": "b190dffb-9fe5-4e59-fcfd-a93b2b7d0b3e"
      },
      "outputs": [
        {
          "output_type": "display_data",
          "data": {
            "text/plain": [
              "<IPython.core.display.HTML object>"
            ],
            "text/html": [
              "\n",
              "    <div>\n",
              "      \n",
              "      <progress value='32' max='32' style='width:300px; height:20px; vertical-align: middle;'></progress>\n",
              "      [32/32 00:13]\n",
              "    </div>\n",
              "    "
            ]
          },
          "metadata": {}
        }
      ],
      "source": [
        "trainer.save_model(workdir+'t5_model')\n",
        "metrics = trainer.evaluate()\n",
        "with open(f\"{workdir}/doc2query/metrics.json\", 'w') as f:\n",
        "  json.dump(metrics,f)"
      ]
    },
    {
      "cell_type": "code",
      "execution_count": null,
      "metadata": {
        "colab": {
          "base_uri": "https://localhost:8080/"
        },
        "id": "x4Xsf7L_fBtC",
        "outputId": "8a6e4950-8495-4772-f691-6ac38d11af9a"
      },
      "outputs": [
        {
          "output_type": "execute_result",
          "data": {
            "text/plain": [
              "{'eval_loss': 1.5980764627456665,\n",
              " 'eval_bleu': 20.553625296051234,\n",
              " 'eval_runtime': 28.843,\n",
              " 'eval_samples_per_second': 34.67,\n",
              " 'eval_steps_per_second': 1.109,\n",
              " 'epoch': 19.94}"
            ]
          },
          "metadata": {},
          "execution_count": 22
        }
      ],
      "source": [
        "metrics"
      ]
    },
    {
      "cell_type": "markdown",
      "source": [
        "## TREC-COVID - Baseline BM25\n",
        "\n",
        "For this part, I'd like to thank Marcus Borela, for the useful insights."
      ],
      "metadata": {
        "id": "_eGYo_nU546t"
      }
    },
    {
      "cell_type": "markdown",
      "source": [
        "### Index preparation"
      ],
      "metadata": {
        "id": "vuTrO_Q78QQH"
      }
    },
    {
      "cell_type": "code",
      "source": [
        "!wget https://huggingface.co/datasets/BeIR/trec-covid/resolve/main/queries.jsonl.gz"
      ],
      "metadata": {
        "colab": {
          "base_uri": "https://localhost:8080/"
        },
        "id": "Os3JZ_7s8olH",
        "outputId": "2247e8b4-d888-40ba-8e62-83d8562a3107"
      },
      "execution_count": null,
      "outputs": [
        {
          "output_type": "stream",
          "name": "stdout",
          "text": [
            "--2023-04-12 22:02:21--  https://huggingface.co/datasets/BeIR/trec-covid/resolve/main/queries.jsonl.gz\n",
            "Resolving huggingface.co (huggingface.co)... 13.227.219.41, 13.227.219.105, 13.227.219.125, ...\n",
            "Connecting to huggingface.co (huggingface.co)|13.227.219.41|:443... connected.\n",
            "HTTP request sent, awaiting response... 302 Found\n",
            "Location: https://cdn-lfs.huggingface.co/repos/a8/10/a810e88b0e7b233be82b89c1fa6ec2d75efc6d55784c2ada9dcac8434a634f3a/9eadcc2cdf140addc9dae83648bb2c6611f5e4b66eaed7475fa5a0ca48eda371?response-content-disposition=attachment%3B+filename*%3DUTF-8%27%27queries.jsonl.gz%3B+filename%3D%22queries.jsonl.gz%22%3B&response-content-type=application%2Fgzip&Expires=1681596141&Policy=eyJTdGF0ZW1lbnQiOlt7IlJlc291cmNlIjoiaHR0cHM6Ly9jZG4tbGZzLmh1Z2dpbmdmYWNlLmNvL3JlcG9zL2E4LzEwL2E4MTBlODhiMGU3YjIzM2JlODJiODljMWZhNmVjMmQ3NWVmYzZkNTU3ODRjMmFkYTlkY2FjODQzNGE2MzRmM2EvOWVhZGNjMmNkZjE0MGFkZGM5ZGFlODM2NDhiYjJjNjYxMWY1ZTRiNjZlYWVkNzQ3NWZhNWEwY2E0OGVkYTM3MT9yZXNwb25zZS1jb250ZW50LWRpc3Bvc2l0aW9uPSomcmVzcG9uc2UtY29udGVudC10eXBlPSoiLCJDb25kaXRpb24iOnsiRGF0ZUxlc3NUaGFuIjp7IkFXUzpFcG9jaFRpbWUiOjE2ODE1OTYxNDF9fX1dfQ__&Signature=BeHst-iPI83KJh3mmmUn6CHrxhthPulIw%7Es-2%7EgFAnLcqc5xkyEknVej08PL58NGXifNXbxBTPvRPnU7AkO1dD-BG%7E4S7OhWZSzrQLAyILWJ3NGz71KX53xIaSd8SOAtYiEAj1FQYksHjhEBVLUcC7CvMf2V7FvHuTxVLycG2NwGPeeFNaIjaqsK2A70MR13pTKzCiSd0%7EvzdskdGdi1YjUXc38JcWqrkwy6YiV5BQ1i84Gs8-sl9E04uBmXShFJHArTqqnHwadiDlvEyncK30hQPdXIAO-f879i5u3TQhl7NoqIwg1Tg-tFYMAJD-1C23HZbls%7EU2LqiiBsni1uHQ__&Key-Pair-Id=KVTP0A1DKRTAX [following]\n",
            "--2023-04-12 22:02:21--  https://cdn-lfs.huggingface.co/repos/a8/10/a810e88b0e7b233be82b89c1fa6ec2d75efc6d55784c2ada9dcac8434a634f3a/9eadcc2cdf140addc9dae83648bb2c6611f5e4b66eaed7475fa5a0ca48eda371?response-content-disposition=attachment%3B+filename*%3DUTF-8%27%27queries.jsonl.gz%3B+filename%3D%22queries.jsonl.gz%22%3B&response-content-type=application%2Fgzip&Expires=1681596141&Policy=eyJTdGF0ZW1lbnQiOlt7IlJlc291cmNlIjoiaHR0cHM6Ly9jZG4tbGZzLmh1Z2dpbmdmYWNlLmNvL3JlcG9zL2E4LzEwL2E4MTBlODhiMGU3YjIzM2JlODJiODljMWZhNmVjMmQ3NWVmYzZkNTU3ODRjMmFkYTlkY2FjODQzNGE2MzRmM2EvOWVhZGNjMmNkZjE0MGFkZGM5ZGFlODM2NDhiYjJjNjYxMWY1ZTRiNjZlYWVkNzQ3NWZhNWEwY2E0OGVkYTM3MT9yZXNwb25zZS1jb250ZW50LWRpc3Bvc2l0aW9uPSomcmVzcG9uc2UtY29udGVudC10eXBlPSoiLCJDb25kaXRpb24iOnsiRGF0ZUxlc3NUaGFuIjp7IkFXUzpFcG9jaFRpbWUiOjE2ODE1OTYxNDF9fX1dfQ__&Signature=BeHst-iPI83KJh3mmmUn6CHrxhthPulIw%7Es-2%7EgFAnLcqc5xkyEknVej08PL58NGXifNXbxBTPvRPnU7AkO1dD-BG%7E4S7OhWZSzrQLAyILWJ3NGz71KX53xIaSd8SOAtYiEAj1FQYksHjhEBVLUcC7CvMf2V7FvHuTxVLycG2NwGPeeFNaIjaqsK2A70MR13pTKzCiSd0%7EvzdskdGdi1YjUXc38JcWqrkwy6YiV5BQ1i84Gs8-sl9E04uBmXShFJHArTqqnHwadiDlvEyncK30hQPdXIAO-f879i5u3TQhl7NoqIwg1Tg-tFYMAJD-1C23HZbls%7EU2LqiiBsni1uHQ__&Key-Pair-Id=KVTP0A1DKRTAX\n",
            "Resolving cdn-lfs.huggingface.co (cdn-lfs.huggingface.co)... 18.65.39.24, 18.65.39.13, 18.65.39.78, ...\n",
            "Connecting to cdn-lfs.huggingface.co (cdn-lfs.huggingface.co)|18.65.39.24|:443... connected.\n",
            "HTTP request sent, awaiting response... 200 OK\n",
            "Length: 4702 (4.6K) [application/gzip]\n",
            "Saving to: ‘queries.jsonl.gz’\n",
            "\n",
            "\rqueries.jsonl.gz      0%[                    ]       0  --.-KB/s               \rqueries.jsonl.gz    100%[===================>]   4.59K  --.-KB/s    in 0s      \n",
            "\n",
            "2023-04-12 22:02:21 (74.8 MB/s) - ‘queries.jsonl.gz’ saved [4702/4702]\n",
            "\n"
          ]
        }
      ]
    },
    {
      "cell_type": "code",
      "source": [
        "!mkdir trec-covid\n",
        "!mv queries.jsonl.gz trec-covid/"
      ],
      "metadata": {
        "colab": {
          "base_uri": "https://localhost:8080/"
        },
        "id": "2EeWJQQS-UoT",
        "outputId": "23c67d1b-798d-4142-94ec-7fb5a8b51da1"
      },
      "execution_count": null,
      "outputs": [
        {
          "output_type": "stream",
          "name": "stdout",
          "text": [
            "mv: cannot stat 'queries.jsonl.gz': No such file or directory\n"
          ]
        }
      ]
    },
    {
      "cell_type": "code",
      "source": [
        "!gunzip trec-covid/queries.jsonl.gz"
      ],
      "metadata": {
        "id": "EY4aBsnW8qDK"
      },
      "execution_count": null,
      "outputs": []
    },
    {
      "cell_type": "code",
      "source": [
        "from pyserini.search.lucene import LuceneSearcher\n",
        "from pyserini.index.lucene import IndexReader\n",
        "from evaluate import load\n",
        "from tqdm import tqdm"
      ],
      "metadata": {
        "id": "Di-dH1Wi7uvy"
      },
      "execution_count": null,
      "outputs": []
    },
    {
      "cell_type": "code",
      "source": [
        "searcher = LuceneSearcher.from_prebuilt_index('beir-v1.0.0-trec-covid.flat')"
      ],
      "metadata": {
        "colab": {
          "base_uri": "https://localhost:8080/"
        },
        "id": "tBJuszk87xL5",
        "outputId": "13ae9656-c68f-44d6-f28a-42edf397297a"
      },
      "execution_count": null,
      "outputs": [
        {
          "output_type": "stream",
          "name": "stdout",
          "text": [
            "Downloading index at https://rgw.cs.uwaterloo.ca/pyserini/indexes/lucene-index.beir-v1.0.0-trec-covid.flat.20221116.505594.tar.gz...\n"
          ]
        },
        {
          "output_type": "stream",
          "name": "stderr",
          "text": [
            "lucene-index.beir-v1.0.0-trec-covid.flat.20221116.505594.tar.gz: 216MB [00:08, 27.0MB/s]                           \n"
          ]
        }
      ]
    },
    {
      "cell_type": "code",
      "source": [
        "index_reader = IndexReader.from_prebuilt_index('beir-v1.0.0-trec-covid.flat')\n",
        "index_reader.stats()"
      ],
      "metadata": {
        "colab": {
          "base_uri": "https://localhost:8080/"
        },
        "id": "oEZz4oE0_i5K",
        "outputId": "aec0d116-4f7e-4aac-d8fb-09e6528f504a"
      },
      "execution_count": null,
      "outputs": [
        {
          "output_type": "execute_result",
          "data": {
            "text/plain": [
              "{'total_terms': 20822821,\n",
              " 'documents': 171331,\n",
              " 'non_empty_documents': 171331,\n",
              " 'unique_terms': 202648}"
            ]
          },
          "metadata": {},
          "execution_count": 12
        }
      ]
    },
    {
      "cell_type": "markdown",
      "source": [
        "### Dataset preparation"
      ],
      "metadata": {
        "id": "txrkVCLTB1bb"
      }
    },
    {
      "cell_type": "code",
      "source": [
        "with open('trec-covid/queries.tsv','w') as f_out:\n",
        "  with open('trec-covid/queries.jsonl', 'r') as f:\n",
        "    for line in f:\n",
        "      data = json.loads(line)\n",
        "      id = data['_id']\n",
        "      text = data['text']\n",
        "      f_out.write(f'{id}\\t{text}\\n')"
      ],
      "metadata": {
        "id": "oMOld5a89xbo"
      },
      "execution_count": null,
      "outputs": []
    },
    {
      "cell_type": "code",
      "source": [
        "!mkdir runs/\n",
        "run = 'runs/run.trec-covid.bm25.txt'"
      ],
      "metadata": {
        "id": "MlDgEs58KC-v"
      },
      "execution_count": null,
      "outputs": []
    },
    {
      "cell_type": "code",
      "source": [
        "!wget https://huggingface.co/datasets/BeIR/trec-covid-qrels/raw/main/test.tsv\n",
        "\n",
        "!mv test.tsv trec-covid/"
      ],
      "metadata": {
        "colab": {
          "base_uri": "https://localhost:8080/"
        },
        "id": "cyRWLR9QCLwA",
        "outputId": "491b1fe2-90d9-4e86-91a6-266e54eff3df"
      },
      "execution_count": null,
      "outputs": [
        {
          "output_type": "stream",
          "name": "stdout",
          "text": [
            "--2023-04-12 22:02:08--  https://huggingface.co/datasets/BeIR/trec-covid-qrels/raw/main/test.tsv\n",
            "Resolving huggingface.co (huggingface.co)... 13.227.219.41, 13.227.219.105, 13.227.219.125, ...\n",
            "Connecting to huggingface.co (huggingface.co)|13.227.219.41|:443... connected.\n",
            "HTTP request sent, awaiting response... 200 OK\n",
            "Length: 980831 (958K) [text/plain]\n",
            "Saving to: ‘test.tsv’\n",
            "\n",
            "\rtest.tsv              0%[                    ]       0  --.-KB/s               \rtest.tsv            100%[===================>] 957.84K  --.-KB/s    in 0.09s   \n",
            "\n",
            "2023-04-12 22:02:08 (10.9 MB/s) - ‘test.tsv’ saved [980831/980831]\n",
            "\n"
          ]
        }
      ]
    },
    {
      "cell_type": "code",
      "source": [
        "topics = pd.read_csv(\"trec-covid/queries.tsv\", sep=\"\\t\", header=None, \n",
        "                      names=[\"_id\", \"query\"])\n",
        "topics.drop(columns = {'_id'}, inplace = True)\n",
        "topics.head()"
      ],
      "metadata": {
        "colab": {
          "base_uri": "https://localhost:8080/",
          "height": 206
        },
        "id": "O6CPQR4cOpba",
        "outputId": "7707bf56-d8e1-4c30-8511-cf245774448a"
      },
      "execution_count": null,
      "outputs": [
        {
          "output_type": "execute_result",
          "data": {
            "text/plain": [
              "                                               query\n",
              "0                     what is the origin of COVID-19\n",
              "1  how does the coronavirus respond to changes in...\n",
              "2  will SARS-CoV2 infected people develop immunit...\n",
              "3                   what causes death from Covid-19?\n",
              "4  what drugs have been active against SARS-CoV o..."
            ],
            "text/html": [
              "\n",
              "  <div id=\"df-6ad0628e-38b3-411a-9d3c-8553cd378387\">\n",
              "    <div class=\"colab-df-container\">\n",
              "      <div>\n",
              "<style scoped>\n",
              "    .dataframe tbody tr th:only-of-type {\n",
              "        vertical-align: middle;\n",
              "    }\n",
              "\n",
              "    .dataframe tbody tr th {\n",
              "        vertical-align: top;\n",
              "    }\n",
              "\n",
              "    .dataframe thead th {\n",
              "        text-align: right;\n",
              "    }\n",
              "</style>\n",
              "<table border=\"1\" class=\"dataframe\">\n",
              "  <thead>\n",
              "    <tr style=\"text-align: right;\">\n",
              "      <th></th>\n",
              "      <th>query</th>\n",
              "    </tr>\n",
              "  </thead>\n",
              "  <tbody>\n",
              "    <tr>\n",
              "      <th>0</th>\n",
              "      <td>what is the origin of COVID-19</td>\n",
              "    </tr>\n",
              "    <tr>\n",
              "      <th>1</th>\n",
              "      <td>how does the coronavirus respond to changes in...</td>\n",
              "    </tr>\n",
              "    <tr>\n",
              "      <th>2</th>\n",
              "      <td>will SARS-CoV2 infected people develop immunit...</td>\n",
              "    </tr>\n",
              "    <tr>\n",
              "      <th>3</th>\n",
              "      <td>what causes death from Covid-19?</td>\n",
              "    </tr>\n",
              "    <tr>\n",
              "      <th>4</th>\n",
              "      <td>what drugs have been active against SARS-CoV o...</td>\n",
              "    </tr>\n",
              "  </tbody>\n",
              "</table>\n",
              "</div>\n",
              "      <button class=\"colab-df-convert\" onclick=\"convertToInteractive('df-6ad0628e-38b3-411a-9d3c-8553cd378387')\"\n",
              "              title=\"Convert this dataframe to an interactive table.\"\n",
              "              style=\"display:none;\">\n",
              "        \n",
              "  <svg xmlns=\"http://www.w3.org/2000/svg\" height=\"24px\"viewBox=\"0 0 24 24\"\n",
              "       width=\"24px\">\n",
              "    <path d=\"M0 0h24v24H0V0z\" fill=\"none\"/>\n",
              "    <path d=\"M18.56 5.44l.94 2.06.94-2.06 2.06-.94-2.06-.94-.94-2.06-.94 2.06-2.06.94zm-11 1L8.5 8.5l.94-2.06 2.06-.94-2.06-.94L8.5 2.5l-.94 2.06-2.06.94zm10 10l.94 2.06.94-2.06 2.06-.94-2.06-.94-.94-2.06-.94 2.06-2.06.94z\"/><path d=\"M17.41 7.96l-1.37-1.37c-.4-.4-.92-.59-1.43-.59-.52 0-1.04.2-1.43.59L10.3 9.45l-7.72 7.72c-.78.78-.78 2.05 0 2.83L4 21.41c.39.39.9.59 1.41.59.51 0 1.02-.2 1.41-.59l7.78-7.78 2.81-2.81c.8-.78.8-2.07 0-2.86zM5.41 20L4 18.59l7.72-7.72 1.47 1.35L5.41 20z\"/>\n",
              "  </svg>\n",
              "      </button>\n",
              "      \n",
              "  <style>\n",
              "    .colab-df-container {\n",
              "      display:flex;\n",
              "      flex-wrap:wrap;\n",
              "      gap: 12px;\n",
              "    }\n",
              "\n",
              "    .colab-df-convert {\n",
              "      background-color: #E8F0FE;\n",
              "      border: none;\n",
              "      border-radius: 50%;\n",
              "      cursor: pointer;\n",
              "      display: none;\n",
              "      fill: #1967D2;\n",
              "      height: 32px;\n",
              "      padding: 0 0 0 0;\n",
              "      width: 32px;\n",
              "    }\n",
              "\n",
              "    .colab-df-convert:hover {\n",
              "      background-color: #E2EBFA;\n",
              "      box-shadow: 0px 1px 2px rgba(60, 64, 67, 0.3), 0px 1px 3px 1px rgba(60, 64, 67, 0.15);\n",
              "      fill: #174EA6;\n",
              "    }\n",
              "\n",
              "    [theme=dark] .colab-df-convert {\n",
              "      background-color: #3B4455;\n",
              "      fill: #D2E3FC;\n",
              "    }\n",
              "\n",
              "    [theme=dark] .colab-df-convert:hover {\n",
              "      background-color: #434B5C;\n",
              "      box-shadow: 0px 1px 3px 1px rgba(0, 0, 0, 0.15);\n",
              "      filter: drop-shadow(0px 1px 2px rgba(0, 0, 0, 0.3));\n",
              "      fill: #FFFFFF;\n",
              "    }\n",
              "  </style>\n",
              "\n",
              "      <script>\n",
              "        const buttonEl =\n",
              "          document.querySelector('#df-6ad0628e-38b3-411a-9d3c-8553cd378387 button.colab-df-convert');\n",
              "        buttonEl.style.display =\n",
              "          google.colab.kernel.accessAllowed ? 'block' : 'none';\n",
              "\n",
              "        async function convertToInteractive(key) {\n",
              "          const element = document.querySelector('#df-6ad0628e-38b3-411a-9d3c-8553cd378387');\n",
              "          const dataTable =\n",
              "            await google.colab.kernel.invokeFunction('convertToInteractive',\n",
              "                                                     [key], {});\n",
              "          if (!dataTable) return;\n",
              "\n",
              "          const docLinkHtml = 'Like what you see? Visit the ' +\n",
              "            '<a target=\"_blank\" href=https://colab.research.google.com/notebooks/data_table.ipynb>data table notebook</a>'\n",
              "            + ' to learn more about interactive tables.';\n",
              "          element.innerHTML = '';\n",
              "          dataTable['output_type'] = 'display_data';\n",
              "          await google.colab.output.renderOutput(dataTable, element);\n",
              "          const docLink = document.createElement('div');\n",
              "          docLink.innerHTML = docLinkHtml;\n",
              "          element.appendChild(docLink);\n",
              "        }\n",
              "      </script>\n",
              "    </div>\n",
              "  </div>\n",
              "  "
            ]
          },
          "metadata": {},
          "execution_count": 22
        }
      ]
    },
    {
      "cell_type": "markdown",
      "source": [
        "### Searching"
      ],
      "metadata": {
        "id": "p_cVCAH8VL3T"
      }
    },
    {
      "cell_type": "code",
      "source": [
        "# From Marcus Borela\n",
        "# Run all queries in topics, retrive top 1k for each query\n",
        "def run_all_queries(file, topics, searcher, num_max_hits=100):\n",
        "  \"\"\"\n",
        "  A função run_all_queries é responsável por realizar todas as consultas armazenadas no dicionário topics utilizando o objeto searcher fornecido e salvar os resultados em um arquivo de texto.\n",
        "  Usada no notebook da aula 2\n",
        "\n",
        "  Parâmetros:\n",
        "\n",
        "  file: caminho do arquivo de saída onde serão salvos os resultados das consultas.\n",
        "  topics: dicionário contendo as consultas a serem executadas. Cada consulta é representada por uma chave única no dicionário. O valor correspondente a cada chave é um outro dicionário contendo as informações da consulta, como seu título e outras informações relevantes.\n",
        "  searcher: objeto do tipo Searcher que será utilizado para realizar as consultas.\n",
        "  num_max_hits: número máximo de documentos relevantes que serão retornados para cada consulta.\n",
        "  Retorno:\n",
        "\n",
        "  A função não retorna nenhum valor, mas salva os resultados das consultas no arquivo especificado em file.\n",
        "  Comentário:\n",
        "\n",
        "  A função usa a biblioteca tqdm para exibir uma barra de progresso enquanto executa as consultas.\n",
        "  O número de consultas concluídas é impresso a cada 100 consultas.\n",
        "  \"\"\"\n",
        "  print(f'Running {len(topics)} queries in total')\n",
        "  with open(file, 'w') as runfile:\n",
        "    cnt = 0\n",
        "    for id in tqdm(range(0, len(topics['query'])), desc='Running Queries'):\n",
        "        # print(f'id = {id}')\n",
        "        query = topics['query'][id]\n",
        "        # print(f'query = {query}')\n",
        "\n",
        "        hits = searcher.search(query, num_max_hits)\n",
        "        for i in range(0, len(hits)):\n",
        "            _ = runfile.write(f'{id+1} Q0 {hits[i].docid} {i+1} {hits[i].score:.6f} SemExpansao\\n')\n",
        "            # = runfile.write('{} Q0 {} {} {:.6f} Pyserini\\n'.format(id, hits[i].docid, i+1, hits[i].score))\n",
        "        cnt += 1\n",
        "        if cnt % 100 == 0:\n",
        "            print(f'{cnt} queries completed')"
      ],
      "metadata": {
        "id": "eZcK8bYTKOE1"
      },
      "execution_count": null,
      "outputs": []
    },
    {
      "cell_type": "code",
      "source": [
        "run_all_queries(run, topics, searcher, 1000)"
      ],
      "metadata": {
        "colab": {
          "base_uri": "https://localhost:8080/"
        },
        "id": "6W2AoOdEBw11",
        "outputId": "df4ddb23-889c-4c5b-eaac-f207a546d6ef"
      },
      "execution_count": null,
      "outputs": [
        {
          "output_type": "stream",
          "name": "stdout",
          "text": [
            "Running 50 queries in total\n"
          ]
        },
        {
          "output_type": "stream",
          "name": "stderr",
          "text": [
            "Running Queries: 100%|██████████| 50/50 [00:04<00:00, 11.52it/s]\n"
          ]
        }
      ]
    },
    {
      "cell_type": "code",
      "source": [
        "run = pd.read_csv(run, sep=\"\\s+\", \n",
        "                  names=[\"query\", \"q0\", \"docid\", \"rank\", \"score\", \"system\"])\n",
        "run.head()"
      ],
      "metadata": {
        "colab": {
          "base_uri": "https://localhost:8080/",
          "height": 206
        },
        "id": "2hcymxAgSTy1",
        "outputId": "a3d56930-5363-4734-8bdb-25dc4270e13f"
      },
      "execution_count": null,
      "outputs": [
        {
          "output_type": "execute_result",
          "data": {
            "text/plain": [
              "   query  q0     docid  rank     score       system\n",
              "0      1  Q0  dv9m19yk     1  7.285900  SemExpansao\n",
              "1      1  Q0  0paafp5j     2  6.214600  SemExpansao\n",
              "2      1  Q0  96zsd27n     3  6.214599  SemExpansao\n",
              "3      1  Q0  hmvo5b0q     4  6.163500  SemExpansao\n",
              "4      1  Q0  1ij25a7u     5  5.838400  SemExpansao"
            ],
            "text/html": [
              "\n",
              "  <div id=\"df-1267377d-dcf4-4170-a734-367851e8528c\">\n",
              "    <div class=\"colab-df-container\">\n",
              "      <div>\n",
              "<style scoped>\n",
              "    .dataframe tbody tr th:only-of-type {\n",
              "        vertical-align: middle;\n",
              "    }\n",
              "\n",
              "    .dataframe tbody tr th {\n",
              "        vertical-align: top;\n",
              "    }\n",
              "\n",
              "    .dataframe thead th {\n",
              "        text-align: right;\n",
              "    }\n",
              "</style>\n",
              "<table border=\"1\" class=\"dataframe\">\n",
              "  <thead>\n",
              "    <tr style=\"text-align: right;\">\n",
              "      <th></th>\n",
              "      <th>query</th>\n",
              "      <th>q0</th>\n",
              "      <th>docid</th>\n",
              "      <th>rank</th>\n",
              "      <th>score</th>\n",
              "      <th>system</th>\n",
              "    </tr>\n",
              "  </thead>\n",
              "  <tbody>\n",
              "    <tr>\n",
              "      <th>0</th>\n",
              "      <td>1</td>\n",
              "      <td>Q0</td>\n",
              "      <td>dv9m19yk</td>\n",
              "      <td>1</td>\n",
              "      <td>7.285900</td>\n",
              "      <td>SemExpansao</td>\n",
              "    </tr>\n",
              "    <tr>\n",
              "      <th>1</th>\n",
              "      <td>1</td>\n",
              "      <td>Q0</td>\n",
              "      <td>0paafp5j</td>\n",
              "      <td>2</td>\n",
              "      <td>6.214600</td>\n",
              "      <td>SemExpansao</td>\n",
              "    </tr>\n",
              "    <tr>\n",
              "      <th>2</th>\n",
              "      <td>1</td>\n",
              "      <td>Q0</td>\n",
              "      <td>96zsd27n</td>\n",
              "      <td>3</td>\n",
              "      <td>6.214599</td>\n",
              "      <td>SemExpansao</td>\n",
              "    </tr>\n",
              "    <tr>\n",
              "      <th>3</th>\n",
              "      <td>1</td>\n",
              "      <td>Q0</td>\n",
              "      <td>hmvo5b0q</td>\n",
              "      <td>4</td>\n",
              "      <td>6.163500</td>\n",
              "      <td>SemExpansao</td>\n",
              "    </tr>\n",
              "    <tr>\n",
              "      <th>4</th>\n",
              "      <td>1</td>\n",
              "      <td>Q0</td>\n",
              "      <td>1ij25a7u</td>\n",
              "      <td>5</td>\n",
              "      <td>5.838400</td>\n",
              "      <td>SemExpansao</td>\n",
              "    </tr>\n",
              "  </tbody>\n",
              "</table>\n",
              "</div>\n",
              "      <button class=\"colab-df-convert\" onclick=\"convertToInteractive('df-1267377d-dcf4-4170-a734-367851e8528c')\"\n",
              "              title=\"Convert this dataframe to an interactive table.\"\n",
              "              style=\"display:none;\">\n",
              "        \n",
              "  <svg xmlns=\"http://www.w3.org/2000/svg\" height=\"24px\"viewBox=\"0 0 24 24\"\n",
              "       width=\"24px\">\n",
              "    <path d=\"M0 0h24v24H0V0z\" fill=\"none\"/>\n",
              "    <path d=\"M18.56 5.44l.94 2.06.94-2.06 2.06-.94-2.06-.94-.94-2.06-.94 2.06-2.06.94zm-11 1L8.5 8.5l.94-2.06 2.06-.94-2.06-.94L8.5 2.5l-.94 2.06-2.06.94zm10 10l.94 2.06.94-2.06 2.06-.94-2.06-.94-.94-2.06-.94 2.06-2.06.94z\"/><path d=\"M17.41 7.96l-1.37-1.37c-.4-.4-.92-.59-1.43-.59-.52 0-1.04.2-1.43.59L10.3 9.45l-7.72 7.72c-.78.78-.78 2.05 0 2.83L4 21.41c.39.39.9.59 1.41.59.51 0 1.02-.2 1.41-.59l7.78-7.78 2.81-2.81c.8-.78.8-2.07 0-2.86zM5.41 20L4 18.59l7.72-7.72 1.47 1.35L5.41 20z\"/>\n",
              "  </svg>\n",
              "      </button>\n",
              "      \n",
              "  <style>\n",
              "    .colab-df-container {\n",
              "      display:flex;\n",
              "      flex-wrap:wrap;\n",
              "      gap: 12px;\n",
              "    }\n",
              "\n",
              "    .colab-df-convert {\n",
              "      background-color: #E8F0FE;\n",
              "      border: none;\n",
              "      border-radius: 50%;\n",
              "      cursor: pointer;\n",
              "      display: none;\n",
              "      fill: #1967D2;\n",
              "      height: 32px;\n",
              "      padding: 0 0 0 0;\n",
              "      width: 32px;\n",
              "    }\n",
              "\n",
              "    .colab-df-convert:hover {\n",
              "      background-color: #E2EBFA;\n",
              "      box-shadow: 0px 1px 2px rgba(60, 64, 67, 0.3), 0px 1px 3px 1px rgba(60, 64, 67, 0.15);\n",
              "      fill: #174EA6;\n",
              "    }\n",
              "\n",
              "    [theme=dark] .colab-df-convert {\n",
              "      background-color: #3B4455;\n",
              "      fill: #D2E3FC;\n",
              "    }\n",
              "\n",
              "    [theme=dark] .colab-df-convert:hover {\n",
              "      background-color: #434B5C;\n",
              "      box-shadow: 0px 1px 3px 1px rgba(0, 0, 0, 0.15);\n",
              "      filter: drop-shadow(0px 1px 2px rgba(0, 0, 0, 0.3));\n",
              "      fill: #FFFFFF;\n",
              "    }\n",
              "  </style>\n",
              "\n",
              "      <script>\n",
              "        const buttonEl =\n",
              "          document.querySelector('#df-1267377d-dcf4-4170-a734-367851e8528c button.colab-df-convert');\n",
              "        buttonEl.style.display =\n",
              "          google.colab.kernel.accessAllowed ? 'block' : 'none';\n",
              "\n",
              "        async function convertToInteractive(key) {\n",
              "          const element = document.querySelector('#df-1267377d-dcf4-4170-a734-367851e8528c');\n",
              "          const dataTable =\n",
              "            await google.colab.kernel.invokeFunction('convertToInteractive',\n",
              "                                                     [key], {});\n",
              "          if (!dataTable) return;\n",
              "\n",
              "          const docLinkHtml = 'Like what you see? Visit the ' +\n",
              "            '<a target=\"_blank\" href=https://colab.research.google.com/notebooks/data_table.ipynb>data table notebook</a>'\n",
              "            + ' to learn more about interactive tables.';\n",
              "          element.innerHTML = '';\n",
              "          dataTable['output_type'] = 'display_data';\n",
              "          await google.colab.output.renderOutput(dataTable, element);\n",
              "          const docLink = document.createElement('div');\n",
              "          docLink.innerHTML = docLinkHtml;\n",
              "          element.appendChild(docLink);\n",
              "        }\n",
              "      </script>\n",
              "    </div>\n",
              "  </div>\n",
              "  "
            ]
          },
          "metadata": {},
          "execution_count": 22
        }
      ]
    },
    {
      "cell_type": "code",
      "source": [
        "run = run.to_dict(orient=\"list\")"
      ],
      "metadata": {
        "id": "V-hMdYk8SxlN"
      },
      "execution_count": null,
      "outputs": []
    },
    {
      "cell_type": "code",
      "source": [
        "qrel = pd.read_csv(\"trec-covid/test.tsv\", sep=\"\\t\", header = None, \n",
        "                   skiprows = 1, names=[\"query\", \"docid\", \"rel\"])\n",
        "qrel.head()"
      ],
      "metadata": {
        "colab": {
          "base_uri": "https://localhost:8080/",
          "height": 206
        },
        "id": "aCnwBeYwCCab",
        "outputId": "9d98a2ee-926b-4d58-926b-7a6470611285"
      },
      "execution_count": null,
      "outputs": [
        {
          "output_type": "execute_result",
          "data": {
            "text/plain": [
              "   query     docid  rel\n",
              "0      1  005b2j4b    2\n",
              "1      1  00fmeepz    1\n",
              "2      1  g7dhmyyo    2\n",
              "3      1  0194oljo    1\n",
              "4      1  021q9884    1"
            ],
            "text/html": [
              "\n",
              "  <div id=\"df-d4744d13-f11d-4291-a75e-7364468d05a0\">\n",
              "    <div class=\"colab-df-container\">\n",
              "      <div>\n",
              "<style scoped>\n",
              "    .dataframe tbody tr th:only-of-type {\n",
              "        vertical-align: middle;\n",
              "    }\n",
              "\n",
              "    .dataframe tbody tr th {\n",
              "        vertical-align: top;\n",
              "    }\n",
              "\n",
              "    .dataframe thead th {\n",
              "        text-align: right;\n",
              "    }\n",
              "</style>\n",
              "<table border=\"1\" class=\"dataframe\">\n",
              "  <thead>\n",
              "    <tr style=\"text-align: right;\">\n",
              "      <th></th>\n",
              "      <th>query</th>\n",
              "      <th>docid</th>\n",
              "      <th>rel</th>\n",
              "    </tr>\n",
              "  </thead>\n",
              "  <tbody>\n",
              "    <tr>\n",
              "      <th>0</th>\n",
              "      <td>1</td>\n",
              "      <td>005b2j4b</td>\n",
              "      <td>2</td>\n",
              "    </tr>\n",
              "    <tr>\n",
              "      <th>1</th>\n",
              "      <td>1</td>\n",
              "      <td>00fmeepz</td>\n",
              "      <td>1</td>\n",
              "    </tr>\n",
              "    <tr>\n",
              "      <th>2</th>\n",
              "      <td>1</td>\n",
              "      <td>g7dhmyyo</td>\n",
              "      <td>2</td>\n",
              "    </tr>\n",
              "    <tr>\n",
              "      <th>3</th>\n",
              "      <td>1</td>\n",
              "      <td>0194oljo</td>\n",
              "      <td>1</td>\n",
              "    </tr>\n",
              "    <tr>\n",
              "      <th>4</th>\n",
              "      <td>1</td>\n",
              "      <td>021q9884</td>\n",
              "      <td>1</td>\n",
              "    </tr>\n",
              "  </tbody>\n",
              "</table>\n",
              "</div>\n",
              "      <button class=\"colab-df-convert\" onclick=\"convertToInteractive('df-d4744d13-f11d-4291-a75e-7364468d05a0')\"\n",
              "              title=\"Convert this dataframe to an interactive table.\"\n",
              "              style=\"display:none;\">\n",
              "        \n",
              "  <svg xmlns=\"http://www.w3.org/2000/svg\" height=\"24px\"viewBox=\"0 0 24 24\"\n",
              "       width=\"24px\">\n",
              "    <path d=\"M0 0h24v24H0V0z\" fill=\"none\"/>\n",
              "    <path d=\"M18.56 5.44l.94 2.06.94-2.06 2.06-.94-2.06-.94-.94-2.06-.94 2.06-2.06.94zm-11 1L8.5 8.5l.94-2.06 2.06-.94-2.06-.94L8.5 2.5l-.94 2.06-2.06.94zm10 10l.94 2.06.94-2.06 2.06-.94-2.06-.94-.94-2.06-.94 2.06-2.06.94z\"/><path d=\"M17.41 7.96l-1.37-1.37c-.4-.4-.92-.59-1.43-.59-.52 0-1.04.2-1.43.59L10.3 9.45l-7.72 7.72c-.78.78-.78 2.05 0 2.83L4 21.41c.39.39.9.59 1.41.59.51 0 1.02-.2 1.41-.59l7.78-7.78 2.81-2.81c.8-.78.8-2.07 0-2.86zM5.41 20L4 18.59l7.72-7.72 1.47 1.35L5.41 20z\"/>\n",
              "  </svg>\n",
              "      </button>\n",
              "      \n",
              "  <style>\n",
              "    .colab-df-container {\n",
              "      display:flex;\n",
              "      flex-wrap:wrap;\n",
              "      gap: 12px;\n",
              "    }\n",
              "\n",
              "    .colab-df-convert {\n",
              "      background-color: #E8F0FE;\n",
              "      border: none;\n",
              "      border-radius: 50%;\n",
              "      cursor: pointer;\n",
              "      display: none;\n",
              "      fill: #1967D2;\n",
              "      height: 32px;\n",
              "      padding: 0 0 0 0;\n",
              "      width: 32px;\n",
              "    }\n",
              "\n",
              "    .colab-df-convert:hover {\n",
              "      background-color: #E2EBFA;\n",
              "      box-shadow: 0px 1px 2px rgba(60, 64, 67, 0.3), 0px 1px 3px 1px rgba(60, 64, 67, 0.15);\n",
              "      fill: #174EA6;\n",
              "    }\n",
              "\n",
              "    [theme=dark] .colab-df-convert {\n",
              "      background-color: #3B4455;\n",
              "      fill: #D2E3FC;\n",
              "    }\n",
              "\n",
              "    [theme=dark] .colab-df-convert:hover {\n",
              "      background-color: #434B5C;\n",
              "      box-shadow: 0px 1px 3px 1px rgba(0, 0, 0, 0.15);\n",
              "      filter: drop-shadow(0px 1px 2px rgba(0, 0, 0, 0.3));\n",
              "      fill: #FFFFFF;\n",
              "    }\n",
              "  </style>\n",
              "\n",
              "      <script>\n",
              "        const buttonEl =\n",
              "          document.querySelector('#df-d4744d13-f11d-4291-a75e-7364468d05a0 button.colab-df-convert');\n",
              "        buttonEl.style.display =\n",
              "          google.colab.kernel.accessAllowed ? 'block' : 'none';\n",
              "\n",
              "        async function convertToInteractive(key) {\n",
              "          const element = document.querySelector('#df-d4744d13-f11d-4291-a75e-7364468d05a0');\n",
              "          const dataTable =\n",
              "            await google.colab.kernel.invokeFunction('convertToInteractive',\n",
              "                                                     [key], {});\n",
              "          if (!dataTable) return;\n",
              "\n",
              "          const docLinkHtml = 'Like what you see? Visit the ' +\n",
              "            '<a target=\"_blank\" href=https://colab.research.google.com/notebooks/data_table.ipynb>data table notebook</a>'\n",
              "            + ' to learn more about interactive tables.';\n",
              "          element.innerHTML = '';\n",
              "          dataTable['output_type'] = 'display_data';\n",
              "          await google.colab.output.renderOutput(dataTable, element);\n",
              "          const docLink = document.createElement('div');\n",
              "          docLink.innerHTML = docLinkHtml;\n",
              "          element.appendChild(docLink);\n",
              "        }\n",
              "      </script>\n",
              "    </div>\n",
              "  </div>\n",
              "  "
            ]
          },
          "metadata": {},
          "execution_count": 27
        }
      ]
    },
    {
      "cell_type": "code",
      "source": [
        "qrel[\"q0\"] = \"q0\"\n",
        "qrel = qrel.to_dict(orient=\"list\")"
      ],
      "metadata": {
        "id": "pdhEr-3KS-qy"
      },
      "execution_count": null,
      "outputs": []
    },
    {
      "cell_type": "code",
      "source": [
        "trec_eval = load(\"trec_eval\")\n",
        "results = trec_eval.compute(predictions = [run], references = [qrel])"
      ],
      "metadata": {
        "id": "blSPoGZZS4k7"
      },
      "execution_count": null,
      "outputs": []
    },
    {
      "cell_type": "code",
      "source": [
        "results"
      ],
      "metadata": {
        "colab": {
          "base_uri": "https://localhost:8080/"
        },
        "id": "OCo1bH2KVAQN",
        "outputId": "98ae3275-e2bb-429f-e356-d3e06068e506"
      },
      "execution_count": null,
      "outputs": [
        {
          "output_type": "execute_result",
          "data": {
            "text/plain": [
              "{'runid': 'SemExpansao',\n",
              " 'num_ret': 50000,\n",
              " 'num_rel': 24673,\n",
              " 'num_rel_ret': 9605,\n",
              " 'num_q': 50,\n",
              " 'map': 0.18712850250314475,\n",
              " 'gm_map': 0.1248255966783779,\n",
              " 'bpref': 0.32940840203100064,\n",
              " 'Rprec': 0.28470678646102393,\n",
              " 'recip_rank': 0.8528571428571429,\n",
              " 'P@5': 0.6880000000000002,\n",
              " 'P@10': 0.644,\n",
              " 'P@15': 0.608,\n",
              " 'P@20': 0.5989999999999999,\n",
              " 'P@30': 0.5753333333333334,\n",
              " 'P@100': 0.4718,\n",
              " 'P@200': 0.39480000000000004,\n",
              " 'P@500': 0.27664,\n",
              " 'P@1000': 0.19210000000000005,\n",
              " 'NDCG@5': 0.6323889863121053,\n",
              " 'NDCG@10': 0.5946917010118077,\n",
              " 'NDCG@15': 0.561630324213359,\n",
              " 'NDCG@20': 0.5463332676967534,\n",
              " 'NDCG@30': 0.5233190162754622,\n",
              " 'NDCG@100': 0.43823617750837557,\n",
              " 'NDCG@200': 0.38302424232653026,\n",
              " 'NDCG@500': 0.3554494781191315,\n",
              " 'NDCG@1000': 0.405955738412841}"
            ]
          },
          "metadata": {},
          "execution_count": 27
        }
      ]
    },
    {
      "cell_type": "markdown",
      "source": [
        "## Document Expansion"
      ],
      "metadata": {
        "id": "fyvnezGukYna"
      }
    },
    {
      "cell_type": "markdown",
      "source": [
        "### Get model"
      ],
      "metadata": {
        "id": "Q0muICqQWEM2"
      }
    },
    {
      "cell_type": "code",
      "execution_count": null,
      "metadata": {
        "colab": {
          "base_uri": "https://localhost:8080/",
          "height": 1000,
          "referenced_widgets": [
            "fb90ade9dfa746c8bee26eb88635b4c3",
            "a90e5a43905e4f569135d31d20fe7ccb",
            "05790dcf501340a0831b0cd144e6fe7d",
            "d928edf58b7b43e5aaf208cd0e62a27d",
            "9a49044eb1f449de8c50ab9302dd5247",
            "e1b6360ef79f496b80e340672cd59bf1",
            "d0ea45ef953548e9a6733f4067c0611b",
            "186b93ff60f94f9db77d190d6fc08c47",
            "727d5803915c4362bbf740bddcbffc62",
            "b47a140df4fb4a369ea0eb2cbace783a",
            "b21cf231bef642fe912bf1c689ad7baf",
            "ef31dba6828d492f8e022a27b3397b93",
            "7dd56ece442e4844a54551b4bc58e720",
            "27f6dc8a1c984e0087a404cda56bec60",
            "b4d0a8e3375742079ac1c1c0c3893c61",
            "d6cbfd61aeaf4310af17dd3d4709f5c3",
            "340ce38efb3a415db25788207c32543f",
            "52015202a3804f1baec6280d7902d01b",
            "a72b467ed0ca49749aac0ebe33317696",
            "58fa39b9d95d4703b04352867619830e",
            "76c08226a44c454ab42bb4e7550e05e0",
            "d090f98626914fa5b6c7f0d7947b589b"
          ]
        },
        "id": "LZJpf3iJgQn7",
        "outputId": "db4cae63-36b8-4e8c-dbd3-09f7d4597868"
      },
      "outputs": [
        {
          "output_type": "display_data",
          "data": {
            "text/plain": [
              "Downloading (…)ve/main/spiece.model:   0%|          | 0.00/792k [00:00<?, ?B/s]"
            ],
            "application/vnd.jupyter.widget-view+json": {
              "version_major": 2,
              "version_minor": 0,
              "model_id": "fb90ade9dfa746c8bee26eb88635b4c3"
            }
          },
          "metadata": {}
        },
        {
          "output_type": "display_data",
          "data": {
            "text/plain": [
              "Downloading (…)lve/main/config.json:   0%|          | 0.00/1.21k [00:00<?, ?B/s]"
            ],
            "application/vnd.jupyter.widget-view+json": {
              "version_major": 2,
              "version_minor": 0,
              "model_id": "ef31dba6828d492f8e022a27b3397b93"
            }
          },
          "metadata": {}
        },
        {
          "output_type": "stream",
          "name": "stderr",
          "text": [
            "/usr/local/lib/python3.9/dist-packages/transformers/models/t5/tokenization_t5.py:163: FutureWarning: This tokenizer was incorrectly instantiated with a model max length of 512 which will be corrected in Transformers v5.\n",
            "For now, this behavior is kept to avoid breaking backwards compatibility when padding/encoding with `truncation is True`.\n",
            "- Be aware that you SHOULD NOT rely on t5-base automatically truncating your input to 512 when padding/encoding.\n",
            "- If you want to encode/pad to sequences longer than 512 you can either instantiate this tokenizer with `model_max_length` or pass `max_length` when encoding/padding.\n",
            "- To avoid this warning, please instantiate this tokenizer with `model_max_length` set to your preferred value.\n",
            "  warnings.warn(\n"
          ]
        },
        {
          "output_type": "execute_result",
          "data": {
            "text/plain": [
              "T5ForConditionalGeneration(\n",
              "  (shared): Embedding(32128, 768)\n",
              "  (encoder): T5Stack(\n",
              "    (embed_tokens): Embedding(32128, 768)\n",
              "    (block): ModuleList(\n",
              "      (0): T5Block(\n",
              "        (layer): ModuleList(\n",
              "          (0): T5LayerSelfAttention(\n",
              "            (SelfAttention): T5Attention(\n",
              "              (q): Linear(in_features=768, out_features=768, bias=False)\n",
              "              (k): Linear(in_features=768, out_features=768, bias=False)\n",
              "              (v): Linear(in_features=768, out_features=768, bias=False)\n",
              "              (o): Linear(in_features=768, out_features=768, bias=False)\n",
              "              (relative_attention_bias): Embedding(32, 12)\n",
              "            )\n",
              "            (layer_norm): T5LayerNorm()\n",
              "            (dropout): Dropout(p=0.1, inplace=False)\n",
              "          )\n",
              "          (1): T5LayerFF(\n",
              "            (DenseReluDense): T5DenseActDense(\n",
              "              (wi): Linear(in_features=768, out_features=3072, bias=False)\n",
              "              (wo): Linear(in_features=3072, out_features=768, bias=False)\n",
              "              (dropout): Dropout(p=0.1, inplace=False)\n",
              "              (act): ReLU()\n",
              "            )\n",
              "            (layer_norm): T5LayerNorm()\n",
              "            (dropout): Dropout(p=0.1, inplace=False)\n",
              "          )\n",
              "        )\n",
              "      )\n",
              "      (1-11): 11 x T5Block(\n",
              "        (layer): ModuleList(\n",
              "          (0): T5LayerSelfAttention(\n",
              "            (SelfAttention): T5Attention(\n",
              "              (q): Linear(in_features=768, out_features=768, bias=False)\n",
              "              (k): Linear(in_features=768, out_features=768, bias=False)\n",
              "              (v): Linear(in_features=768, out_features=768, bias=False)\n",
              "              (o): Linear(in_features=768, out_features=768, bias=False)\n",
              "            )\n",
              "            (layer_norm): T5LayerNorm()\n",
              "            (dropout): Dropout(p=0.1, inplace=False)\n",
              "          )\n",
              "          (1): T5LayerFF(\n",
              "            (DenseReluDense): T5DenseActDense(\n",
              "              (wi): Linear(in_features=768, out_features=3072, bias=False)\n",
              "              (wo): Linear(in_features=3072, out_features=768, bias=False)\n",
              "              (dropout): Dropout(p=0.1, inplace=False)\n",
              "              (act): ReLU()\n",
              "            )\n",
              "            (layer_norm): T5LayerNorm()\n",
              "            (dropout): Dropout(p=0.1, inplace=False)\n",
              "          )\n",
              "        )\n",
              "      )\n",
              "    )\n",
              "    (final_layer_norm): T5LayerNorm()\n",
              "    (dropout): Dropout(p=0.1, inplace=False)\n",
              "  )\n",
              "  (decoder): T5Stack(\n",
              "    (embed_tokens): Embedding(32128, 768)\n",
              "    (block): ModuleList(\n",
              "      (0): T5Block(\n",
              "        (layer): ModuleList(\n",
              "          (0): T5LayerSelfAttention(\n",
              "            (SelfAttention): T5Attention(\n",
              "              (q): Linear(in_features=768, out_features=768, bias=False)\n",
              "              (k): Linear(in_features=768, out_features=768, bias=False)\n",
              "              (v): Linear(in_features=768, out_features=768, bias=False)\n",
              "              (o): Linear(in_features=768, out_features=768, bias=False)\n",
              "              (relative_attention_bias): Embedding(32, 12)\n",
              "            )\n",
              "            (layer_norm): T5LayerNorm()\n",
              "            (dropout): Dropout(p=0.1, inplace=False)\n",
              "          )\n",
              "          (1): T5LayerCrossAttention(\n",
              "            (EncDecAttention): T5Attention(\n",
              "              (q): Linear(in_features=768, out_features=768, bias=False)\n",
              "              (k): Linear(in_features=768, out_features=768, bias=False)\n",
              "              (v): Linear(in_features=768, out_features=768, bias=False)\n",
              "              (o): Linear(in_features=768, out_features=768, bias=False)\n",
              "            )\n",
              "            (layer_norm): T5LayerNorm()\n",
              "            (dropout): Dropout(p=0.1, inplace=False)\n",
              "          )\n",
              "          (2): T5LayerFF(\n",
              "            (DenseReluDense): T5DenseActDense(\n",
              "              (wi): Linear(in_features=768, out_features=3072, bias=False)\n",
              "              (wo): Linear(in_features=3072, out_features=768, bias=False)\n",
              "              (dropout): Dropout(p=0.1, inplace=False)\n",
              "              (act): ReLU()\n",
              "            )\n",
              "            (layer_norm): T5LayerNorm()\n",
              "            (dropout): Dropout(p=0.1, inplace=False)\n",
              "          )\n",
              "        )\n",
              "      )\n",
              "      (1-11): 11 x T5Block(\n",
              "        (layer): ModuleList(\n",
              "          (0): T5LayerSelfAttention(\n",
              "            (SelfAttention): T5Attention(\n",
              "              (q): Linear(in_features=768, out_features=768, bias=False)\n",
              "              (k): Linear(in_features=768, out_features=768, bias=False)\n",
              "              (v): Linear(in_features=768, out_features=768, bias=False)\n",
              "              (o): Linear(in_features=768, out_features=768, bias=False)\n",
              "            )\n",
              "            (layer_norm): T5LayerNorm()\n",
              "            (dropout): Dropout(p=0.1, inplace=False)\n",
              "          )\n",
              "          (1): T5LayerCrossAttention(\n",
              "            (EncDecAttention): T5Attention(\n",
              "              (q): Linear(in_features=768, out_features=768, bias=False)\n",
              "              (k): Linear(in_features=768, out_features=768, bias=False)\n",
              "              (v): Linear(in_features=768, out_features=768, bias=False)\n",
              "              (o): Linear(in_features=768, out_features=768, bias=False)\n",
              "            )\n",
              "            (layer_norm): T5LayerNorm()\n",
              "            (dropout): Dropout(p=0.1, inplace=False)\n",
              "          )\n",
              "          (2): T5LayerFF(\n",
              "            (DenseReluDense): T5DenseActDense(\n",
              "              (wi): Linear(in_features=768, out_features=3072, bias=False)\n",
              "              (wo): Linear(in_features=3072, out_features=768, bias=False)\n",
              "              (dropout): Dropout(p=0.1, inplace=False)\n",
              "              (act): ReLU()\n",
              "            )\n",
              "            (layer_norm): T5LayerNorm()\n",
              "            (dropout): Dropout(p=0.1, inplace=False)\n",
              "          )\n",
              "        )\n",
              "      )\n",
              "    )\n",
              "    (final_layer_norm): T5LayerNorm()\n",
              "    (dropout): Dropout(p=0.1, inplace=False)\n",
              "  )\n",
              "  (lm_head): Linear(in_features=768, out_features=32128, bias=False)\n",
              ")"
            ]
          },
          "metadata": {},
          "execution_count": 28
        }
      ],
      "source": [
        "tokenizer = T5Tokenizer.from_pretrained(\"t5-base\")\n",
        "model = T5ForConditionalGeneration.from_pretrained(f\"{workdir}t5_model\")\n",
        "device = torch.device(\"cuda\" if torch.cuda.is_available() else \"cpu\")\n",
        "model.to(device)"
      ]
    },
    {
      "cell_type": "code",
      "source": [
        "def predict(texts, do_sample=False, num_beams=1, num_return_sequences=1):\n",
        "  input_ids = tokenizer(texts, return_tensors=\"pt\", \n",
        "                        padding=\"max_length\", truncation=True).input_ids.to(device)\n",
        "  sequence_ids = model.generate(input_ids, do_sample=do_sample,\n",
        "                                num_beams=num_beams, max_new_tokens=128, \n",
        "                                num_return_sequences=num_return_sequences)\n",
        "  sequences = tokenizer.batch_decode(sequence_ids, skip_special_tokens=True)\n",
        "  return sequences"
      ],
      "metadata": {
        "id": "gzbJjgYEVWEG"
      },
      "execution_count": null,
      "outputs": []
    },
    {
      "cell_type": "markdown",
      "source": [
        "### Get corpus to retrieve queries"
      ],
      "metadata": {
        "id": "O6svMK4KWH7U"
      }
    },
    {
      "cell_type": "code",
      "source": [
        "!wget https://huggingface.co/datasets/BeIR/trec-covid/resolve/main/corpus.jsonl.gz\n",
        "!mv corpus.jsonl.gz trec-covid/\n",
        "!gunzip trec-covid/corpus.jsonl.gz"
      ],
      "metadata": {
        "colab": {
          "base_uri": "https://localhost:8080/"
        },
        "id": "qxWUe_6EVuhM",
        "outputId": "f25bd4c2-e30f-4f8e-ecda-323bc5de5d87"
      },
      "execution_count": null,
      "outputs": [
        {
          "output_type": "stream",
          "name": "stdout",
          "text": [
            "--2023-04-12 11:23:23--  https://huggingface.co/datasets/BeIR/trec-covid/resolve/main/corpus.jsonl.gz\n",
            "Resolving huggingface.co (huggingface.co)... 13.224.249.63, 13.224.249.86, 13.224.249.89, ...\n",
            "Connecting to huggingface.co (huggingface.co)|13.224.249.63|:443... connected.\n",
            "HTTP request sent, awaiting response... 302 Found\n",
            "Location: https://cdn-lfs.huggingface.co/repos/a8/10/a810e88b0e7b233be82b89c1fa6ec2d75efc6d55784c2ada9dcac8434a634f3a/e9e97686e3138eaff989f67c04cd32e8f8f4c0d4857187e3f180275b23e24e85?response-content-disposition=attachment%3B+filename*%3DUTF-8%27%27corpus.jsonl.gz%3B+filename%3D%22corpus.jsonl.gz%22%3B&response-content-type=application%2Fgzip&Expires=1681557803&Policy=eyJTdGF0ZW1lbnQiOlt7IlJlc291cmNlIjoiaHR0cHM6Ly9jZG4tbGZzLmh1Z2dpbmdmYWNlLmNvL3JlcG9zL2E4LzEwL2E4MTBlODhiMGU3YjIzM2JlODJiODljMWZhNmVjMmQ3NWVmYzZkNTU3ODRjMmFkYTlkY2FjODQzNGE2MzRmM2EvZTllOTc2ODZlMzEzOGVhZmY5ODlmNjdjMDRjZDMyZThmOGY0YzBkNDg1NzE4N2UzZjE4MDI3NWIyM2UyNGU4NT9yZXNwb25zZS1jb250ZW50LWRpc3Bvc2l0aW9uPSomcmVzcG9uc2UtY29udGVudC10eXBlPSoiLCJDb25kaXRpb24iOnsiRGF0ZUxlc3NUaGFuIjp7IkFXUzpFcG9jaFRpbWUiOjE2ODE1NTc4MDN9fX1dfQ__&Signature=U-e1F2AhuQ7daLjNguE576vK8oOhK5wASDBW%7E4t2EG9UYjC4e7kXMf0ePJuVN7hXWTEnj%7El%7EOooJ1z2klxbCkiZ3LqfKJ7aHH4pAyFo5XA2hQpyYpk2qHnEKCbljDOKZ1utrwN4fnDHTwunX5pQNYMSEjpNAbKKdjLoW-x5qD4m09eEuQIYadXzaudvi6yEgs2uVrKW0pEyJkbid43%7Eic3JczPTSmfoAC2AanILYOtsnmz7hRoLVrJ9I15XMm3Bt1HUJPQ-7MJf2WmY8EjgD7qme5UlVmaIJ3x4WuiPF9PYSdHVXOC7IfJaO4J5ztSIHcofk09Fo2cUoXObtCi8boQ__&Key-Pair-Id=KVTP0A1DKRTAX [following]\n",
            "--2023-04-12 11:23:23--  https://cdn-lfs.huggingface.co/repos/a8/10/a810e88b0e7b233be82b89c1fa6ec2d75efc6d55784c2ada9dcac8434a634f3a/e9e97686e3138eaff989f67c04cd32e8f8f4c0d4857187e3f180275b23e24e85?response-content-disposition=attachment%3B+filename*%3DUTF-8%27%27corpus.jsonl.gz%3B+filename%3D%22corpus.jsonl.gz%22%3B&response-content-type=application%2Fgzip&Expires=1681557803&Policy=eyJTdGF0ZW1lbnQiOlt7IlJlc291cmNlIjoiaHR0cHM6Ly9jZG4tbGZzLmh1Z2dpbmdmYWNlLmNvL3JlcG9zL2E4LzEwL2E4MTBlODhiMGU3YjIzM2JlODJiODljMWZhNmVjMmQ3NWVmYzZkNTU3ODRjMmFkYTlkY2FjODQzNGE2MzRmM2EvZTllOTc2ODZlMzEzOGVhZmY5ODlmNjdjMDRjZDMyZThmOGY0YzBkNDg1NzE4N2UzZjE4MDI3NWIyM2UyNGU4NT9yZXNwb25zZS1jb250ZW50LWRpc3Bvc2l0aW9uPSomcmVzcG9uc2UtY29udGVudC10eXBlPSoiLCJDb25kaXRpb24iOnsiRGF0ZUxlc3NUaGFuIjp7IkFXUzpFcG9jaFRpbWUiOjE2ODE1NTc4MDN9fX1dfQ__&Signature=U-e1F2AhuQ7daLjNguE576vK8oOhK5wASDBW%7E4t2EG9UYjC4e7kXMf0ePJuVN7hXWTEnj%7El%7EOooJ1z2klxbCkiZ3LqfKJ7aHH4pAyFo5XA2hQpyYpk2qHnEKCbljDOKZ1utrwN4fnDHTwunX5pQNYMSEjpNAbKKdjLoW-x5qD4m09eEuQIYadXzaudvi6yEgs2uVrKW0pEyJkbid43%7Eic3JczPTSmfoAC2AanILYOtsnmz7hRoLVrJ9I15XMm3Bt1HUJPQ-7MJf2WmY8EjgD7qme5UlVmaIJ3x4WuiPF9PYSdHVXOC7IfJaO4J5ztSIHcofk09Fo2cUoXObtCi8boQ__&Key-Pair-Id=KVTP0A1DKRTAX\n",
            "Resolving cdn-lfs.huggingface.co (cdn-lfs.huggingface.co)... 13.227.254.33, 13.227.254.47, 13.227.254.123, ...\n",
            "Connecting to cdn-lfs.huggingface.co (cdn-lfs.huggingface.co)|13.227.254.33|:443... connected.\n",
            "HTTP request sent, awaiting response... 200 OK\n",
            "Length: 73452199 (70M) [application/gzip]\n",
            "Saving to: ‘corpus.jsonl.gz’\n",
            "\n",
            "corpus.jsonl.gz     100%[===================>]  70.05M   183MB/s    in 0.4s    \n",
            "\n",
            "2023-04-12 11:23:23 (183 MB/s) - ‘corpus.jsonl.gz’ saved [73452199/73452199]\n",
            "\n"
          ]
        }
      ]
    },
    {
      "cell_type": "markdown",
      "source": [
        "peguei todo esse trecho final da monique, vamos ver se consigo trabalhar em cima disso"
      ],
      "metadata": {
        "id": "RHGPrF7NYnoJ"
      }
    },
    {
      "cell_type": "code",
      "source": [
        "corpus = []\n",
        "\n",
        "with open(\"trec-covid/corpus.jsonl\", 'r', encoding='utf-8') as f:\n",
        "    # Read the file line by line\n",
        "    lines = f.readlines()\n",
        "    \n",
        "    # Parse each line as a JSON object and store it in a list\n",
        "    for line in lines:\n",
        "        corpus.append(json.loads(line))"
      ],
      "metadata": {
        "id": "kDo_M8bhVoSF"
      },
      "execution_count": null,
      "outputs": []
    },
    {
      "cell_type": "code",
      "source": [
        "unprocessed_corpus = [doc for doc in corpus]\n",
        "len(unprocessed_corpus)"
      ],
      "metadata": {
        "colab": {
          "base_uri": "https://localhost:8080/"
        },
        "id": "ehEc3nKuXuGo",
        "outputId": "76737552-ae0d-40d7-dc73-4177f71bf8ba"
      },
      "execution_count": null,
      "outputs": [
        {
          "output_type": "execute_result",
          "data": {
            "text/plain": [
              "171332"
            ]
          },
          "metadata": {},
          "execution_count": 59
        }
      ]
    },
    {
      "cell_type": "markdown",
      "source": [
        "### Get queries for documents"
      ],
      "metadata": {
        "id": "XDIGeo78WQxt"
      }
    },
    {
      "cell_type": "code",
      "source": [
        "NUM_SAMPLE_QUERIES = 10"
      ],
      "metadata": {
        "id": "uXbVFAmwWm2q"
      },
      "execution_count": null,
      "outputs": []
    },
    {
      "cell_type": "code",
      "source": [
        "import time\n",
        "from collections import defaultdict\n",
        "import pickle\n",
        "\n",
        "\n",
        "batch_size = 8\n",
        "\n",
        "doc_to_queries = defaultdict(list)\n",
        "\n",
        "def add_queries(ids, queries, num_return_sequences=1):\n",
        "  for i, q in enumerate(queries):\n",
        "    doc_to_queries[ids[i]].append(q)\n",
        "    \n",
        "last_saved_batch = -1\n",
        "extended_docs = []\n",
        "\n",
        "for i in tqdm(range(0, len(unprocessed_corpus), batch_size)):\n",
        "  texts = [doc[\"text\"] for doc in unprocessed_corpus[i:i+batch_size]]\n",
        "  ids = [doc[\"_id\"] for doc in unprocessed_corpus[i:i+batch_size]]\n",
        " \n",
        "  #Generates 10 queries per document by using random sampling\n",
        "  sampled_queries = predict(texts, do_sample=True, \n",
        "                            num_return_sequences=NUM_SAMPLE_QUERIES)\n",
        "  ids_list = []\n",
        "  for id in ids:\n",
        "    ids_list += [id]*NUM_SAMPLE_QUERIES\n",
        "\n",
        "  add_queries(ids_list, sampled_queries, num_return_sequences=NUM_SAMPLE_QUERIES)    \n"
      ],
      "metadata": {
        "colab": {
          "base_uri": "https://localhost:8080/"
        },
        "id": "8TARsQH6V5hl",
        "outputId": "959f4807-e8df-4b0a-e55b-e8ba52a88179"
      },
      "execution_count": null,
      "outputs": [
        {
          "output_type": "stream",
          "name": "stderr",
          "text": [
            " 93%|█████████▎| 19830/21417 [6:26:34<31:45,  1.20s/it]"
          ]
        }
      ]
    },
    {
      "cell_type": "code",
      "source": [
        "len(doc_to_queries)"
      ],
      "metadata": {
        "colab": {
          "base_uri": "https://localhost:8080/"
        },
        "id": "OAjlcPqQWpbv",
        "outputId": "27d186e0-de3a-4619-f5d9-c5e840896405"
      },
      "execution_count": null,
      "outputs": [
        {
          "output_type": "execute_result",
          "data": {
            "text/plain": [
              "171332"
            ]
          },
          "metadata": {},
          "execution_count": 42
        }
      ]
    },
    {
      "cell_type": "code",
      "source": [
        "n_files = 3\n",
        "json_batch_size = len(doc_to_queries)//n_files"
      ],
      "metadata": {
        "id": "_jvYn42bY_L-"
      },
      "execution_count": null,
      "outputs": []
    },
    {
      "cell_type": "code",
      "source": [
        "json_batch_size"
      ],
      "metadata": {
        "colab": {
          "base_uri": "https://localhost:8080/"
        },
        "id": "kDHU350lZDLM",
        "outputId": "274041e3-0d7f-4b37-966a-5e046ea337ef"
      },
      "execution_count": null,
      "outputs": [
        {
          "output_type": "execute_result",
          "data": {
            "text/plain": [
              "57110"
            ]
          },
          "metadata": {},
          "execution_count": 37
        }
      ]
    },
    {
      "cell_type": "code",
      "source": [
        "doc_id_to_text_and_title = {doc[\"_id\"]: (doc[\"text\"], doc[\"title\"]) for doc in corpus}"
      ],
      "metadata": {
        "id": "ejhZAjlmdgFB"
      },
      "execution_count": null,
      "outputs": []
    },
    {
      "cell_type": "code",
      "source": [
        "extended_docs = []\n",
        "\n",
        "for doc_id, queries in doc_to_queries.items():\n",
        "  text, title = doc_id_to_text_and_title[doc_id]\n",
        "  text += '\\n' + '\\n'.join(queries)\n",
        "  extended_docs.append({\"id\":doc_id, \"contents\": title + '\\n' + text})"
      ],
      "metadata": {
        "id": "aTh_pz2UdEX7"
      },
      "execution_count": null,
      "outputs": []
    },
    {
      "cell_type": "code",
      "source": [
        "len(extended_docs)"
      ],
      "metadata": {
        "colab": {
          "base_uri": "https://localhost:8080/"
        },
        "id": "87dg_f9agvrY",
        "outputId": "69ae77d3-11ad-4963-9111-9a6a512cfd76"
      },
      "execution_count": null,
      "outputs": [
        {
          "output_type": "execute_result",
          "data": {
            "text/plain": [
              "171332"
            ]
          },
          "metadata": {},
          "execution_count": 40
        }
      ]
    },
    {
      "cell_type": "code",
      "source": [
        "import locale\n",
        "locale.getpreferredencoding = lambda: \"UTF-8\""
      ],
      "metadata": {
        "id": "VWkJhxLi7-6W"
      },
      "execution_count": null,
      "outputs": []
    },
    {
      "cell_type": "code",
      "source": [
        "import pickle\n",
        "\n",
        "with open(f'{workdir}/unjsoned_10_queries_expand_titles.pickle', 'wb') as f:\n",
        "  pickle.dump(doc_to_queries, f)"
      ],
      "metadata": {
        "id": "ZhW3PEIN6sut"
      },
      "execution_count": null,
      "outputs": []
    },
    {
      "cell_type": "code",
      "source": [
        "files = f'{workdir}trec-covid'"
      ],
      "metadata": {
        "id": "fqFcREy7_Ygb"
      },
      "execution_count": null,
      "outputs": []
    },
    {
      "cell_type": "code",
      "source": [
        "j = len(files)\n",
        "\n",
        "for i in tqdm(range(0, len(extended_docs), json_batch_size)):\n",
        "  #filename = f\"{main_dir}/collections/trec_covid/json_{j}.json\"\n",
        "  filename = f\"{workdir}trec-covid/json_{j}.json\"\n",
        "  print(filename)\n",
        "  with jsonlines.open(filename, mode='w') as writer:\n",
        "    for item in extended_docs[i:i+json_batch_size]:\n",
        "      writer.write(item)\n",
        "  j+=1"
      ],
      "metadata": {
        "colab": {
          "base_uri": "https://localhost:8080/"
        },
        "id": "4p7GKQnngyAz",
        "outputId": "d1964b98-31f2-49f4-d2a2-cf6e3ed2c657"
      },
      "execution_count": null,
      "outputs": [
        {
          "output_type": "stream",
          "name": "stderr",
          "text": [
            "\r  0%|          | 0/4 [00:00<?, ?it/s]"
          ]
        },
        {
          "output_type": "stream",
          "name": "stdout",
          "text": [
            "/content/gdrive/MyDrive/Unicamp/Deep Learning Aplicado à Sistemas de Busca/Notebooks/trec-covid/json_95.json\n"
          ]
        },
        {
          "output_type": "stream",
          "name": "stderr",
          "text": [
            "\r 25%|██▌       | 1/4 [00:01<00:04,  1.39s/it]"
          ]
        },
        {
          "output_type": "stream",
          "name": "stdout",
          "text": [
            "/content/gdrive/MyDrive/Unicamp/Deep Learning Aplicado à Sistemas de Busca/Notebooks/trec-covid/json_96.json\n"
          ]
        },
        {
          "output_type": "stream",
          "name": "stderr",
          "text": [
            "\r 50%|█████     | 2/4 [00:02<00:02,  1.32s/it]"
          ]
        },
        {
          "output_type": "stream",
          "name": "stdout",
          "text": [
            "/content/gdrive/MyDrive/Unicamp/Deep Learning Aplicado à Sistemas de Busca/Notebooks/trec-covid/json_97.json\n"
          ]
        },
        {
          "output_type": "stream",
          "name": "stderr",
          "text": [
            "100%|██████████| 4/4 [00:04<00:00,  1.03s/it]"
          ]
        },
        {
          "output_type": "stream",
          "name": "stdout",
          "text": [
            "/content/gdrive/MyDrive/Unicamp/Deep Learning Aplicado à Sistemas de Busca/Notebooks/trec-covid/json_98.json\n"
          ]
        },
        {
          "output_type": "stream",
          "name": "stderr",
          "text": [
            "\n"
          ]
        }
      ]
    },
    {
      "cell_type": "markdown",
      "source": [
        "## Index building in Pyserini"
      ],
      "metadata": {
        "id": "SBa3smYMkJEM"
      }
    },
    {
      "cell_type": "code",
      "source": [
        "json_batch_size = len(corpus)//10"
      ],
      "metadata": {
        "id": "CXnDrAxvsLSb"
      },
      "execution_count": null,
      "outputs": []
    },
    {
      "cell_type": "code",
      "source": [
        "!pip install jsonlines -q"
      ],
      "metadata": {
        "id": "COytVTCX8Yoi"
      },
      "execution_count": null,
      "outputs": []
    },
    {
      "cell_type": "code",
      "source": [
        "import jsonlines\n",
        "\n",
        "j=0\n",
        "\n",
        "for i in tqdm(range(0, len(extended_docs), json_batch_size)):\n",
        "  filename = f\"{workdir}trec-covid/json_{j}.json\"\n",
        "  print(filename)\n",
        "  with jsonlines.open(filename, mode='w') as writer:\n",
        "    #for item in all_docs[i:i+json_batch_size]:\n",
        "    for item in extended_docs[i:i+json_batch_size]:\n",
        "      writer.write(item)\n",
        "  j+=1"
      ],
      "metadata": {
        "id": "si-5-sgbsGl8",
        "colab": {
          "base_uri": "https://localhost:8080/"
        },
        "outputId": "e62b7534-b125-4029-d2d8-734517f85602"
      },
      "execution_count": null,
      "outputs": [
        {
          "output_type": "stream",
          "name": "stderr",
          "text": [
            "100%|██████████| 11/11 [00:04<00:00,  2.60it/s]\n"
          ]
        }
      ]
    },
    {
      "cell_type": "code",
      "source": [
        "!python -m pyserini.index.lucene \\\n",
        "  --collection JsonCollection \\\n",
        "  --input  /content/gdrive/MyDrive/Unicamp/ \\\n",
        "  --index indexes/expanded_trec_covid \\\n",
        "  --generator DefaultLuceneDocumentGenerator \\\n",
        "  --threads 9 \\\n",
        "  --storePositions --storeDocvectors --storeRaw"
      ],
      "metadata": {
        "colab": {
          "base_uri": "https://localhost:8080/"
        },
        "id": "LixhpIVMkLqJ",
        "outputId": "7f976a8f-0b9b-4039-aab4-7c0d23522128"
      },
      "execution_count": null,
      "outputs": [
        {
          "output_type": "stream",
          "name": "stdout",
          "text": [
            "WARNING: sun.reflect.Reflection.getCallerClass is not supported. This will impact performance.\n",
            "2023-04-12 21:54:24,962 INFO  [main] index.IndexCollection (IndexCollection.java:380) - Setting log level to INFO\n",
            "2023-04-12 21:54:24,964 INFO  [main] index.IndexCollection (IndexCollection.java:383) - Starting indexer...\n",
            "2023-04-12 21:54:24,964 INFO  [main] index.IndexCollection (IndexCollection.java:384) - ============ Loading Parameters ============\n",
            "2023-04-12 21:54:24,964 INFO  [main] index.IndexCollection (IndexCollection.java:385) - DocumentCollection path: /content/gdrive/MyDrive/Unicamp/\n",
            "2023-04-12 21:54:24,965 INFO  [main] index.IndexCollection (IndexCollection.java:386) - CollectionClass: JsonCollection\n",
            "2023-04-12 21:54:24,965 INFO  [main] index.IndexCollection (IndexCollection.java:387) - Generator: DefaultLuceneDocumentGenerator\n",
            "2023-04-12 21:54:24,965 INFO  [main] index.IndexCollection (IndexCollection.java:388) - Threads: 9\n",
            "2023-04-12 21:54:24,966 INFO  [main] index.IndexCollection (IndexCollection.java:389) - Language: en\n",
            "2023-04-12 21:54:24,966 INFO  [main] index.IndexCollection (IndexCollection.java:390) - Stemmer: porter\n",
            "2023-04-12 21:54:24,966 INFO  [main] index.IndexCollection (IndexCollection.java:391) - Keep stopwords? false\n",
            "2023-04-12 21:54:24,966 INFO  [main] index.IndexCollection (IndexCollection.java:392) - Stopwords: null\n",
            "2023-04-12 21:54:24,966 INFO  [main] index.IndexCollection (IndexCollection.java:393) - Store positions? true\n",
            "2023-04-12 21:54:24,967 INFO  [main] index.IndexCollection (IndexCollection.java:394) - Store docvectors? true\n",
            "2023-04-12 21:54:24,967 INFO  [main] index.IndexCollection (IndexCollection.java:395) - Store document \"contents\" field? false\n",
            "2023-04-12 21:54:24,967 INFO  [main] index.IndexCollection (IndexCollection.java:396) - Store document \"raw\" field? true\n",
            "2023-04-12 21:54:24,968 INFO  [main] index.IndexCollection (IndexCollection.java:397) - Additional fields to index: []\n",
            "2023-04-12 21:54:24,968 INFO  [main] index.IndexCollection (IndexCollection.java:398) - Optimize (merge segments)? false\n",
            "2023-04-12 21:54:24,968 INFO  [main] index.IndexCollection (IndexCollection.java:399) - Whitelist: null\n",
            "2023-04-12 21:54:24,968 INFO  [main] index.IndexCollection (IndexCollection.java:400) - Pretokenized?: false\n",
            "2023-04-12 21:54:24,968 INFO  [main] index.IndexCollection (IndexCollection.java:401) - Index path: indexes/expanded_trec_covid\n",
            "2023-04-12 21:54:24,974 INFO  [main] index.IndexCollection (IndexCollection.java:481) - ============ Indexing Collection ============\n",
            "2023-04-12 21:54:24,986 INFO  [main] index.IndexCollection (IndexCollection.java:468) - Using DefaultEnglishAnalyzer\n",
            "2023-04-12 21:54:24,987 INFO  [main] index.IndexCollection (IndexCollection.java:469) - Stemmer: porter\n",
            "2023-04-12 21:54:24,987 INFO  [main] index.IndexCollection (IndexCollection.java:470) - Keep stopwords? false\n",
            "2023-04-12 21:54:24,987 INFO  [main] index.IndexCollection (IndexCollection.java:471) - Stopwords file: null\n",
            "2023-04-12 21:54:25,105 INFO  [main] index.IndexCollection (IndexCollection.java:510) - Thread pool with 9 threads initialized.\n",
            "2023-04-12 21:54:25,106 INFO  [main] index.IndexCollection (IndexCollection.java:512) - Initializing collection in /content/gdrive/MyDrive/Unicamp\n",
            "2023-04-12 21:54:32,360 INFO  [main] index.IndexCollection (IndexCollection.java:521) - 34 files found\n",
            "2023-04-12 21:54:32,361 INFO  [main] index.IndexCollection (IndexCollection.java:522) - Starting to index...\n",
            "2023-04-12 21:54:32,893 ERROR [pool-2-thread-3] index.IndexCollection$LocalIndexerThread (IndexCollection.java:348) - pool-2-thread-3: Unexpected Exception:\n",
            "java.lang.RuntimeException: JSON document has no \"id\" field!\n",
            "\tat io.anserini.collection.JsonCollection$Document.id(JsonCollection.java:210) ~[anserini-0.21.0-fatjar.jar:?]\n",
            "\tat io.anserini.index.generator.DefaultLuceneDocumentGenerator.createDocument(DefaultLuceneDocumentGenerator.java:59) ~[anserini-0.21.0-fatjar.jar:?]\n",
            "\tat io.anserini.index.IndexCollection$LocalIndexerThread.run(IndexCollection.java:295) [anserini-0.21.0-fatjar.jar:?]\n",
            "\tat java.util.concurrent.ThreadPoolExecutor.runWorker(ThreadPoolExecutor.java:1128) [?:?]\n",
            "\tat java.util.concurrent.ThreadPoolExecutor$Worker.run(ThreadPoolExecutor.java:628) [?:?]\n",
            "\tat java.lang.Thread.run(Thread.java:829) [?:?]\n",
            "2023-04-12 21:54:32,893 ERROR [pool-2-thread-7] index.IndexCollection$LocalIndexerThread (IndexCollection.java:348) - pool-2-thread-7: Unexpected Exception:\n",
            "java.lang.RuntimeException: JSON document has no \"id\" field!\n",
            "\tat io.anserini.collection.JsonCollection$Document.id(JsonCollection.java:210) ~[anserini-0.21.0-fatjar.jar:?]\n",
            "\tat io.anserini.index.generator.DefaultLuceneDocumentGenerator.createDocument(DefaultLuceneDocumentGenerator.java:59) ~[anserini-0.21.0-fatjar.jar:?]\n",
            "\tat io.anserini.index.IndexCollection$LocalIndexerThread.run(IndexCollection.java:295) [anserini-0.21.0-fatjar.jar:?]\n",
            "\tat java.util.concurrent.ThreadPoolExecutor.runWorker(ThreadPoolExecutor.java:1128) [?:?]\n",
            "\tat java.util.concurrent.ThreadPoolExecutor$Worker.run(ThreadPoolExecutor.java:628) [?:?]\n",
            "\tat java.lang.Thread.run(Thread.java:829) [?:?]\n",
            "2023-04-12 21:54:32,893 ERROR [pool-2-thread-6] index.IndexCollection$LocalIndexerThread (IndexCollection.java:348) - pool-2-thread-6: Unexpected Exception:\n",
            "java.lang.RuntimeException: JSON document has no \"id\" field!\n",
            "\tat io.anserini.collection.JsonCollection$Document.id(JsonCollection.java:210) ~[anserini-0.21.0-fatjar.jar:?]\n",
            "\tat io.anserini.index.generator.DefaultLuceneDocumentGenerator.createDocument(DefaultLuceneDocumentGenerator.java:59) ~[anserini-0.21.0-fatjar.jar:?]\n",
            "\tat io.anserini.index.IndexCollection$LocalIndexerThread.run(IndexCollection.java:295) [anserini-0.21.0-fatjar.jar:?]\n",
            "\tat java.util.concurrent.ThreadPoolExecutor.runWorker(ThreadPoolExecutor.java:1128) [?:?]\n",
            "\tat java.util.concurrent.ThreadPoolExecutor$Worker.run(ThreadPoolExecutor.java:628) [?:?]\n",
            "\tat java.lang.Thread.run(Thread.java:829) [?:?]\n",
            "2023-04-12 21:54:32,914 ERROR [pool-2-thread-5] index.IndexCollection$LocalIndexerThread (IndexCollection.java:348) - pool-2-thread-5: Unexpected Exception:\n",
            "java.lang.RuntimeException: JSON document has no \"id\" field!\n",
            "\tat io.anserini.collection.JsonCollection$Document.id(JsonCollection.java:210) ~[anserini-0.21.0-fatjar.jar:?]\n",
            "\tat io.anserini.index.generator.DefaultLuceneDocumentGenerator.createDocument(DefaultLuceneDocumentGenerator.java:59) ~[anserini-0.21.0-fatjar.jar:?]\n",
            "\tat io.anserini.index.IndexCollection$LocalIndexerThread.run(IndexCollection.java:295) [anserini-0.21.0-fatjar.jar:?]\n",
            "\tat java.util.concurrent.ThreadPoolExecutor.runWorker(ThreadPoolExecutor.java:1128) [?:?]\n",
            "\tat java.util.concurrent.ThreadPoolExecutor$Worker.run(ThreadPoolExecutor.java:628) [?:?]\n",
            "\tat java.lang.Thread.run(Thread.java:829) [?:?]\n",
            "2023-04-12 21:54:32,914 ERROR [pool-2-thread-1] index.IndexCollection$LocalIndexerThread (IndexCollection.java:348) - pool-2-thread-1: Unexpected Exception:\n",
            "java.lang.RuntimeException: JSON document has no \"id\" field!\n",
            "\tat io.anserini.collection.JsonCollection$Document.id(JsonCollection.java:210) ~[anserini-0.21.0-fatjar.jar:?]\n",
            "\tat io.anserini.index.generator.DefaultLuceneDocumentGenerator.createDocument(DefaultLuceneDocumentGenerator.java:59) ~[anserini-0.21.0-fatjar.jar:?]\n",
            "\tat io.anserini.index.IndexCollection$LocalIndexerThread.run(IndexCollection.java:295) [anserini-0.21.0-fatjar.jar:?]\n",
            "\tat java.util.concurrent.ThreadPoolExecutor.runWorker(ThreadPoolExecutor.java:1128) [?:?]\n",
            "\tat java.util.concurrent.ThreadPoolExecutor$Worker.run(ThreadPoolExecutor.java:628) [?:?]\n",
            "\tat java.lang.Thread.run(Thread.java:829) [?:?]\n",
            "2023-04-12 21:54:32,928 ERROR [pool-2-thread-9] index.IndexCollection$LocalIndexerThread (IndexCollection.java:348) - pool-2-thread-9: Unexpected Exception:\n",
            "java.lang.RuntimeException: JSON document has no \"id\" field!\n",
            "\tat io.anserini.collection.JsonCollection$Document.id(JsonCollection.java:210) ~[anserini-0.21.0-fatjar.jar:?]\n",
            "\tat io.anserini.index.generator.DefaultLuceneDocumentGenerator.createDocument(DefaultLuceneDocumentGenerator.java:59) ~[anserini-0.21.0-fatjar.jar:?]\n",
            "\tat io.anserini.index.IndexCollection$LocalIndexerThread.run(IndexCollection.java:295) [anserini-0.21.0-fatjar.jar:?]\n",
            "\tat java.util.concurrent.ThreadPoolExecutor.runWorker(ThreadPoolExecutor.java:1128) [?:?]\n",
            "\tat java.util.concurrent.ThreadPoolExecutor$Worker.run(ThreadPoolExecutor.java:628) [?:?]\n",
            "\tat java.lang.Thread.run(Thread.java:829) [?:?]\n",
            "2023-04-12 21:54:33,048 ERROR [pool-2-thread-4] index.IndexCollection$LocalIndexerThread (IndexCollection.java:348) - pool-2-thread-4: Unexpected Exception:\n",
            "java.lang.RuntimeException: JSON document has no \"id\" field!\n",
            "\tat io.anserini.collection.JsonCollection$Document.id(JsonCollection.java:210) ~[anserini-0.21.0-fatjar.jar:?]\n",
            "\tat io.anserini.index.generator.DefaultLuceneDocumentGenerator.createDocument(DefaultLuceneDocumentGenerator.java:59) ~[anserini-0.21.0-fatjar.jar:?]\n",
            "\tat io.anserini.index.IndexCollection$LocalIndexerThread.run(IndexCollection.java:295) [anserini-0.21.0-fatjar.jar:?]\n",
            "\tat java.util.concurrent.ThreadPoolExecutor.runWorker(ThreadPoolExecutor.java:1128) [?:?]\n",
            "\tat java.util.concurrent.ThreadPoolExecutor$Worker.run(ThreadPoolExecutor.java:628) [?:?]\n",
            "\tat java.lang.Thread.run(Thread.java:829) [?:?]\n",
            "2023-04-12 21:54:33,228 ERROR [pool-2-thread-2] index.IndexCollection$LocalIndexerThread (IndexCollection.java:348) - pool-2-thread-2: Unexpected Exception:\n",
            "java.lang.RuntimeException: JSON document has no \"id\" field!\n",
            "\tat io.anserini.collection.JsonCollection$Document.id(JsonCollection.java:210) ~[anserini-0.21.0-fatjar.jar:?]\n",
            "\tat io.anserini.index.generator.DefaultLuceneDocumentGenerator.createDocument(DefaultLuceneDocumentGenerator.java:59) ~[anserini-0.21.0-fatjar.jar:?]\n",
            "\tat io.anserini.index.IndexCollection$LocalIndexerThread.run(IndexCollection.java:295) [anserini-0.21.0-fatjar.jar:?]\n",
            "\tat java.util.concurrent.ThreadPoolExecutor.runWorker(ThreadPoolExecutor.java:1128) [?:?]\n",
            "\tat java.util.concurrent.ThreadPoolExecutor$Worker.run(ThreadPoolExecutor.java:628) [?:?]\n",
            "\tat java.lang.Thread.run(Thread.java:829) [?:?]\n",
            "2023-04-12 21:54:33,245 ERROR [pool-2-thread-8] index.IndexCollection$LocalIndexerThread (IndexCollection.java:348) - pool-2-thread-8: Unexpected Exception:\n",
            "java.lang.RuntimeException: JSON document has no \"id\" field!\n",
            "\tat io.anserini.collection.JsonCollection$Document.id(JsonCollection.java:210) ~[anserini-0.21.0-fatjar.jar:?]\n",
            "\tat io.anserini.index.generator.DefaultLuceneDocumentGenerator.createDocument(DefaultLuceneDocumentGenerator.java:59) ~[anserini-0.21.0-fatjar.jar:?]\n",
            "\tat io.anserini.index.IndexCollection$LocalIndexerThread.run(IndexCollection.java:295) [anserini-0.21.0-fatjar.jar:?]\n",
            "\tat java.util.concurrent.ThreadPoolExecutor.runWorker(ThreadPoolExecutor.java:1128) [?:?]\n",
            "\tat java.util.concurrent.ThreadPoolExecutor$Worker.run(ThreadPoolExecutor.java:628) [?:?]\n",
            "\tat java.lang.Thread.run(Thread.java:829) [?:?]\n",
            "2023-04-12 21:54:33,252 ERROR [pool-2-thread-7] index.IndexCollection$LocalIndexerThread (IndexCollection.java:348) - pool-2-thread-7: Unexpected Exception:\n",
            "java.lang.RuntimeException: JSON document has no \"id\" field!\n",
            "\tat io.anserini.collection.JsonCollection$Document.id(JsonCollection.java:210) ~[anserini-0.21.0-fatjar.jar:?]\n",
            "\tat io.anserini.index.generator.DefaultLuceneDocumentGenerator.createDocument(DefaultLuceneDocumentGenerator.java:59) ~[anserini-0.21.0-fatjar.jar:?]\n",
            "\tat io.anserini.index.IndexCollection$LocalIndexerThread.run(IndexCollection.java:295) [anserini-0.21.0-fatjar.jar:?]\n",
            "\tat java.util.concurrent.ThreadPoolExecutor.runWorker(ThreadPoolExecutor.java:1128) [?:?]\n",
            "\tat java.util.concurrent.ThreadPoolExecutor$Worker.run(ThreadPoolExecutor.java:628) [?:?]\n",
            "\tat java.lang.Thread.run(Thread.java:829) [?:?]\n",
            "2023-04-12 21:54:33,254 ERROR [pool-2-thread-5] index.IndexCollection$LocalIndexerThread (IndexCollection.java:348) - pool-2-thread-5: Unexpected Exception:\n",
            "java.lang.RuntimeException: JSON document has no \"id\" field!\n",
            "\tat io.anserini.collection.JsonCollection$Document.id(JsonCollection.java:210) ~[anserini-0.21.0-fatjar.jar:?]\n",
            "\tat io.anserini.index.generator.DefaultLuceneDocumentGenerator.createDocument(DefaultLuceneDocumentGenerator.java:59) ~[anserini-0.21.0-fatjar.jar:?]\n",
            "\tat io.anserini.index.IndexCollection$LocalIndexerThread.run(IndexCollection.java:295) [anserini-0.21.0-fatjar.jar:?]\n",
            "\tat java.util.concurrent.ThreadPoolExecutor.runWorker(ThreadPoolExecutor.java:1128) [?:?]\n",
            "\tat java.util.concurrent.ThreadPoolExecutor$Worker.run(ThreadPoolExecutor.java:628) [?:?]\n",
            "\tat java.lang.Thread.run(Thread.java:829) [?:?]\n",
            "2023-04-12 21:54:33,267 ERROR [pool-2-thread-3] index.IndexCollection$LocalIndexerThread (IndexCollection.java:348) - pool-2-thread-3: Unexpected Exception:\n",
            "java.lang.RuntimeException: JSON document has no \"id\" field!\n",
            "\tat io.anserini.collection.JsonCollection$Document.id(JsonCollection.java:210) ~[anserini-0.21.0-fatjar.jar:?]\n",
            "\tat io.anserini.index.generator.DefaultLuceneDocumentGenerator.createDocument(DefaultLuceneDocumentGenerator.java:59) ~[anserini-0.21.0-fatjar.jar:?]\n",
            "\tat io.anserini.index.IndexCollection$LocalIndexerThread.run(IndexCollection.java:295) [anserini-0.21.0-fatjar.jar:?]\n",
            "\tat java.util.concurrent.ThreadPoolExecutor.runWorker(ThreadPoolExecutor.java:1128) [?:?]\n",
            "\tat java.util.concurrent.ThreadPoolExecutor$Worker.run(ThreadPoolExecutor.java:628) [?:?]\n",
            "\tat java.lang.Thread.run(Thread.java:829) [?:?]\n",
            "2023-04-12 21:54:33,274 ERROR [pool-2-thread-6] index.IndexCollection$LocalIndexerThread (IndexCollection.java:348) - pool-2-thread-6: Unexpected Exception:\n",
            "java.lang.RuntimeException: JSON document has no \"id\" field!\n",
            "\tat io.anserini.collection.JsonCollection$Document.id(JsonCollection.java:210) ~[anserini-0.21.0-fatjar.jar:?]\n",
            "\tat io.anserini.index.generator.DefaultLuceneDocumentGenerator.createDocument(DefaultLuceneDocumentGenerator.java:59) ~[anserini-0.21.0-fatjar.jar:?]\n",
            "\tat io.anserini.index.IndexCollection$LocalIndexerThread.run(IndexCollection.java:295) [anserini-0.21.0-fatjar.jar:?]\n",
            "\tat java.util.concurrent.ThreadPoolExecutor.runWorker(ThreadPoolExecutor.java:1128) [?:?]\n",
            "\tat java.util.concurrent.ThreadPoolExecutor$Worker.run(ThreadPoolExecutor.java:628) [?:?]\n",
            "\tat java.lang.Thread.run(Thread.java:829) [?:?]\n",
            "2023-04-12 21:54:33,392 ERROR [pool-2-thread-9] index.IndexCollection$LocalIndexerThread (IndexCollection.java:348) - pool-2-thread-9: Unexpected Exception:\n",
            "java.lang.RuntimeException: JSON document has no \"id\" field!\n",
            "\tat io.anserini.collection.JsonCollection$Document.id(JsonCollection.java:210) ~[anserini-0.21.0-fatjar.jar:?]\n",
            "\tat io.anserini.index.generator.DefaultLuceneDocumentGenerator.createDocument(DefaultLuceneDocumentGenerator.java:59) ~[anserini-0.21.0-fatjar.jar:?]\n",
            "\tat io.anserini.index.IndexCollection$LocalIndexerThread.run(IndexCollection.java:295) [anserini-0.21.0-fatjar.jar:?]\n",
            "\tat java.util.concurrent.ThreadPoolExecutor.runWorker(ThreadPoolExecutor.java:1128) [?:?]\n",
            "\tat java.util.concurrent.ThreadPoolExecutor$Worker.run(ThreadPoolExecutor.java:628) [?:?]\n",
            "\tat java.lang.Thread.run(Thread.java:829) [?:?]\n",
            "2023-04-12 21:54:33,407 ERROR [pool-2-thread-4] index.IndexCollection$LocalIndexerThread (IndexCollection.java:348) - pool-2-thread-4: Unexpected Exception:\n",
            "java.lang.RuntimeException: JSON document has no \"id\" field!\n",
            "\tat io.anserini.collection.JsonCollection$Document.id(JsonCollection.java:210) ~[anserini-0.21.0-fatjar.jar:?]\n",
            "\tat io.anserini.index.generator.DefaultLuceneDocumentGenerator.createDocument(DefaultLuceneDocumentGenerator.java:59) ~[anserini-0.21.0-fatjar.jar:?]\n",
            "\tat io.anserini.index.IndexCollection$LocalIndexerThread.run(IndexCollection.java:295) [anserini-0.21.0-fatjar.jar:?]\n",
            "\tat java.util.concurrent.ThreadPoolExecutor.runWorker(ThreadPoolExecutor.java:1128) [?:?]\n",
            "\tat java.util.concurrent.ThreadPoolExecutor$Worker.run(ThreadPoolExecutor.java:628) [?:?]\n",
            "\tat java.lang.Thread.run(Thread.java:829) [?:?]\n",
            "2023-04-12 21:54:33,460 ERROR [pool-2-thread-1] index.IndexCollection$LocalIndexerThread (IndexCollection.java:348) - pool-2-thread-1: Unexpected Exception:\n",
            "java.lang.RuntimeException: JSON document has no \"id\" field!\n",
            "\tat io.anserini.collection.JsonCollection$Document.id(JsonCollection.java:210) ~[anserini-0.21.0-fatjar.jar:?]\n",
            "\tat io.anserini.index.generator.DefaultLuceneDocumentGenerator.createDocument(DefaultLuceneDocumentGenerator.java:59) ~[anserini-0.21.0-fatjar.jar:?]\n",
            "\tat io.anserini.index.IndexCollection$LocalIndexerThread.run(IndexCollection.java:295) [anserini-0.21.0-fatjar.jar:?]\n",
            "\tat java.util.concurrent.ThreadPoolExecutor.runWorker(ThreadPoolExecutor.java:1128) [?:?]\n",
            "\tat java.util.concurrent.ThreadPoolExecutor$Worker.run(ThreadPoolExecutor.java:628) [?:?]\n",
            "\tat java.lang.Thread.run(Thread.java:829) [?:?]\n",
            "2023-04-12 21:54:33,595 ERROR [pool-2-thread-2] index.IndexCollection$LocalIndexerThread (IndexCollection.java:348) - pool-2-thread-2: Unexpected Exception:\n",
            "java.lang.RuntimeException: JSON document has no \"id\" field!\n",
            "\tat io.anserini.collection.JsonCollection$Document.id(JsonCollection.java:210) ~[anserini-0.21.0-fatjar.jar:?]\n",
            "\tat io.anserini.index.generator.DefaultLuceneDocumentGenerator.createDocument(DefaultLuceneDocumentGenerator.java:59) ~[anserini-0.21.0-fatjar.jar:?]\n",
            "\tat io.anserini.index.IndexCollection$LocalIndexerThread.run(IndexCollection.java:295) [anserini-0.21.0-fatjar.jar:?]\n",
            "\tat java.util.concurrent.ThreadPoolExecutor.runWorker(ThreadPoolExecutor.java:1128) [?:?]\n",
            "\tat java.util.concurrent.ThreadPoolExecutor$Worker.run(ThreadPoolExecutor.java:628) [?:?]\n",
            "\tat java.lang.Thread.run(Thread.java:829) [?:?]\n",
            "2023-04-12 21:54:33,601 ERROR [pool-2-thread-8] index.IndexCollection$LocalIndexerThread (IndexCollection.java:348) - pool-2-thread-8: Unexpected Exception:\n",
            "java.lang.RuntimeException: JSON document has no \"id\" field!\n",
            "\tat io.anserini.collection.JsonCollection$Document.id(JsonCollection.java:210) ~[anserini-0.21.0-fatjar.jar:?]\n",
            "\tat io.anserini.index.generator.DefaultLuceneDocumentGenerator.createDocument(DefaultLuceneDocumentGenerator.java:59) ~[anserini-0.21.0-fatjar.jar:?]\n",
            "\tat io.anserini.index.IndexCollection$LocalIndexerThread.run(IndexCollection.java:295) [anserini-0.21.0-fatjar.jar:?]\n",
            "\tat java.util.concurrent.ThreadPoolExecutor.runWorker(ThreadPoolExecutor.java:1128) [?:?]\n",
            "\tat java.util.concurrent.ThreadPoolExecutor$Worker.run(ThreadPoolExecutor.java:628) [?:?]\n",
            "\tat java.lang.Thread.run(Thread.java:829) [?:?]\n",
            "2023-04-12 21:54:33,729 ERROR [pool-2-thread-7] index.IndexCollection$LocalIndexerThread (IndexCollection.java:348) - pool-2-thread-7: Unexpected Exception:\n",
            "java.lang.RuntimeException: JSON document has no \"id\" field!\n",
            "\tat io.anserini.collection.JsonCollection$Document.id(JsonCollection.java:210) ~[anserini-0.21.0-fatjar.jar:?]\n",
            "\tat io.anserini.index.generator.DefaultLuceneDocumentGenerator.createDocument(DefaultLuceneDocumentGenerator.java:59) ~[anserini-0.21.0-fatjar.jar:?]\n",
            "\tat io.anserini.index.IndexCollection$LocalIndexerThread.run(IndexCollection.java:295) [anserini-0.21.0-fatjar.jar:?]\n",
            "\tat java.util.concurrent.ThreadPoolExecutor.runWorker(ThreadPoolExecutor.java:1128) [?:?]\n",
            "\tat java.util.concurrent.ThreadPoolExecutor$Worker.run(ThreadPoolExecutor.java:628) [?:?]\n",
            "\tat java.lang.Thread.run(Thread.java:829) [?:?]\n",
            "2023-04-12 21:54:34,218 DEBUG [pool-2-thread-9] index.IndexCollection$LocalIndexerThread (IndexCollection.java:345) - Unicamp/json_98.json: 2 docs added.\n",
            "2023-04-12 21:54:41,411 DEBUG [pool-2-thread-2] index.IndexCollection$LocalIndexerThread (IndexCollection.java:345) - Unicamp/json_6.json: 17133 docs added.\n",
            "2023-04-12 21:54:41,444 DEBUG [pool-2-thread-1] index.IndexCollection$LocalIndexerThread (IndexCollection.java:345) - Unicamp/json_5.json: 17133 docs added.\n",
            "2023-04-12 21:54:41,796 DEBUG [pool-2-thread-2] index.IndexCollection$LocalIndexerThread (IndexCollection.java:345) - Unicamp/json_10.json: 2 docs added.\n",
            "2023-04-12 21:54:42,803 DEBUG [pool-2-thread-4] index.IndexCollection$LocalIndexerThread (IndexCollection.java:345) - Unicamp/json_4.json: 17133 docs added.\n",
            "2023-04-12 21:54:43,113 DEBUG [pool-2-thread-8] index.IndexCollection$LocalIndexerThread (IndexCollection.java:345) - Unicamp/json_7.json: 17133 docs added.\n",
            "2023-04-12 21:54:43,230 DEBUG [pool-2-thread-9] index.IndexCollection$LocalIndexerThread (IndexCollection.java:345) - Unicamp/json_9.json: 17133 docs added.\n",
            "2023-04-12 21:54:43,291 DEBUG [pool-2-thread-7] index.IndexCollection$LocalIndexerThread (IndexCollection.java:345) - Unicamp/json_8.json: 17133 docs added.\n",
            "2023-04-12 21:54:46,601 DEBUG [pool-2-thread-1] index.IndexCollection$LocalIndexerThread (IndexCollection.java:345) - Unicamp/json_0.json: 17133 docs added.\n",
            "2023-04-12 21:54:46,655 DEBUG [pool-2-thread-2] index.IndexCollection$LocalIndexerThread (IndexCollection.java:345) - Unicamp/json_1.json: 17133 docs added.\n",
            "2023-04-12 21:54:49,542 DEBUG [pool-2-thread-8] index.IndexCollection$LocalIndexerThread (IndexCollection.java:345) - Unicamp/json_3.json: 17133 docs added.\n",
            "2023-04-12 21:54:50,286 DEBUG [pool-2-thread-4] index.IndexCollection$LocalIndexerThread (IndexCollection.java:345) - Unicamp/json_2.json: 17133 docs added.\n",
            "2023-04-12 21:54:52,324 DEBUG [pool-2-thread-3] index.IndexCollection$LocalIndexerThread (IndexCollection.java:345) - Unicamp/json_96.json: 57110 docs added.\n",
            "2023-04-12 21:54:53,191 DEBUG [pool-2-thread-5] index.IndexCollection$LocalIndexerThread (IndexCollection.java:345) - Unicamp/json_95.json: 57110 docs added.\n",
            "2023-04-12 21:54:54,011 DEBUG [pool-2-thread-6] index.IndexCollection$LocalIndexerThread (IndexCollection.java:345) - Unicamp/json_97.json: 57110 docs added.\n",
            "2023-04-12 21:55:01,233 INFO  [main] index.IndexCollection (IndexCollection.java:578) - Indexing Complete! 342,664 documents indexed\n",
            "2023-04-12 21:55:01,234 INFO  [main] index.IndexCollection (IndexCollection.java:579) - ============ Final Counter Values ============\n",
            "2023-04-12 21:55:01,234 INFO  [main] index.IndexCollection (IndexCollection.java:580) - indexed:          342,664\n",
            "2023-04-12 21:55:01,234 INFO  [main] index.IndexCollection (IndexCollection.java:581) - unindexable:            0\n",
            "2023-04-12 21:55:01,234 INFO  [main] index.IndexCollection (IndexCollection.java:582) - empty:                  0\n",
            "2023-04-12 21:55:01,234 INFO  [main] index.IndexCollection (IndexCollection.java:583) - skipped:                0\n",
            "2023-04-12 21:55:01,235 INFO  [main] index.IndexCollection (IndexCollection.java:584) - errors:                 0\n",
            "2023-04-12 21:55:01,239 INFO  [main] index.IndexCollection (IndexCollection.java:587) - Total 342,664 documents indexed in 00:00:36\n"
          ]
        }
      ]
    },
    {
      "cell_type": "code",
      "source": [
        "from evaluate import load\n",
        "\n",
        "def eval(run_file):\n",
        "  run = pd.read_csv(run_file, sep=\"\\s+\", \n",
        "                    names=[\"query\", \"q0\", \"docid\", \"rank\", \"score\", \"system\"])\n",
        "  run = run.to_dict(orient=\"list\")\n",
        "\n",
        "  trec_eval = load(\"trec_eval\")\n",
        "  results = trec_eval.compute(predictions=[run], references=[qrel])\n",
        "  return results['NDCG@10']"
      ],
      "metadata": {
        "id": "GKILuktIho9Q"
      },
      "execution_count": null,
      "outputs": []
    },
    {
      "cell_type": "code",
      "source": [
        "!python -m pyserini.search.lucene \\\n",
        "  --index indexes/expanded_trec_covid \\\n",
        "  --topics trec-covid/queries.tsv \\\n",
        "  --output runs/run.trec-covid.bm25tuned-expanded-trec-covid.txt \\\n",
        "  --hits 1000 \\\n",
        "  --bm25 "
      ],
      "metadata": {
        "colab": {
          "base_uri": "https://localhost:8080/"
        },
        "id": "r-_g65a8ent1",
        "outputId": "bb1be728-3eed-4ebe-b1a5-9d4254b885f6"
      },
      "execution_count": null,
      "outputs": [
        {
          "output_type": "stream",
          "name": "stdout",
          "text": [
            "Running trec-covid/queries.tsv topics, saving to runs/run.trec-covid.bm25tuned-expanded-trec-covid.txt...\n",
            "100% 50/50 [00:05<00:00,  8.69it/s]\n"
          ]
        }
      ]
    },
    {
      "cell_type": "code",
      "source": [
        "run = pd.read_csv(\"runs/run.trec-covid.bm25tuned-expanded-trec-covid.txt\", sep=\"\\s+\", \n",
        "                  names=[\"query\", \"q0\", \"docid\", \"rank\", \"score\", \"system\"])\n",
        "run = run.to_dict(orient=\"list\")\n",
        "\n",
        "trec_eval = load(\"trec_eval\")\n",
        "results = trec_eval.compute(predictions=[run], references=[qrel])"
      ],
      "metadata": {
        "id": "z0eIsMNKiAU2"
      },
      "execution_count": null,
      "outputs": []
    },
    {
      "cell_type": "code",
      "source": [
        "results"
      ],
      "metadata": {
        "colab": {
          "base_uri": "https://localhost:8080/"
        },
        "id": "954EHknKiSdG",
        "outputId": "6aa36926-17f6-4937-86f1-8e68defa772a"
      },
      "execution_count": null,
      "outputs": [
        {
          "output_type": "execute_result",
          "data": {
            "text/plain": [
              "{'runid': 'Anserini',\n",
              " 'num_ret': 50000,\n",
              " 'num_rel': 24673,\n",
              " 'num_rel_ret': 15332,\n",
              " 'num_q': 50,\n",
              " 'map': 0.3691273732512198,\n",
              " 'gm_map': 0.2836457590400512,\n",
              " 'bpref': 0.5089901588940219,\n",
              " 'Rprec': 0.4268886478772377,\n",
              " 'recip_rank': 0.8839365079365079,\n",
              " 'P@5': 0.7759999999999999,\n",
              " 'P@10': 0.7519999999999999,\n",
              " 'P@15': 0.7133333333333334,\n",
              " 'P@20': 0.7040000000000001,\n",
              " 'P@30': 0.6786666666666666,\n",
              " 'P@100': 0.5988,\n",
              " 'P@200': 0.5316,\n",
              " 'P@500': 0.40832,\n",
              " 'P@1000': 0.30664,\n",
              " 'NDCG@5': 0.7332192553272483,\n",
              " 'NDCG@10': 0.7067607039919364,\n",
              " 'NDCG@15': 0.6722652565815601,\n",
              " 'NDCG@20': 0.6593713197386752,\n",
              " 'NDCG@30': 0.6322827652350274,\n",
              " 'NDCG@100': 0.5543139583418398,\n",
              " 'NDCG@200': 0.5105889447968706,\n",
              " 'NDCG@500': 0.5240031776148372,\n",
              " 'NDCG@1000': 0.6376008973919786}"
            ]
          },
          "metadata": {},
          "execution_count": 31
        }
      ]
    },
    {
      "cell_type": "code",
      "source": [],
      "metadata": {
        "id": "ij9_M5oAidOM"
      },
      "execution_count": null,
      "outputs": []
    }
  ],
  "metadata": {
    "accelerator": "GPU",
    "colab": {
      "provenance": [],
      "include_colab_link": true
    },
    "gpuClass": "premium",
    "kernelspec": {
      "display_name": "Python 3",
      "name": "python3"
    },
    "language_info": {
      "name": "python"
    },
    "widgets": {
      "application/vnd.jupyter.widget-state+json": {
        "df8d8e1c706f4e11971096ac9b07bc41": {
          "model_module": "@jupyter-widgets/controls",
          "model_name": "HBoxModel",
          "model_module_version": "1.5.0",
          "state": {
            "_dom_classes": [],
            "_model_module": "@jupyter-widgets/controls",
            "_model_module_version": "1.5.0",
            "_model_name": "HBoxModel",
            "_view_count": null,
            "_view_module": "@jupyter-widgets/controls",
            "_view_module_version": "1.5.0",
            "_view_name": "HBoxView",
            "box_style": "",
            "children": [
              "IPY_MODEL_1944a9a2ff1d496381e9d512208d7b92",
              "IPY_MODEL_cb80b1198d2c41a6920af71ea4f9273b",
              "IPY_MODEL_741c49e2f86f4e368b4820d73393dfbe"
            ],
            "layout": "IPY_MODEL_53d49e656a2d4f13a05f5fdf46dc4562"
          }
        },
        "1944a9a2ff1d496381e9d512208d7b92": {
          "model_module": "@jupyter-widgets/controls",
          "model_name": "HTMLModel",
          "model_module_version": "1.5.0",
          "state": {
            "_dom_classes": [],
            "_model_module": "@jupyter-widgets/controls",
            "_model_module_version": "1.5.0",
            "_model_name": "HTMLModel",
            "_view_count": null,
            "_view_module": "@jupyter-widgets/controls",
            "_view_module_version": "1.5.0",
            "_view_name": "HTMLView",
            "description": "",
            "description_tooltip": null,
            "layout": "IPY_MODEL_2963ddfbe0284d7c8b3b818c7ffee6ee",
            "placeholder": "​",
            "style": "IPY_MODEL_c2179a6d4ed24e8ca776b90b19e7d463",
            "value": "Downloading (…)ve/main/spiece.model: 100%"
          }
        },
        "cb80b1198d2c41a6920af71ea4f9273b": {
          "model_module": "@jupyter-widgets/controls",
          "model_name": "FloatProgressModel",
          "model_module_version": "1.5.0",
          "state": {
            "_dom_classes": [],
            "_model_module": "@jupyter-widgets/controls",
            "_model_module_version": "1.5.0",
            "_model_name": "FloatProgressModel",
            "_view_count": null,
            "_view_module": "@jupyter-widgets/controls",
            "_view_module_version": "1.5.0",
            "_view_name": "ProgressView",
            "bar_style": "success",
            "description": "",
            "description_tooltip": null,
            "layout": "IPY_MODEL_3efb27b08161426cb98dc8f73507f1db",
            "max": 791656,
            "min": 0,
            "orientation": "horizontal",
            "style": "IPY_MODEL_efc6899a738a4706bf076273711f005b",
            "value": 791656
          }
        },
        "741c49e2f86f4e368b4820d73393dfbe": {
          "model_module": "@jupyter-widgets/controls",
          "model_name": "HTMLModel",
          "model_module_version": "1.5.0",
          "state": {
            "_dom_classes": [],
            "_model_module": "@jupyter-widgets/controls",
            "_model_module_version": "1.5.0",
            "_model_name": "HTMLModel",
            "_view_count": null,
            "_view_module": "@jupyter-widgets/controls",
            "_view_module_version": "1.5.0",
            "_view_name": "HTMLView",
            "description": "",
            "description_tooltip": null,
            "layout": "IPY_MODEL_eb8aee7adf7a4657aaa5fb9bc7866ee6",
            "placeholder": "​",
            "style": "IPY_MODEL_a74677943d3640d095128dd517c71ab5",
            "value": " 792k/792k [00:00&lt;00:00, 8.11MB/s]"
          }
        },
        "53d49e656a2d4f13a05f5fdf46dc4562": {
          "model_module": "@jupyter-widgets/base",
          "model_name": "LayoutModel",
          "model_module_version": "1.2.0",
          "state": {
            "_model_module": "@jupyter-widgets/base",
            "_model_module_version": "1.2.0",
            "_model_name": "LayoutModel",
            "_view_count": null,
            "_view_module": "@jupyter-widgets/base",
            "_view_module_version": "1.2.0",
            "_view_name": "LayoutView",
            "align_content": null,
            "align_items": null,
            "align_self": null,
            "border": null,
            "bottom": null,
            "display": null,
            "flex": null,
            "flex_flow": null,
            "grid_area": null,
            "grid_auto_columns": null,
            "grid_auto_flow": null,
            "grid_auto_rows": null,
            "grid_column": null,
            "grid_gap": null,
            "grid_row": null,
            "grid_template_areas": null,
            "grid_template_columns": null,
            "grid_template_rows": null,
            "height": null,
            "justify_content": null,
            "justify_items": null,
            "left": null,
            "margin": null,
            "max_height": null,
            "max_width": null,
            "min_height": null,
            "min_width": null,
            "object_fit": null,
            "object_position": null,
            "order": null,
            "overflow": null,
            "overflow_x": null,
            "overflow_y": null,
            "padding": null,
            "right": null,
            "top": null,
            "visibility": null,
            "width": null
          }
        },
        "2963ddfbe0284d7c8b3b818c7ffee6ee": {
          "model_module": "@jupyter-widgets/base",
          "model_name": "LayoutModel",
          "model_module_version": "1.2.0",
          "state": {
            "_model_module": "@jupyter-widgets/base",
            "_model_module_version": "1.2.0",
            "_model_name": "LayoutModel",
            "_view_count": null,
            "_view_module": "@jupyter-widgets/base",
            "_view_module_version": "1.2.0",
            "_view_name": "LayoutView",
            "align_content": null,
            "align_items": null,
            "align_self": null,
            "border": null,
            "bottom": null,
            "display": null,
            "flex": null,
            "flex_flow": null,
            "grid_area": null,
            "grid_auto_columns": null,
            "grid_auto_flow": null,
            "grid_auto_rows": null,
            "grid_column": null,
            "grid_gap": null,
            "grid_row": null,
            "grid_template_areas": null,
            "grid_template_columns": null,
            "grid_template_rows": null,
            "height": null,
            "justify_content": null,
            "justify_items": null,
            "left": null,
            "margin": null,
            "max_height": null,
            "max_width": null,
            "min_height": null,
            "min_width": null,
            "object_fit": null,
            "object_position": null,
            "order": null,
            "overflow": null,
            "overflow_x": null,
            "overflow_y": null,
            "padding": null,
            "right": null,
            "top": null,
            "visibility": null,
            "width": null
          }
        },
        "c2179a6d4ed24e8ca776b90b19e7d463": {
          "model_module": "@jupyter-widgets/controls",
          "model_name": "DescriptionStyleModel",
          "model_module_version": "1.5.0",
          "state": {
            "_model_module": "@jupyter-widgets/controls",
            "_model_module_version": "1.5.0",
            "_model_name": "DescriptionStyleModel",
            "_view_count": null,
            "_view_module": "@jupyter-widgets/base",
            "_view_module_version": "1.2.0",
            "_view_name": "StyleView",
            "description_width": ""
          }
        },
        "3efb27b08161426cb98dc8f73507f1db": {
          "model_module": "@jupyter-widgets/base",
          "model_name": "LayoutModel",
          "model_module_version": "1.2.0",
          "state": {
            "_model_module": "@jupyter-widgets/base",
            "_model_module_version": "1.2.0",
            "_model_name": "LayoutModel",
            "_view_count": null,
            "_view_module": "@jupyter-widgets/base",
            "_view_module_version": "1.2.0",
            "_view_name": "LayoutView",
            "align_content": null,
            "align_items": null,
            "align_self": null,
            "border": null,
            "bottom": null,
            "display": null,
            "flex": null,
            "flex_flow": null,
            "grid_area": null,
            "grid_auto_columns": null,
            "grid_auto_flow": null,
            "grid_auto_rows": null,
            "grid_column": null,
            "grid_gap": null,
            "grid_row": null,
            "grid_template_areas": null,
            "grid_template_columns": null,
            "grid_template_rows": null,
            "height": null,
            "justify_content": null,
            "justify_items": null,
            "left": null,
            "margin": null,
            "max_height": null,
            "max_width": null,
            "min_height": null,
            "min_width": null,
            "object_fit": null,
            "object_position": null,
            "order": null,
            "overflow": null,
            "overflow_x": null,
            "overflow_y": null,
            "padding": null,
            "right": null,
            "top": null,
            "visibility": null,
            "width": null
          }
        },
        "efc6899a738a4706bf076273711f005b": {
          "model_module": "@jupyter-widgets/controls",
          "model_name": "ProgressStyleModel",
          "model_module_version": "1.5.0",
          "state": {
            "_model_module": "@jupyter-widgets/controls",
            "_model_module_version": "1.5.0",
            "_model_name": "ProgressStyleModel",
            "_view_count": null,
            "_view_module": "@jupyter-widgets/base",
            "_view_module_version": "1.2.0",
            "_view_name": "StyleView",
            "bar_color": null,
            "description_width": ""
          }
        },
        "eb8aee7adf7a4657aaa5fb9bc7866ee6": {
          "model_module": "@jupyter-widgets/base",
          "model_name": "LayoutModel",
          "model_module_version": "1.2.0",
          "state": {
            "_model_module": "@jupyter-widgets/base",
            "_model_module_version": "1.2.0",
            "_model_name": "LayoutModel",
            "_view_count": null,
            "_view_module": "@jupyter-widgets/base",
            "_view_module_version": "1.2.0",
            "_view_name": "LayoutView",
            "align_content": null,
            "align_items": null,
            "align_self": null,
            "border": null,
            "bottom": null,
            "display": null,
            "flex": null,
            "flex_flow": null,
            "grid_area": null,
            "grid_auto_columns": null,
            "grid_auto_flow": null,
            "grid_auto_rows": null,
            "grid_column": null,
            "grid_gap": null,
            "grid_row": null,
            "grid_template_areas": null,
            "grid_template_columns": null,
            "grid_template_rows": null,
            "height": null,
            "justify_content": null,
            "justify_items": null,
            "left": null,
            "margin": null,
            "max_height": null,
            "max_width": null,
            "min_height": null,
            "min_width": null,
            "object_fit": null,
            "object_position": null,
            "order": null,
            "overflow": null,
            "overflow_x": null,
            "overflow_y": null,
            "padding": null,
            "right": null,
            "top": null,
            "visibility": null,
            "width": null
          }
        },
        "a74677943d3640d095128dd517c71ab5": {
          "model_module": "@jupyter-widgets/controls",
          "model_name": "DescriptionStyleModel",
          "model_module_version": "1.5.0",
          "state": {
            "_model_module": "@jupyter-widgets/controls",
            "_model_module_version": "1.5.0",
            "_model_name": "DescriptionStyleModel",
            "_view_count": null,
            "_view_module": "@jupyter-widgets/base",
            "_view_module_version": "1.2.0",
            "_view_name": "StyleView",
            "description_width": ""
          }
        },
        "33d833389fe1412e9fcf273504889eb7": {
          "model_module": "@jupyter-widgets/controls",
          "model_name": "HBoxModel",
          "model_module_version": "1.5.0",
          "state": {
            "_dom_classes": [],
            "_model_module": "@jupyter-widgets/controls",
            "_model_module_version": "1.5.0",
            "_model_name": "HBoxModel",
            "_view_count": null,
            "_view_module": "@jupyter-widgets/controls",
            "_view_module_version": "1.5.0",
            "_view_name": "HBoxView",
            "box_style": "",
            "children": [
              "IPY_MODEL_6b9a82047e6941b8a7f3142f94d6367d",
              "IPY_MODEL_ac83f51df1dc480c9e6a100530de39ca",
              "IPY_MODEL_dccf1a5a132d4c6fb5afe8b96decfe65"
            ],
            "layout": "IPY_MODEL_fa3f60992b5f42269ad84843e97edfba"
          }
        },
        "6b9a82047e6941b8a7f3142f94d6367d": {
          "model_module": "@jupyter-widgets/controls",
          "model_name": "HTMLModel",
          "model_module_version": "1.5.0",
          "state": {
            "_dom_classes": [],
            "_model_module": "@jupyter-widgets/controls",
            "_model_module_version": "1.5.0",
            "_model_name": "HTMLModel",
            "_view_count": null,
            "_view_module": "@jupyter-widgets/controls",
            "_view_module_version": "1.5.0",
            "_view_name": "HTMLView",
            "description": "",
            "description_tooltip": null,
            "layout": "IPY_MODEL_9a7a5ebd727045518f395f8e9bae99a3",
            "placeholder": "​",
            "style": "IPY_MODEL_d388f15d29974228834c5b10b531e8b3",
            "value": "Downloading (…)lve/main/config.json: 100%"
          }
        },
        "ac83f51df1dc480c9e6a100530de39ca": {
          "model_module": "@jupyter-widgets/controls",
          "model_name": "FloatProgressModel",
          "model_module_version": "1.5.0",
          "state": {
            "_dom_classes": [],
            "_model_module": "@jupyter-widgets/controls",
            "_model_module_version": "1.5.0",
            "_model_name": "FloatProgressModel",
            "_view_count": null,
            "_view_module": "@jupyter-widgets/controls",
            "_view_module_version": "1.5.0",
            "_view_name": "ProgressView",
            "bar_style": "success",
            "description": "",
            "description_tooltip": null,
            "layout": "IPY_MODEL_956839a3931d455ea99dd5bee29ec1a1",
            "max": 1208,
            "min": 0,
            "orientation": "horizontal",
            "style": "IPY_MODEL_90c48387912a488da1914364cf59b461",
            "value": 1208
          }
        },
        "dccf1a5a132d4c6fb5afe8b96decfe65": {
          "model_module": "@jupyter-widgets/controls",
          "model_name": "HTMLModel",
          "model_module_version": "1.5.0",
          "state": {
            "_dom_classes": [],
            "_model_module": "@jupyter-widgets/controls",
            "_model_module_version": "1.5.0",
            "_model_name": "HTMLModel",
            "_view_count": null,
            "_view_module": "@jupyter-widgets/controls",
            "_view_module_version": "1.5.0",
            "_view_name": "HTMLView",
            "description": "",
            "description_tooltip": null,
            "layout": "IPY_MODEL_734d65eb133349c980059e47cec69e9e",
            "placeholder": "​",
            "style": "IPY_MODEL_f2bb5b3cd4f0451987df2db921c1e196",
            "value": " 1.21k/1.21k [00:00&lt;00:00, 81.8kB/s]"
          }
        },
        "fa3f60992b5f42269ad84843e97edfba": {
          "model_module": "@jupyter-widgets/base",
          "model_name": "LayoutModel",
          "model_module_version": "1.2.0",
          "state": {
            "_model_module": "@jupyter-widgets/base",
            "_model_module_version": "1.2.0",
            "_model_name": "LayoutModel",
            "_view_count": null,
            "_view_module": "@jupyter-widgets/base",
            "_view_module_version": "1.2.0",
            "_view_name": "LayoutView",
            "align_content": null,
            "align_items": null,
            "align_self": null,
            "border": null,
            "bottom": null,
            "display": null,
            "flex": null,
            "flex_flow": null,
            "grid_area": null,
            "grid_auto_columns": null,
            "grid_auto_flow": null,
            "grid_auto_rows": null,
            "grid_column": null,
            "grid_gap": null,
            "grid_row": null,
            "grid_template_areas": null,
            "grid_template_columns": null,
            "grid_template_rows": null,
            "height": null,
            "justify_content": null,
            "justify_items": null,
            "left": null,
            "margin": null,
            "max_height": null,
            "max_width": null,
            "min_height": null,
            "min_width": null,
            "object_fit": null,
            "object_position": null,
            "order": null,
            "overflow": null,
            "overflow_x": null,
            "overflow_y": null,
            "padding": null,
            "right": null,
            "top": null,
            "visibility": null,
            "width": null
          }
        },
        "9a7a5ebd727045518f395f8e9bae99a3": {
          "model_module": "@jupyter-widgets/base",
          "model_name": "LayoutModel",
          "model_module_version": "1.2.0",
          "state": {
            "_model_module": "@jupyter-widgets/base",
            "_model_module_version": "1.2.0",
            "_model_name": "LayoutModel",
            "_view_count": null,
            "_view_module": "@jupyter-widgets/base",
            "_view_module_version": "1.2.0",
            "_view_name": "LayoutView",
            "align_content": null,
            "align_items": null,
            "align_self": null,
            "border": null,
            "bottom": null,
            "display": null,
            "flex": null,
            "flex_flow": null,
            "grid_area": null,
            "grid_auto_columns": null,
            "grid_auto_flow": null,
            "grid_auto_rows": null,
            "grid_column": null,
            "grid_gap": null,
            "grid_row": null,
            "grid_template_areas": null,
            "grid_template_columns": null,
            "grid_template_rows": null,
            "height": null,
            "justify_content": null,
            "justify_items": null,
            "left": null,
            "margin": null,
            "max_height": null,
            "max_width": null,
            "min_height": null,
            "min_width": null,
            "object_fit": null,
            "object_position": null,
            "order": null,
            "overflow": null,
            "overflow_x": null,
            "overflow_y": null,
            "padding": null,
            "right": null,
            "top": null,
            "visibility": null,
            "width": null
          }
        },
        "d388f15d29974228834c5b10b531e8b3": {
          "model_module": "@jupyter-widgets/controls",
          "model_name": "DescriptionStyleModel",
          "model_module_version": "1.5.0",
          "state": {
            "_model_module": "@jupyter-widgets/controls",
            "_model_module_version": "1.5.0",
            "_model_name": "DescriptionStyleModel",
            "_view_count": null,
            "_view_module": "@jupyter-widgets/base",
            "_view_module_version": "1.2.0",
            "_view_name": "StyleView",
            "description_width": ""
          }
        },
        "956839a3931d455ea99dd5bee29ec1a1": {
          "model_module": "@jupyter-widgets/base",
          "model_name": "LayoutModel",
          "model_module_version": "1.2.0",
          "state": {
            "_model_module": "@jupyter-widgets/base",
            "_model_module_version": "1.2.0",
            "_model_name": "LayoutModel",
            "_view_count": null,
            "_view_module": "@jupyter-widgets/base",
            "_view_module_version": "1.2.0",
            "_view_name": "LayoutView",
            "align_content": null,
            "align_items": null,
            "align_self": null,
            "border": null,
            "bottom": null,
            "display": null,
            "flex": null,
            "flex_flow": null,
            "grid_area": null,
            "grid_auto_columns": null,
            "grid_auto_flow": null,
            "grid_auto_rows": null,
            "grid_column": null,
            "grid_gap": null,
            "grid_row": null,
            "grid_template_areas": null,
            "grid_template_columns": null,
            "grid_template_rows": null,
            "height": null,
            "justify_content": null,
            "justify_items": null,
            "left": null,
            "margin": null,
            "max_height": null,
            "max_width": null,
            "min_height": null,
            "min_width": null,
            "object_fit": null,
            "object_position": null,
            "order": null,
            "overflow": null,
            "overflow_x": null,
            "overflow_y": null,
            "padding": null,
            "right": null,
            "top": null,
            "visibility": null,
            "width": null
          }
        },
        "90c48387912a488da1914364cf59b461": {
          "model_module": "@jupyter-widgets/controls",
          "model_name": "ProgressStyleModel",
          "model_module_version": "1.5.0",
          "state": {
            "_model_module": "@jupyter-widgets/controls",
            "_model_module_version": "1.5.0",
            "_model_name": "ProgressStyleModel",
            "_view_count": null,
            "_view_module": "@jupyter-widgets/base",
            "_view_module_version": "1.2.0",
            "_view_name": "StyleView",
            "bar_color": null,
            "description_width": ""
          }
        },
        "734d65eb133349c980059e47cec69e9e": {
          "model_module": "@jupyter-widgets/base",
          "model_name": "LayoutModel",
          "model_module_version": "1.2.0",
          "state": {
            "_model_module": "@jupyter-widgets/base",
            "_model_module_version": "1.2.0",
            "_model_name": "LayoutModel",
            "_view_count": null,
            "_view_module": "@jupyter-widgets/base",
            "_view_module_version": "1.2.0",
            "_view_name": "LayoutView",
            "align_content": null,
            "align_items": null,
            "align_self": null,
            "border": null,
            "bottom": null,
            "display": null,
            "flex": null,
            "flex_flow": null,
            "grid_area": null,
            "grid_auto_columns": null,
            "grid_auto_flow": null,
            "grid_auto_rows": null,
            "grid_column": null,
            "grid_gap": null,
            "grid_row": null,
            "grid_template_areas": null,
            "grid_template_columns": null,
            "grid_template_rows": null,
            "height": null,
            "justify_content": null,
            "justify_items": null,
            "left": null,
            "margin": null,
            "max_height": null,
            "max_width": null,
            "min_height": null,
            "min_width": null,
            "object_fit": null,
            "object_position": null,
            "order": null,
            "overflow": null,
            "overflow_x": null,
            "overflow_y": null,
            "padding": null,
            "right": null,
            "top": null,
            "visibility": null,
            "width": null
          }
        },
        "f2bb5b3cd4f0451987df2db921c1e196": {
          "model_module": "@jupyter-widgets/controls",
          "model_name": "DescriptionStyleModel",
          "model_module_version": "1.5.0",
          "state": {
            "_model_module": "@jupyter-widgets/controls",
            "_model_module_version": "1.5.0",
            "_model_name": "DescriptionStyleModel",
            "_view_count": null,
            "_view_module": "@jupyter-widgets/base",
            "_view_module_version": "1.2.0",
            "_view_name": "StyleView",
            "description_width": ""
          }
        },
        "e35751bf77dc4cc79bd947a41aa48be8": {
          "model_module": "@jupyter-widgets/controls",
          "model_name": "HBoxModel",
          "model_module_version": "1.5.0",
          "state": {
            "_dom_classes": [],
            "_model_module": "@jupyter-widgets/controls",
            "_model_module_version": "1.5.0",
            "_model_name": "HBoxModel",
            "_view_count": null,
            "_view_module": "@jupyter-widgets/controls",
            "_view_module_version": "1.5.0",
            "_view_name": "HBoxView",
            "box_style": "",
            "children": [
              "IPY_MODEL_06a742ce5cf74520a566f7e759cf89f3",
              "IPY_MODEL_bd4edab0be3147a1a1ca67ab3cdef7a9",
              "IPY_MODEL_5a4f479f4fb441f4b7dadd7ee6dadf48"
            ],
            "layout": "IPY_MODEL_a2fe091857044b8697057e692b7fb6d5"
          }
        },
        "06a742ce5cf74520a566f7e759cf89f3": {
          "model_module": "@jupyter-widgets/controls",
          "model_name": "HTMLModel",
          "model_module_version": "1.5.0",
          "state": {
            "_dom_classes": [],
            "_model_module": "@jupyter-widgets/controls",
            "_model_module_version": "1.5.0",
            "_model_name": "HTMLModel",
            "_view_count": null,
            "_view_module": "@jupyter-widgets/controls",
            "_view_module_version": "1.5.0",
            "_view_name": "HTMLView",
            "description": "",
            "description_tooltip": null,
            "layout": "IPY_MODEL_5f6370e1b1da4422b83b79318c0c3400",
            "placeholder": "​",
            "style": "IPY_MODEL_3b9a902d93ab4d909e3937b65b6afae7",
            "value": "Downloading pytorch_model.bin: 100%"
          }
        },
        "bd4edab0be3147a1a1ca67ab3cdef7a9": {
          "model_module": "@jupyter-widgets/controls",
          "model_name": "FloatProgressModel",
          "model_module_version": "1.5.0",
          "state": {
            "_dom_classes": [],
            "_model_module": "@jupyter-widgets/controls",
            "_model_module_version": "1.5.0",
            "_model_name": "FloatProgressModel",
            "_view_count": null,
            "_view_module": "@jupyter-widgets/controls",
            "_view_module_version": "1.5.0",
            "_view_name": "ProgressView",
            "bar_style": "success",
            "description": "",
            "description_tooltip": null,
            "layout": "IPY_MODEL_b4c010331dd6445fa0a7b34ec8e8f852",
            "max": 891691430,
            "min": 0,
            "orientation": "horizontal",
            "style": "IPY_MODEL_493595c2b7eb4ebe81dc2946a8403175",
            "value": 891691430
          }
        },
        "5a4f479f4fb441f4b7dadd7ee6dadf48": {
          "model_module": "@jupyter-widgets/controls",
          "model_name": "HTMLModel",
          "model_module_version": "1.5.0",
          "state": {
            "_dom_classes": [],
            "_model_module": "@jupyter-widgets/controls",
            "_model_module_version": "1.5.0",
            "_model_name": "HTMLModel",
            "_view_count": null,
            "_view_module": "@jupyter-widgets/controls",
            "_view_module_version": "1.5.0",
            "_view_name": "HTMLView",
            "description": "",
            "description_tooltip": null,
            "layout": "IPY_MODEL_1cb812a5ce9d4a7aabcad4682bee18fc",
            "placeholder": "​",
            "style": "IPY_MODEL_7f5e0c0c59074b52a0a3e395b9c2e8bd",
            "value": " 892M/892M [00:05&lt;00:00, 204MB/s]"
          }
        },
        "a2fe091857044b8697057e692b7fb6d5": {
          "model_module": "@jupyter-widgets/base",
          "model_name": "LayoutModel",
          "model_module_version": "1.2.0",
          "state": {
            "_model_module": "@jupyter-widgets/base",
            "_model_module_version": "1.2.0",
            "_model_name": "LayoutModel",
            "_view_count": null,
            "_view_module": "@jupyter-widgets/base",
            "_view_module_version": "1.2.0",
            "_view_name": "LayoutView",
            "align_content": null,
            "align_items": null,
            "align_self": null,
            "border": null,
            "bottom": null,
            "display": null,
            "flex": null,
            "flex_flow": null,
            "grid_area": null,
            "grid_auto_columns": null,
            "grid_auto_flow": null,
            "grid_auto_rows": null,
            "grid_column": null,
            "grid_gap": null,
            "grid_row": null,
            "grid_template_areas": null,
            "grid_template_columns": null,
            "grid_template_rows": null,
            "height": null,
            "justify_content": null,
            "justify_items": null,
            "left": null,
            "margin": null,
            "max_height": null,
            "max_width": null,
            "min_height": null,
            "min_width": null,
            "object_fit": null,
            "object_position": null,
            "order": null,
            "overflow": null,
            "overflow_x": null,
            "overflow_y": null,
            "padding": null,
            "right": null,
            "top": null,
            "visibility": null,
            "width": null
          }
        },
        "5f6370e1b1da4422b83b79318c0c3400": {
          "model_module": "@jupyter-widgets/base",
          "model_name": "LayoutModel",
          "model_module_version": "1.2.0",
          "state": {
            "_model_module": "@jupyter-widgets/base",
            "_model_module_version": "1.2.0",
            "_model_name": "LayoutModel",
            "_view_count": null,
            "_view_module": "@jupyter-widgets/base",
            "_view_module_version": "1.2.0",
            "_view_name": "LayoutView",
            "align_content": null,
            "align_items": null,
            "align_self": null,
            "border": null,
            "bottom": null,
            "display": null,
            "flex": null,
            "flex_flow": null,
            "grid_area": null,
            "grid_auto_columns": null,
            "grid_auto_flow": null,
            "grid_auto_rows": null,
            "grid_column": null,
            "grid_gap": null,
            "grid_row": null,
            "grid_template_areas": null,
            "grid_template_columns": null,
            "grid_template_rows": null,
            "height": null,
            "justify_content": null,
            "justify_items": null,
            "left": null,
            "margin": null,
            "max_height": null,
            "max_width": null,
            "min_height": null,
            "min_width": null,
            "object_fit": null,
            "object_position": null,
            "order": null,
            "overflow": null,
            "overflow_x": null,
            "overflow_y": null,
            "padding": null,
            "right": null,
            "top": null,
            "visibility": null,
            "width": null
          }
        },
        "3b9a902d93ab4d909e3937b65b6afae7": {
          "model_module": "@jupyter-widgets/controls",
          "model_name": "DescriptionStyleModel",
          "model_module_version": "1.5.0",
          "state": {
            "_model_module": "@jupyter-widgets/controls",
            "_model_module_version": "1.5.0",
            "_model_name": "DescriptionStyleModel",
            "_view_count": null,
            "_view_module": "@jupyter-widgets/base",
            "_view_module_version": "1.2.0",
            "_view_name": "StyleView",
            "description_width": ""
          }
        },
        "b4c010331dd6445fa0a7b34ec8e8f852": {
          "model_module": "@jupyter-widgets/base",
          "model_name": "LayoutModel",
          "model_module_version": "1.2.0",
          "state": {
            "_model_module": "@jupyter-widgets/base",
            "_model_module_version": "1.2.0",
            "_model_name": "LayoutModel",
            "_view_count": null,
            "_view_module": "@jupyter-widgets/base",
            "_view_module_version": "1.2.0",
            "_view_name": "LayoutView",
            "align_content": null,
            "align_items": null,
            "align_self": null,
            "border": null,
            "bottom": null,
            "display": null,
            "flex": null,
            "flex_flow": null,
            "grid_area": null,
            "grid_auto_columns": null,
            "grid_auto_flow": null,
            "grid_auto_rows": null,
            "grid_column": null,
            "grid_gap": null,
            "grid_row": null,
            "grid_template_areas": null,
            "grid_template_columns": null,
            "grid_template_rows": null,
            "height": null,
            "justify_content": null,
            "justify_items": null,
            "left": null,
            "margin": null,
            "max_height": null,
            "max_width": null,
            "min_height": null,
            "min_width": null,
            "object_fit": null,
            "object_position": null,
            "order": null,
            "overflow": null,
            "overflow_x": null,
            "overflow_y": null,
            "padding": null,
            "right": null,
            "top": null,
            "visibility": null,
            "width": null
          }
        },
        "493595c2b7eb4ebe81dc2946a8403175": {
          "model_module": "@jupyter-widgets/controls",
          "model_name": "ProgressStyleModel",
          "model_module_version": "1.5.0",
          "state": {
            "_model_module": "@jupyter-widgets/controls",
            "_model_module_version": "1.5.0",
            "_model_name": "ProgressStyleModel",
            "_view_count": null,
            "_view_module": "@jupyter-widgets/base",
            "_view_module_version": "1.2.0",
            "_view_name": "StyleView",
            "bar_color": null,
            "description_width": ""
          }
        },
        "1cb812a5ce9d4a7aabcad4682bee18fc": {
          "model_module": "@jupyter-widgets/base",
          "model_name": "LayoutModel",
          "model_module_version": "1.2.0",
          "state": {
            "_model_module": "@jupyter-widgets/base",
            "_model_module_version": "1.2.0",
            "_model_name": "LayoutModel",
            "_view_count": null,
            "_view_module": "@jupyter-widgets/base",
            "_view_module_version": "1.2.0",
            "_view_name": "LayoutView",
            "align_content": null,
            "align_items": null,
            "align_self": null,
            "border": null,
            "bottom": null,
            "display": null,
            "flex": null,
            "flex_flow": null,
            "grid_area": null,
            "grid_auto_columns": null,
            "grid_auto_flow": null,
            "grid_auto_rows": null,
            "grid_column": null,
            "grid_gap": null,
            "grid_row": null,
            "grid_template_areas": null,
            "grid_template_columns": null,
            "grid_template_rows": null,
            "height": null,
            "justify_content": null,
            "justify_items": null,
            "left": null,
            "margin": null,
            "max_height": null,
            "max_width": null,
            "min_height": null,
            "min_width": null,
            "object_fit": null,
            "object_position": null,
            "order": null,
            "overflow": null,
            "overflow_x": null,
            "overflow_y": null,
            "padding": null,
            "right": null,
            "top": null,
            "visibility": null,
            "width": null
          }
        },
        "7f5e0c0c59074b52a0a3e395b9c2e8bd": {
          "model_module": "@jupyter-widgets/controls",
          "model_name": "DescriptionStyleModel",
          "model_module_version": "1.5.0",
          "state": {
            "_model_module": "@jupyter-widgets/controls",
            "_model_module_version": "1.5.0",
            "_model_name": "DescriptionStyleModel",
            "_view_count": null,
            "_view_module": "@jupyter-widgets/base",
            "_view_module_version": "1.2.0",
            "_view_name": "StyleView",
            "description_width": ""
          }
        },
        "bb079e20249249f8836becf41c770825": {
          "model_module": "@jupyter-widgets/controls",
          "model_name": "HBoxModel",
          "model_module_version": "1.5.0",
          "state": {
            "_dom_classes": [],
            "_model_module": "@jupyter-widgets/controls",
            "_model_module_version": "1.5.0",
            "_model_name": "HBoxModel",
            "_view_count": null,
            "_view_module": "@jupyter-widgets/controls",
            "_view_module_version": "1.5.0",
            "_view_name": "HBoxView",
            "box_style": "",
            "children": [
              "IPY_MODEL_a1dbfda005f14e7492b8e78625d6104a",
              "IPY_MODEL_4bd0c4f620274e2789e9cc5588abb509",
              "IPY_MODEL_385d6057cc9044fcbfa00d1c6acbe930"
            ],
            "layout": "IPY_MODEL_81820e36c0e946c3860a92258eddf108"
          }
        },
        "a1dbfda005f14e7492b8e78625d6104a": {
          "model_module": "@jupyter-widgets/controls",
          "model_name": "HTMLModel",
          "model_module_version": "1.5.0",
          "state": {
            "_dom_classes": [],
            "_model_module": "@jupyter-widgets/controls",
            "_model_module_version": "1.5.0",
            "_model_name": "HTMLModel",
            "_view_count": null,
            "_view_module": "@jupyter-widgets/controls",
            "_view_module_version": "1.5.0",
            "_view_name": "HTMLView",
            "description": "",
            "description_tooltip": null,
            "layout": "IPY_MODEL_3e4ad6ce55774699894fa613148b803a",
            "placeholder": "​",
            "style": "IPY_MODEL_a4bd37a584794191b18a5b72ee845a6d",
            "value": "Downloading (…)neration_config.json: 100%"
          }
        },
        "4bd0c4f620274e2789e9cc5588abb509": {
          "model_module": "@jupyter-widgets/controls",
          "model_name": "FloatProgressModel",
          "model_module_version": "1.5.0",
          "state": {
            "_dom_classes": [],
            "_model_module": "@jupyter-widgets/controls",
            "_model_module_version": "1.5.0",
            "_model_name": "FloatProgressModel",
            "_view_count": null,
            "_view_module": "@jupyter-widgets/controls",
            "_view_module_version": "1.5.0",
            "_view_name": "ProgressView",
            "bar_style": "success",
            "description": "",
            "description_tooltip": null,
            "layout": "IPY_MODEL_a05ae4e0d9334f72a1163af8d61489f5",
            "max": 147,
            "min": 0,
            "orientation": "horizontal",
            "style": "IPY_MODEL_a83151e63ea84052a256874a382368b2",
            "value": 147
          }
        },
        "385d6057cc9044fcbfa00d1c6acbe930": {
          "model_module": "@jupyter-widgets/controls",
          "model_name": "HTMLModel",
          "model_module_version": "1.5.0",
          "state": {
            "_dom_classes": [],
            "_model_module": "@jupyter-widgets/controls",
            "_model_module_version": "1.5.0",
            "_model_name": "HTMLModel",
            "_view_count": null,
            "_view_module": "@jupyter-widgets/controls",
            "_view_module_version": "1.5.0",
            "_view_name": "HTMLView",
            "description": "",
            "description_tooltip": null,
            "layout": "IPY_MODEL_84ebfdcdd2d24a0d8f8622a9c7307b68",
            "placeholder": "​",
            "style": "IPY_MODEL_e025b3ef38c54d168e6da1912b9dd9d3",
            "value": " 147/147 [00:00&lt;00:00, 7.69kB/s]"
          }
        },
        "81820e36c0e946c3860a92258eddf108": {
          "model_module": "@jupyter-widgets/base",
          "model_name": "LayoutModel",
          "model_module_version": "1.2.0",
          "state": {
            "_model_module": "@jupyter-widgets/base",
            "_model_module_version": "1.2.0",
            "_model_name": "LayoutModel",
            "_view_count": null,
            "_view_module": "@jupyter-widgets/base",
            "_view_module_version": "1.2.0",
            "_view_name": "LayoutView",
            "align_content": null,
            "align_items": null,
            "align_self": null,
            "border": null,
            "bottom": null,
            "display": null,
            "flex": null,
            "flex_flow": null,
            "grid_area": null,
            "grid_auto_columns": null,
            "grid_auto_flow": null,
            "grid_auto_rows": null,
            "grid_column": null,
            "grid_gap": null,
            "grid_row": null,
            "grid_template_areas": null,
            "grid_template_columns": null,
            "grid_template_rows": null,
            "height": null,
            "justify_content": null,
            "justify_items": null,
            "left": null,
            "margin": null,
            "max_height": null,
            "max_width": null,
            "min_height": null,
            "min_width": null,
            "object_fit": null,
            "object_position": null,
            "order": null,
            "overflow": null,
            "overflow_x": null,
            "overflow_y": null,
            "padding": null,
            "right": null,
            "top": null,
            "visibility": null,
            "width": null
          }
        },
        "3e4ad6ce55774699894fa613148b803a": {
          "model_module": "@jupyter-widgets/base",
          "model_name": "LayoutModel",
          "model_module_version": "1.2.0",
          "state": {
            "_model_module": "@jupyter-widgets/base",
            "_model_module_version": "1.2.0",
            "_model_name": "LayoutModel",
            "_view_count": null,
            "_view_module": "@jupyter-widgets/base",
            "_view_module_version": "1.2.0",
            "_view_name": "LayoutView",
            "align_content": null,
            "align_items": null,
            "align_self": null,
            "border": null,
            "bottom": null,
            "display": null,
            "flex": null,
            "flex_flow": null,
            "grid_area": null,
            "grid_auto_columns": null,
            "grid_auto_flow": null,
            "grid_auto_rows": null,
            "grid_column": null,
            "grid_gap": null,
            "grid_row": null,
            "grid_template_areas": null,
            "grid_template_columns": null,
            "grid_template_rows": null,
            "height": null,
            "justify_content": null,
            "justify_items": null,
            "left": null,
            "margin": null,
            "max_height": null,
            "max_width": null,
            "min_height": null,
            "min_width": null,
            "object_fit": null,
            "object_position": null,
            "order": null,
            "overflow": null,
            "overflow_x": null,
            "overflow_y": null,
            "padding": null,
            "right": null,
            "top": null,
            "visibility": null,
            "width": null
          }
        },
        "a4bd37a584794191b18a5b72ee845a6d": {
          "model_module": "@jupyter-widgets/controls",
          "model_name": "DescriptionStyleModel",
          "model_module_version": "1.5.0",
          "state": {
            "_model_module": "@jupyter-widgets/controls",
            "_model_module_version": "1.5.0",
            "_model_name": "DescriptionStyleModel",
            "_view_count": null,
            "_view_module": "@jupyter-widgets/base",
            "_view_module_version": "1.2.0",
            "_view_name": "StyleView",
            "description_width": ""
          }
        },
        "a05ae4e0d9334f72a1163af8d61489f5": {
          "model_module": "@jupyter-widgets/base",
          "model_name": "LayoutModel",
          "model_module_version": "1.2.0",
          "state": {
            "_model_module": "@jupyter-widgets/base",
            "_model_module_version": "1.2.0",
            "_model_name": "LayoutModel",
            "_view_count": null,
            "_view_module": "@jupyter-widgets/base",
            "_view_module_version": "1.2.0",
            "_view_name": "LayoutView",
            "align_content": null,
            "align_items": null,
            "align_self": null,
            "border": null,
            "bottom": null,
            "display": null,
            "flex": null,
            "flex_flow": null,
            "grid_area": null,
            "grid_auto_columns": null,
            "grid_auto_flow": null,
            "grid_auto_rows": null,
            "grid_column": null,
            "grid_gap": null,
            "grid_row": null,
            "grid_template_areas": null,
            "grid_template_columns": null,
            "grid_template_rows": null,
            "height": null,
            "justify_content": null,
            "justify_items": null,
            "left": null,
            "margin": null,
            "max_height": null,
            "max_width": null,
            "min_height": null,
            "min_width": null,
            "object_fit": null,
            "object_position": null,
            "order": null,
            "overflow": null,
            "overflow_x": null,
            "overflow_y": null,
            "padding": null,
            "right": null,
            "top": null,
            "visibility": null,
            "width": null
          }
        },
        "a83151e63ea84052a256874a382368b2": {
          "model_module": "@jupyter-widgets/controls",
          "model_name": "ProgressStyleModel",
          "model_module_version": "1.5.0",
          "state": {
            "_model_module": "@jupyter-widgets/controls",
            "_model_module_version": "1.5.0",
            "_model_name": "ProgressStyleModel",
            "_view_count": null,
            "_view_module": "@jupyter-widgets/base",
            "_view_module_version": "1.2.0",
            "_view_name": "StyleView",
            "bar_color": null,
            "description_width": ""
          }
        },
        "84ebfdcdd2d24a0d8f8622a9c7307b68": {
          "model_module": "@jupyter-widgets/base",
          "model_name": "LayoutModel",
          "model_module_version": "1.2.0",
          "state": {
            "_model_module": "@jupyter-widgets/base",
            "_model_module_version": "1.2.0",
            "_model_name": "LayoutModel",
            "_view_count": null,
            "_view_module": "@jupyter-widgets/base",
            "_view_module_version": "1.2.0",
            "_view_name": "LayoutView",
            "align_content": null,
            "align_items": null,
            "align_self": null,
            "border": null,
            "bottom": null,
            "display": null,
            "flex": null,
            "flex_flow": null,
            "grid_area": null,
            "grid_auto_columns": null,
            "grid_auto_flow": null,
            "grid_auto_rows": null,
            "grid_column": null,
            "grid_gap": null,
            "grid_row": null,
            "grid_template_areas": null,
            "grid_template_columns": null,
            "grid_template_rows": null,
            "height": null,
            "justify_content": null,
            "justify_items": null,
            "left": null,
            "margin": null,
            "max_height": null,
            "max_width": null,
            "min_height": null,
            "min_width": null,
            "object_fit": null,
            "object_position": null,
            "order": null,
            "overflow": null,
            "overflow_x": null,
            "overflow_y": null,
            "padding": null,
            "right": null,
            "top": null,
            "visibility": null,
            "width": null
          }
        },
        "e025b3ef38c54d168e6da1912b9dd9d3": {
          "model_module": "@jupyter-widgets/controls",
          "model_name": "DescriptionStyleModel",
          "model_module_version": "1.5.0",
          "state": {
            "_model_module": "@jupyter-widgets/controls",
            "_model_module_version": "1.5.0",
            "_model_name": "DescriptionStyleModel",
            "_view_count": null,
            "_view_module": "@jupyter-widgets/base",
            "_view_module_version": "1.2.0",
            "_view_name": "StyleView",
            "description_width": ""
          }
        },
        "085dd7ea51ea4b7aaf308ff0fd9bed28": {
          "model_module": "@jupyter-widgets/controls",
          "model_name": "HBoxModel",
          "model_module_version": "1.5.0",
          "state": {
            "_dom_classes": [],
            "_model_module": "@jupyter-widgets/controls",
            "_model_module_version": "1.5.0",
            "_model_name": "HBoxModel",
            "_view_count": null,
            "_view_module": "@jupyter-widgets/controls",
            "_view_module_version": "1.5.0",
            "_view_name": "HBoxView",
            "box_style": "",
            "children": [
              "IPY_MODEL_599708cafa134d52b1c5a5a5101c643a",
              "IPY_MODEL_36b8871f1a9a49719474fc1b7b982a2e",
              "IPY_MODEL_53c83fd72c5e48e780ff6794041fd7b5"
            ],
            "layout": "IPY_MODEL_14f8c0dceea04244a23f680d0abc7c08"
          }
        },
        "599708cafa134d52b1c5a5a5101c643a": {
          "model_module": "@jupyter-widgets/controls",
          "model_name": "HTMLModel",
          "model_module_version": "1.5.0",
          "state": {
            "_dom_classes": [],
            "_model_module": "@jupyter-widgets/controls",
            "_model_module_version": "1.5.0",
            "_model_name": "HTMLModel",
            "_view_count": null,
            "_view_module": "@jupyter-widgets/controls",
            "_view_module_version": "1.5.0",
            "_view_name": "HTMLView",
            "description": "",
            "description_tooltip": null,
            "layout": "IPY_MODEL_de1c271fa00d4d94b536e82bde125e16",
            "placeholder": "​",
            "style": "IPY_MODEL_ded05e3a22b2473a8dfda6d177c05817",
            "value": "Downloading builder script: 100%"
          }
        },
        "36b8871f1a9a49719474fc1b7b982a2e": {
          "model_module": "@jupyter-widgets/controls",
          "model_name": "FloatProgressModel",
          "model_module_version": "1.5.0",
          "state": {
            "_dom_classes": [],
            "_model_module": "@jupyter-widgets/controls",
            "_model_module_version": "1.5.0",
            "_model_name": "FloatProgressModel",
            "_view_count": null,
            "_view_module": "@jupyter-widgets/controls",
            "_view_module_version": "1.5.0",
            "_view_name": "ProgressView",
            "bar_style": "success",
            "description": "",
            "description_tooltip": null,
            "layout": "IPY_MODEL_539888c5478a4c7e84cbd55fb7eb17ff",
            "max": 8146,
            "min": 0,
            "orientation": "horizontal",
            "style": "IPY_MODEL_1e4a9493b7954a32b81fe99a852e0c17",
            "value": 8146
          }
        },
        "53c83fd72c5e48e780ff6794041fd7b5": {
          "model_module": "@jupyter-widgets/controls",
          "model_name": "HTMLModel",
          "model_module_version": "1.5.0",
          "state": {
            "_dom_classes": [],
            "_model_module": "@jupyter-widgets/controls",
            "_model_module_version": "1.5.0",
            "_model_name": "HTMLModel",
            "_view_count": null,
            "_view_module": "@jupyter-widgets/controls",
            "_view_module_version": "1.5.0",
            "_view_name": "HTMLView",
            "description": "",
            "description_tooltip": null,
            "layout": "IPY_MODEL_02507c6a9e92476f96c186fdbfe72ce2",
            "placeholder": "​",
            "style": "IPY_MODEL_71cca2920025416983814003e0afc588",
            "value": " 8.15k/8.15k [00:00&lt;00:00, 604kB/s]"
          }
        },
        "14f8c0dceea04244a23f680d0abc7c08": {
          "model_module": "@jupyter-widgets/base",
          "model_name": "LayoutModel",
          "model_module_version": "1.2.0",
          "state": {
            "_model_module": "@jupyter-widgets/base",
            "_model_module_version": "1.2.0",
            "_model_name": "LayoutModel",
            "_view_count": null,
            "_view_module": "@jupyter-widgets/base",
            "_view_module_version": "1.2.0",
            "_view_name": "LayoutView",
            "align_content": null,
            "align_items": null,
            "align_self": null,
            "border": null,
            "bottom": null,
            "display": null,
            "flex": null,
            "flex_flow": null,
            "grid_area": null,
            "grid_auto_columns": null,
            "grid_auto_flow": null,
            "grid_auto_rows": null,
            "grid_column": null,
            "grid_gap": null,
            "grid_row": null,
            "grid_template_areas": null,
            "grid_template_columns": null,
            "grid_template_rows": null,
            "height": null,
            "justify_content": null,
            "justify_items": null,
            "left": null,
            "margin": null,
            "max_height": null,
            "max_width": null,
            "min_height": null,
            "min_width": null,
            "object_fit": null,
            "object_position": null,
            "order": null,
            "overflow": null,
            "overflow_x": null,
            "overflow_y": null,
            "padding": null,
            "right": null,
            "top": null,
            "visibility": null,
            "width": null
          }
        },
        "de1c271fa00d4d94b536e82bde125e16": {
          "model_module": "@jupyter-widgets/base",
          "model_name": "LayoutModel",
          "model_module_version": "1.2.0",
          "state": {
            "_model_module": "@jupyter-widgets/base",
            "_model_module_version": "1.2.0",
            "_model_name": "LayoutModel",
            "_view_count": null,
            "_view_module": "@jupyter-widgets/base",
            "_view_module_version": "1.2.0",
            "_view_name": "LayoutView",
            "align_content": null,
            "align_items": null,
            "align_self": null,
            "border": null,
            "bottom": null,
            "display": null,
            "flex": null,
            "flex_flow": null,
            "grid_area": null,
            "grid_auto_columns": null,
            "grid_auto_flow": null,
            "grid_auto_rows": null,
            "grid_column": null,
            "grid_gap": null,
            "grid_row": null,
            "grid_template_areas": null,
            "grid_template_columns": null,
            "grid_template_rows": null,
            "height": null,
            "justify_content": null,
            "justify_items": null,
            "left": null,
            "margin": null,
            "max_height": null,
            "max_width": null,
            "min_height": null,
            "min_width": null,
            "object_fit": null,
            "object_position": null,
            "order": null,
            "overflow": null,
            "overflow_x": null,
            "overflow_y": null,
            "padding": null,
            "right": null,
            "top": null,
            "visibility": null,
            "width": null
          }
        },
        "ded05e3a22b2473a8dfda6d177c05817": {
          "model_module": "@jupyter-widgets/controls",
          "model_name": "DescriptionStyleModel",
          "model_module_version": "1.5.0",
          "state": {
            "_model_module": "@jupyter-widgets/controls",
            "_model_module_version": "1.5.0",
            "_model_name": "DescriptionStyleModel",
            "_view_count": null,
            "_view_module": "@jupyter-widgets/base",
            "_view_module_version": "1.2.0",
            "_view_name": "StyleView",
            "description_width": ""
          }
        },
        "539888c5478a4c7e84cbd55fb7eb17ff": {
          "model_module": "@jupyter-widgets/base",
          "model_name": "LayoutModel",
          "model_module_version": "1.2.0",
          "state": {
            "_model_module": "@jupyter-widgets/base",
            "_model_module_version": "1.2.0",
            "_model_name": "LayoutModel",
            "_view_count": null,
            "_view_module": "@jupyter-widgets/base",
            "_view_module_version": "1.2.0",
            "_view_name": "LayoutView",
            "align_content": null,
            "align_items": null,
            "align_self": null,
            "border": null,
            "bottom": null,
            "display": null,
            "flex": null,
            "flex_flow": null,
            "grid_area": null,
            "grid_auto_columns": null,
            "grid_auto_flow": null,
            "grid_auto_rows": null,
            "grid_column": null,
            "grid_gap": null,
            "grid_row": null,
            "grid_template_areas": null,
            "grid_template_columns": null,
            "grid_template_rows": null,
            "height": null,
            "justify_content": null,
            "justify_items": null,
            "left": null,
            "margin": null,
            "max_height": null,
            "max_width": null,
            "min_height": null,
            "min_width": null,
            "object_fit": null,
            "object_position": null,
            "order": null,
            "overflow": null,
            "overflow_x": null,
            "overflow_y": null,
            "padding": null,
            "right": null,
            "top": null,
            "visibility": null,
            "width": null
          }
        },
        "1e4a9493b7954a32b81fe99a852e0c17": {
          "model_module": "@jupyter-widgets/controls",
          "model_name": "ProgressStyleModel",
          "model_module_version": "1.5.0",
          "state": {
            "_model_module": "@jupyter-widgets/controls",
            "_model_module_version": "1.5.0",
            "_model_name": "ProgressStyleModel",
            "_view_count": null,
            "_view_module": "@jupyter-widgets/base",
            "_view_module_version": "1.2.0",
            "_view_name": "StyleView",
            "bar_color": null,
            "description_width": ""
          }
        },
        "02507c6a9e92476f96c186fdbfe72ce2": {
          "model_module": "@jupyter-widgets/base",
          "model_name": "LayoutModel",
          "model_module_version": "1.2.0",
          "state": {
            "_model_module": "@jupyter-widgets/base",
            "_model_module_version": "1.2.0",
            "_model_name": "LayoutModel",
            "_view_count": null,
            "_view_module": "@jupyter-widgets/base",
            "_view_module_version": "1.2.0",
            "_view_name": "LayoutView",
            "align_content": null,
            "align_items": null,
            "align_self": null,
            "border": null,
            "bottom": null,
            "display": null,
            "flex": null,
            "flex_flow": null,
            "grid_area": null,
            "grid_auto_columns": null,
            "grid_auto_flow": null,
            "grid_auto_rows": null,
            "grid_column": null,
            "grid_gap": null,
            "grid_row": null,
            "grid_template_areas": null,
            "grid_template_columns": null,
            "grid_template_rows": null,
            "height": null,
            "justify_content": null,
            "justify_items": null,
            "left": null,
            "margin": null,
            "max_height": null,
            "max_width": null,
            "min_height": null,
            "min_width": null,
            "object_fit": null,
            "object_position": null,
            "order": null,
            "overflow": null,
            "overflow_x": null,
            "overflow_y": null,
            "padding": null,
            "right": null,
            "top": null,
            "visibility": null,
            "width": null
          }
        },
        "71cca2920025416983814003e0afc588": {
          "model_module": "@jupyter-widgets/controls",
          "model_name": "DescriptionStyleModel",
          "model_module_version": "1.5.0",
          "state": {
            "_model_module": "@jupyter-widgets/controls",
            "_model_module_version": "1.5.0",
            "_model_name": "DescriptionStyleModel",
            "_view_count": null,
            "_view_module": "@jupyter-widgets/base",
            "_view_module_version": "1.2.0",
            "_view_name": "StyleView",
            "description_width": ""
          }
        },
        "fb90ade9dfa746c8bee26eb88635b4c3": {
          "model_module": "@jupyter-widgets/controls",
          "model_name": "HBoxModel",
          "model_module_version": "1.5.0",
          "state": {
            "_dom_classes": [],
            "_model_module": "@jupyter-widgets/controls",
            "_model_module_version": "1.5.0",
            "_model_name": "HBoxModel",
            "_view_count": null,
            "_view_module": "@jupyter-widgets/controls",
            "_view_module_version": "1.5.0",
            "_view_name": "HBoxView",
            "box_style": "",
            "children": [
              "IPY_MODEL_a90e5a43905e4f569135d31d20fe7ccb",
              "IPY_MODEL_05790dcf501340a0831b0cd144e6fe7d",
              "IPY_MODEL_d928edf58b7b43e5aaf208cd0e62a27d"
            ],
            "layout": "IPY_MODEL_9a49044eb1f449de8c50ab9302dd5247"
          }
        },
        "a90e5a43905e4f569135d31d20fe7ccb": {
          "model_module": "@jupyter-widgets/controls",
          "model_name": "HTMLModel",
          "model_module_version": "1.5.0",
          "state": {
            "_dom_classes": [],
            "_model_module": "@jupyter-widgets/controls",
            "_model_module_version": "1.5.0",
            "_model_name": "HTMLModel",
            "_view_count": null,
            "_view_module": "@jupyter-widgets/controls",
            "_view_module_version": "1.5.0",
            "_view_name": "HTMLView",
            "description": "",
            "description_tooltip": null,
            "layout": "IPY_MODEL_e1b6360ef79f496b80e340672cd59bf1",
            "placeholder": "​",
            "style": "IPY_MODEL_d0ea45ef953548e9a6733f4067c0611b",
            "value": "Downloading (…)ve/main/spiece.model: 100%"
          }
        },
        "05790dcf501340a0831b0cd144e6fe7d": {
          "model_module": "@jupyter-widgets/controls",
          "model_name": "FloatProgressModel",
          "model_module_version": "1.5.0",
          "state": {
            "_dom_classes": [],
            "_model_module": "@jupyter-widgets/controls",
            "_model_module_version": "1.5.0",
            "_model_name": "FloatProgressModel",
            "_view_count": null,
            "_view_module": "@jupyter-widgets/controls",
            "_view_module_version": "1.5.0",
            "_view_name": "ProgressView",
            "bar_style": "success",
            "description": "",
            "description_tooltip": null,
            "layout": "IPY_MODEL_186b93ff60f94f9db77d190d6fc08c47",
            "max": 791656,
            "min": 0,
            "orientation": "horizontal",
            "style": "IPY_MODEL_727d5803915c4362bbf740bddcbffc62",
            "value": 791656
          }
        },
        "d928edf58b7b43e5aaf208cd0e62a27d": {
          "model_module": "@jupyter-widgets/controls",
          "model_name": "HTMLModel",
          "model_module_version": "1.5.0",
          "state": {
            "_dom_classes": [],
            "_model_module": "@jupyter-widgets/controls",
            "_model_module_version": "1.5.0",
            "_model_name": "HTMLModel",
            "_view_count": null,
            "_view_module": "@jupyter-widgets/controls",
            "_view_module_version": "1.5.0",
            "_view_name": "HTMLView",
            "description": "",
            "description_tooltip": null,
            "layout": "IPY_MODEL_b47a140df4fb4a369ea0eb2cbace783a",
            "placeholder": "​",
            "style": "IPY_MODEL_b21cf231bef642fe912bf1c689ad7baf",
            "value": " 792k/792k [00:00&lt;00:00, 1.91MB/s]"
          }
        },
        "9a49044eb1f449de8c50ab9302dd5247": {
          "model_module": "@jupyter-widgets/base",
          "model_name": "LayoutModel",
          "model_module_version": "1.2.0",
          "state": {
            "_model_module": "@jupyter-widgets/base",
            "_model_module_version": "1.2.0",
            "_model_name": "LayoutModel",
            "_view_count": null,
            "_view_module": "@jupyter-widgets/base",
            "_view_module_version": "1.2.0",
            "_view_name": "LayoutView",
            "align_content": null,
            "align_items": null,
            "align_self": null,
            "border": null,
            "bottom": null,
            "display": null,
            "flex": null,
            "flex_flow": null,
            "grid_area": null,
            "grid_auto_columns": null,
            "grid_auto_flow": null,
            "grid_auto_rows": null,
            "grid_column": null,
            "grid_gap": null,
            "grid_row": null,
            "grid_template_areas": null,
            "grid_template_columns": null,
            "grid_template_rows": null,
            "height": null,
            "justify_content": null,
            "justify_items": null,
            "left": null,
            "margin": null,
            "max_height": null,
            "max_width": null,
            "min_height": null,
            "min_width": null,
            "object_fit": null,
            "object_position": null,
            "order": null,
            "overflow": null,
            "overflow_x": null,
            "overflow_y": null,
            "padding": null,
            "right": null,
            "top": null,
            "visibility": null,
            "width": null
          }
        },
        "e1b6360ef79f496b80e340672cd59bf1": {
          "model_module": "@jupyter-widgets/base",
          "model_name": "LayoutModel",
          "model_module_version": "1.2.0",
          "state": {
            "_model_module": "@jupyter-widgets/base",
            "_model_module_version": "1.2.0",
            "_model_name": "LayoutModel",
            "_view_count": null,
            "_view_module": "@jupyter-widgets/base",
            "_view_module_version": "1.2.0",
            "_view_name": "LayoutView",
            "align_content": null,
            "align_items": null,
            "align_self": null,
            "border": null,
            "bottom": null,
            "display": null,
            "flex": null,
            "flex_flow": null,
            "grid_area": null,
            "grid_auto_columns": null,
            "grid_auto_flow": null,
            "grid_auto_rows": null,
            "grid_column": null,
            "grid_gap": null,
            "grid_row": null,
            "grid_template_areas": null,
            "grid_template_columns": null,
            "grid_template_rows": null,
            "height": null,
            "justify_content": null,
            "justify_items": null,
            "left": null,
            "margin": null,
            "max_height": null,
            "max_width": null,
            "min_height": null,
            "min_width": null,
            "object_fit": null,
            "object_position": null,
            "order": null,
            "overflow": null,
            "overflow_x": null,
            "overflow_y": null,
            "padding": null,
            "right": null,
            "top": null,
            "visibility": null,
            "width": null
          }
        },
        "d0ea45ef953548e9a6733f4067c0611b": {
          "model_module": "@jupyter-widgets/controls",
          "model_name": "DescriptionStyleModel",
          "model_module_version": "1.5.0",
          "state": {
            "_model_module": "@jupyter-widgets/controls",
            "_model_module_version": "1.5.0",
            "_model_name": "DescriptionStyleModel",
            "_view_count": null,
            "_view_module": "@jupyter-widgets/base",
            "_view_module_version": "1.2.0",
            "_view_name": "StyleView",
            "description_width": ""
          }
        },
        "186b93ff60f94f9db77d190d6fc08c47": {
          "model_module": "@jupyter-widgets/base",
          "model_name": "LayoutModel",
          "model_module_version": "1.2.0",
          "state": {
            "_model_module": "@jupyter-widgets/base",
            "_model_module_version": "1.2.0",
            "_model_name": "LayoutModel",
            "_view_count": null,
            "_view_module": "@jupyter-widgets/base",
            "_view_module_version": "1.2.0",
            "_view_name": "LayoutView",
            "align_content": null,
            "align_items": null,
            "align_self": null,
            "border": null,
            "bottom": null,
            "display": null,
            "flex": null,
            "flex_flow": null,
            "grid_area": null,
            "grid_auto_columns": null,
            "grid_auto_flow": null,
            "grid_auto_rows": null,
            "grid_column": null,
            "grid_gap": null,
            "grid_row": null,
            "grid_template_areas": null,
            "grid_template_columns": null,
            "grid_template_rows": null,
            "height": null,
            "justify_content": null,
            "justify_items": null,
            "left": null,
            "margin": null,
            "max_height": null,
            "max_width": null,
            "min_height": null,
            "min_width": null,
            "object_fit": null,
            "object_position": null,
            "order": null,
            "overflow": null,
            "overflow_x": null,
            "overflow_y": null,
            "padding": null,
            "right": null,
            "top": null,
            "visibility": null,
            "width": null
          }
        },
        "727d5803915c4362bbf740bddcbffc62": {
          "model_module": "@jupyter-widgets/controls",
          "model_name": "ProgressStyleModel",
          "model_module_version": "1.5.0",
          "state": {
            "_model_module": "@jupyter-widgets/controls",
            "_model_module_version": "1.5.0",
            "_model_name": "ProgressStyleModel",
            "_view_count": null,
            "_view_module": "@jupyter-widgets/base",
            "_view_module_version": "1.2.0",
            "_view_name": "StyleView",
            "bar_color": null,
            "description_width": ""
          }
        },
        "b47a140df4fb4a369ea0eb2cbace783a": {
          "model_module": "@jupyter-widgets/base",
          "model_name": "LayoutModel",
          "model_module_version": "1.2.0",
          "state": {
            "_model_module": "@jupyter-widgets/base",
            "_model_module_version": "1.2.0",
            "_model_name": "LayoutModel",
            "_view_count": null,
            "_view_module": "@jupyter-widgets/base",
            "_view_module_version": "1.2.0",
            "_view_name": "LayoutView",
            "align_content": null,
            "align_items": null,
            "align_self": null,
            "border": null,
            "bottom": null,
            "display": null,
            "flex": null,
            "flex_flow": null,
            "grid_area": null,
            "grid_auto_columns": null,
            "grid_auto_flow": null,
            "grid_auto_rows": null,
            "grid_column": null,
            "grid_gap": null,
            "grid_row": null,
            "grid_template_areas": null,
            "grid_template_columns": null,
            "grid_template_rows": null,
            "height": null,
            "justify_content": null,
            "justify_items": null,
            "left": null,
            "margin": null,
            "max_height": null,
            "max_width": null,
            "min_height": null,
            "min_width": null,
            "object_fit": null,
            "object_position": null,
            "order": null,
            "overflow": null,
            "overflow_x": null,
            "overflow_y": null,
            "padding": null,
            "right": null,
            "top": null,
            "visibility": null,
            "width": null
          }
        },
        "b21cf231bef642fe912bf1c689ad7baf": {
          "model_module": "@jupyter-widgets/controls",
          "model_name": "DescriptionStyleModel",
          "model_module_version": "1.5.0",
          "state": {
            "_model_module": "@jupyter-widgets/controls",
            "_model_module_version": "1.5.0",
            "_model_name": "DescriptionStyleModel",
            "_view_count": null,
            "_view_module": "@jupyter-widgets/base",
            "_view_module_version": "1.2.0",
            "_view_name": "StyleView",
            "description_width": ""
          }
        },
        "ef31dba6828d492f8e022a27b3397b93": {
          "model_module": "@jupyter-widgets/controls",
          "model_name": "HBoxModel",
          "model_module_version": "1.5.0",
          "state": {
            "_dom_classes": [],
            "_model_module": "@jupyter-widgets/controls",
            "_model_module_version": "1.5.0",
            "_model_name": "HBoxModel",
            "_view_count": null,
            "_view_module": "@jupyter-widgets/controls",
            "_view_module_version": "1.5.0",
            "_view_name": "HBoxView",
            "box_style": "",
            "children": [
              "IPY_MODEL_7dd56ece442e4844a54551b4bc58e720",
              "IPY_MODEL_27f6dc8a1c984e0087a404cda56bec60",
              "IPY_MODEL_b4d0a8e3375742079ac1c1c0c3893c61"
            ],
            "layout": "IPY_MODEL_d6cbfd61aeaf4310af17dd3d4709f5c3"
          }
        },
        "7dd56ece442e4844a54551b4bc58e720": {
          "model_module": "@jupyter-widgets/controls",
          "model_name": "HTMLModel",
          "model_module_version": "1.5.0",
          "state": {
            "_dom_classes": [],
            "_model_module": "@jupyter-widgets/controls",
            "_model_module_version": "1.5.0",
            "_model_name": "HTMLModel",
            "_view_count": null,
            "_view_module": "@jupyter-widgets/controls",
            "_view_module_version": "1.5.0",
            "_view_name": "HTMLView",
            "description": "",
            "description_tooltip": null,
            "layout": "IPY_MODEL_340ce38efb3a415db25788207c32543f",
            "placeholder": "​",
            "style": "IPY_MODEL_52015202a3804f1baec6280d7902d01b",
            "value": "Downloading (…)lve/main/config.json: 100%"
          }
        },
        "27f6dc8a1c984e0087a404cda56bec60": {
          "model_module": "@jupyter-widgets/controls",
          "model_name": "FloatProgressModel",
          "model_module_version": "1.5.0",
          "state": {
            "_dom_classes": [],
            "_model_module": "@jupyter-widgets/controls",
            "_model_module_version": "1.5.0",
            "_model_name": "FloatProgressModel",
            "_view_count": null,
            "_view_module": "@jupyter-widgets/controls",
            "_view_module_version": "1.5.0",
            "_view_name": "ProgressView",
            "bar_style": "success",
            "description": "",
            "description_tooltip": null,
            "layout": "IPY_MODEL_a72b467ed0ca49749aac0ebe33317696",
            "max": 1208,
            "min": 0,
            "orientation": "horizontal",
            "style": "IPY_MODEL_58fa39b9d95d4703b04352867619830e",
            "value": 1208
          }
        },
        "b4d0a8e3375742079ac1c1c0c3893c61": {
          "model_module": "@jupyter-widgets/controls",
          "model_name": "HTMLModel",
          "model_module_version": "1.5.0",
          "state": {
            "_dom_classes": [],
            "_model_module": "@jupyter-widgets/controls",
            "_model_module_version": "1.5.0",
            "_model_name": "HTMLModel",
            "_view_count": null,
            "_view_module": "@jupyter-widgets/controls",
            "_view_module_version": "1.5.0",
            "_view_name": "HTMLView",
            "description": "",
            "description_tooltip": null,
            "layout": "IPY_MODEL_76c08226a44c454ab42bb4e7550e05e0",
            "placeholder": "​",
            "style": "IPY_MODEL_d090f98626914fa5b6c7f0d7947b589b",
            "value": " 1.21k/1.21k [00:00&lt;00:00, 82.5kB/s]"
          }
        },
        "d6cbfd61aeaf4310af17dd3d4709f5c3": {
          "model_module": "@jupyter-widgets/base",
          "model_name": "LayoutModel",
          "model_module_version": "1.2.0",
          "state": {
            "_model_module": "@jupyter-widgets/base",
            "_model_module_version": "1.2.0",
            "_model_name": "LayoutModel",
            "_view_count": null,
            "_view_module": "@jupyter-widgets/base",
            "_view_module_version": "1.2.0",
            "_view_name": "LayoutView",
            "align_content": null,
            "align_items": null,
            "align_self": null,
            "border": null,
            "bottom": null,
            "display": null,
            "flex": null,
            "flex_flow": null,
            "grid_area": null,
            "grid_auto_columns": null,
            "grid_auto_flow": null,
            "grid_auto_rows": null,
            "grid_column": null,
            "grid_gap": null,
            "grid_row": null,
            "grid_template_areas": null,
            "grid_template_columns": null,
            "grid_template_rows": null,
            "height": null,
            "justify_content": null,
            "justify_items": null,
            "left": null,
            "margin": null,
            "max_height": null,
            "max_width": null,
            "min_height": null,
            "min_width": null,
            "object_fit": null,
            "object_position": null,
            "order": null,
            "overflow": null,
            "overflow_x": null,
            "overflow_y": null,
            "padding": null,
            "right": null,
            "top": null,
            "visibility": null,
            "width": null
          }
        },
        "340ce38efb3a415db25788207c32543f": {
          "model_module": "@jupyter-widgets/base",
          "model_name": "LayoutModel",
          "model_module_version": "1.2.0",
          "state": {
            "_model_module": "@jupyter-widgets/base",
            "_model_module_version": "1.2.0",
            "_model_name": "LayoutModel",
            "_view_count": null,
            "_view_module": "@jupyter-widgets/base",
            "_view_module_version": "1.2.0",
            "_view_name": "LayoutView",
            "align_content": null,
            "align_items": null,
            "align_self": null,
            "border": null,
            "bottom": null,
            "display": null,
            "flex": null,
            "flex_flow": null,
            "grid_area": null,
            "grid_auto_columns": null,
            "grid_auto_flow": null,
            "grid_auto_rows": null,
            "grid_column": null,
            "grid_gap": null,
            "grid_row": null,
            "grid_template_areas": null,
            "grid_template_columns": null,
            "grid_template_rows": null,
            "height": null,
            "justify_content": null,
            "justify_items": null,
            "left": null,
            "margin": null,
            "max_height": null,
            "max_width": null,
            "min_height": null,
            "min_width": null,
            "object_fit": null,
            "object_position": null,
            "order": null,
            "overflow": null,
            "overflow_x": null,
            "overflow_y": null,
            "padding": null,
            "right": null,
            "top": null,
            "visibility": null,
            "width": null
          }
        },
        "52015202a3804f1baec6280d7902d01b": {
          "model_module": "@jupyter-widgets/controls",
          "model_name": "DescriptionStyleModel",
          "model_module_version": "1.5.0",
          "state": {
            "_model_module": "@jupyter-widgets/controls",
            "_model_module_version": "1.5.0",
            "_model_name": "DescriptionStyleModel",
            "_view_count": null,
            "_view_module": "@jupyter-widgets/base",
            "_view_module_version": "1.2.0",
            "_view_name": "StyleView",
            "description_width": ""
          }
        },
        "a72b467ed0ca49749aac0ebe33317696": {
          "model_module": "@jupyter-widgets/base",
          "model_name": "LayoutModel",
          "model_module_version": "1.2.0",
          "state": {
            "_model_module": "@jupyter-widgets/base",
            "_model_module_version": "1.2.0",
            "_model_name": "LayoutModel",
            "_view_count": null,
            "_view_module": "@jupyter-widgets/base",
            "_view_module_version": "1.2.0",
            "_view_name": "LayoutView",
            "align_content": null,
            "align_items": null,
            "align_self": null,
            "border": null,
            "bottom": null,
            "display": null,
            "flex": null,
            "flex_flow": null,
            "grid_area": null,
            "grid_auto_columns": null,
            "grid_auto_flow": null,
            "grid_auto_rows": null,
            "grid_column": null,
            "grid_gap": null,
            "grid_row": null,
            "grid_template_areas": null,
            "grid_template_columns": null,
            "grid_template_rows": null,
            "height": null,
            "justify_content": null,
            "justify_items": null,
            "left": null,
            "margin": null,
            "max_height": null,
            "max_width": null,
            "min_height": null,
            "min_width": null,
            "object_fit": null,
            "object_position": null,
            "order": null,
            "overflow": null,
            "overflow_x": null,
            "overflow_y": null,
            "padding": null,
            "right": null,
            "top": null,
            "visibility": null,
            "width": null
          }
        },
        "58fa39b9d95d4703b04352867619830e": {
          "model_module": "@jupyter-widgets/controls",
          "model_name": "ProgressStyleModel",
          "model_module_version": "1.5.0",
          "state": {
            "_model_module": "@jupyter-widgets/controls",
            "_model_module_version": "1.5.0",
            "_model_name": "ProgressStyleModel",
            "_view_count": null,
            "_view_module": "@jupyter-widgets/base",
            "_view_module_version": "1.2.0",
            "_view_name": "StyleView",
            "bar_color": null,
            "description_width": ""
          }
        },
        "76c08226a44c454ab42bb4e7550e05e0": {
          "model_module": "@jupyter-widgets/base",
          "model_name": "LayoutModel",
          "model_module_version": "1.2.0",
          "state": {
            "_model_module": "@jupyter-widgets/base",
            "_model_module_version": "1.2.0",
            "_model_name": "LayoutModel",
            "_view_count": null,
            "_view_module": "@jupyter-widgets/base",
            "_view_module_version": "1.2.0",
            "_view_name": "LayoutView",
            "align_content": null,
            "align_items": null,
            "align_self": null,
            "border": null,
            "bottom": null,
            "display": null,
            "flex": null,
            "flex_flow": null,
            "grid_area": null,
            "grid_auto_columns": null,
            "grid_auto_flow": null,
            "grid_auto_rows": null,
            "grid_column": null,
            "grid_gap": null,
            "grid_row": null,
            "grid_template_areas": null,
            "grid_template_columns": null,
            "grid_template_rows": null,
            "height": null,
            "justify_content": null,
            "justify_items": null,
            "left": null,
            "margin": null,
            "max_height": null,
            "max_width": null,
            "min_height": null,
            "min_width": null,
            "object_fit": null,
            "object_position": null,
            "order": null,
            "overflow": null,
            "overflow_x": null,
            "overflow_y": null,
            "padding": null,
            "right": null,
            "top": null,
            "visibility": null,
            "width": null
          }
        },
        "d090f98626914fa5b6c7f0d7947b589b": {
          "model_module": "@jupyter-widgets/controls",
          "model_name": "DescriptionStyleModel",
          "model_module_version": "1.5.0",
          "state": {
            "_model_module": "@jupyter-widgets/controls",
            "_model_module_version": "1.5.0",
            "_model_name": "DescriptionStyleModel",
            "_view_count": null,
            "_view_module": "@jupyter-widgets/base",
            "_view_module_version": "1.2.0",
            "_view_name": "StyleView",
            "description_width": ""
          }
        }
      }
    }
  },
  "nbformat": 4,
  "nbformat_minor": 0
}