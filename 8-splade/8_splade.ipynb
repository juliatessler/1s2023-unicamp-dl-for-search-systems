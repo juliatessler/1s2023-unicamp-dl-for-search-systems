{
  "cells": [
    {
      "cell_type": "markdown",
      "metadata": {
        "id": "view-in-github",
        "colab_type": "text"
      },
      "source": [
        "<a href=\"https://colab.research.google.com/github/juliatessler/1s2023-unicamp-dl-for-search-systems/blob/main/8-splade/8_splade.ipynb\" target=\"_parent\"><img src=\"https://colab.research.google.com/assets/colab-badge.svg\" alt=\"Open In Colab\"/></a>"
      ]
    },
    {
      "cell_type": "markdown",
      "metadata": {
        "id": "Ig_YIfT7uh6U"
      },
      "source": [
        "# SPLADE\n",
        "by Júlia Ferreira Tessler\n",
        "\n",
        "I have used several things shared in [this YouTube video](https://www.youtube.com/watch?v=0FQ2WmM0t3w&ab_channel=JamesBriggs) that I wasn't able to find the person who shared ):"
      ]
    },
    {
      "cell_type": "code",
      "execution_count": null,
      "metadata": {
        "colab": {
          "base_uri": "https://localhost:8080/"
        },
        "id": "bdr37dRTs_iv",
        "outputId": "29d9b72d-00e5-4f48-82ac-944ad1fb6225"
      },
      "outputs": [
        {
          "output_type": "stream",
          "name": "stdout",
          "text": [
            "Looking in indexes: https://pypi.org/simple, https://us-python.pkg.dev/colab-wheels/public/simple/\n",
            "Collecting evaluate\n",
            "  Downloading evaluate-0.4.0-py3-none-any.whl (81 kB)\n",
            "\u001b[2K     \u001b[90m━━━━━━━━━━━━━━━━━━━━━━━━━━━━━━━━━━━━━━━━\u001b[0m \u001b[32m81.4/81.4 kB\u001b[0m \u001b[31m7.1 MB/s\u001b[0m eta \u001b[36m0:00:00\u001b[0m\n",
            "\u001b[?25hRequirement already satisfied: tqdm>=4.62.1 in /usr/local/lib/python3.9/dist-packages (from evaluate) (4.65.0)\n",
            "Requirement already satisfied: xxhash in /usr/local/lib/python3.9/dist-packages (from evaluate) (3.2.0)\n",
            "Requirement already satisfied: responses<0.19 in /usr/local/lib/python3.9/dist-packages (from evaluate) (0.18.0)\n",
            "Requirement already satisfied: dill in /usr/local/lib/python3.9/dist-packages (from evaluate) (0.3.6)\n",
            "Requirement already satisfied: pandas in /usr/local/lib/python3.9/dist-packages (from evaluate) (1.5.3)\n",
            "Requirement already satisfied: huggingface-hub>=0.7.0 in /usr/local/lib/python3.9/dist-packages (from evaluate) (0.14.1)\n",
            "Requirement already satisfied: packaging in /usr/local/lib/python3.9/dist-packages (from evaluate) (23.1)\n",
            "Requirement already satisfied: requests>=2.19.0 in /usr/local/lib/python3.9/dist-packages (from evaluate) (2.27.1)\n",
            "Requirement already satisfied: datasets>=2.0.0 in /usr/local/lib/python3.9/dist-packages (from evaluate) (2.11.0)\n",
            "Requirement already satisfied: fsspec[http]>=2021.05.0 in /usr/local/lib/python3.9/dist-packages (from evaluate) (2023.4.0)\n",
            "Requirement already satisfied: multiprocess in /usr/local/lib/python3.9/dist-packages (from evaluate) (0.70.14)\n",
            "Requirement already satisfied: numpy>=1.17 in /usr/local/lib/python3.9/dist-packages (from evaluate) (1.22.4)\n",
            "Requirement already satisfied: pyarrow>=8.0.0 in /usr/local/lib/python3.9/dist-packages (from datasets>=2.0.0->evaluate) (9.0.0)\n",
            "Requirement already satisfied: aiohttp in /usr/local/lib/python3.9/dist-packages (from datasets>=2.0.0->evaluate) (3.8.4)\n",
            "Requirement already satisfied: pyyaml>=5.1 in /usr/local/lib/python3.9/dist-packages (from datasets>=2.0.0->evaluate) (6.0)\n",
            "Requirement already satisfied: typing-extensions>=3.7.4.3 in /usr/local/lib/python3.9/dist-packages (from huggingface-hub>=0.7.0->evaluate) (4.5.0)\n",
            "Requirement already satisfied: filelock in /usr/local/lib/python3.9/dist-packages (from huggingface-hub>=0.7.0->evaluate) (3.12.0)\n",
            "Requirement already satisfied: certifi>=2017.4.17 in /usr/local/lib/python3.9/dist-packages (from requests>=2.19.0->evaluate) (2022.12.7)\n",
            "Requirement already satisfied: urllib3<1.27,>=1.21.1 in /usr/local/lib/python3.9/dist-packages (from requests>=2.19.0->evaluate) (1.26.15)\n",
            "Requirement already satisfied: charset-normalizer~=2.0.0 in /usr/local/lib/python3.9/dist-packages (from requests>=2.19.0->evaluate) (2.0.12)\n",
            "Requirement already satisfied: idna<4,>=2.5 in /usr/local/lib/python3.9/dist-packages (from requests>=2.19.0->evaluate) (3.4)\n",
            "Requirement already satisfied: python-dateutil>=2.8.1 in /usr/local/lib/python3.9/dist-packages (from pandas->evaluate) (2.8.2)\n",
            "Requirement already satisfied: pytz>=2020.1 in /usr/local/lib/python3.9/dist-packages (from pandas->evaluate) (2022.7.1)\n",
            "Requirement already satisfied: aiosignal>=1.1.2 in /usr/local/lib/python3.9/dist-packages (from aiohttp->datasets>=2.0.0->evaluate) (1.3.1)\n",
            "Requirement already satisfied: multidict<7.0,>=4.5 in /usr/local/lib/python3.9/dist-packages (from aiohttp->datasets>=2.0.0->evaluate) (6.0.4)\n",
            "Requirement already satisfied: attrs>=17.3.0 in /usr/local/lib/python3.9/dist-packages (from aiohttp->datasets>=2.0.0->evaluate) (23.1.0)\n",
            "Requirement already satisfied: frozenlist>=1.1.1 in /usr/local/lib/python3.9/dist-packages (from aiohttp->datasets>=2.0.0->evaluate) (1.3.3)\n",
            "Requirement already satisfied: yarl<2.0,>=1.0 in /usr/local/lib/python3.9/dist-packages (from aiohttp->datasets>=2.0.0->evaluate) (1.9.2)\n",
            "Requirement already satisfied: async-timeout<5.0,>=4.0.0a3 in /usr/local/lib/python3.9/dist-packages (from aiohttp->datasets>=2.0.0->evaluate) (4.0.2)\n",
            "Requirement already satisfied: six>=1.5 in /usr/local/lib/python3.9/dist-packages (from python-dateutil>=2.8.1->pandas->evaluate) (1.16.0)\n",
            "Installing collected packages: evaluate\n",
            "Successfully installed evaluate-0.4.0\n"
          ]
        }
      ],
      "source": [
        "!pip install transformers -q\n",
        "!pip install datasets -q\n",
        "!pip install pyserini -q\n",
        "!pip install faiss-cpu -q\n",
        "!pip install ftfy -q\n",
        "!pip install evaluate"
      ]
    },
    {
      "cell_type": "code",
      "execution_count": null,
      "metadata": {
        "colab": {
          "base_uri": "https://localhost:8080/"
        },
        "id": "1TrZEUbhvLCq",
        "outputId": "08a8877f-e671-462e-fb00-bc9e32c06c1e"
      },
      "outputs": [
        {
          "output_type": "stream",
          "name": "stdout",
          "text": [
            "Mounted at /content/gdrive\n"
          ]
        }
      ],
      "source": [
        "from google.colab import drive\n",
        "\n",
        "drive.mount('/content/gdrive', force_remount = True)"
      ]
    },
    {
      "cell_type": "code",
      "execution_count": null,
      "metadata": {
        "id": "HBPxycJYvPMC"
      },
      "outputs": [],
      "source": [
        "workdir = '/content/gdrive/MyDrive/Unicamp/DL_applied_to_IR/Notebooks'"
      ]
    },
    {
      "cell_type": "code",
      "execution_count": null,
      "metadata": {
        "colab": {
          "base_uri": "https://localhost:8080/"
        },
        "id": "G5g7mGetvh7T",
        "outputId": "fd7e4aef-29f7-443f-a295-34dc1b97b90a"
      },
      "outputs": [
        {
          "output_type": "stream",
          "name": "stdout",
          "text": [
            "Thu Apr 27 00:44:51 2023       \n",
            "+-----------------------------------------------------------------------------+\n",
            "| NVIDIA-SMI 525.85.12    Driver Version: 525.85.12    CUDA Version: 12.0     |\n",
            "|-------------------------------+----------------------+----------------------+\n",
            "| GPU  Name        Persistence-M| Bus-Id        Disp.A | Volatile Uncorr. ECC |\n",
            "| Fan  Temp  Perf  Pwr:Usage/Cap|         Memory-Usage | GPU-Util  Compute M. |\n",
            "|                               |                      |               MIG M. |\n",
            "|===============================+======================+======================|\n",
            "|   0  NVIDIA A100-SXM...  Off  | 00000000:00:04.0 Off |                    0 |\n",
            "| N/A   32C    P0    45W / 400W |      0MiB / 40960MiB |      0%      Default |\n",
            "|                               |                      |             Disabled |\n",
            "+-------------------------------+----------------------+----------------------+\n",
            "                                                                               \n",
            "+-----------------------------------------------------------------------------+\n",
            "| Processes:                                                                  |\n",
            "|  GPU   GI   CI        PID   Type   Process name                  GPU Memory |\n",
            "|        ID   ID                                                   Usage      |\n",
            "|=============================================================================|\n",
            "|  No running processes found                                                 |\n",
            "+-----------------------------------------------------------------------------+\n"
          ]
        }
      ],
      "source": [
        "gpu_info = !nvidia-smi\n",
        "gpu_info = '\\n'.join(gpu_info)\n",
        "if gpu_info.find('failed') >= 0:\n",
        "  print('Not connected to a GPU')\n",
        "else:\n",
        "  print(gpu_info)"
      ]
    },
    {
      "cell_type": "code",
      "execution_count": null,
      "metadata": {
        "colab": {
          "base_uri": "https://localhost:8080/"
        },
        "id": "dC7P8AyMvkpy",
        "outputId": "056465c2-f677-4de3-a95f-a7afe4f6bfb7"
      },
      "outputs": [
        {
          "output_type": "execute_result",
          "data": {
            "text/plain": [
              "device(type='cuda')"
            ]
          },
          "metadata": {},
          "execution_count": 5
        }
      ],
      "source": [
        "import torch\n",
        "\n",
        "device = torch.device(\"cuda\" if torch.cuda.is_available() else \"cpu\")\n",
        "device"
      ]
    },
    {
      "cell_type": "code",
      "execution_count": null,
      "metadata": {
        "id": "IV5m3c5_u-pY"
      },
      "outputs": [],
      "source": [
        "import pandas as pd\n",
        "import numpy as np\n",
        "import torch.nn.functional as F\n",
        "import os\n",
        "import json\n",
        "\n",
        "from transformers import (\n",
        "    DistilBertTokenizer, \n",
        "    DistilBertForMaskedLM, \n",
        "    BertTokenizer, \n",
        "    BertForMaskedLM,\n",
        "    BatchEncoding\n",
        ")\n",
        "\n",
        "from datasets import load_dataset\n",
        "from torch.utils.data import DataLoader, Dataset\n",
        "from tqdm.auto import tqdm\n",
        "from collections import defaultdict\n",
        "from evaluate import load"
      ]
    },
    {
      "cell_type": "markdown",
      "metadata": {
        "id": "SokDMCmufG-U"
      },
      "source": [
        "## Get data"
      ]
    },
    {
      "cell_type": "code",
      "execution_count": null,
      "metadata": {
        "colab": {
          "base_uri": "https://localhost:8080/",
          "height": 137,
          "referenced_widgets": [
            "dc6c73557a8f470d945de9f6b42acb23",
            "a4997f44e05a4db5b5508464570a56e0",
            "aa89ea6b563d4a1a8a21e38ded5adf02",
            "e50bbe86b78d4520ad86ab78ba508b7b",
            "f3891275fd524e179aa9a93b28ef3f1f",
            "c98fa63bc8224cf193a468235eae62b0",
            "e7123a9ecea1457a95538f1d1e0b8481",
            "053a1a324a274138bf0380caad77817d",
            "136e7c2ead974ce5be24c6a5e5d0e898",
            "d8272e5dd3ca43e3bc18130075f49235",
            "a0740e7fa903432ab3228e48c6b446d2",
            "b76b21c85c704b84a9ee9a4c9db0224a",
            "28d6746c9a4745ceb65f46a5bc45c981",
            "0ddda77302154413af0e89333cfc50d8",
            "8460a63041344d9784a9ef0202976ebe",
            "00e0da67f6624d9790e2104a90705ab7",
            "5ef10e2a0f944e54b55cecaaf495e934",
            "0deade1a389f479898898a45ad25bb0b",
            "657e73089f374e309253b975948c518a",
            "d61b2febd276473183989f69bc7cc19d",
            "7de24b17d0834da493f0da00c76d6efd",
            "1d128b0a784b491eb6c4010c40158097"
          ]
        },
        "id": "QmtVa_3JlIpD",
        "outputId": "42c32941-66e1-4e11-e390-be81280b5ce3"
      },
      "outputs": [
        {
          "output_type": "stream",
          "name": "stderr",
          "text": [
            "WARNING:datasets.builder:Found cached dataset trec-covid (/root/.cache/huggingface/datasets/BeIR___trec-covid/queries/0.0.0/093f1fe2ffa7a9c72fa48239c8f279b51d6b171abd77737c7fd1406125307599)\n"
          ]
        },
        {
          "output_type": "display_data",
          "data": {
            "text/plain": [
              "  0%|          | 0/1 [00:00<?, ?it/s]"
            ],
            "application/vnd.jupyter.widget-view+json": {
              "version_major": 2,
              "version_minor": 0,
              "model_id": "dc6c73557a8f470d945de9f6b42acb23"
            }
          },
          "metadata": {}
        },
        {
          "output_type": "stream",
          "name": "stderr",
          "text": [
            "WARNING:datasets.builder:Found cached dataset trec-covid (/root/.cache/huggingface/datasets/BeIR___trec-covid/corpus/0.0.0/093f1fe2ffa7a9c72fa48239c8f279b51d6b171abd77737c7fd1406125307599)\n"
          ]
        },
        {
          "output_type": "display_data",
          "data": {
            "text/plain": [
              "  0%|          | 0/1 [00:00<?, ?it/s]"
            ],
            "application/vnd.jupyter.widget-view+json": {
              "version_major": 2,
              "version_minor": 0,
              "model_id": "b76b21c85c704b84a9ee9a4c9db0224a"
            }
          },
          "metadata": {}
        }
      ],
      "source": [
        "trec_covid_queries = load_dataset(\"BeIR/trec-covid\", 'queries')\n",
        "trec_covid_corpus = load_dataset(\"BeIR/trec-covid\", 'corpus')"
      ]
    },
    {
      "cell_type": "code",
      "execution_count": null,
      "metadata": {
        "colab": {
          "base_uri": "https://localhost:8080/"
        },
        "id": "DZMjfnnilq0n",
        "outputId": "8da75023-1ff1-4ad1-b732-1b1147d6debe"
      },
      "outputs": [
        {
          "output_type": "execute_result",
          "data": {
            "text/plain": [
              "DatasetDict({\n",
              "    queries: Dataset({\n",
              "        features: ['_id', 'title', 'text'],\n",
              "        num_rows: 50\n",
              "    })\n",
              "})"
            ]
          },
          "metadata": {},
          "execution_count": 8
        }
      ],
      "source": [
        "trec_covid_queries"
      ]
    },
    {
      "cell_type": "code",
      "execution_count": null,
      "metadata": {
        "colab": {
          "base_uri": "https://localhost:8080/"
        },
        "id": "R1dZvGjYlwL6",
        "outputId": "03be7527-03b7-4a28-9ff7-89cf51378a14"
      },
      "outputs": [
        {
          "output_type": "execute_result",
          "data": {
            "text/plain": [
              "{'_id': ['1', '2', '3', '4', '5', '6', '7', '8', '9', '10'],\n",
              " 'title': ['', '', '', '', '', '', '', '', '', ''],\n",
              " 'text': ['what is the origin of COVID-19',\n",
              "  'how does the coronavirus respond to changes in the weather',\n",
              "  'will SARS-CoV2 infected people develop immunity? Is cross protection possible?',\n",
              "  'what causes death from Covid-19?',\n",
              "  'what drugs have been active against SARS-CoV or SARS-CoV-2 in animal studies?',\n",
              "  'what types of rapid testing for Covid-19 have been developed?',\n",
              "  'are there serological tests that detect antibodies to coronavirus?',\n",
              "  'how has lack of testing availability led to underreporting of true incidence of Covid-19?',\n",
              "  'how has COVID-19 affected Canada',\n",
              "  'has social distancing had an impact on slowing the spread of COVID-19?']}"
            ]
          },
          "metadata": {},
          "execution_count": 9
        }
      ],
      "source": [
        "trec_covid_queries['queries'][:10]"
      ]
    },
    {
      "cell_type": "code",
      "execution_count": null,
      "metadata": {
        "colab": {
          "base_uri": "https://localhost:8080/"
        },
        "id": "6mAgTGIglqnL",
        "outputId": "2204ab18-6736-4c8f-b5ea-16b016716bae"
      },
      "outputs": [
        {
          "output_type": "execute_result",
          "data": {
            "text/plain": [
              "{'_id': ['ug7v899j',\n",
              "  '02tnwd4m',\n",
              "  'ejv2xln0',\n",
              "  '2b73a28n',\n",
              "  '9785vg6d',\n",
              "  'zjufx4fo',\n",
              "  '5yhe786e',\n",
              "  '8zchiykl',\n",
              "  '8qnrcgnk',\n",
              "  'jg13scgo'],\n",
              " 'title': ['Clinical features of culture-proven Mycoplasma pneumoniae infections at King Abdulaziz University Hospital, Jeddah, Saudi Arabia',\n",
              "  'Nitric oxide: a pro-inflammatory mediator in lung disease?',\n",
              "  'Surfactant protein-D and pulmonary host defense',\n",
              "  'Role of endothelin-1 in lung disease',\n",
              "  'Gene expression in epithelial cells in response to pneumovirus infection',\n",
              "  'Sequence requirements for RNA strand transfer during nidovirus discontinuous subgenomic RNA synthesis',\n",
              "  'Debate: Transfusing to normal haemoglobin levels will not improve outcome',\n",
              "  'The 21st International Symposium on Intensive Care and Emergency Medicine, Brussels, Belgium, 20-23 March 2001',\n",
              "  'Heme oxygenase-1 and carbon monoxide in pulmonary medicine',\n",
              "  'Technical Description of RODS: A Real-time Public Health Surveillance System'],\n",
              " 'text': ['OBJECTIVE: This retrospective chart review describes the epidemiology and clinical features of 40 patients with culture-proven Mycoplasma pneumoniae infections at King Abdulaziz University Hospital, Jeddah, Saudi Arabia. METHODS: Patients with positive M. pneumoniae cultures from respiratory specimens from January 1997 through December 1998 were identified through the Microbiology records. Charts of patients were reviewed. RESULTS: 40 patients were identified, 33 (82.5%) of whom required admission. Most infections (92.5%) were community-acquired. The infection affected all age groups but was most common in infants (32.5%) and pre-school children (22.5%). It occurred year-round but was most common in the fall (35%) and spring (30%). More than three-quarters of patients (77.5%) had comorbidities. Twenty-four isolates (60%) were associated with pneumonia, 14 (35%) with upper respiratory tract infections, and 2 (5%) with bronchiolitis. Cough (82.5%), fever (75%), and malaise (58.8%) were the most common symptoms, and crepitations (60%), and wheezes (40%) were the most common signs. Most patients with pneumonia had crepitations (79.2%) but only 25% had bronchial breathing. Immunocompromised patients were more likely than non-immunocompromised patients to present with pneumonia (8/9 versus 16/31, P = 0.05). Of the 24 patients with pneumonia, 14 (58.3%) had uneventful recovery, 4 (16.7%) recovered following some complications, 3 (12.5%) died because of M pneumoniae infection, and 3 (12.5%) died due to underlying comorbidities. The 3 patients who died of M pneumoniae pneumonia had other comorbidities. CONCLUSION: our results were similar to published data except for the finding that infections were more common in infants and preschool children and that the mortality rate of pneumonia in patients with comorbidities was high.',\n",
              "  'Inflammatory diseases of the respiratory tract are commonly associated with elevated production of nitric oxide (NO•) and increased indices of NO• -dependent oxidative stress. Although NO• is known to have anti-microbial, anti-inflammatory and anti-oxidant properties, various lines of evidence support the contribution of NO• to lung injury in several disease models. On the basis of biochemical evidence, it is often presumed that such NO• -dependent oxidations are due to the formation of the oxidant peroxynitrite, although alternative mechanisms involving the phagocyte-derived heme proteins myeloperoxidase and eosinophil peroxidase might be operative during conditions of inflammation. Because of the overwhelming literature on NO• generation and activities in the respiratory tract, it would be beyond the scope of this commentary to review this area comprehensively. Instead, it focuses on recent evidence and concepts of the presumed contribution of NO• to inflammatory diseases of the lung.',\n",
              "  'Surfactant protein-D (SP-D) participates in the innate response to inhaled microorganisms and organic antigens, and contributes to immune and inflammatory regulation within the lung. SP-D is synthesized and secreted by alveolar and bronchiolar epithelial cells, but is also expressed by epithelial cells lining various exocrine ducts and the mucosa of the gastrointestinal and genitourinary tracts. SP-D, a collagenous calcium-dependent lectin (or collectin), binds to surface glycoconjugates expressed by a wide variety of microorganisms, and to oligosaccharides associated with the surface of various complex organic antigens. SP-D also specifically interacts with glycoconjugates and other molecules expressed on the surface of macrophages, neutrophils, and lymphocytes. In addition, SP-D binds to specific surfactant-associated lipids and can influence the organization of lipid mixtures containing phosphatidylinositol in vitro. Consistent with these diverse in vitro activities is the observation that SP-D-deficient transgenic mice show abnormal accumulations of surfactant lipids, and respond abnormally to challenge with respiratory viruses and bacterial lipopolysaccharides. The phenotype of macrophages isolated from the lungs of SP-D-deficient mice is altered, and there is circumstantial evidence that abnormal oxidant metabolism and/or increased metalloproteinase expression contributes to the development of emphysema. The expression of SP-D is increased in response to many forms of lung injury, and deficient accumulation of appropriately oligomerized SP-D might contribute to the pathogenesis of a variety of human lung diseases.',\n",
              "  'Endothelin-1 (ET-1) is a 21 amino acid peptide with diverse biological activity that has been implicated in numerous diseases. ET-1 is a potent mitogen regulator of smooth muscle tone, and inflammatory mediator that may play a key role in diseases of the airways, pulmonary circulation, and inflammatory lung diseases, both acute and chronic. This review will focus on the biology of ET-1 and its role in lung disease.',\n",
              "  'Respiratory syncytial virus (RSV) and pneumonia virus of mice (PVM) are viruses of the family Paramyxoviridae, subfamily pneumovirus, which cause clinically important respiratory infections in humans and rodents, respectively. The respiratory epithelial target cells respond to viral infection with specific alterations in gene expression, including production of chemoattractant cytokines, adhesion molecules, elements that are related to the apoptosis response, and others that remain incompletely understood. Here we review our current understanding of these mucosal responses and discuss several genomic approaches, including differential display reverse transcription-polymerase chain reaction (PCR) and gene array strategies, that will permit us to unravel the nature of these responses in a more complete and systematic manner.',\n",
              "  'Nidovirus subgenomic mRNAs contain a leader sequence derived from the 5′ end of the genome fused to different sequences (‘bodies’) derived from the 3′ end. Their generation involves a unique mechanism of discontinuous subgenomic RNA synthesis that resembles copy-choice RNA recombination. During this process, the nascent RNA strand is transferred from one site in the template to another, during either plus or minus strand synthesis, to yield subgenomic RNA molecules. Central to this process are transcription-regulating sequences (TRSs), which are present at both template sites and ensure the fidelity of strand transfer. Here we present results of a comprehensive co-variation mutagenesis study of equine arteritis virus TRSs, demonstrating that discontinuous RNA synthesis depends not only on base pairing between sense leader TRS and antisense body TRS, but also on the primary sequence of the body TRS. While the leader TRS merely plays a targeting role for strand transfer, the body TRS fulfils multiple functions. The sequences of mRNA leader–body junctions of TRS mutants strongly suggested that the discontinuous step occurs during minus strand synthesis.',\n",
              "  'Recent evidence suggests that critically ill patients are able to tolerate lower levels of haemoglobin than was previously believed. It is our goal to show that transfusing to a level of 100 g/l does not improve mortality and other clinically important outcomes in a critical care setting. Although many questions remain, many laboratory and clinical studies, including a recent randomized controlled trial (RCT), have established that transfusing to normal haemoglobin concentrations does not improve organ failure and mortality in the critically ill patient. In addition, a restrictive transfusion strategy will reduce exposure to allogeneic transfusions, result in more efficient use of red blood cells (RBCs), save blood overall, and decrease health care costs.',\n",
              "  \"The 21st International Symposium on Intensive Care and Emergency Medicine was dominated by the results of recent clinical trials in sepsis and acute respiratory distress syndrome (ARDS). The promise of extracorporeal liver replacement therapy and noninvasive ventilation were other areas of interest. Ethical issues also received attention. Overall, the 'state of the art' lectures, pro/con debates, seminars and tutorials were of a high standard. The meeting was marked by a sense of renewed enthusiasm that positive progress is occurring in intensive care medicine.\",\n",
              "  'Heme oxygenase-1 (HO-1), an inducible stress protein, confers cytoprotection against oxidative stress in vitro and in vivo. In addition to its physiological role in heme degradation, HO-1 may influence a number of cellular processes, including growth, inflammation, and apoptosis. By virtue of anti-inflammatory effects, HO-1 limits tissue damage in response to proinflammatory stimuli and prevents allograft rejection after transplantation. The transcriptional upregulation of HO-1 responds to many agents, such as hypoxia, bacterial lipopolysaccharide, and reactive oxygen/nitrogen species. HO-1 and its constitutively expressed isozyme, heme oxygenase-2, catalyze the rate-limiting step in the conversion of heme to its metabolites, bilirubin IXα, ferrous iron, and carbon monoxide (CO). The mechanisms by which HO-1 provides protection most likely involve its enzymatic reaction products. Remarkably, administration of CO at low concentrations can substitute for HO-1 with respect to anti-inflammatory and anti-apoptotic effects, suggesting a role for CO as a key mediator of HO-1 function. Chronic, low-level, exogenous exposure to CO from cigarette smoking contributes to the importance of CO in pulmonary medicine. The implications of the HO-1/CO system in pulmonary diseases will be discussed in this review, with an emphasis on inflammatory states.',\n",
              "  'This report describes the design and implementation of the Real-time Outbreak and Disease Surveillance (RODS) system, a computer-based public health surveillance system for early detection of disease outbreaks. Hospitals send RODS data from clinical encounters over virtual private networks and leased lines using the Health Level 7 (HL7) message protocol. The data are sent in real time. RODS automatically classifies the registration chief complaint from the visit into one of seven syndrome categories using Bayesian classifiers. It stores the data in a relational database, aggregates the data for analysis using data warehousing techniques, applies univariate and multivariate statistical detection algorithms to the data, and alerts users of when the algorithms identify anomalous patterns in the syndrome counts. RODS also has a Web-based user interface that supports temporal and spatial analyses. RODS processes sales of over-the-counter health care products in a similar manner but receives such data in batch mode on a daily basis. RODS was used during the 2002 Winter Olympics and currently operates in two states—Pennsylvania and Utah. It has been and continues to be a resource for implementing, evaluating, and applying new methods of public health surveillance.']}"
            ]
          },
          "metadata": {},
          "execution_count": 10
        }
      ],
      "source": [
        "trec_covid_corpus['corpus'][:10]"
      ]
    },
    {
      "cell_type": "markdown",
      "metadata": {
        "id": "DrRpJBTku28s"
      },
      "source": [
        "## Get model"
      ]
    },
    {
      "cell_type": "code",
      "execution_count": null,
      "metadata": {
        "id": "JNZshckputpI"
      },
      "outputs": [],
      "source": [
        "model_name = 'naver/splade_v2_distil'\n",
        "\n",
        "tokenizer = DistilBertTokenizer.from_pretrained(model_name)\n",
        "model = DistilBertForMaskedLM.from_pretrained(model_name).to(device)"
      ]
    },
    {
      "cell_type": "markdown",
      "metadata": {
        "id": "tLvwp_VdonSb"
      },
      "source": [
        "## Prepare dataset"
      ]
    },
    {
      "cell_type": "code",
      "execution_count": null,
      "metadata": {
        "id": "xmaZ91EcwJ3q"
      },
      "outputs": [],
      "source": [
        "class SPLADEDataset(Dataset):\n",
        "  def __init__(self, text, tokenizer, max_length):\n",
        "    self.text = text\n",
        "    self.tokenizer = tokenizer\n",
        "    self.max_length = max_length\n",
        "  \n",
        "  def __len__(self):\n",
        "    return len(self.text)\n",
        "  \n",
        "  def __getitem__(self, idx):\n",
        "    tokenized_text = self.tokenizer(self.text[idx],\n",
        "                                    padding = True,\n",
        "                                    truncation = True,\n",
        "                                    # Autores não removem CLS e SEP, como bem notado\n",
        "                                    # por Leandro Carísio\n",
        "                                    # https://github.com/naver/splade/blob/main/inference_splade.ipynb\n",
        "                                    return_special_tokens_mask = True,\n",
        "                                    max_length = self.max_length)\n",
        "    return tokenized_text"
      ]
    },
    {
      "cell_type": "code",
      "execution_count": null,
      "metadata": {
        "id": "vTBC3aMHuNxw"
      },
      "outputs": [],
      "source": [
        "max_length = 256\n",
        "batch_size = 32"
      ]
    },
    {
      "cell_type": "code",
      "execution_count": null,
      "metadata": {
        "id": "htE86cW_uFGj"
      },
      "outputs": [],
      "source": [
        "def collate_fn(batch):\n",
        "  return BatchEncoding(tokenizer.pad(batch, return_tensors = 'pt'))"
      ]
    },
    {
      "cell_type": "code",
      "execution_count": null,
      "metadata": {
        "id": "VAjemBDitEIi"
      },
      "outputs": [],
      "source": [
        "trec_covid_dataset = SPLADEDataset(trec_covid_corpus['corpus']['text'], \n",
        "                                   tokenizer, max_length)\n",
        "\n",
        "trec_covid_dataloader = DataLoader(trec_covid_dataset, \n",
        "                                   batch_size = batch_size, \n",
        "                                   collate_fn = collate_fn)"
      ]
    },
    {
      "cell_type": "markdown",
      "metadata": {
        "id": "SezxWI-PtP8B"
      },
      "source": [
        "## Sparse representation"
      ]
    },
    {
      "cell_type": "code",
      "execution_count": null,
      "metadata": {
        "id": "C3K8G8Kav4M6"
      },
      "outputs": [],
      "source": [
        "def get_sparse_representation(model, tokenizer, text, agg='sum'):\n",
        "\n",
        "    # tokenize and get token_ids\n",
        "    tokenizer_output = tokenizer(\n",
        "        text, \n",
        "        return_special_tokens_mask = True,\n",
        "        truncation                 = True, \n",
        "        return_tensors             = 'pt',\n",
        "        max_length                 = max_length\n",
        "    )\n",
        "\n",
        "    # propagates and get logits\n",
        "    with torch.autocast(device_type=str(device), dtype=torch.float16, enabled=True):\n",
        "        with torch.no_grad():\n",
        "            model_output = model(\n",
        "                input_ids      = tokenizer_output['input_ids'].to(device), \n",
        "                attention_mask = tokenizer_output['attention_mask'].to(device)\n",
        "            )\n",
        "    logits = model_output.logits[0, :]\n",
        "\n",
        "    # Mask\n",
        "    mask_valid_tokens = 1 - tokenizer_output['special_tokens_mask'].to(device)\n",
        "    mask = mask_valid_tokens.squeeze().unsqueeze(-1).expand(logits.size())\n",
        "    \n",
        "    # Applying equation from paper to get sparse representation\n",
        "    if agg == 'sum':\n",
        "        wj = torch.sum(torch.log(1 + torch.relu(logits*mask)), dim=0)\n",
        "    else:\n",
        "        wj, _ = torch.max(torch.log(1 + torch.relu(logits*mask)), dim=0)\n",
        "\n",
        "    return wj.to_sparse()\n",
        "\n",
        "def get_tokens_and_values(wj):\n",
        "\n",
        "    # Getting batck tokens from wj\n",
        "    tokens = tokenizer.convert_ids_to_tokens(wj.indices()[0])\n",
        "    return list(zip(tokens, wj.values()))"
      ]
    },
    {
      "cell_type": "markdown",
      "metadata": {
        "id": "kJSV_hwBtam1"
      },
      "source": [
        "### Testing"
      ]
    },
    {
      "cell_type": "code",
      "execution_count": null,
      "metadata": {
        "id": "DP2UXac0tYJq"
      },
      "outputs": [],
      "source": [
        "text = \"My name is Júlia. I really like dinosaurs.\""
      ]
    },
    {
      "cell_type": "code",
      "execution_count": null,
      "metadata": {
        "colab": {
          "base_uri": "https://localhost:8080/"
        },
        "id": "hbXd_obqvP-L",
        "outputId": "1216a493-3090-4b13-ab45-01db16aa40ae"
      },
      "outputs": [
        {
          "output_type": "execute_result",
          "data": {
            "text/plain": [
              "tensor(indices=tensor([[ 1011,  1045,  2003,  2014,  2016,  2017,  2026,  2032,\n",
              "                         2033,  2040,  2066,  2079,  2171,  2228,  2256,  2293,\n",
              "                         2360,  2428,  2450,  2643,  2653,  2767,  2941,  3566,\n",
              "                         3814,  4489,  5203,  5223,  6127,  6423,  7059,  7777,\n",
              "                        12120, 15799, 18148, 19958]]),\n",
              "       values=tensor([4.1577e-01, 7.5000e-01, 4.5752e-01, 6.4883e+00,\n",
              "                      1.1951e-01, 9.1797e-01, 1.9023e+00, 4.0192e-02,\n",
              "                      4.9976e-01, 3.5801e+00, 1.5938e+00, 2.8076e-01,\n",
              "                      3.9297e+00, 3.2568e-01, 4.0192e-02, 1.4736e+00,\n",
              "                      4.0161e-01, 1.2832e+00, 3.2202e-01, 1.1523e+00,\n",
              "                      9.7609e-04, 6.3354e-02, 3.4448e-01, 7.1094e-01,\n",
              "                      5.9375e-01, 1.2561e-01, 1.1523e+00, 6.2549e-01,\n",
              "                      9.1162e-01, 2.8477e+00, 1.7324e+00, 2.6294e-01,\n",
              "                      7.4756e-01, 2.2598e+00, 2.3691e+00, 5.7227e-01]),\n",
              "       device='cuda:0', size=(30522,), nnz=36, dtype=torch.float16,\n",
              "       layout=torch.sparse_coo)"
            ]
          },
          "metadata": {},
          "execution_count": 18
        }
      ],
      "source": [
        "wj = get_sparse_representation(model, tokenizer, text)\n",
        "wj"
      ]
    },
    {
      "cell_type": "code",
      "execution_count": null,
      "metadata": {
        "colab": {
          "base_uri": "https://localhost:8080/"
        },
        "id": "Iq8kT08QvmGQ",
        "outputId": "91b47bff-b895-443d-fca1-8229ed09526f"
      },
      "outputs": [
        {
          "output_type": "execute_result",
          "data": {
            "text/plain": [
              "[('-', tensor(0.4158, device='cuda:0', dtype=torch.float16)),\n",
              " ('i', tensor(0.7500, device='cuda:0', dtype=torch.float16)),\n",
              " ('is', tensor(0.4575, device='cuda:0', dtype=torch.float16)),\n",
              " ('her', tensor(6.4883, device='cuda:0', dtype=torch.float16)),\n",
              " ('she', tensor(0.1195, device='cuda:0', dtype=torch.float16)),\n",
              " ('you', tensor(0.9180, device='cuda:0', dtype=torch.float16)),\n",
              " ('my', tensor(1.9023, device='cuda:0', dtype=torch.float16)),\n",
              " ('him', tensor(0.0402, device='cuda:0', dtype=torch.float16)),\n",
              " ('me', tensor(0.4998, device='cuda:0', dtype=torch.float16)),\n",
              " ('who', tensor(3.5801, device='cuda:0', dtype=torch.float16)),\n",
              " ('like', tensor(1.5938, device='cuda:0', dtype=torch.float16)),\n",
              " ('do', tensor(0.2808, device='cuda:0', dtype=torch.float16)),\n",
              " ('name', tensor(3.9297, device='cuda:0', dtype=torch.float16)),\n",
              " ('think', tensor(0.3257, device='cuda:0', dtype=torch.float16)),\n",
              " ('our', tensor(0.0402, device='cuda:0', dtype=torch.float16)),\n",
              " ('love', tensor(1.4736, device='cuda:0', dtype=torch.float16)),\n",
              " ('say', tensor(0.4016, device='cuda:0', dtype=torch.float16)),\n",
              " ('really', tensor(1.2832, device='cuda:0', dtype=torch.float16)),\n",
              " ('woman', tensor(0.3220, device='cuda:0', dtype=torch.float16)),\n",
              " ('god', tensor(1.1523, device='cuda:0', dtype=torch.float16)),\n",
              " ('language', tensor(0.0010, device='cuda:0', dtype=torch.float16)),\n",
              " ('friend', tensor(0.0634, device='cuda:0', dtype=torch.float16)),\n",
              " ('actually', tensor(0.3445, device='cuda:0', dtype=torch.float16)),\n",
              " ('mom', tensor(0.7109, device='cuda:0', dtype=torch.float16)),\n",
              " ('maria', tensor(0.5938, device='cuda:0', dtype=torch.float16)),\n",
              " ('difference', tensor(0.1256, device='cuda:0', dtype=torch.float16)),\n",
              " ('douglas', tensor(1.1523, device='cuda:0', dtype=torch.float16)),\n",
              " ('hate', tensor(0.6255, device='cuda:0', dtype=torch.float16)),\n",
              " ('gabriel', tensor(0.9116, device='cuda:0', dtype=torch.float16)),\n",
              " ('julia', tensor(2.8477, device='cuda:0', dtype=torch.float16)),\n",
              " ('lisa', tensor(1.7324, device='cuda:0', dtype=torch.float16)),\n",
              " ('likes', tensor(0.2629, device='cuda:0', dtype=torch.float16)),\n",
              " ('judy', tensor(0.7476, device='cuda:0', dtype=torch.float16)),\n",
              " ('dinosaur', tensor(2.2598, device='cuda:0', dtype=torch.float16)),\n",
              " ('dinosaurs', tensor(2.3691, device='cuda:0', dtype=torch.float16)),\n",
              " ('dolly', tensor(0.5723, device='cuda:0', dtype=torch.float16))]"
            ]
          },
          "metadata": {},
          "execution_count": 19
        }
      ],
      "source": [
        "tokens_and_values = get_tokens_and_values(wj)\n",
        "tokens_and_values"
      ]
    },
    {
      "cell_type": "markdown",
      "metadata": {
        "id": "wkO5U_AA2foK"
      },
      "source": [
        "### Batch sparse representation"
      ]
    },
    {
      "cell_type": "code",
      "execution_count": null,
      "metadata": {
        "id": "qjeOt73U2SDk"
      },
      "outputs": [],
      "source": [
        "def get_sparse_representation_batch(model, tokenizer, dataloader):\n",
        "\n",
        "    wjs = None\n",
        "    for batch in tqdm(dataloader):  \n",
        "      with torch.autocast(device_type = str(device), dtype = torch.float16, enabled = True): \n",
        "        with torch.no_grad():\n",
        "            model_output = model(\n",
        "                input_ids      = batch['input_ids'].to(device), \n",
        "                attention_mask = batch['attention_mask'].to(device)\n",
        "            )\n",
        "\n",
        "      # Getting logits\n",
        "      logits = model_output.logits\n",
        "\n",
        "      # Getting mask fthat will be used to generate the sparse vector\n",
        "      mask_valid_tokens = batch['attention_mask']\n",
        "      mask = mask_valid_tokens.unsqueeze(-1).expand(logits.size()).to(device)\n",
        "\n",
        "      # Getting wjs based on mask and logits\n",
        "      wj, _ = torch.max(torch.log(1 + F.relu(logits*mask)), dim=1)\n",
        "      wj_sparse = wj.to_sparse()\n",
        "\n",
        "      # Concatenating into wjs to save\n",
        "      wjs = wj_sparse if wjs is None else torch.cat([wjs, wj_sparse], dim=0)\n",
        "      \n",
        "    return wjs"
      ]
    },
    {
      "cell_type": "code",
      "execution_count": null,
      "metadata": {
        "id": "n1mlmIws2liU"
      },
      "outputs": [],
      "source": [
        "if not os.path.exists(f'{workdir}/trec_covid_wjs_with_special_tokens.pt'):\n",
        "    trec_covid_wjs = get_sparse_representation_batch(model, tokenizer, trec_covid_dataloader)\n",
        "    torch.save(trec_covid_wjs, f'{workdir}/trec_covid_wjs_with_special_tokens.pt')\n",
        "else:\n",
        "    trec_covid_wjs = torch.load(f'{workdir}/trec_covid_wjs_with_special_tokens.pt').to(device)"
      ]
    },
    {
      "cell_type": "code",
      "execution_count": null,
      "metadata": {
        "id": "psax6Ur42weA",
        "colab": {
          "base_uri": "https://localhost:8080/"
        },
        "outputId": "425a4095-8e7c-4f19-fd33-7817a17fe295"
      },
      "outputs": [
        {
          "output_type": "execute_result",
          "data": {
            "text/plain": [
              "torch.Size([171332, 30522])"
            ]
          },
          "metadata": {},
          "execution_count": 22
        }
      ],
      "source": [
        "trec_covid_wjs.size()"
      ]
    },
    {
      "cell_type": "markdown",
      "metadata": {
        "id": "pQPP3tW97DWP"
      },
      "source": [
        "## Search"
      ]
    },
    {
      "cell_type": "code",
      "execution_count": null,
      "metadata": {
        "id": "8PthAMPdU6ux",
        "colab": {
          "base_uri": "https://localhost:8080/"
        },
        "outputId": "85abc82d-b3fb-46f5-dea6-3502386b335a"
      },
      "outputs": [
        {
          "output_type": "execute_result",
          "data": {
            "text/plain": [
              "tensor([222.8063, 179.4055, 235.0530,  ..., 191.2339, 223.8661,  11.9450],\n",
              "       device='cuda:0')"
            ]
          },
          "metadata": {},
          "execution_count": 23
        }
      ],
      "source": [
        "row_sums = torch.sparse.sum(trec_covid_wjs, dim=1).to_dense()\n",
        "row_sums"
      ]
    },
    {
      "cell_type": "code",
      "execution_count": null,
      "metadata": {
        "id": "l2l2fhbk203q"
      },
      "outputs": [],
      "source": [
        "ids_docs = trec_covid_corpus['corpus']['_id']"
      ]
    },
    {
      "cell_type": "code",
      "execution_count": null,
      "metadata": {
        "id": "DN2yV4PUU87a"
      },
      "outputs": [],
      "source": [
        "def get_scores_sparse_vectors(query_vec, \n",
        "                              wj_matrix_doc, \n",
        "                              normalize_doc = False, \n",
        "                              normalize_query = True,\n",
        "                              hits = 1000):\n",
        "\n",
        "    scores = torch.sparse.mm(wj_matrix_doc.to(torch.half), query_vec.unsqueeze(-1).to(torch.half)).to_dense()\n",
        "    scores = scores.squeeze(1) \n",
        "\n",
        "    # Normalizations\n",
        "    if normalize_doc:\n",
        "        scores = torch.div(scores, row_sums)\n",
        "    if normalize_query:\n",
        "        scores = scores / query_vec.sum().item()\n",
        "\n",
        "    # Getting ids and scores\n",
        "    docs_score = list(zip(ids_docs, scores))\n",
        "    docs_score = sorted(docs_score, key=lambda x: x[1].item(), reverse=True)\n",
        "\n",
        "    return docs_score[:hits]"
      ]
    },
    {
      "cell_type": "code",
      "source": [
        "trec_queries_df = pd.DataFrame()\n",
        "trec_queries_df['_id'] = trec_covid_queries['queries']['_id']\n",
        "trec_queries_df['text'] = trec_covid_queries['queries']['text']"
      ],
      "metadata": {
        "id": "Fut0gUkQBsjI"
      },
      "execution_count": null,
      "outputs": []
    },
    {
      "cell_type": "code",
      "execution_count": null,
      "metadata": {
        "id": "XYfxhlv6U2vk",
        "colab": {
          "base_uri": "https://localhost:8080/",
          "height": 224
        },
        "outputId": "73a8bfe5-ca69-4ede-8e77-2655b0e0fe65"
      },
      "outputs": [
        {
          "output_type": "stream",
          "name": "stdout",
          "text": [
            "(50000, 6)\n"
          ]
        },
        {
          "output_type": "execute_result",
          "data": {
            "text/plain": [
              "  query_id  Q0 passage_id  rank     score                       run\n",
              "0        1  Q0   1mjaycee     1  1.297852  vec_query_vs_wj_passages\n",
              "1        1  Q0   zrycqlvs     2  1.290039  vec_query_vs_wj_passages\n",
              "2        1  Q0   0wm6u10a     3  1.287109  vec_query_vs_wj_passages\n",
              "3        1  Q0   cgvj10r2     4  1.287109  vec_query_vs_wj_passages\n",
              "4        1  Q0   uv4gbhbb     5  1.287109  vec_query_vs_wj_passages"
            ],
            "text/html": [
              "\n",
              "  <div id=\"df-7598c220-2ee0-4528-93be-40b5e9f3cf61\">\n",
              "    <div class=\"colab-df-container\">\n",
              "      <div>\n",
              "<style scoped>\n",
              "    .dataframe tbody tr th:only-of-type {\n",
              "        vertical-align: middle;\n",
              "    }\n",
              "\n",
              "    .dataframe tbody tr th {\n",
              "        vertical-align: top;\n",
              "    }\n",
              "\n",
              "    .dataframe thead th {\n",
              "        text-align: right;\n",
              "    }\n",
              "</style>\n",
              "<table border=\"1\" class=\"dataframe\">\n",
              "  <thead>\n",
              "    <tr style=\"text-align: right;\">\n",
              "      <th></th>\n",
              "      <th>query_id</th>\n",
              "      <th>Q0</th>\n",
              "      <th>passage_id</th>\n",
              "      <th>rank</th>\n",
              "      <th>score</th>\n",
              "      <th>run</th>\n",
              "    </tr>\n",
              "  </thead>\n",
              "  <tbody>\n",
              "    <tr>\n",
              "      <th>0</th>\n",
              "      <td>1</td>\n",
              "      <td>Q0</td>\n",
              "      <td>1mjaycee</td>\n",
              "      <td>1</td>\n",
              "      <td>1.297852</td>\n",
              "      <td>vec_query_vs_wj_passages</td>\n",
              "    </tr>\n",
              "    <tr>\n",
              "      <th>1</th>\n",
              "      <td>1</td>\n",
              "      <td>Q0</td>\n",
              "      <td>zrycqlvs</td>\n",
              "      <td>2</td>\n",
              "      <td>1.290039</td>\n",
              "      <td>vec_query_vs_wj_passages</td>\n",
              "    </tr>\n",
              "    <tr>\n",
              "      <th>2</th>\n",
              "      <td>1</td>\n",
              "      <td>Q0</td>\n",
              "      <td>0wm6u10a</td>\n",
              "      <td>3</td>\n",
              "      <td>1.287109</td>\n",
              "      <td>vec_query_vs_wj_passages</td>\n",
              "    </tr>\n",
              "    <tr>\n",
              "      <th>3</th>\n",
              "      <td>1</td>\n",
              "      <td>Q0</td>\n",
              "      <td>cgvj10r2</td>\n",
              "      <td>4</td>\n",
              "      <td>1.287109</td>\n",
              "      <td>vec_query_vs_wj_passages</td>\n",
              "    </tr>\n",
              "    <tr>\n",
              "      <th>4</th>\n",
              "      <td>1</td>\n",
              "      <td>Q0</td>\n",
              "      <td>uv4gbhbb</td>\n",
              "      <td>5</td>\n",
              "      <td>1.287109</td>\n",
              "      <td>vec_query_vs_wj_passages</td>\n",
              "    </tr>\n",
              "  </tbody>\n",
              "</table>\n",
              "</div>\n",
              "      <button class=\"colab-df-convert\" onclick=\"convertToInteractive('df-7598c220-2ee0-4528-93be-40b5e9f3cf61')\"\n",
              "              title=\"Convert this dataframe to an interactive table.\"\n",
              "              style=\"display:none;\">\n",
              "        \n",
              "  <svg xmlns=\"http://www.w3.org/2000/svg\" height=\"24px\"viewBox=\"0 0 24 24\"\n",
              "       width=\"24px\">\n",
              "    <path d=\"M0 0h24v24H0V0z\" fill=\"none\"/>\n",
              "    <path d=\"M18.56 5.44l.94 2.06.94-2.06 2.06-.94-2.06-.94-.94-2.06-.94 2.06-2.06.94zm-11 1L8.5 8.5l.94-2.06 2.06-.94-2.06-.94L8.5 2.5l-.94 2.06-2.06.94zm10 10l.94 2.06.94-2.06 2.06-.94-2.06-.94-.94-2.06-.94 2.06-2.06.94z\"/><path d=\"M17.41 7.96l-1.37-1.37c-.4-.4-.92-.59-1.43-.59-.52 0-1.04.2-1.43.59L10.3 9.45l-7.72 7.72c-.78.78-.78 2.05 0 2.83L4 21.41c.39.39.9.59 1.41.59.51 0 1.02-.2 1.41-.59l7.78-7.78 2.81-2.81c.8-.78.8-2.07 0-2.86zM5.41 20L4 18.59l7.72-7.72 1.47 1.35L5.41 20z\"/>\n",
              "  </svg>\n",
              "      </button>\n",
              "      \n",
              "  <style>\n",
              "    .colab-df-container {\n",
              "      display:flex;\n",
              "      flex-wrap:wrap;\n",
              "      gap: 12px;\n",
              "    }\n",
              "\n",
              "    .colab-df-convert {\n",
              "      background-color: #E8F0FE;\n",
              "      border: none;\n",
              "      border-radius: 50%;\n",
              "      cursor: pointer;\n",
              "      display: none;\n",
              "      fill: #1967D2;\n",
              "      height: 32px;\n",
              "      padding: 0 0 0 0;\n",
              "      width: 32px;\n",
              "    }\n",
              "\n",
              "    .colab-df-convert:hover {\n",
              "      background-color: #E2EBFA;\n",
              "      box-shadow: 0px 1px 2px rgba(60, 64, 67, 0.3), 0px 1px 3px 1px rgba(60, 64, 67, 0.15);\n",
              "      fill: #174EA6;\n",
              "    }\n",
              "\n",
              "    [theme=dark] .colab-df-convert {\n",
              "      background-color: #3B4455;\n",
              "      fill: #D2E3FC;\n",
              "    }\n",
              "\n",
              "    [theme=dark] .colab-df-convert:hover {\n",
              "      background-color: #434B5C;\n",
              "      box-shadow: 0px 1px 3px 1px rgba(0, 0, 0, 0.15);\n",
              "      filter: drop-shadow(0px 1px 2px rgba(0, 0, 0, 0.3));\n",
              "      fill: #FFFFFF;\n",
              "    }\n",
              "  </style>\n",
              "\n",
              "      <script>\n",
              "        const buttonEl =\n",
              "          document.querySelector('#df-7598c220-2ee0-4528-93be-40b5e9f3cf61 button.colab-df-convert');\n",
              "        buttonEl.style.display =\n",
              "          google.colab.kernel.accessAllowed ? 'block' : 'none';\n",
              "\n",
              "        async function convertToInteractive(key) {\n",
              "          const element = document.querySelector('#df-7598c220-2ee0-4528-93be-40b5e9f3cf61');\n",
              "          const dataTable =\n",
              "            await google.colab.kernel.invokeFunction('convertToInteractive',\n",
              "                                                     [key], {});\n",
              "          if (!dataTable) return;\n",
              "\n",
              "          const docLinkHtml = 'Like what you see? Visit the ' +\n",
              "            '<a target=\"_blank\" href=https://colab.research.google.com/notebooks/data_table.ipynb>data table notebook</a>'\n",
              "            + ' to learn more about interactive tables.';\n",
              "          element.innerHTML = '';\n",
              "          dataTable['output_type'] = 'display_data';\n",
              "          await google.colab.output.renderOutput(dataTable, element);\n",
              "          const docLink = document.createElement('div');\n",
              "          docLink.innerHTML = docLinkHtml;\n",
              "          element.appendChild(docLink);\n",
              "        }\n",
              "      </script>\n",
              "    </div>\n",
              "  </div>\n",
              "  "
            ]
          },
          "metadata": {},
          "execution_count": 40
        }
      ],
      "source": [
        "run = {\n",
        "    'query_id':   [],\n",
        "    'passage_id': [],\n",
        "    'score':      [],\n",
        "    'rank':       [],\n",
        "    'Q0':         [],\n",
        "    'run':        []\n",
        "}\n",
        "\n",
        "# não consegui descobrir como iterar corretamente em json\n",
        "for i, row in trec_queries_df.iterrows():\n",
        "\n",
        "    # Vectorizing query\n",
        "    vec_query = get_sparse_representation(model, tokenizer, row['text'], agg = 'max')\n",
        "\n",
        "    # getting score\n",
        "    docs_score = get_scores_sparse_vectors(vec_query, trec_covid_wjs)\n",
        "\n",
        "    passage_ids = [x[0]        for x in docs_score]\n",
        "    scores      = [x[1].item() for x in docs_score]\n",
        "\n",
        "    # appending in run\n",
        "    run['query_id'].extend([row['_id']] * 1000)\n",
        "    run['passage_id'].extend(passage_ids)\n",
        "    run['score'].extend(scores)\n",
        "    run['rank'].extend(list(range(1,1001)))\n",
        "    run['Q0'].extend(['Q0'] * 1000)\n",
        "    run['run'].extend(['vec_query_vs_wj_passages'] * 1000)\n",
        "\n",
        "df_run = pd.DataFrame(run)\n",
        "df_run = df_run[['query_id', 'Q0', 'passage_id', 'rank', 'score', 'run']]\n",
        "\n",
        "print(df_run.shape)\n",
        "df_run.head()"
      ]
    },
    {
      "cell_type": "code",
      "source": [
        "df_run.to_csv(f'{workdir}/run.sparse_rank.txt', sep='\\t', header=None, index=None)"
      ],
      "metadata": {
        "id": "VDMbZOTrA00Q"
      },
      "execution_count": null,
      "outputs": []
    },
    {
      "cell_type": "code",
      "source": [
        "# Qrels with all relevances\n",
        "!wget https://huggingface.co/datasets/BeIR/trec-covid-qrels/raw/main/test.tsv"
      ],
      "metadata": {
        "colab": {
          "base_uri": "https://localhost:8080/"
        },
        "id": "635ux3y8NZIj",
        "outputId": "d9768c22-5658-405d-f02a-75505aa6a99d"
      },
      "execution_count": null,
      "outputs": [
        {
          "output_type": "stream",
          "name": "stdout",
          "text": [
            "--2023-04-27 00:55:53--  https://huggingface.co/datasets/BeIR/trec-covid-qrels/raw/main/test.tsv\n",
            "Resolving huggingface.co (huggingface.co)... 13.227.219.41, 13.227.219.63, 13.227.219.125, ...\n",
            "Connecting to huggingface.co (huggingface.co)|13.227.219.41|:443... connected.\n",
            "HTTP request sent, awaiting response... 200 OK\n",
            "Length: 980831 (958K) [text/plain]\n",
            "Saving to: ‘test.tsv’\n",
            "\n",
            "test.tsv            100%[===================>] 957.84K  5.50MB/s    in 0.2s    \n",
            "\n",
            "2023-04-27 00:55:53 (5.50 MB/s) - ‘test.tsv’ saved [980831/980831]\n",
            "\n"
          ]
        }
      ]
    },
    {
      "cell_type": "code",
      "source": [
        "with open('test.tsv', 'r') as fin:\n",
        "  data = fin.read().splitlines(True)\n",
        "with open('qrels_format.tsv', 'w') as fout:\n",
        "  for linha in data[1:]:\n",
        "    campos = linha.split()\n",
        "    fout.write(f'{campos[0]}\\t0\\t{campos[1]}\\t{campos[2]}\\n')\n"
      ],
      "metadata": {
        "id": "8BXRY7qXNHGI"
      },
      "execution_count": null,
      "outputs": []
    },
    {
      "cell_type": "code",
      "source": [
        "!python -m pyserini.eval.trec_eval -c -m ndcg_cut.10 qrels_format.tsv {workdir}/run.sparse_rank.txt #type: ign"
      ],
      "metadata": {
        "colab": {
          "base_uri": "https://localhost:8080/"
        },
        "id": "Ss4DpYiVL-wx",
        "outputId": "5915b698-5ed7-42ea-e445-d3eda308824b"
      },
      "execution_count": null,
      "outputs": [
        {
          "output_type": "stream",
          "name": "stdout",
          "text": [
            "Downloading https://search.maven.org/remotecontent?filepath=uk/ac/gla/dcs/terrierteam/jtreceval/0.0.5/jtreceval-0.0.5-jar-with-dependencies.jar to /root/.cache/pyserini/eval/jtreceval-0.0.5-jar-with-dependencies.jar...\n",
            "/root/.cache/pyserini/eval/jtreceval-0.0.5-jar-with-dependencies.jar already exists!\n",
            "Skipping download.\n",
            "Running command: ['java', '-jar', '/root/.cache/pyserini/eval/jtreceval-0.0.5-jar-with-dependencies.jar', '-c', '-m', 'ndcg_cut.10', 'qrels_format.tsv', '/content/gdrive/MyDrive/Unicamp/DL_applied_to_IR/Notebooks/run.sparse_rank.txt']\n",
            "Results:\n",
            "ndcg_cut_10           \tall\t0.6067\n"
          ]
        }
      ]
    }
  ],
  "metadata": {
    "accelerator": "GPU",
    "colab": {
      "provenance": [],
      "authorship_tag": "ABX9TyNVPd/tW6OV05fUkCvHAEU2",
      "include_colab_link": true
    },
    "gpuClass": "premium",
    "kernelspec": {
      "display_name": "Python 3",
      "name": "python3"
    },
    "language_info": {
      "name": "python"
    },
    "widgets": {
      "application/vnd.jupyter.widget-state+json": {
        "dc6c73557a8f470d945de9f6b42acb23": {
          "model_module": "@jupyter-widgets/controls",
          "model_name": "HBoxModel",
          "model_module_version": "1.5.0",
          "state": {
            "_dom_classes": [],
            "_model_module": "@jupyter-widgets/controls",
            "_model_module_version": "1.5.0",
            "_model_name": "HBoxModel",
            "_view_count": null,
            "_view_module": "@jupyter-widgets/controls",
            "_view_module_version": "1.5.0",
            "_view_name": "HBoxView",
            "box_style": "",
            "children": [
              "IPY_MODEL_a4997f44e05a4db5b5508464570a56e0",
              "IPY_MODEL_aa89ea6b563d4a1a8a21e38ded5adf02",
              "IPY_MODEL_e50bbe86b78d4520ad86ab78ba508b7b"
            ],
            "layout": "IPY_MODEL_f3891275fd524e179aa9a93b28ef3f1f"
          }
        },
        "a4997f44e05a4db5b5508464570a56e0": {
          "model_module": "@jupyter-widgets/controls",
          "model_name": "HTMLModel",
          "model_module_version": "1.5.0",
          "state": {
            "_dom_classes": [],
            "_model_module": "@jupyter-widgets/controls",
            "_model_module_version": "1.5.0",
            "_model_name": "HTMLModel",
            "_view_count": null,
            "_view_module": "@jupyter-widgets/controls",
            "_view_module_version": "1.5.0",
            "_view_name": "HTMLView",
            "description": "",
            "description_tooltip": null,
            "layout": "IPY_MODEL_c98fa63bc8224cf193a468235eae62b0",
            "placeholder": "​",
            "style": "IPY_MODEL_e7123a9ecea1457a95538f1d1e0b8481",
            "value": "100%"
          }
        },
        "aa89ea6b563d4a1a8a21e38ded5adf02": {
          "model_module": "@jupyter-widgets/controls",
          "model_name": "FloatProgressModel",
          "model_module_version": "1.5.0",
          "state": {
            "_dom_classes": [],
            "_model_module": "@jupyter-widgets/controls",
            "_model_module_version": "1.5.0",
            "_model_name": "FloatProgressModel",
            "_view_count": null,
            "_view_module": "@jupyter-widgets/controls",
            "_view_module_version": "1.5.0",
            "_view_name": "ProgressView",
            "bar_style": "success",
            "description": "",
            "description_tooltip": null,
            "layout": "IPY_MODEL_053a1a324a274138bf0380caad77817d",
            "max": 1,
            "min": 0,
            "orientation": "horizontal",
            "style": "IPY_MODEL_136e7c2ead974ce5be24c6a5e5d0e898",
            "value": 1
          }
        },
        "e50bbe86b78d4520ad86ab78ba508b7b": {
          "model_module": "@jupyter-widgets/controls",
          "model_name": "HTMLModel",
          "model_module_version": "1.5.0",
          "state": {
            "_dom_classes": [],
            "_model_module": "@jupyter-widgets/controls",
            "_model_module_version": "1.5.0",
            "_model_name": "HTMLModel",
            "_view_count": null,
            "_view_module": "@jupyter-widgets/controls",
            "_view_module_version": "1.5.0",
            "_view_name": "HTMLView",
            "description": "",
            "description_tooltip": null,
            "layout": "IPY_MODEL_d8272e5dd3ca43e3bc18130075f49235",
            "placeholder": "​",
            "style": "IPY_MODEL_a0740e7fa903432ab3228e48c6b446d2",
            "value": " 1/1 [00:00&lt;00:00, 53.60it/s]"
          }
        },
        "f3891275fd524e179aa9a93b28ef3f1f": {
          "model_module": "@jupyter-widgets/base",
          "model_name": "LayoutModel",
          "model_module_version": "1.2.0",
          "state": {
            "_model_module": "@jupyter-widgets/base",
            "_model_module_version": "1.2.0",
            "_model_name": "LayoutModel",
            "_view_count": null,
            "_view_module": "@jupyter-widgets/base",
            "_view_module_version": "1.2.0",
            "_view_name": "LayoutView",
            "align_content": null,
            "align_items": null,
            "align_self": null,
            "border": null,
            "bottom": null,
            "display": null,
            "flex": null,
            "flex_flow": null,
            "grid_area": null,
            "grid_auto_columns": null,
            "grid_auto_flow": null,
            "grid_auto_rows": null,
            "grid_column": null,
            "grid_gap": null,
            "grid_row": null,
            "grid_template_areas": null,
            "grid_template_columns": null,
            "grid_template_rows": null,
            "height": null,
            "justify_content": null,
            "justify_items": null,
            "left": null,
            "margin": null,
            "max_height": null,
            "max_width": null,
            "min_height": null,
            "min_width": null,
            "object_fit": null,
            "object_position": null,
            "order": null,
            "overflow": null,
            "overflow_x": null,
            "overflow_y": null,
            "padding": null,
            "right": null,
            "top": null,
            "visibility": null,
            "width": null
          }
        },
        "c98fa63bc8224cf193a468235eae62b0": {
          "model_module": "@jupyter-widgets/base",
          "model_name": "LayoutModel",
          "model_module_version": "1.2.0",
          "state": {
            "_model_module": "@jupyter-widgets/base",
            "_model_module_version": "1.2.0",
            "_model_name": "LayoutModel",
            "_view_count": null,
            "_view_module": "@jupyter-widgets/base",
            "_view_module_version": "1.2.0",
            "_view_name": "LayoutView",
            "align_content": null,
            "align_items": null,
            "align_self": null,
            "border": null,
            "bottom": null,
            "display": null,
            "flex": null,
            "flex_flow": null,
            "grid_area": null,
            "grid_auto_columns": null,
            "grid_auto_flow": null,
            "grid_auto_rows": null,
            "grid_column": null,
            "grid_gap": null,
            "grid_row": null,
            "grid_template_areas": null,
            "grid_template_columns": null,
            "grid_template_rows": null,
            "height": null,
            "justify_content": null,
            "justify_items": null,
            "left": null,
            "margin": null,
            "max_height": null,
            "max_width": null,
            "min_height": null,
            "min_width": null,
            "object_fit": null,
            "object_position": null,
            "order": null,
            "overflow": null,
            "overflow_x": null,
            "overflow_y": null,
            "padding": null,
            "right": null,
            "top": null,
            "visibility": null,
            "width": null
          }
        },
        "e7123a9ecea1457a95538f1d1e0b8481": {
          "model_module": "@jupyter-widgets/controls",
          "model_name": "DescriptionStyleModel",
          "model_module_version": "1.5.0",
          "state": {
            "_model_module": "@jupyter-widgets/controls",
            "_model_module_version": "1.5.0",
            "_model_name": "DescriptionStyleModel",
            "_view_count": null,
            "_view_module": "@jupyter-widgets/base",
            "_view_module_version": "1.2.0",
            "_view_name": "StyleView",
            "description_width": ""
          }
        },
        "053a1a324a274138bf0380caad77817d": {
          "model_module": "@jupyter-widgets/base",
          "model_name": "LayoutModel",
          "model_module_version": "1.2.0",
          "state": {
            "_model_module": "@jupyter-widgets/base",
            "_model_module_version": "1.2.0",
            "_model_name": "LayoutModel",
            "_view_count": null,
            "_view_module": "@jupyter-widgets/base",
            "_view_module_version": "1.2.0",
            "_view_name": "LayoutView",
            "align_content": null,
            "align_items": null,
            "align_self": null,
            "border": null,
            "bottom": null,
            "display": null,
            "flex": null,
            "flex_flow": null,
            "grid_area": null,
            "grid_auto_columns": null,
            "grid_auto_flow": null,
            "grid_auto_rows": null,
            "grid_column": null,
            "grid_gap": null,
            "grid_row": null,
            "grid_template_areas": null,
            "grid_template_columns": null,
            "grid_template_rows": null,
            "height": null,
            "justify_content": null,
            "justify_items": null,
            "left": null,
            "margin": null,
            "max_height": null,
            "max_width": null,
            "min_height": null,
            "min_width": null,
            "object_fit": null,
            "object_position": null,
            "order": null,
            "overflow": null,
            "overflow_x": null,
            "overflow_y": null,
            "padding": null,
            "right": null,
            "top": null,
            "visibility": null,
            "width": null
          }
        },
        "136e7c2ead974ce5be24c6a5e5d0e898": {
          "model_module": "@jupyter-widgets/controls",
          "model_name": "ProgressStyleModel",
          "model_module_version": "1.5.0",
          "state": {
            "_model_module": "@jupyter-widgets/controls",
            "_model_module_version": "1.5.0",
            "_model_name": "ProgressStyleModel",
            "_view_count": null,
            "_view_module": "@jupyter-widgets/base",
            "_view_module_version": "1.2.0",
            "_view_name": "StyleView",
            "bar_color": null,
            "description_width": ""
          }
        },
        "d8272e5dd3ca43e3bc18130075f49235": {
          "model_module": "@jupyter-widgets/base",
          "model_name": "LayoutModel",
          "model_module_version": "1.2.0",
          "state": {
            "_model_module": "@jupyter-widgets/base",
            "_model_module_version": "1.2.0",
            "_model_name": "LayoutModel",
            "_view_count": null,
            "_view_module": "@jupyter-widgets/base",
            "_view_module_version": "1.2.0",
            "_view_name": "LayoutView",
            "align_content": null,
            "align_items": null,
            "align_self": null,
            "border": null,
            "bottom": null,
            "display": null,
            "flex": null,
            "flex_flow": null,
            "grid_area": null,
            "grid_auto_columns": null,
            "grid_auto_flow": null,
            "grid_auto_rows": null,
            "grid_column": null,
            "grid_gap": null,
            "grid_row": null,
            "grid_template_areas": null,
            "grid_template_columns": null,
            "grid_template_rows": null,
            "height": null,
            "justify_content": null,
            "justify_items": null,
            "left": null,
            "margin": null,
            "max_height": null,
            "max_width": null,
            "min_height": null,
            "min_width": null,
            "object_fit": null,
            "object_position": null,
            "order": null,
            "overflow": null,
            "overflow_x": null,
            "overflow_y": null,
            "padding": null,
            "right": null,
            "top": null,
            "visibility": null,
            "width": null
          }
        },
        "a0740e7fa903432ab3228e48c6b446d2": {
          "model_module": "@jupyter-widgets/controls",
          "model_name": "DescriptionStyleModel",
          "model_module_version": "1.5.0",
          "state": {
            "_model_module": "@jupyter-widgets/controls",
            "_model_module_version": "1.5.0",
            "_model_name": "DescriptionStyleModel",
            "_view_count": null,
            "_view_module": "@jupyter-widgets/base",
            "_view_module_version": "1.2.0",
            "_view_name": "StyleView",
            "description_width": ""
          }
        },
        "b76b21c85c704b84a9ee9a4c9db0224a": {
          "model_module": "@jupyter-widgets/controls",
          "model_name": "HBoxModel",
          "model_module_version": "1.5.0",
          "state": {
            "_dom_classes": [],
            "_model_module": "@jupyter-widgets/controls",
            "_model_module_version": "1.5.0",
            "_model_name": "HBoxModel",
            "_view_count": null,
            "_view_module": "@jupyter-widgets/controls",
            "_view_module_version": "1.5.0",
            "_view_name": "HBoxView",
            "box_style": "",
            "children": [
              "IPY_MODEL_28d6746c9a4745ceb65f46a5bc45c981",
              "IPY_MODEL_0ddda77302154413af0e89333cfc50d8",
              "IPY_MODEL_8460a63041344d9784a9ef0202976ebe"
            ],
            "layout": "IPY_MODEL_00e0da67f6624d9790e2104a90705ab7"
          }
        },
        "28d6746c9a4745ceb65f46a5bc45c981": {
          "model_module": "@jupyter-widgets/controls",
          "model_name": "HTMLModel",
          "model_module_version": "1.5.0",
          "state": {
            "_dom_classes": [],
            "_model_module": "@jupyter-widgets/controls",
            "_model_module_version": "1.5.0",
            "_model_name": "HTMLModel",
            "_view_count": null,
            "_view_module": "@jupyter-widgets/controls",
            "_view_module_version": "1.5.0",
            "_view_name": "HTMLView",
            "description": "",
            "description_tooltip": null,
            "layout": "IPY_MODEL_5ef10e2a0f944e54b55cecaaf495e934",
            "placeholder": "​",
            "style": "IPY_MODEL_0deade1a389f479898898a45ad25bb0b",
            "value": "100%"
          }
        },
        "0ddda77302154413af0e89333cfc50d8": {
          "model_module": "@jupyter-widgets/controls",
          "model_name": "FloatProgressModel",
          "model_module_version": "1.5.0",
          "state": {
            "_dom_classes": [],
            "_model_module": "@jupyter-widgets/controls",
            "_model_module_version": "1.5.0",
            "_model_name": "FloatProgressModel",
            "_view_count": null,
            "_view_module": "@jupyter-widgets/controls",
            "_view_module_version": "1.5.0",
            "_view_name": "ProgressView",
            "bar_style": "success",
            "description": "",
            "description_tooltip": null,
            "layout": "IPY_MODEL_657e73089f374e309253b975948c518a",
            "max": 1,
            "min": 0,
            "orientation": "horizontal",
            "style": "IPY_MODEL_d61b2febd276473183989f69bc7cc19d",
            "value": 1
          }
        },
        "8460a63041344d9784a9ef0202976ebe": {
          "model_module": "@jupyter-widgets/controls",
          "model_name": "HTMLModel",
          "model_module_version": "1.5.0",
          "state": {
            "_dom_classes": [],
            "_model_module": "@jupyter-widgets/controls",
            "_model_module_version": "1.5.0",
            "_model_name": "HTMLModel",
            "_view_count": null,
            "_view_module": "@jupyter-widgets/controls",
            "_view_module_version": "1.5.0",
            "_view_name": "HTMLView",
            "description": "",
            "description_tooltip": null,
            "layout": "IPY_MODEL_7de24b17d0834da493f0da00c76d6efd",
            "placeholder": "​",
            "style": "IPY_MODEL_1d128b0a784b491eb6c4010c40158097",
            "value": " 1/1 [00:00&lt;00:00, 65.04it/s]"
          }
        },
        "00e0da67f6624d9790e2104a90705ab7": {
          "model_module": "@jupyter-widgets/base",
          "model_name": "LayoutModel",
          "model_module_version": "1.2.0",
          "state": {
            "_model_module": "@jupyter-widgets/base",
            "_model_module_version": "1.2.0",
            "_model_name": "LayoutModel",
            "_view_count": null,
            "_view_module": "@jupyter-widgets/base",
            "_view_module_version": "1.2.0",
            "_view_name": "LayoutView",
            "align_content": null,
            "align_items": null,
            "align_self": null,
            "border": null,
            "bottom": null,
            "display": null,
            "flex": null,
            "flex_flow": null,
            "grid_area": null,
            "grid_auto_columns": null,
            "grid_auto_flow": null,
            "grid_auto_rows": null,
            "grid_column": null,
            "grid_gap": null,
            "grid_row": null,
            "grid_template_areas": null,
            "grid_template_columns": null,
            "grid_template_rows": null,
            "height": null,
            "justify_content": null,
            "justify_items": null,
            "left": null,
            "margin": null,
            "max_height": null,
            "max_width": null,
            "min_height": null,
            "min_width": null,
            "object_fit": null,
            "object_position": null,
            "order": null,
            "overflow": null,
            "overflow_x": null,
            "overflow_y": null,
            "padding": null,
            "right": null,
            "top": null,
            "visibility": null,
            "width": null
          }
        },
        "5ef10e2a0f944e54b55cecaaf495e934": {
          "model_module": "@jupyter-widgets/base",
          "model_name": "LayoutModel",
          "model_module_version": "1.2.0",
          "state": {
            "_model_module": "@jupyter-widgets/base",
            "_model_module_version": "1.2.0",
            "_model_name": "LayoutModel",
            "_view_count": null,
            "_view_module": "@jupyter-widgets/base",
            "_view_module_version": "1.2.0",
            "_view_name": "LayoutView",
            "align_content": null,
            "align_items": null,
            "align_self": null,
            "border": null,
            "bottom": null,
            "display": null,
            "flex": null,
            "flex_flow": null,
            "grid_area": null,
            "grid_auto_columns": null,
            "grid_auto_flow": null,
            "grid_auto_rows": null,
            "grid_column": null,
            "grid_gap": null,
            "grid_row": null,
            "grid_template_areas": null,
            "grid_template_columns": null,
            "grid_template_rows": null,
            "height": null,
            "justify_content": null,
            "justify_items": null,
            "left": null,
            "margin": null,
            "max_height": null,
            "max_width": null,
            "min_height": null,
            "min_width": null,
            "object_fit": null,
            "object_position": null,
            "order": null,
            "overflow": null,
            "overflow_x": null,
            "overflow_y": null,
            "padding": null,
            "right": null,
            "top": null,
            "visibility": null,
            "width": null
          }
        },
        "0deade1a389f479898898a45ad25bb0b": {
          "model_module": "@jupyter-widgets/controls",
          "model_name": "DescriptionStyleModel",
          "model_module_version": "1.5.0",
          "state": {
            "_model_module": "@jupyter-widgets/controls",
            "_model_module_version": "1.5.0",
            "_model_name": "DescriptionStyleModel",
            "_view_count": null,
            "_view_module": "@jupyter-widgets/base",
            "_view_module_version": "1.2.0",
            "_view_name": "StyleView",
            "description_width": ""
          }
        },
        "657e73089f374e309253b975948c518a": {
          "model_module": "@jupyter-widgets/base",
          "model_name": "LayoutModel",
          "model_module_version": "1.2.0",
          "state": {
            "_model_module": "@jupyter-widgets/base",
            "_model_module_version": "1.2.0",
            "_model_name": "LayoutModel",
            "_view_count": null,
            "_view_module": "@jupyter-widgets/base",
            "_view_module_version": "1.2.0",
            "_view_name": "LayoutView",
            "align_content": null,
            "align_items": null,
            "align_self": null,
            "border": null,
            "bottom": null,
            "display": null,
            "flex": null,
            "flex_flow": null,
            "grid_area": null,
            "grid_auto_columns": null,
            "grid_auto_flow": null,
            "grid_auto_rows": null,
            "grid_column": null,
            "grid_gap": null,
            "grid_row": null,
            "grid_template_areas": null,
            "grid_template_columns": null,
            "grid_template_rows": null,
            "height": null,
            "justify_content": null,
            "justify_items": null,
            "left": null,
            "margin": null,
            "max_height": null,
            "max_width": null,
            "min_height": null,
            "min_width": null,
            "object_fit": null,
            "object_position": null,
            "order": null,
            "overflow": null,
            "overflow_x": null,
            "overflow_y": null,
            "padding": null,
            "right": null,
            "top": null,
            "visibility": null,
            "width": null
          }
        },
        "d61b2febd276473183989f69bc7cc19d": {
          "model_module": "@jupyter-widgets/controls",
          "model_name": "ProgressStyleModel",
          "model_module_version": "1.5.0",
          "state": {
            "_model_module": "@jupyter-widgets/controls",
            "_model_module_version": "1.5.0",
            "_model_name": "ProgressStyleModel",
            "_view_count": null,
            "_view_module": "@jupyter-widgets/base",
            "_view_module_version": "1.2.0",
            "_view_name": "StyleView",
            "bar_color": null,
            "description_width": ""
          }
        },
        "7de24b17d0834da493f0da00c76d6efd": {
          "model_module": "@jupyter-widgets/base",
          "model_name": "LayoutModel",
          "model_module_version": "1.2.0",
          "state": {
            "_model_module": "@jupyter-widgets/base",
            "_model_module_version": "1.2.0",
            "_model_name": "LayoutModel",
            "_view_count": null,
            "_view_module": "@jupyter-widgets/base",
            "_view_module_version": "1.2.0",
            "_view_name": "LayoutView",
            "align_content": null,
            "align_items": null,
            "align_self": null,
            "border": null,
            "bottom": null,
            "display": null,
            "flex": null,
            "flex_flow": null,
            "grid_area": null,
            "grid_auto_columns": null,
            "grid_auto_flow": null,
            "grid_auto_rows": null,
            "grid_column": null,
            "grid_gap": null,
            "grid_row": null,
            "grid_template_areas": null,
            "grid_template_columns": null,
            "grid_template_rows": null,
            "height": null,
            "justify_content": null,
            "justify_items": null,
            "left": null,
            "margin": null,
            "max_height": null,
            "max_width": null,
            "min_height": null,
            "min_width": null,
            "object_fit": null,
            "object_position": null,
            "order": null,
            "overflow": null,
            "overflow_x": null,
            "overflow_y": null,
            "padding": null,
            "right": null,
            "top": null,
            "visibility": null,
            "width": null
          }
        },
        "1d128b0a784b491eb6c4010c40158097": {
          "model_module": "@jupyter-widgets/controls",
          "model_name": "DescriptionStyleModel",
          "model_module_version": "1.5.0",
          "state": {
            "_model_module": "@jupyter-widgets/controls",
            "_model_module_version": "1.5.0",
            "_model_name": "DescriptionStyleModel",
            "_view_count": null,
            "_view_module": "@jupyter-widgets/base",
            "_view_module_version": "1.2.0",
            "_view_name": "StyleView",
            "description_width": ""
          }
        }
      }
    }
  },
  "nbformat": 4,
  "nbformat_minor": 0
}